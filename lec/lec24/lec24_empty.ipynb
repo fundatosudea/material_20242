{
 "cells": [
  {
   "cell_type": "code",
   "execution_count": null,
   "metadata": {},
   "outputs": [],
   "source": [
    "from datascience import *\n",
    "import numpy as np\n",
    "\n",
    "%matplotlib inline\n",
    "import matplotlib.pyplot as plots\n",
    "plots.style.use('fivethirtyeight')"
   ]
  },
  {
   "cell_type": "markdown",
   "metadata": {},
   "source": [
    "# Lecture 24 #"
   ]
  },
  {
   "cell_type": "markdown",
   "metadata": {},
   "source": [
    "## Reviewing Setup from Last Lecture\n",
    "\n",
    "Recall, we actually had access to the population data.  This is not normally the case.  The methods we are about to study only make sense when you don't have access to the population. "
   ]
  },
  {
   "cell_type": "code",
   "execution_count": null,
   "metadata": {},
   "outputs": [],
   "source": [
    "sf = Table.read_table('san_francisco_2019.csv')\n",
    "min_salary = 15 * 20 * 50\n",
    "sf = sf.where('Salary', are.above(min_salary))"
   ]
  },
  {
   "cell_type": "code",
   "execution_count": null,
   "metadata": {},
   "outputs": [],
   "source": [
    "sf.num_rows"
   ]
  },
  {
   "cell_type": "code",
   "execution_count": null,
   "metadata": {},
   "outputs": [],
   "source": [
    "sf_bins = np.arange(0, 726000, 25000)\n",
    "sf.hist('Total Compensation', bins=sf_bins)"
   ]
  },
  {
   "cell_type": "markdown",
   "metadata": {},
   "source": [
    "### Defining the Statistic\n",
    "\n",
    "Here we are interested in the median (50% percentile) of the total compensation. "
   ]
  },
  {
   "cell_type": "code",
   "execution_count": null,
   "metadata": {},
   "outputs": [],
   "source": [
    "# Parameter: Median total compensation in the population\n",
    "def median_comp(t):\n",
    "    return ... # Implement median of \"Total Compensation\""
   ]
  },
  {
   "cell_type": "markdown",
   "metadata": {},
   "source": [
    "### The Populatin Parameter\n",
    "\n",
    "We have access to the population so we can compute the **parameter** but in practice we typically won't have access to the population and instead we will have to *estimate* the parameter from a **sample**."
   ]
  },
  {
   "cell_type": "code",
   "execution_count": null,
   "metadata": {},
   "outputs": [],
   "source": [
    "pop_median = median_comp(sf)\n",
    "print(\"Parameter Value:\", pop_median)"
   ]
  },
  {
   "cell_type": "markdown",
   "metadata": {},
   "source": [
    "### The Sample\n",
    "\n",
    "In practice, the data we would get from most studies would be a sample of the entire population.  This is because collecting a full census is challenging and expensive.\n",
    "\n",
    "Here we load the (fictional) sample that was taken by Prof. Gonzalez. \n",
    "\n",
    "<details><summary>Unimportant and Not True Details</summary>\n",
    "\n",
    "He collected this sample by selecting 400 names at random from the HR database and then directly asking them how much they make. It took all weekend and he had to give a chocolate to everyone who participated. \n",
    "    \n",
    "    \n",
    "<details><summary>The Real Truth</summary>\n",
    "        \n",
    "Actually, everything above is a complete fabrication.  Prof. Gonzalez simply wrote: \n",
    "        \n",
    "```python\n",
    "sf.sample(400, with_replacement=False).to_csv(\"sf_sample.csv\")\n",
    "```\n",
    "        \n",
    "</details>\n",
    "    \n",
    "</details>"
   ]
  },
  {
   "cell_type": "code",
   "execution_count": null,
   "metadata": {},
   "outputs": [],
   "source": [
    "sample_sf = Table.read_table(\"sf_sample.csv\")\n",
    "sample_sf.show(4)"
   ]
  },
  {
   "cell_type": "code",
   "execution_count": null,
   "metadata": {},
   "outputs": [],
   "source": [
    "sample_sf.num_rows"
   ]
  },
  {
   "cell_type": "markdown",
   "metadata": {},
   "source": [
    "### Bootstrap Sampling\n",
    "\n",
    "We introduced the following function that computes bootstrap samples of the statistic"
   ]
  },
  {
   "cell_type": "code",
   "execution_count": null,
   "metadata": {},
   "outputs": [],
   "source": [
    "def bootstrapper(sample, statistic, num_repetitions):\n",
    "    \"\"\"\n",
    "    Returns the statistic computed on a num_repetitions  \n",
    "    bootstrap samples from sample.\n",
    "    \"\"\"\n",
    "    bstrap_stats = make_array()\n",
    "    for i in np.arange(num_repetitions):\n",
    "        # Step 1: Sample the Sample\n",
    "        bootstrap_sample = sample.sample()\n",
    "        # Step 2: compute statistics on the sample of the sample\n",
    "        bootstrap_stat = statistic(bootstrap_sample)\n",
    "        # Accumulate the statistics\n",
    "        bstrap_stats = np.append(bstrap_stats, bootstrap_stat)\n",
    "\n",
    "    return bstrap_stats    "
   ]
  },
  {
   "cell_type": "code",
   "execution_count": null,
   "metadata": {},
   "outputs": [],
   "source": [
    "bootstrap_medians = bootstrapper(sample_sf, median_comp, 10000)"
   ]
  },
  {
   "cell_type": "markdown",
   "metadata": {},
   "source": [
    "### Examining the Distribution of the Statistic\n",
    "\n",
    "When using the boostrap it is important to always examine the distribution of the statistic to ensure that it is symmetric and \"bell shaped\""
   ]
  },
  {
   "cell_type": "code",
   "execution_count": null,
   "metadata": {},
   "outputs": [],
   "source": [
    "Table().with_column(\"bootstraps\", bootstrap_medians).hist()\n",
    "## Extra Viz code\n",
    "\n",
    "parameter_green = '#32CD32'\n",
    "plots.ylim(-0.000005, 0.00014)\n",
    "plots.scatter(pop_median, 0, color=parameter_green, s=40, zorder=2)\n",
    "plots.title('Bootstrap Medians and the Parameter (Green Dot)');"
   ]
  },
  {
   "cell_type": "markdown",
   "metadata": {},
   "source": [
    "### Computing the Confidence Interval\n",
    "\n",
    "We compute the confidence interval for our desired **confidence level* using the followign code:"
   ]
  },
  {
   "cell_type": "code",
   "execution_count": null,
   "metadata": {},
   "outputs": [],
   "source": [
    "def compute_ci(bs_samples, confidence_level):\n",
    "    \"\"\"\n",
    "    Returns the confidence interval for the provided bootstrap samples\n",
    "    and desired confidence level.\n",
    "    \"\"\"\n",
    "    tail_size = ... # EXERCISE \n",
    "    lower = # EXERCISE \n",
    "    upper = # EXERCISE \n",
    "    return [lower, upper]"
   ]
  },
  {
   "cell_type": "code",
   "execution_count": null,
   "metadata": {},
   "outputs": [],
   "source": [
    "ci = compute_ci(bootstrap_medians, 95)\n",
    "ci"
   ]
  },
  {
   "cell_type": "markdown",
   "metadata": {},
   "source": [
    "Visualizing the CI"
   ]
  },
  {
   "cell_type": "code",
   "execution_count": null,
   "metadata": {},
   "outputs": [],
   "source": [
    "Table().with_column(\"bootstraps\", bootstrap_medians).hist()\n",
    "# cool python trick to deconstruct the array!\n",
    "[left, right] = ci\n",
    "# Plotting parameters; you can ignore this code\n",
    "plots.ylim(-0.000005, 0.00014)\n",
    "plots.plot(make_array(left, right), make_array(0, 0), color='yellow', lw=3, zorder=1)\n",
    "plots.scatter(pop_median, 0, color=parameter_green, s=40, zorder=2);"
   ]
  },
  {
   "cell_type": "markdown",
   "metadata": {},
   "source": [
    "<br><br><br><br>\n",
    "\n",
    "---\n",
    "\n",
    "Return to Slides\n",
    "\n",
    "---\n",
    "\n",
    "<br><br><br><br>\n"
   ]
  },
  {
   "cell_type": "markdown",
   "metadata": {},
   "source": [
    "---\n",
    "\n",
    "## Simulating the Simulation!\n",
    "\n",
    "Let's look at what happens if we use the above code repeatedly with separate original samples from the population. How accurate are our Bootstrap Estimates of the Parameter? "
   ]
  },
  {
   "cell_type": "code",
   "execution_count": null,
   "metadata": {},
   "outputs": [],
   "source": [
    "intervals = Table(['lower', 'upper', 'median', 'good', 'sample_size'])\n",
    "sample_sizes = [2,4,8,16]\n",
    "for sample_size in sample_sizes:\n",
    "    for trial in np.arange(20): # Run 20 trials of each configuration\n",
    "        # Pay for one new random sample from the population\n",
    "        og_sample = sf.sample(sample_size, with_replacement=False)\n",
    "        # Compute the statistic on the sample\n",
    "        sample_median = median_comp(og_sample)\n",
    "        # Generate the medians of 1000 bootstrap samples\n",
    "        bootstrap_medians = bootstrapper(og_sample, median_comp, 1000)\n",
    "        # Construct the confidence interval\n",
    "        [ci_lower, ci_upper] = compute_ci(bootstrap_medians, 95)\n",
    "        # Determine if the confidence interval is good\n",
    "        is_good = ci_lower <= pop_median <= ci_upper\n",
    "        # Add a row to the table\n",
    "        intervals = intervals.with_row(\n",
    "            [ci_lower, ci_upper, sample_median, is_good, str(sample_size)])\n",
    "\n",
    "# Add an experiment number\n",
    "intervals = intervals.with_column(\"Experiment\", np.arange(intervals.num_rows))"
   ]
  },
  {
   "cell_type": "code",
   "execution_count": null,
   "metadata": {},
   "outputs": [],
   "source": [
    "intervals"
   ]
  },
  {
   "cell_type": "markdown",
   "metadata": {},
   "source": [
    "Here I render a plot of all the confidence intervals with the true value depicted as a solid vertical line.  **This is advanced plotting code and is out of scope for this class.**  But it might be fun to try to understand what it is doing. "
   ]
  },
  {
   "cell_type": "code",
   "execution_count": null,
   "metadata": {},
   "outputs": [],
   "source": [
    "import plotly.express as px\n",
    "\n",
    "# Plotly will draw error bars which are the distance in each direction\n",
    "# from the median\n",
    "intervals = intervals.with_columns(\n",
    "        \"error_left\", intervals.column(\"median\") - intervals.column(\"lower\"),\n",
    "        \"error_right\", intervals.column(\"upper\") - intervals.column(\"median\"))\n",
    "\n",
    "# Making the plot\n",
    "fig = px.scatter(\n",
    "    intervals.to_df(), # Plotly requires a pandas dafaframe\n",
    "    x=\"median\", # X location of my interval center dot\n",
    "    y=\"Experiment\", # Y location of my interval center dot \n",
    "    color=\"sample_size\", # The color to use.\n",
    "    symbol=\"good\", # The column to use for the symbol\n",
    "    symbol_map={True: \"circle\", False: \"circle-open\"},\n",
    "    error_x=\"error_right\", # upper error bar size\n",
    "    error_x_minus=\"error_left\", # lower error bar size\n",
    "    height=800)\n",
    "fig.add_vline(pop_median)"
   ]
  },
  {
   "cell_type": "markdown",
   "metadata": {},
   "source": [
    "<br><br><br><br>\n",
    "\n",
    "---\n",
    "\n",
    "Return to Slides\n",
    "\n",
    "---\n",
    "\n",
    "<br><br><br><br>\n"
   ]
  },
  {
   "cell_type": "markdown",
   "metadata": {},
   "source": [
    "## Confidence Interval for Unknown Population Mean\n",
    "\n",
    "Now let's look at a more appropriate use of the bootstrap (when we don't have the population).  The baby table from prior lecture had a random sample of moms."
   ]
  },
  {
   "cell_type": "code",
   "execution_count": null,
   "metadata": {},
   "outputs": [],
   "source": [
    "# Random sample of mother-newborn pairs\n",
    "births = Table.read_table('baby.csv')\n",
    "births"
   ]
  },
  {
   "cell_type": "markdown",
   "metadata": {},
   "source": [
    "What is the average age of mom's who are having children in the entire population of the Bay Area?\n",
    "\n",
    "**Parameter:** Average age of mom's when they give birth to first child.\n",
    "\n",
    "**Statistic:** Average age of moms in our sample."
   ]
  },
  {
   "cell_type": "code",
   "execution_count": null,
   "metadata": {},
   "outputs": [],
   "source": [
    "# Average age of mothers in the sample\n",
    "np.average(births.column('Maternal Age'))"
   ]
  },
  {
   "cell_type": "markdown",
   "metadata": {},
   "source": [
    "Remember there was a distribution of ages."
   ]
  },
  {
   "cell_type": "code",
   "execution_count": null,
   "metadata": {},
   "outputs": [],
   "source": [
    "births.hist('Maternal Age')"
   ]
  },
  {
   "cell_type": "markdown",
   "metadata": {},
   "source": [
    "We could have also returned the median or even a range of ages as our statistic:"
   ]
  },
  {
   "cell_type": "code",
   "execution_count": null,
   "metadata": {},
   "outputs": [],
   "source": [
    "percentile(50, births.column('Maternal Age'))"
   ]
  },
  {
   "cell_type": "markdown",
   "metadata": {},
   "source": [
    "Or an interval of 95% of the ages:"
   ]
  },
  {
   "cell_type": "code",
   "execution_count": null,
   "metadata": {},
   "outputs": [],
   "source": [
    "[percentile(2.5, births.column('Maternal Age')),\n",
    " percentile(97.5, births.column('Maternal Age'))]"
   ]
  },
  {
   "cell_type": "markdown",
   "metadata": {},
   "source": [
    "Is this a confidence interval?\n",
    "<br><br><br><br>"
   ]
  },
  {
   "cell_type": "markdown",
   "metadata": {},
   "source": [
    "### Compute the Sample Statistic\n",
    "Since we are interested in estimating the average age of mothers in the population we will use the average age statistic:"
   ]
  },
  {
   "cell_type": "code",
   "execution_count": null,
   "metadata": {},
   "outputs": [],
   "source": [
    "def avg_maternal_age(sample):\n",
    "    return np.average(sample.column(\"Maternal Age\"))"
   ]
  },
  {
   "cell_type": "code",
   "execution_count": null,
   "metadata": {},
   "outputs": [],
   "source": [
    "sample_statistic = avg_maternal_age(births)\n",
    "sample_statistic"
   ]
  },
  {
   "cell_type": "markdown",
   "metadata": {},
   "source": [
    "### Use the Bootstrap to Estimate the CI \n",
    "\n",
    "The interval of estimates is the \"middle 95%\" of the bootstrap estimates.\n",
    "\n",
    "This is called a *95% confidence interval* for the mean age in the population.\n"
   ]
  },
  {
   "cell_type": "code",
   "execution_count": null,
   "metadata": {},
   "outputs": [],
   "source": [
    "bootstrap_means = ... # EXERCISE \n",
    "avg_maternal_age_ci = ... # EXERCISE \n",
    "avg_maternal_age_ci"
   ]
  },
  {
   "cell_type": "code",
   "execution_count": null,
   "metadata": {},
   "outputs": [],
   "source": [
    "resampled_means = Table().with_columns(\n",
    "    'Bootstrap Sample Mean', bootstrap_means\n",
    ")\n",
    "resampled_means.hist(bins=15)\n",
    "[left, right] = avg_maternal_age_ci\n",
    "plots.plot([left, right], [0, 0], color='yellow', lw=8);"
   ]
  },
  {
   "cell_type": "code",
   "execution_count": null,
   "metadata": {},
   "outputs": [],
   "source": [
    "births.hist('Maternal Age')\n",
    "plots.plot([left, right], [0, 0], color='yellow', lw=8);"
   ]
  },
  {
   "cell_type": "markdown",
   "metadata": {},
   "source": [
    "<br><br><br><br>\n",
    "\n",
    "---\n",
    "\n",
    "Return to Slides\n",
    "\n",
    "---\n",
    "\n",
    "<br><br><br><br>\n"
   ]
  },
  {
   "cell_type": "markdown",
   "metadata": {
    "tags": []
   },
   "source": [
    "## Using the Confidence Interval for Testing Hypotheses\n",
    "\n",
    "**Null:** The average age of mothers in the population is 25 years; the random sample average is different due to chance.\n",
    "\n",
    "**Alternative:** The average age of the mothers in the population is not 25 years.\n",
    "\n",
    "Suppose you use the 5% cutoff for the p-value.\n",
    "\n",
    "Based on the confidence interval, which hypothesis would you pick?"
   ]
  },
  {
   "cell_type": "code",
   "execution_count": null,
   "metadata": {},
   "outputs": [],
   "source": [
    "bootstrap_means = bootstrapper(births, avg_maternal_age, 5000)\n",
    "avg_maternal_age_ci = compute_ci(bootstrap_means, confidence_level=95)\n",
    "avg_maternal_age_ci"
   ]
  },
  {
   "cell_type": "code",
   "execution_count": null,
   "metadata": {},
   "outputs": [],
   "source": [
    "bootstrap_means = bootstrapper(births, avg_maternal_age, 5000)\n",
    "avg_maternal_age_ci = compute_ci(bootstrap_means, confidence_level=99.9)\n",
    "avg_maternal_age_ci"
   ]
  },
  {
   "cell_type": "markdown",
   "metadata": {},
   "source": [
    "check it: https://www.cdc.gov/nchs/nsfg/key_statistics/b.htm"
   ]
  },
  {
   "cell_type": "markdown",
   "metadata": {},
   "source": [
    "<br><br><br><br>\n",
    "\n",
    "---\n",
    "\n",
    "Return to Slides\n",
    "\n",
    "---\n",
    "\n",
    "<br><br><br><br>\n"
   ]
  },
  {
   "cell_type": "markdown",
   "metadata": {},
   "source": [
    "## Average (Mean) \n",
    "\n",
    "There are many ways to compute the mean (average)."
   ]
  },
  {
   "cell_type": "code",
   "execution_count": null,
   "metadata": {},
   "outputs": [],
   "source": [
    "values = make_array(2, 3, 3, 9)\n",
    "values"
   ]
  },
  {
   "cell_type": "code",
   "execution_count": null,
   "metadata": {},
   "outputs": [],
   "source": [
    "sum(values)/len(values)"
   ]
  },
  {
   "cell_type": "code",
   "execution_count": null,
   "metadata": {},
   "outputs": [],
   "source": [
    "np.average(values)"
   ]
  },
  {
   "cell_type": "code",
   "execution_count": null,
   "metadata": {},
   "outputs": [],
   "source": [
    "np.mean(values)"
   ]
  },
  {
   "cell_type": "code",
   "execution_count": null,
   "metadata": {},
   "outputs": [],
   "source": [
    "(2 + 3 + 3 + 9)/4"
   ]
  },
  {
   "cell_type": "markdown",
   "metadata": {},
   "source": [
    "Can also be framed as a weighted average of the unique values."
   ]
  },
  {
   "cell_type": "code",
   "execution_count": null,
   "metadata": {},
   "outputs": [],
   "source": [
    "2*(1/4) + 3*(2/4) + 9*(1/4)"
   ]
  },
  {
   "cell_type": "code",
   "execution_count": null,
   "metadata": {},
   "outputs": [],
   "source": [
    "2*0.25 + 3*0.5 + 9*0.25"
   ]
  },
  {
   "cell_type": "code",
   "execution_count": null,
   "metadata": {},
   "outputs": [],
   "source": [
    "values_table = Table().with_columns('value', values)\n",
    "values_table"
   ]
  },
  {
   "cell_type": "code",
   "execution_count": null,
   "metadata": {},
   "outputs": [],
   "source": [
    "bins_for_display = np.arange(0.5, 10.6, 1)\n",
    "values_table.hist('value', bins = bins_for_display)"
   ]
  },
  {
   "cell_type": "code",
   "execution_count": null,
   "metadata": {},
   "outputs": [],
   "source": [
    "## Make array of 10 2s, 20 3s, and 10 9s\n",
    "\n",
    "new_vals = make_array(2, 2, 2, 2, 2, 2, 2, 2, 2, 2,\n",
    "                      3, 3, 3, 3, 3, 3, 3, 3, 3, 3, 3, 3, 3, 3, 3, 3, 3, 3, 3, 3,\n",
    "                      9, 9, 9, 9, 9, 9, 9, 9, 9, 9)"
   ]
  },
  {
   "cell_type": "code",
   "execution_count": null,
   "metadata": {},
   "outputs": [],
   "source": [
    "Table().with_column('value', new_vals).hist(bins = bins_for_display)"
   ]
  },
  {
   "cell_type": "code",
   "execution_count": null,
   "metadata": {},
   "outputs": [],
   "source": [
    "np.average(new_vals)"
   ]
  },
  {
   "cell_type": "code",
   "execution_count": null,
   "metadata": {},
   "outputs": [],
   "source": [
    "Table().with_column('value', new_vals).hist(bins = bins_for_display)\n",
    "plots.ylim(-0.04, 0.5)\n",
    "plots.plot([0, 10], [0, 0], color='grey', lw=2)\n",
    "plots.scatter(4.25, -0.015, marker='^', color='red', s=100)\n",
    "plots.title('Average as a Center of Gravity');"
   ]
  },
  {
   "cell_type": "code",
   "execution_count": null,
   "metadata": {},
   "outputs": [],
   "source": []
  }
 ],
 "metadata": {
  "kernelspec": {
   "display_name": "Python 3 (ipykernel)",
   "language": "python",
   "name": "python3"
  },
  "language_info": {
   "codemirror_mode": {
    "name": "ipython",
    "version": 3
   },
   "file_extension": ".py",
   "mimetype": "text/x-python",
   "name": "python",
   "nbconvert_exporter": "python",
   "pygments_lexer": "ipython3",
   "version": "3.9.15"
  }
 },
 "nbformat": 4,
 "nbformat_minor": 4
}
