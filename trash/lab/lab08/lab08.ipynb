{
  "cells": [
    {
      "cell_type": "markdown",
      "metadata": {
        "id": "view-in-github",
        "colab_type": "text"
      },
      "source": [
        "<a href=\"https://colab.research.google.com/github/darioblandon/materials-fa23/blob/main/lab/lab08/lab08_td.ipynb\" target=\"_parent\"><img src=\"https://colab.research.google.com/assets/colab-badge.svg\" alt=\"Open In Colab\"/></a>"
      ]
    },
    {
      "cell_type": "code",
      "execution_count": null,
      "metadata": {
        "deletable": false,
        "editable": false,
        "id": "Yi8CJnevihlf"
      },
      "outputs": [],
      "source": [
        "# Initialize Otter\n",
        "import otter\n",
        "grader = otter.Notebook(\"lab08.ipynb\")"
      ],
      "id": "Yi8CJnevihlf"
    },
    {
      "cell_type": "markdown",
      "metadata": {
        "id": "58ufyQ1Zihlh"
      },
      "source": [
        "<p><img alt=\"Colaboratory logo\" height=\"140px\" src=\"https://upload.wikimedia.org/wikipedia/commons/archive/f/fb/20161010213812%21Escudo-UdeA.svg\" align=\"left\" hspace=\"10px\" vspace=\"0px\"></p>\n",
        "\n",
        "<h1> Fundamentos en ciencias de datos</h1>\n",
        "\n",
        "# Laboratorio 8: Distribución normal y variabilidad de medias muestrales\n",
        "\n",
        "¡Bienvenidos al Laboratorio 8!\n",
        "\n",
        "En el laboratorio de hoy, aprenderemos sobre [la variabilidad de las medias muestrales](https://inferentialthinking.com/chapters/14/5/Variability_of_the_Sample_Mean.html), así como [la distribución normal](https://www.inferentialthinking .com/chapters/14/3/SD_and_the_Normal_Curve.html).\n",
        "\n",
        "**Fecha límite de envío de laboratorio: viernes 27 de octubre a las 11 p.m.**"
      ],
      "id": "58ufyQ1Zihlh"
    },
    {
      "cell_type": "markdown",
      "metadata": {
        "id": "RiwrddFCihli"
      },
      "source": [
        "**Obtener ayuda en el laboratorio**: Siempre que te sientas estancado o necesites más aclaraciones, busca un GSI o un tutor, ¡y estarán encantados de ayudarte!\n",
        "\n",
        "Estas son las políticas para obtener crédito completo:\n",
        "\n",
        "1. Para los estudiantes inscritos en <span style=\"color: #BC412B\">**Regular Labs**</span> en persona, recibirán crédito de laboratorio al **asistir** a la sección de laboratorio y lograr un progreso significativo en el cuaderno de laboratorio. **<span style=\"text-decoration: underline\">debes</span>** enviar esta tarea a Gradescope.\n",
        "\n",
        "2. Los estudiantes inscritos en <span style=\"color: #04888B\">**Laboratorio de autoservicio**</span> recibirán crédito de laboratorio al **completar** el cuaderno, aprobar los casos de prueba y **enviándolo** a Gradescope antes de las **11:59 p. m. de la fecha de entrega**.\n",
        "\n",
        "**Envío**: una vez que haya terminado, ejecute todas las celdas además de la última, seleccione Archivo > Guardar cuaderno y luego ejecute la celda final. El resultado contendrá un archivo zip que podrá utilizar para enviarlo en Gradescope.\n",
        "\n",
        "Comencemos configurando las pruebas y las importaciones ejecutando la siguiente celda."
      ],
      "id": "RiwrddFCihli"
    },
    {
      "cell_type": "code",
      "execution_count": null,
      "metadata": {
        "id": "y2cgSw-Pihlj"
      },
      "outputs": [],
      "source": [
        "# Ejecute esta celda, pero no la cambie.\n",
        "\n",
        "# Estas líneas importan los módulos Numpy y Datascience.\n",
        "import numpy as np\n",
        "from datascience import *\n",
        "\n",
        "# Estas líneas hacen algo de magia en la trama.\n",
        "import matplotlib\n",
        "%matplotlib inline\n",
        "import matplotlib.pyplot as plots\n",
        "plots.style.use('fivethirtyeight')\n",
        "import warnings\n",
        "warnings.simplefilter('ignore')"
      ],
      "id": "y2cgSw-Pihlj"
    },
    {
      "cell_type": "markdown",
      "metadata": {
        "id": "OtDW1GLjihlj"
      },
      "source": [
        "# 1. Distribuciones normales\n",
        "\n",
        "Cuando visualizamos la distribución de una muestra, a menudo nos interesa la media y la desviación estándar de la muestra (durante el resto de esta práctica de laboratorio, abreviaremos “desviación estándar” como “DE”). Estas dos estadísticas de muestra pueden darnos una visión general de la distribución, permitiéndonos saber dónde se ubica la distribución en la recta numérica y qué tan extendida está, respectivamente."
      ],
      "id": "OtDW1GLjihlj"
    },
    {
      "cell_type": "markdown",
      "metadata": {
        "id": "Cgw0gNWXihlk"
      },
      "source": [
        "Queremos comprobar si los datos están relacionados linealmente, por lo que deberíamos mirar los datos."
      ],
      "id": "Cgw0gNWXihlk"
    },
    {
      "cell_type": "markdown",
      "metadata": {
        "id": "8mXIJ2R4ihlk"
      },
      "source": [
        "Primero, carguemos la tabla de \"nacimientos\" de la conferencia, que es una muestra aleatoria grande de nacimientos en EE. UU. e incluye información sobre las parejas de madre e hijo."
      ],
      "id": "8mXIJ2R4ihlk"
    },
    {
      "cell_type": "code",
      "execution_count": null,
      "metadata": {
        "id": "rBtc57R5ihlk"
      },
      "outputs": [],
      "source": [
        "births = Table.read_table('baby.csv')\n",
        "births"
      ],
      "id": "rBtc57R5ihlk"
    },
    {
      "cell_type": "markdown",
      "metadata": {
        "id": "s9von1VLihll"
      },
      "source": [
        "**Pregunta 1.1.** **Ahora, escriba una línea de código para trazar la distribución de las edades de la madre a partir de la tabla `nacimientos`.** No cambie la última línea, que trazará la media de la muestra en el distribución misma.\n"
      ],
      "id": "s9von1VLihll"
    },
    {
      "cell_type": "code",
      "execution_count": null,
      "metadata": {
        "deletable": false,
        "tags": [],
        "id": "RKFxiMCwihll"
      },
      "outputs": [],
      "source": [
        "...\n",
        "\n",
        "# No cambies nada debajo de esta línea\n",
        "plots.scatter(np.mean(births.column(\"Maternal Age\")), 0, color='red', zorder=2, s=50);\n",
        "plots.ylim(-0.005, 0.07);"
      ],
      "id": "RKFxiMCwihll"
    },
    {
      "cell_type": "markdown",
      "metadata": {
        "id": "ZNs1WchOihll"
      },
      "source": [
        "En el gráfico anterior, podemos ver que la media es el centro de gravedad o punto de equilibrio de la distribución. Si corta la distribución de cartón y luego coloca el dedo en la media, la distribución se equilibrará perfectamente en su dedo. Dado que la distribución anterior está sesgada a la derecha (lo que significa que tiene una cola larga hacia la derecha), sabemos que la media de la distribución es mayor que la mediana, que es el punto \"medio\" de los datos. Por el contrario, si la distribución hubiera quedado asimétrica, sabemos que la media sería menor que la mediana."
      ],
      "id": "ZNs1WchOihll"
    },
    {
      "cell_type": "markdown",
      "metadata": {
        "id": "SKjsRHQYihlm"
      },
      "source": [
        "**Pregunta 1.2.** Ejecute la siguiente celda para comparar la media (rojo) y la mediana (azul) de la distribución de edades de las madres."
      ],
      "id": "SKjsRHQYihlm"
    },
    {
      "cell_type": "code",
      "execution_count": null,
      "metadata": {
        "tags": [],
        "id": "GrhSb12oihlm"
      },
      "outputs": [],
      "source": [
        "births.hist(\"Maternal Age\")\n",
        "plots.scatter(np.mean(births.column(\"Maternal Age\")), 0, color='red', zorder=2, s=50, label=\"Mean\")\n",
        "plots.scatter(np.median(births.column(\"Maternal Age\")), 0, color='blue', zorder=2, s=50, label=\"Median\")\n",
        "plots.legend()\n",
        "plots.ylim(-0.005, 0.07);"
      ],
      "id": "GrhSb12oihlm"
    },
    {
      "cell_type": "markdown",
      "metadata": {
        "id": "XRs3Cy8Bihlm"
      },
      "source": [
        "También nos interesa la desviación estándar de las edades de la madre. La DE nos da una idea de cuán variables son las edades de las madres en torno a la edad promedio de las madres. Si la DE es grande, entonces las edades de las madres deberían extenderse en un rango amplio con respecto a la media. Si la DE es pequeña, entonces las edades de las madres deberían agruparse estrechamente en torno a la edad materna promedio.\n",
        "\n",
        "**La DE de una matriz se define como la \"media cuadrática de las desviaciones\", donde las desviaciones son la diferencia entre los elementos originales y su promedio.**\n",
        "\n",
        "Puede leer más sobre Variabilidad y SD en el [Capítulo 14.2](https://inferentialthinking.com/chapters/14/2/Variability.html). Este capítulo también profundiza un poco más en cómo se calcula la \"media cuadrática de las desviaciones\". ¡Hecho de la diversión! $\\sigma$ (letra griega sigma) se usa para representar la SD y $\\mu$ (letra griega mu) se usa para la media."
      ],
      "id": "XRs3Cy8Bihlm"
    },
    {
      "cell_type": "markdown",
      "metadata": {
        "id": "O6ja2gDbihlm"
      },
      "source": [
        "**Pregunta 1.3.** Asigne `age_mean` a la media de las edades maternas y `age_sd` a la DE de las edades maternas. Luego ejecute la celda a continuación para ver el ancho de una DE (azul) de la media de la muestra (rojo) trazada en el histograma de edades maternas.\n",
        "\n",
        "*Pista*: `np.std` podría resultar útil aquí."
      ],
      "id": "O6ja2gDbihlm"
    },
    {
      "cell_type": "code",
      "execution_count": null,
      "metadata": {
        "for_assignment_type": "solution",
        "scrolled": true,
        "tags": [],
        "id": "kZdLPY_kihln"
      },
      "outputs": [],
      "source": [
        "age_mean = ...\n",
        "age_sd = ...\n",
        "births.hist(\"Maternal Age\")\n",
        "\n",
        "plots.scatter(age_mean, 0, color='red', zorder=2, s=50);\n",
        "plots.scatter(age_mean+age_sd, 0, marker='^', color='blue', zorder=2, s=50);\n",
        "plots.scatter(age_mean-age_sd, 0, marker='^', color='blue', zorder=2, s=50);\n",
        "plots.ylim(-0.005, 0.07);"
      ],
      "id": "kZdLPY_kihln"
    },
    {
      "cell_type": "code",
      "execution_count": null,
      "metadata": {
        "deletable": false,
        "editable": false,
        "id": "dVvuXi9mihln"
      },
      "outputs": [],
      "source": [
        "grader.check(\"q1_3\")"
      ],
      "id": "dVvuXi9mihln"
    },
    {
      "cell_type": "markdown",
      "metadata": {
        "id": "RPEGznauihln"
      },
      "source": [
        "En este histograma, la desviación estándar no es fácil de identificar con solo mirar el gráfico.\n",
        "\n",
        "Sin embargo, las distribuciones de algunas variables nos permiten detectar fácilmente la desviación estándar en el gráfico. Por ejemplo, si una muestra sigue una **[distribución normal](https://inferentialthinking.com/chapters/14/3/SD_and_the_Normal_Curve.html)**, la desviación estándar se detecta fácilmente en el punto de inflexión (el punto donde la curva comienza a cambiar la dirección de su curvatura) de la distribución."
      ],
      "id": "RPEGznauihln"
    },
    {
      "cell_type": "markdown",
      "metadata": {
        "id": "akGlsbjEihln"
      },
      "source": [
        "**Pregunta 1.4.** Complete el siguiente código para examinar la distribución de las alturas maternas, que se distribuye aproximadamente normalmente. Graficaremos la desviación estándar en el histograma, como antes; observe dónde cae en el gráfico una desviación estándar (azul) de la media (rojo).\n"
      ],
      "id": "akGlsbjEihln"
    },
    {
      "cell_type": "code",
      "execution_count": null,
      "metadata": {
        "scrolled": false,
        "tags": [],
        "id": "LXW-TVsGihln"
      },
      "outputs": [],
      "source": [
        "height_mean = ...\n",
        "height_sd = ...\n",
        "births.hist(\"Maternal Height\", bins=np.arange(55,75,1))\n",
        "\n",
        "plots.scatter((height_mean), 0, color='red', zorder=2, s=50);\n",
        "plots.scatter(height_mean+height_sd, 0, marker='^', color='blue', zorder=2, s=50);\n",
        "plots.scatter(height_mean-height_sd, 0, marker='^', color='blue', zorder=2, s=50);\n",
        "plots.ylim(-0.01, 0.16);"
      ],
      "id": "LXW-TVsGihln"
    },
    {
      "cell_type": "code",
      "execution_count": null,
      "metadata": {
        "deletable": false,
        "editable": false,
        "id": "J4iwJDvvihlo"
      },
      "outputs": [],
      "source": [
        "grader.check(\"q1_4\")"
      ],
      "id": "J4iwJDvvihlo"
    },
    {
      "cell_type": "markdown",
      "metadata": {
        "id": "q3f2xtdFihlo"
      },
      "source": [
        "No siempre sabemos cómo se distribuirá una variable, y hacer suposiciones sobre si una variable seguirá o no una distribución normal es peligroso. Sin embargo, el **Teorema del límite central** define una distribución que siempre sigue una distribución normal. **La distribución de las *sumas* y *medias* de todas las muestras aleatorias grandes extraídas con reemplazo de una única distribución (independientemente de la forma original de la distribución) tendrá una distribución normal.** Recuerde que el teorema del límite central se refiere a la distribución de una *estadística* calculada a partir de una distribución, no de la distribución de la muestra o población original. Si esto le resulta confuso, ¡pregúntele a un miembro del personal!\n",
        "\n",
        "La siguiente sección explorará las distribuciones de medias muestrales y verá cómo la desviación estándar de estas distribuciones depende del tamaño de las muestras."
      ],
      "id": "q3f2xtdFihlo"
    },
    {
      "cell_type": "markdown",
      "metadata": {
        "id": "XLxy9xALihlo"
      },
      "source": [
        "# 2. Variabilidad de la media muestral\n",
        "\n",
        "Según el [Teorema del límite central] (https://www.inferentialthinking.com/chapters/14/4/Central_Limit_Theorem.html), la distribución de probabilidad de la media o suma de una muestra aleatoria grande es aproximadamente normal. La curva de campana está centrada en la media poblacional. Algunas de las medias muestrales son más altas y otras más bajas, pero las desviaciones de la media poblacional son aproximadamente simétricas en ambos lados, como hemos visto repetidamente.\n",
        "\n",
        "En nuestras simulaciones, también notamos que las medias de muestras más grandes tienden a agruparse más estrechamente alrededor de la media poblacional que las medias de muestras más pequeñas. En esta sección, cuantificaremos la [variabilidad de la media muestral] (https://www.inferentialthinking.com/chapters/14/5/Variability_of_the_Sample_Mean.html) y desarrollaremos una relación entre la variabilidad y el tamaño de la muestra.\n",
        "\n",
        "Echemos un vistazo a los salarios de los empleados de la ciudad de San Francisco en 2014. El salario medio informado por el gobierno de la ciudad fue de aproximadamente $75,463.92.\n",
        "\n",
        "*Nota: Si se queda atascado en alguna parte de esta práctica de laboratorio, consulte el [Capítulo 14 del libro de texto](https://www.inferentialthinking.com/chapters/14/Why_the_Mean_Matters.html).*"
      ],
      "id": "XLxy9xALihlo"
    },
    {
      "cell_type": "code",
      "execution_count": null,
      "metadata": {
        "id": "tjDG77ibihlo"
      },
      "outputs": [],
      "source": [
        "salaries = Table.read_table('sf_salaries_2014.csv').select(\"salary\")\n",
        "salaries.show(5)"
      ],
      "id": "tjDG77ibihlo"
    },
    {
      "cell_type": "code",
      "execution_count": null,
      "metadata": {
        "id": "D6LFLH8dihlo"
      },
      "outputs": [],
      "source": [
        "salary_mean = np.mean(salaries.column('salary'))\n",
        "print('Mean salary of San Francisco city employees in 2014: ', salary_mean.round(2))"
      ],
      "id": "D6LFLH8dihlo"
    },
    {
      "cell_type": "code",
      "execution_count": null,
      "metadata": {
        "id": "a9EV36Rhihlo"
      },
      "outputs": [],
      "source": [
        "salaries.hist('salary', bins=np.arange(0, 250000+10000*2, 10000))\n",
        "plots.scatter(salary_mean, 0, color='red', zorder=2, s=50)\n",
        "plots.title('2014 salaries of city of SF employees')\n",
        "plots.ylim(-0.0000005, 0.000014);"
      ],
      "id": "a9EV36Rhihlo"
    },
    {
      "cell_type": "markdown",
      "metadata": {
        "id": "MuWBWPaQihlp"
      },
      "source": [
        "Claramente, la población *no* sigue una distribución normal. Tenga esto en cuenta a medida que avancemos en estos ejercicios.\n",
        "\n",
        "Tomemos muestras aleatorias **con reemplazo** y observemos la distribución de probabilidad de la media muestral. Como es habitual, utilizaremos la simulación para obtener una aproximación empírica a esta distribución."
      ],
      "id": "MuWBWPaQihlp"
    },
    {
      "cell_type": "markdown",
      "metadata": {
        "id": "_kskZP4xihlp"
      },
      "source": [
        "**Pregunta 2.1.** Defina una función `one_sample_mean`. Sus argumentos deben ser \"tabla\" (el nombre de una tabla), \"etiqueta\" (la etiqueta de la columna que contiene la variable) y \"tamaño_muestra\" (el número de empleados en la muestra). Debe probarse con reemplazo de la tabla y\n",
        "devuelve la media de la columna \"etiqueta\" de la muestra.\n",
        "\n",
        "*Nota:* La función debe hacer referencia a los argumentos y poder trabajar con cualquier tabla."
      ],
      "id": "_kskZP4xihlp"
    },
    {
      "cell_type": "code",
      "execution_count": null,
      "metadata": {
        "tags": [],
        "id": "cRFCXZxvihlp"
      },
      "outputs": [],
      "source": [
        "def one_sample_mean(table, label, sample_size):\n",
        "    new_sample = ...\n",
        "    new_sample_mean = ...\n",
        "    ..."
      ],
      "id": "cRFCXZxvihlp"
    },
    {
      "cell_type": "code",
      "execution_count": null,
      "metadata": {
        "deletable": false,
        "editable": false,
        "id": "Bn3BX-wNihlp"
      },
      "outputs": [],
      "source": [
        "grader.check(\"q2_1\")"
      ],
      "id": "Bn3BX-wNihlp"
    },
    {
      "cell_type": "markdown",
      "metadata": {
        "id": "wSxF0QoRihlp"
      },
      "source": [
        "**Pregunta 2.2.** Utilice `one_sample_mean` para definir una función `simulate_sample_mean`. Los argumentos son el nombre de la \"tabla\", la \"etiqueta\" de la columna que contiene la variable, el \"tamaño_muestra\" y el número de simulaciones (\"repeticiones\").\n",
        "\n",
        "La función debe muestrear con reemplazo de la tabla y calcular la media de cada muestra. Debería guardar los medios de muestra en una matriz llamada \"medios\". El código restante de la función muestra un histograma empírico de las medias de la muestra.\n",
        "\n",
        "*Nota:* Redondeamos todos los valores a 2 decimales en el código proporcionado porque estamos trabajando con salarios."
      ],
      "id": "wSxF0QoRihlp"
    },
    {
      "cell_type": "code",
      "execution_count": null,
      "metadata": {
        "deletable": false,
        "tags": [],
        "id": "Z8J7218Cihlp"
      },
      "outputs": [],
      "source": [
        "\"\"\"Empirical distribution of random sample means\"\"\"\n",
        "\n",
        "def simulate_sample_mean(table, label, sample_size, repetitions):\n",
        "\n",
        "    means = make_array()\n",
        "\n",
        "    for i in np.arange(repetitions):\n",
        "        new_sample_mean = ...\n",
        "        means = ...\n",
        "\n",
        "    sample_means = Table().with_column('Sample Means', means)\n",
        "\n",
        "    # Display empirical histogram and print all relevant quantities – don't change this!\n",
        "    sample_means.hist(bins=20)\n",
        "    plots.xlabel('Sample Means')\n",
        "    plots.title('Sample Size {sample_size}; {repetitions} Resamples'.format(sample_size=sample_size, repetitions=repetitions))\n",
        "    print(\"Sample size: \", sample_size)\n",
        "    print(\"Population mean:\", np.mean(table.column(label)).round(2))\n",
        "    print(\"Average of sample means: \", np.mean(means).round(2))\n",
        "    print(\"Population SD:\", np.std(table.column(label)).round(2))\n",
        "    print(\"SD of sample means:\", np.std(means).round(2))\n",
        "    return np.std(means)"
      ],
      "id": "Z8J7218Cihlp"
    },
    {
      "cell_type": "markdown",
      "metadata": {
        "id": "WV3PSNhhihlq"
      },
      "source": [
        "Verifique con un compañero o asistente técnico que haya implementado correctamente la función anterior. Si no lo ha implementado correctamente, el resto del laboratorio no funcionará correctamente, por lo que este paso es crucial."
      ],
      "id": "WV3PSNhhihlq"
    },
    {
      "cell_type": "markdown",
      "metadata": {
        "id": "UH3jn47Gihlq"
      },
      "source": [
        "En la siguiente celda, crearemos una muestra de tamaño 100 a partir de \"salarios\" y la graficaremos usando nuestra nueva función \"simulate_sample_mean\".\n",
        "\n",
        "  *Pista: Deberías ver una distribución similar a algo de lo que hemos estado hablando. Si no, verifique su función.*"
      ],
      "id": "UH3jn47Gihlq"
    },
    {
      "cell_type": "code",
      "execution_count": null,
      "metadata": {
        "id": "RnyNNhG8ihlq"
      },
      "outputs": [],
      "source": [
        "simulate_sample_mean(salaries, 'salary', 100, 10000)\n",
        "plots.xlim(50000, 100000);"
      ],
      "id": "RnyNNhG8ihlq"
    },
    {
      "cell_type": "markdown",
      "metadata": {
        "id": "vBMwklknihlq"
      },
      "source": [
        "Notice that our distribution of *sample means* looks approximately normal! Did it matter if our original distribution was normally distributed?"
      ],
      "id": "vBMwklknihlq"
    },
    {
      "cell_type": "markdown",
      "metadata": {
        "id": "Ie21bYRAihlq"
      },
      "source": [
        "**Pregunta 2.3.** Simule dos medias muestrales, una para una muestra de 400 salarios y otra para una muestra de 625 salarios. En cada caso, realiza 10.000 repeticiones. No se preocupe por las líneas `plots.xlim` o `plots.ylim`; solo se aseguran de que todos los gráficos tengan el mismo eje x e y, respectivamente."
      ],
      "id": "Ie21bYRAihlq"
    },
    {
      "cell_type": "code",
      "execution_count": null,
      "metadata": {
        "for_assignment_type": "solution",
        "tags": [],
        "id": "F_yCyKFJihlq"
      },
      "outputs": [],
      "source": [
        "simulate_sample_mean(..., ..., ..., ...)\n",
        "plots.xlim(50000, 100000)\n",
        "plots.ylim(0, 0.0002)\n",
        "plots.show();\n",
        "print('\\n')\n",
        "simulate_sample_mean(..., ..., ..., ...)\n",
        "plots.xlim(50000, 100000)\n",
        "plots.ylim(0, 0.0002)\n",
        "plots.show();"
      ],
      "id": "F_yCyKFJihlq"
    },
    {
      "cell_type": "markdown",
      "metadata": {
        "id": "C5plKZrWihlq"
      },
      "source": [
        "**Pregunta 2.4.** Asigne `q2_4` a una matriz de números correspondientes a afirmaciones verdaderas sobre las gráficas de 3.3.\n",
        "\n",
        "*Pista*: Si una distribución tiene forma de campana, ¿qué tipo de curva sigue?\n",
        "\n",
        "1. Vemos el teorema del límite central (CLT) en acción porque las distribuciones de las medias muestrales tienen forma de campana.\n",
        "2. Vemos la Ley de los Promedios en acción porque las distribuciones de las medias muestrales se parecen a la distribución de la población.\n",
        "3. Una de las condiciones para CLT es que tenemos que extraer una pequeña muestra aleatoria con reemplazo de la población.\n",
        "4. Una de las condiciones para CLT es que tenemos que extraer una muestra aleatoria grande con reemplazo de la población.\n",
        "5. Una de las condiciones para CLT es que la población debe estar distribuida normalmente."
      ],
      "id": "C5plKZrWihlq"
    },
    {
      "cell_type": "code",
      "execution_count": null,
      "metadata": {
        "for_assignment_type": "solution",
        "tags": [],
        "id": "BtiOPwvNihl9"
      },
      "outputs": [],
      "source": [
        "q2_4 = ..."
      ],
      "id": "BtiOPwvNihl9"
    },
    {
      "cell_type": "code",
      "execution_count": null,
      "metadata": {
        "deletable": false,
        "editable": false,
        "id": "ROpQbNnKihl-"
      },
      "outputs": [],
      "source": [
        "grader.check(\"q2_4\")"
      ],
      "id": "ROpQbNnKihl-"
    },
    {
      "cell_type": "markdown",
      "metadata": {
        "id": "v1vmfPhuihl-"
      },
      "source": [
        "**Pregunta 2.5.** Asigne `q2_5` a una matriz de números correspondientes a afirmaciones verdaderas sobre las gráficas de 2.3.\n",
        "\n",
        "1. Ambos gráficos en 2.3 se centran aproximadamente en torno a la media poblacional.\n",
        "2. Ambos gráficos en 2.3 se centran aproximadamente en torno a la media de una muestra particular.\n",
        "3. La distribución de medias muestrales para un tamaño de muestra 625 tiene menos variabilidad que la distribución de medias muestrales para un tamaño de muestra 400.\n",
        "4. La distribución de medias muestrales para un tamaño de muestra 625 tiene más variabilidad que la distribución de medias muestrales para un tamaño de muestra 400.\n"
      ],
      "id": "v1vmfPhuihl-"
    },
    {
      "cell_type": "code",
      "execution_count": null,
      "metadata": {
        "tags": [],
        "id": "799_vcQsihl-"
      },
      "outputs": [],
      "source": [
        "q2_5 = ..."
      ],
      "id": "799_vcQsihl-"
    },
    {
      "cell_type": "code",
      "execution_count": null,
      "metadata": {
        "deletable": false,
        "editable": false,
        "id": "mxBd6q2Mihl-"
      },
      "outputs": [],
      "source": [
        "grader.check(\"q2_5\")"
      ],
      "id": "mxBd6q2Mihl-"
    },
    {
      "cell_type": "markdown",
      "metadata": {
        "id": "aCelZjr5ihl-"
      },
      "source": [
        "A continuación, veremos lo que sucede cuando tomamos un **número creciente de remuestreos de un tamaño de muestra fijo**. Observe qué número en el código cambia y qué permanece igual. ¿Cómo cambia la distribución de las medias remuestreadas?"
      ],
      "id": "aCelZjr5ihl-"
    },
    {
      "cell_type": "code",
      "execution_count": null,
      "metadata": {
        "id": "gb2TXHcKihl-"
      },
      "outputs": [],
      "source": [
        "simulate_sample_mean(salaries, 'salary', 100, 500)\n",
        "plots.xlim(50000, 100000)\n",
        "plots.ylim(0, 0.00009);"
      ],
      "id": "gb2TXHcKihl-"
    },
    {
      "cell_type": "code",
      "execution_count": null,
      "metadata": {
        "id": "F6oJOhv8ihl_"
      },
      "outputs": [],
      "source": [
        "simulate_sample_mean(salaries, 'salary', 100, 1000)\n",
        "plots.xlim(50000, 100000);\n",
        "plots.ylim(0, 0.00009);"
      ],
      "id": "F6oJOhv8ihl_"
    },
    {
      "cell_type": "code",
      "execution_count": null,
      "metadata": {
        "id": "HdLBPK5pihl_"
      },
      "outputs": [],
      "source": [
        "simulate_sample_mean(salaries, 'salary', 100, 5000)\n",
        "plots.xlim(50000, 100000);\n",
        "plots.ylim(0, 0.00009);"
      ],
      "id": "HdLBPK5pihl_"
    },
    {
      "cell_type": "code",
      "execution_count": null,
      "metadata": {
        "id": "NnASD2nOihl_"
      },
      "outputs": [],
      "source": [
        "simulate_sample_mean(salaries, 'salary', 100, 10000)\n",
        "plots.xlim(50000, 100000);\n",
        "plots.ylim(0, 0.00009);"
      ],
      "id": "NnASD2nOihl_"
    },
    {
      "cell_type": "markdown",
      "metadata": {
        "id": "Yr1uu_uvihl_"
      },
      "source": [
        "¿Qué notaste acerca de las distribuciones de medias muestrales en los cuatro histogramas anteriores? Discuta con sus compañeros o pregúntele a un miembro del personal."
      ],
      "id": "Yr1uu_uvihl_"
    },
    {
      "cell_type": "markdown",
      "metadata": {
        "id": "zK99zbRVihl_"
      },
      "source": [
        "**Pregunta 2.6.** Asigne la variable `SD_of_sample_means` al número entero correspondiente a su respuesta a la siguiente pregunta:\n",
        "\n",
        "Cuando aumento el número de *nuevas muestras* que tomo, para un tamaño de muestra *fijo*, la SD de mis medias de muestra será...\n",
        "\n",
        "1. aumentar\n",
        "2. Disminución\n",
        "3. Sigue igual\n",
        "4. Varían ampliamente\n"
      ],
      "id": "zK99zbRVihl_"
    },
    {
      "cell_type": "code",
      "execution_count": null,
      "metadata": {
        "deletable": false,
        "tags": [],
        "id": "0gIFLgnAihmA"
      },
      "outputs": [],
      "source": [
        "SD_of_sample_means = ..."
      ],
      "id": "0gIFLgnAihmA"
    },
    {
      "cell_type": "code",
      "execution_count": null,
      "metadata": {
        "deletable": false,
        "editable": false,
        "id": "3U0ayPbjihmA"
      },
      "outputs": [],
      "source": [
        "grader.check(\"q2_6\")"
      ],
      "id": "3U0ayPbjihmA"
    },
    {
      "cell_type": "markdown",
      "metadata": {
        "id": "y473iN_xihmA"
      },
      "source": [
        "**Pregunta 2.7.** Pensemos en cómo cambian las relaciones entre la DE de la población, la DE de la muestra y la DE de las medias de la muestra al variar el tamaño de la muestra. ¿Cual de los siguientes es verdadero? Asigne la variable `pop_vs_sample` a una matriz de números enteros que correspondan a declaraciones verdaderas.\n",
        "\n",
        "*Pista 1:* La DE de la muestra es diferente de la DE de las medias de la muestra.\n",
        "\n",
        "*Pista 2:* [Capítulo 14.5](https://inferentialthinking.com/chapters/14/5/Variability_of_the_Sample_Mean.html) podría ser útil para responder esta pregunta.\n",
        "\n",
        "1. La DE de la muestra se hace más pequeña a medida que aumenta el tamaño de la muestra.\n",
        "2. La DE de la muestra aumenta a medida que aumenta el tamaño de la muestra.\n",
        "3. La DE de la muestra se vuelve más consistente con la DE de la población a medida que aumenta el tamaño de la muestra.\n",
        "4. La DE de las medias muestrales se reduce al aumentar el tamaño de la muestra.\n",
        "5. La DE de las medias muestrales aumenta a medida que aumenta el tamaño de la muestra.\n",
        "6. La DE de las medias muestrales permanece igual al aumentar el tamaño de la muestra."
      ],
      "id": "y473iN_xihmA"
    },
    {
      "cell_type": "code",
      "execution_count": null,
      "metadata": {
        "deletable": false,
        "tags": [],
        "id": "SHgxtynSihmB"
      },
      "outputs": [],
      "source": [
        "pop_vs_sample = ..."
      ],
      "id": "SHgxtynSihmB"
    },
    {
      "cell_type": "code",
      "execution_count": null,
      "metadata": {
        "deletable": false,
        "editable": false,
        "id": "vJPKDCSUihmB"
      },
      "outputs": [],
      "source": [
        "grader.check(\"q2_7\")"
      ],
      "id": "vJPKDCSUihmB"
    },
    {
      "cell_type": "markdown",
      "metadata": {
        "id": "N6oqKIadihmB"
      },
      "source": [
        "**Pregunta 2.8.** ¿Existe una relación entre el tamaño de la muestra y la desviación estándar de las medias muestrales? Asigne `q2_8` al número correspondiente a la declaración que responde a esta pregunta.\n",
        "\n",
        "*Pista:* [Capítulo 14.5](https://inferentialthinking.com/chapters/14/5/Variability_of_the_Sample_Mean.html) del libro de texto puede resultar útil.\n",
        "\n",
        "1. La DE de las medias muestrales es inversamente proporcional a la raíz cuadrada del tamaño de la muestra.\n",
        "2. La DE de las medias muestrales es directamente proporcional a la raíz cuadrada del tamaño de la muestra."
      ],
      "id": "N6oqKIadihmB"
    },
    {
      "cell_type": "code",
      "execution_count": null,
      "metadata": {
        "tags": [],
        "id": "0YnHRaKSihmB"
      },
      "outputs": [],
      "source": [
        "q2_8 = ..."
      ],
      "id": "0YnHRaKSihmB"
    },
    {
      "cell_type": "code",
      "execution_count": null,
      "metadata": {
        "deletable": false,
        "editable": false,
        "id": "ErnwJul7ihmC"
      },
      "outputs": [],
      "source": [
        "grader.check(\"q2_8\")"
      ],
      "id": "ErnwJul7ihmC"
    },
    {
      "cell_type": "markdown",
      "metadata": {
        "id": "np91Xx7jihmC"
      },
      "source": [
        "A lo largo de este laboratorio, hemos estado tomando muchas muestras aleatorias de una población. Sin embargo, todos estos principios son válidos para remuestreos con arranque de una sola muestra. El bootstrap funciona porque es como extraer datos de la población original, asumiendo que la muestra es representativa. Si su muestra original es relativamente grande, todas sus remuestras también serán relativamente grandes, por lo que la SD de las medias remuestreadas será relativamente pequeña.\n",
        "\n",
        "**Para cambiar la variabilidad de la media de su muestra, tendría que cambiar el tamaño de la muestra original de la cual está tomando remuestras con arranque.**"
      ],
      "id": "np91Xx7jihmC"
    },
    {
      "cell_type": "markdown",
      "metadata": {
        "id": "jaZ1oSisihmC"
      },
      "source": [
        "-----\n",
        "## ¡Hecho!\n",
        "\n",
        "<img src=\"https://github.com/darioblandon/materials-fa23/blob/main/lab/lab08/oreo.jpeg?raw=1\" alt=\"black and white doggie\" width=\"300\"/>\n",
        "\n",
        "**Oreo** quiere recordarte que ¡ya estás a medio camino del final del semestre! ¡Puedes hacerlo!"
      ],
      "id": "jaZ1oSisihmC"
    },
    {
      "cell_type": "markdown",
      "metadata": {
        "id": "eXAVt4MYihmD"
      },
      "source": [
        "\n",
        "---\n",
        "\n",
        "¡Terminaste con el laboratorio!\n",
        "\n",
        "**Información importante sobre el envío:**\n",
        "- **Ejecuta todas las pruebas** y verifica que todas pasan\n",
        "- **Guardar** desde el menú **Archivo**\n",
        "- **Ejecute la celda final para generar el archivo zip**\n",
        "- **Haga clic en el enlace para descargar el archivo zip**\n",
        "- Luego, ve a [Gradescope](https://www.gradescope.com/courses/576157) y envía el archivo zip a la tarea correspondiente. El nombre de esta tarea es \"Lab XX Autograder\", donde XX es el número de laboratorio: 01, 02, 03, etc.\n",
        "\n",
        "- Si terminas temprano en el laboratorio regular, **pídele a uno de los miembros del personal que te marque**.\n",
        "\n",
        "**Es su responsabilidad asegurarse de que su trabajo esté guardado antes de ejecutar la última celda.**\n"
      ],
      "id": "eXAVt4MYihmD"
    },
    {
      "cell_type": "markdown",
      "metadata": {
        "deletable": false,
        "editable": false,
        "id": "oDFSTWa9ihmD"
      },
      "source": [
        "## Envío\n",
        "\n",
        "Asegúrese de haber ejecutado todas las celdas de su cuaderno en orden antes de ejecutar la siguiente celda, para que todas las imágenes/gráficos aparezcan en el resultado. La siguiente celda generará un archivo zip para que lo envíe. **¡Guarde antes de exportar!**"
      ],
      "id": "oDFSTWa9ihmD"
    },
    {
      "cell_type": "code",
      "execution_count": null,
      "metadata": {
        "deletable": false,
        "editable": false,
        "id": "PaqRF9-UihmG"
      },
      "outputs": [],
      "source": [
        "# Save your notebook first, then run this cell to export your submission.\n",
        "grader.export(pdf=False, run_tests=True)"
      ],
      "id": "PaqRF9-UihmG"
    },
    {
      "cell_type": "markdown",
      "metadata": {
        "id": "UNKFJQ2cihmG"
      },
      "source": [],
      "id": "UNKFJQ2cihmG"
    }
  ],
  "metadata": {
    "kernelspec": {
      "display_name": "Python 3",
      "language": "python",
      "name": "python3"
    },
    "language_info": {
      "codemirror_mode": {
        "name": "ipython",
        "version": 3
      },
      "file_extension": ".py",
      "mimetype": "text/x-python",
      "name": "python",
      "nbconvert_exporter": "python",
      "pygments_lexer": "ipython3",
      "version": "3.10.1"
    },
    "otter": {
      "OK_FORMAT": true,
      "tests": {
        "q1_3": {
          "name": "q1_3",
          "points": null,
          "suites": [
            {
              "cases": [
                {
                  "code": ">>> round(age_mean, 3) == 27.228\nTrue",
                  "hidden": false,
                  "locked": false
                },
                {
                  "code": ">>> round(age_sd, 3) == 5.815\nTrue",
                  "hidden": false,
                  "locked": false
                }
              ],
              "scored": true,
              "setup": "",
              "teardown": "",
              "type": "doctest"
            }
          ]
        },
        "q1_4": {
          "name": "q1_4",
          "points": null,
          "suites": [
            {
              "cases": [
                {
                  "code": ">>> round(height_mean, 3) == 64.049\nTrue",
                  "hidden": false,
                  "locked": false
                },
                {
                  "code": ">>> round(height_sd, 3) == 2.525\nTrue",
                  "hidden": false,
                  "locked": false
                }
              ],
              "scored": true,
              "setup": "",
              "teardown": "",
              "type": "doctest"
            }
          ]
        },
        "q2_1": {
          "name": "q2_1",
          "points": null,
          "suites": [
            {
              "cases": [
                {
                  "code": ">>> np.random.seed(8)\n>>> np.round(one_sample_mean(salaries, 'salary', 100), 3) == 76699.829\nTrue",
                  "hidden": false,
                  "locked": false
                }
              ],
              "scored": true,
              "setup": "",
              "teardown": "",
              "type": "doctest"
            }
          ]
        },
        "q2_4": {
          "name": "q2_4",
          "points": null,
          "suites": [
            {
              "cases": [
                {
                  "code": ">>> \n>>> import hashlib # This imports a hashing library for the autograder.\n>>> def get_hash(num):\n...     \"\"\"Helper function for assessing correctness.\"\"\"\n...     return hashlib.md5(str(num).encode()).hexdigest()\n>>> \n>>> get_hash(set(np.array(q2_4).astype(int))) \n'3649655f87d3a44afa82f25eced24944'",
                  "hidden": false,
                  "locked": false
                }
              ],
              "scored": true,
              "setup": "",
              "teardown": "",
              "type": "doctest"
            }
          ]
        },
        "q2_5": {
          "name": "q2_5",
          "points": null,
          "suites": [
            {
              "cases": [
                {
                  "code": ">>> \n>>> import hashlib # This imports a hashing library for the autograder.\n>>> def get_hash(num):\n...     \"\"\"Helper function for assessing correctness.\"\"\"\n...     return hashlib.md5(str(num).encode()).hexdigest()\n>>> \n>>> get_hash(set(np.array(q2_5).astype(int)))\n'b793dd27381f7b63cada88b749c0e023'",
                  "hidden": false,
                  "locked": false
                }
              ],
              "scored": true,
              "setup": "",
              "teardown": "",
              "type": "doctest"
            }
          ]
        },
        "q2_6": {
          "name": "q2_6",
          "points": null,
          "suites": [
            {
              "cases": [
                {
                  "code": ">>> import hashlib # This imports a hashing library for the autograder.\n>>> def get_hash(num):\n...     \"\"\"Helper function for assessing correctness.\"\"\"\n...     return hashlib.md5(str(num).encode()).hexdigest()\n>>> \n>>> get_hash(int(SD_of_sample_means))\n'eccbc87e4b5ce2fe28308fd9f2a7baf3'",
                  "hidden": false,
                  "locked": false
                }
              ],
              "scored": true,
              "setup": "",
              "teardown": "",
              "type": "doctest"
            }
          ]
        },
        "q2_7": {
          "name": "q2_7",
          "points": null,
          "suites": [
            {
              "cases": [
                {
                  "code": ">>> import hashlib # This imports a hashing library for the autograder.\n>>> def get_hash(num):\n...     \"\"\"Helper function for assessing correctness.\"\"\"\n...     return hashlib.md5(str(num).encode()).hexdigest()\n>>> \n>>> get_hash(set(np.array(pop_vs_sample).astype(int)))\n'1d919a653870c713cf8bd17b9c9c65ee'",
                  "hidden": false,
                  "locked": false
                }
              ],
              "scored": true,
              "setup": "",
              "teardown": "",
              "type": "doctest"
            }
          ]
        },
        "q2_8": {
          "name": "q2_8",
          "points": null,
          "suites": [
            {
              "cases": [
                {
                  "code": ">>> \n>>> import hashlib # This imports a hashing library for the autograder.\n>>> def get_hash(num):\n...     \"\"\"Helper function for assessing correctness.\"\"\"\n...     return hashlib.md5(str(num).encode()).hexdigest()\n>>> \n>>> get_hash(int(q2_8))\n'c4ca4238a0b923820dcc509a6f75849b'",
                  "hidden": false,
                  "locked": false
                }
              ],
              "scored": true,
              "setup": "",
              "teardown": "",
              "type": "doctest"
            }
          ]
        }
      }
    },
    "colab": {
      "provenance": [],
      "include_colab_link": true
    }
  },
  "nbformat": 4,
  "nbformat_minor": 5
}