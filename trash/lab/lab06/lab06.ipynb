{
  "cells": [
    {
      "cell_type": "markdown",
      "metadata": {
        "id": "view-in-github",
        "colab_type": "text"
      },
      "source": [
        "<a href=\"https://colab.research.google.com/github/darioblandon/materials-fa23/blob/main/lab/lab06/lab06.ipynb\" target=\"_parent\"><img src=\"https://colab.research.google.com/assets/colab-badge.svg\" alt=\"Open In Colab\"/></a>"
      ]
    },
    {
      "cell_type": "code",
      "execution_count": null,
      "metadata": {
        "deletable": false,
        "editable": false,
        "id": "TneTnhgaAS49"
      },
      "outputs": [],
      "source": [
        "# Initialize Otter\n",
        "import otter\n",
        "grader = otter.Notebook(\"lab06.ipynb\")"
      ],
      "id": "TneTnhgaAS49"
    },
    {
      "cell_type": "markdown",
      "metadata": {
        "id": "7xKtAk_zAS4-"
      },
      "source": [
        "<p><img alt=\"Colaboratory logo\" height=\"140px\" src=\"https://upload.wikimedia.org/wikipedia/commons/archive/f/fb/20161010213812%21Escudo-UdeA.svg\" align=\"left\" hspace=\"10px\" vspace=\"0px\"></p>\n",
        "\n",
        "<h1> Fundamentos en ciencias de datos</h1>\n",
        "\n",
        "\n",
        "\n",
        "# Laboratorio 6: Examinando el toque terapéutico\n",
        "\n",
        "¡Bienvenidos al Laboratorio 6!\n"
      ],
      "id": "7xKtAk_zAS4-"
    },
    {
      "cell_type": "markdown",
      "metadata": {
        "id": "clmFdVZbAS4_"
      },
      "source": [
        "**Obtener ayuda en el laboratorio**: Siempre que te sientas estancado o necesites más aclaraciones, busca un GSI o un tutor, ¡y estarán encantados de ayudarte!\n",
        "\n",
        "Estas son las políticas para obtener crédito completo:\n",
        "\n",
        "1. Para los estudiantes inscritos en <span style=\"color: #BC412B\">**Regular Labs**</span> en persona, recibirán crédito de laboratorio al **asistir** a la sección de laboratorio y lograr un progreso significativo en el cuaderno de laboratorio. **<span style=\"text-decoration: underline\">debes</span>** enviar esta tarea a Gradescope.\n",
        "\n",
        "2. Los estudiantes inscritos en <span style=\"color: #04888B\">**Laboratorio de autoservicio**</span> recibirán crédito de laboratorio al **completar** el cuaderno, aprobar los casos de prueba y **enviándolo** a Gradescope antes de las **11:59 p. m. de la fecha de entrega**.\n",
        "\n",
        "**Envío**: una vez que haya terminado, ejecute todas las celdas además de la última, seleccione Archivo > Guardar cuaderno y luego ejecute la celda final. El resultado contendrá un archivo zip que podrá utilizar para enviarlo en Gradescope.\n",
        "\n",
        "Comencemos configurando las pruebas y las importaciones ejecutando la siguiente celda."
      ],
      "id": "clmFdVZbAS4_"
    },
    {
      "cell_type": "markdown",
      "metadata": {
        "id": "drngtG1RAS5A"
      },
      "source": [
        "Después de una introducción tan extensa a la programación para la ciencia de datos, finalmente pasamos a la sección del curso donde podemos aplicar nuestras nuevas habilidades para responder preguntas reales.\n",
        "\n",
        "En este laboratorio, usaremos técnicas de prueba que se introdujeron en la conferencia para probar la idea del toque terapéutico, la idea de que algún practicante puede sentir y masajear su campo de energía humano.\n"
      ],
      "id": "drngtG1RAS5A"
    },
    {
      "cell_type": "code",
      "execution_count": null,
      "metadata": {
        "id": "NJzLONYNAS5A"
      },
      "outputs": [],
      "source": [
        "# Ejecute esta celda, pero no la cambie.\n",
        "\n",
        "# Estas líneas importan los módulos Numpy y Datascience.\n",
        "import numpy as np\n",
        "from datascience import *\n",
        "\n",
        "# Estas líneas hacen algo de magia en la trama\n",
        "import matplotlib\n",
        "%matplotlib inline\n",
        "import matplotlib.pyplot as plt\n",
        "plt.style.use('fivethirtyeight')\n",
        "import warnings\n",
        "warnings.simplefilter('ignore', FutureWarning)\n",
        "from matplotlib import patches\n",
        "from ipywidgets import interact, interactive, fixed\n",
        "import ipywidgets as widgets\n"
      ],
      "id": "NJzLONYNAS5A"
    },
    {
      "cell_type": "markdown",
      "metadata": {
        "id": "iXn3iW3AAS5B"
      },
      "source": [
        "## 1. ¿Qué es el Toque Terapéutico?\n",
        "\n",
        "El Toque Terapéutico (TT) es la idea de que todos pueden sentir el Campo de Energía Humana (HEF) alrededor de los individuos. Quienes practican TT han descrito los HEF de diferentes personas como \"cálidos como gelatina\" y \"táctiles como caramelo\".\n",
        "\n",
        "La TT fue una técnica popular utilizada a lo largo del siglo XX que se promocionó como una excelente manera de equilibrar la salud de una persona. Ciertos profesionales afirman que tienen la capacidad de sentir el HEF y masajearlo para promover la salud y la relajación de las personas.\n",
        "\n",
        "### Emily Rosa\n",
        "\n",
        "[Emily Rosa](https://en.wikipedia.org/wiki/Emily_Rosa) era una estudiante de 4º de primaria que estaba muy familiarizada con el mundo de la TT, gracias a sus padres, que eran a la vez médicos y escépticos de la TT.\n",
        "\n",
        "Para su proyecto de feria de ciencias de cuarto grado, Emily decidió probar si los practicantes de TT realmente podían interactuar con el HEF de una persona. Más tarde publicó su trabajo en TT, convirtiéndose en la persona más joven en publicar un artículo de investigación en una revista médica revisada por pares."
      ],
      "id": "iXn3iW3AAS5B"
    },
    {
      "cell_type": "markdown",
      "metadata": {
        "id": "oIZH_xWPAS5B"
      },
      "source": [
        "### El experimento de Emily\n",
        "\n",
        "El experimento de Emily fue limpio, simple y efectivo. Debido a las ocupaciones de sus padres en el campo médico, tenía amplio acceso a personas que afirmaban ser practicantes de TT.\n",
        "\n",
        "Emily tomó 21 practicantes de TT y los usó para su experimento científico. Tomaría a un practicante de TT y le pediría que extendiera sus manos a través de una pantalla (a través de la cual no puede ver). Emily estaría del otro lado y lanzaría una moneda justa. Dependiendo de cómo cayera la moneda, extendía su mano izquierda o su mano derecha. El practicante de TT tendría entonces que responder qué mano extendió Emily. Si un practicante realmente pudiera interactuar con el HEF de una persona, se esperaría que respondiera correctamente.\n",
        "\n",
        "En total, a través de 210 muestras, el practicante eligió la mano correcta el 44% de las veces.\n",
        "\n",
        "El objetivo principal de Emily aquí era probar si las conjeturas de los practicantes de TT eran aleatorias, como el lanzamiento de una moneda. En la mayoría de los experimentos médicos, esta es la norma. **Queremos probar si el tratamiento tiene un efecto o no, *no* si el tratamiento realmente funciona o no.**\n",
        "\n",
        "Ahora comenzaremos a formular este experimento en términos de la terminología que aprendimos en este curso."
      ],
      "id": "oIZH_xWPAS5B"
    },
    {
      "cell_type": "markdown",
      "metadata": {
        "id": "EVOhlG_6AS5C"
      },
      "source": [
        "**Pregunta 1.1**: Describa el [modelo] de Emily (https://inferentialthinking.com/chapters/11/1/Assessing_a_Model.html) sobre la probabilidad de que los practicantes de TT elijan la mano correcta. ¿Qué modelo alternativo pretende desacreditar su modelo?\n",
        "\n",
        "Si puede, consulte con sus compañeros, en el foro de discusión o con los asistentes técnicos/inteligentes de su laboratorio para llegar a una conclusión."
      ],
      "id": "EVOhlG_6AS5C"
    },
    {
      "cell_type": "markdown",
      "metadata": {
        "id": "3Zu3Y7ECAS5C"
      },
      "source": [
        "_Escriba su respuesta aquí, reemplazando este texto._"
      ],
      "id": "3Zu3Y7ECAS5C"
    },
    {
      "cell_type": "markdown",
      "metadata": {
        "id": "g4s5Wc9dAS5D"
      },
      "source": [
        "**Pregunta 1.2:** Recuerde que el practicante obtuvo la respuesta correcta el 44% (0,44) de las veces. Según el modelo de Emily, en promedio, ¿qué proporción de veces esperamos que el practicante adivine la mano correcta? Asegúrate de que tu respuesta sea un número entre 0 y 1."
      ],
      "id": "g4s5Wc9dAS5D"
    },
    {
      "cell_type": "code",
      "execution_count": null,
      "metadata": {
        "tags": [],
        "id": "DMDDjcufAS5D"
      },
      "outputs": [],
      "source": [
        "expected_proportion_correct = ...\n",
        "expected_proportion_correct"
      ],
      "id": "DMDDjcufAS5D"
    },
    {
      "cell_type": "code",
      "execution_count": null,
      "metadata": {
        "deletable": false,
        "editable": false,
        "id": "MPjJ4iTdAS5D"
      },
      "outputs": [],
      "source": [
        "grader.check(\"q1_2\")"
      ],
      "id": "MPjJ4iTdAS5D"
    },
    {
      "cell_type": "markdown",
      "metadata": {
        "id": "p9WLkwIZAS5D"
      },
      "source": [
        "El objetivo ahora es ver si nuestra desviación de esta proporción esperada de respuestas correctas se debe a algo más que al azar.\n",
        "\n",
        "**Pregunta 1.3:** Generalmente utilizamos una estadística para ayudar a determinar hacia qué modelo apunta la evidencia. ¿Qué estadística podemos usar para comparar los resultados del modelo de Emily con lo observado? Asigne `valid_stat` a una matriz de números enteros que representan estadísticas de prueba que Emily puede usar:\n",
        "\n",
        "1. La diferencia entre el porcentaje correcto esperado y el porcentaje correcto real\n",
        "2. La diferencia absoluta entre el porcentaje correcto esperado y el porcentaje correcto real\n",
        "3. La suma del porcentaje correcto esperado y el porcentaje correcto real\n",
        "\n",
        "**NOTA:** ¡Asegúrese de usar `make_array` para crear su matriz de números enteros!\n",
        "\n",
        "> *Sugerencia*: ¿Cuál debería ser el dominio (posibles valores de x) para la distribución de nuestras estadísticas de prueba?"
      ],
      "id": "p9WLkwIZAS5D"
    },
    {
      "cell_type": "code",
      "execution_count": null,
      "metadata": {
        "tags": [],
        "id": "vtyij0hSAS5E"
      },
      "outputs": [],
      "source": [
        "valid_stat = ...\n",
        "valid_stat"
      ],
      "id": "vtyij0hSAS5E"
    },
    {
      "cell_type": "code",
      "execution_count": null,
      "metadata": {
        "deletable": false,
        "editable": false,
        "id": "84_iVixsAS5E"
      },
      "outputs": [],
      "source": [
        "grader.check(\"q1_3\")"
      ],
      "id": "84_iVixsAS5E"
    },
    {
      "cell_type": "markdown",
      "metadata": {
        "id": "j5l87GCJAS5E"
      },
      "source": [
        "**Pregunta 1.4:** ¿Por qué la estadística de la Pregunta 1.3 es la opción adecuada para comparar resultados en el experimento de Emily? ¿Cómo se relaciona con los modelos que definió en la Pregunta 1.1?"
      ],
      "id": "j5l87GCJAS5E"
    },
    {
      "cell_type": "markdown",
      "metadata": {
        "id": "CrGZ4CvcAS5E"
      },
      "source": [
        "_Escriba su respuesta aquí, reemplazando este texto._"
      ],
      "id": "CrGZ4CvcAS5E"
    },
    {
      "cell_type": "markdown",
      "metadata": {
        "id": "in4o_c-3AS5F"
      },
      "source": [
        "**Pregunta 1.5:** Defina la función \"estadística\" que toma una proporción esperada y una proporción real, y devuelve el valor de la estadística elegida en la Pregunta 1.3. Suponga que el argumento toma proporciones, pero devuelva su respuesta como un porcentaje.\n",
        "\n",
        "*Pista:* Recuerde que estamos pidiendo un **porcentaje**, no una proporción."
      ],
      "id": "in4o_c-3AS5F"
    },
    {
      "cell_type": "code",
      "execution_count": null,
      "metadata": {
        "tags": [],
        "id": "Mr8R9a-KAS5F"
      },
      "outputs": [],
      "source": [
        "def statistic(expected_prop, actual_prop):\n",
        "    ..."
      ],
      "id": "Mr8R9a-KAS5F"
    },
    {
      "cell_type": "code",
      "execution_count": null,
      "metadata": {
        "deletable": false,
        "editable": false,
        "id": "CkIj1p5KAS5F"
      },
      "outputs": [],
      "source": [
        "grader.check(\"q1_5\")"
      ],
      "id": "CkIj1p5KAS5F"
    },
    {
      "cell_type": "markdown",
      "metadata": {
        "id": "QAjgHf1qAS5F"
      },
      "source": [
        "**Pregunta 1.6:** Utilice la función recién definida para calcular la estadística observada en el experimento de Emily."
      ],
      "id": "QAjgHf1qAS5F"
    },
    {
      "cell_type": "code",
      "execution_count": null,
      "metadata": {
        "tags": [],
        "id": "9QFZar9yAS5G"
      },
      "outputs": [],
      "source": [
        "observed_statistic = ...\n",
        "observed_statistic"
      ],
      "id": "9QFZar9yAS5G"
    },
    {
      "cell_type": "code",
      "execution_count": null,
      "metadata": {
        "deletable": false,
        "editable": false,
        "id": "aTHVD3lCAS5G"
      },
      "outputs": [],
      "source": [
        "grader.check(\"q1_6\")"
      ],
      "id": "aTHVD3lCAS5G"
    },
    {
      "cell_type": "markdown",
      "metadata": {
        "id": "WiDuESRuAS5J"
      },
      "source": [
        "**¿Esta estadística observada es consistente con lo que esperamos ver bajo el modelo de Emily?**\n",
        "\n",
        "Para responder a esta pregunta, debemos simular el experimento como si el modelo de Emily fuera correcto y calcular nuestra estadística para cada simulación.\n",
        "\n",
        "### `proporciones_de_muestra`\n",
        "\n",
        "`sample_proportions` se puede utilizar para realizar muestras aleatorias de varias categorías cuando se conoce la proporción de puntos de datos que se espera que caigan en cada categoría. `sample_proportions` toma dos argumentos: el tamaño de la muestra y una serie de proporciones correspondientes a cada categoría de la población (debe sumar 1).\n",
        "\n",
        "Considere lanzar una moneda justa, donde los dos resultados (la moneda sale cara y la moneda sale cruz) ocurren con la misma probabilidad. Esperamos que la mitad de todos los lanzamientos de monedas arrojen cara y la otra mitad de todos los lanzamientos de monedas arrojen cruz.\n",
        "\n",
        "Ejecute la siguiente celda para ver la simulación de 10 lanzamientos de una moneda justa. Sea el primer elemento de \"coin_proportions\" la proporción de caras y el segundo elemento de \"coin_proportions\" la proporción de cruces.\n",
        "\n",
        "*Observa lo que sucede cuando ejecutas esta celda varias veces: la proporción de lanzamientos de monedas que salen cara y cruz parece cambiar, ya que estás simulando lanzar 10 monedas cada vez.*"
      ],
      "id": "WiDuESRuAS5J"
    },
    {
      "cell_type": "code",
      "execution_count": null,
      "metadata": {
        "id": "ZGUBS4GiAS5J"
      },
      "outputs": [],
      "source": [
        "coin_proportions = make_array(0.5, 0.5)\n",
        "ten_flips = sample_proportions(10, coin_proportions)\n",
        "ten_flips"
      ],
      "id": "ZGUBS4GiAS5J"
    },
    {
      "cell_type": "markdown",
      "metadata": {
        "id": "EI2X8wwiAS5J"
      },
      "source": [
        "`sample_proportions` devuelve una matriz que tiene la misma longitud que la matriz de proporciones que se pasa. Contiene la proporción de cada categoría que aparece en la muestra.\n",
        "\n",
        "En nuestro ejemplo, el primer elemento de \"ten_flips\" es la proporción simulada de caras y el segundo elemento de \"ten_flips\" es la proporción simulada de cruces."
      ],
      "id": "EI2X8wwiAS5J"
    },
    {
      "cell_type": "code",
      "execution_count": null,
      "metadata": {
        "id": "jjHzpunxAS5J"
      },
      "outputs": [],
      "source": [
        "simulated_proportion_heads = ten_flips.item(0)\n",
        "simulated_proportion_tails = ten_flips.item(1)\n",
        "\n",
        "print(\"In our simulation, \" + str(simulated_proportion_heads) + \" of flips were heads and \" \\\n",
        "      + str(simulated_proportion_tails) + \" of flips were tails.\")"
      ],
      "id": "jjHzpunxAS5J"
    },
    {
      "cell_type": "markdown",
      "metadata": {
        "id": "ZIa51Y64AS5J"
      },
      "source": [
        "**Pregunta 1.7:** Para comenzar a simular, debemos comenzar creando una representación del modelo de Emily para usarla en nuestra simulación. Esta será una matriz con dos elementos. El primer elemento debe ser la proporción de veces que un practicante de TT elige la mano correcta, asumiendo que el modelo de Emily era correcto. El segundo elemento debe ser la proporción de veces, bajo el mismo supuesto, que el practicante de TT elige la mano incorrecta. Asigne `model_proportions` a esta matriz.\n",
        "\n",
        "Después de esto, podemos simular 210 elecciones de manos, como Emily evaluó en la vida real, y encontrar una estadística única para resumir este ejemplo de la simulación. Utilice la función `sample_proportions` y asigne la **proporción de elecciones de manos correctas** (de 210) a `simulation_proportion_correct`. Por último, utilice su función \"estadística\" para asignar \"una_estadística\" al valor de la estadística para esta simulación.\n",
        "\n",
        "*Sugerencia:* El uso de `sample_proportions` se puede encontrar en la [Referencia de Python](https://www.data8.org/fa23/reference/).\n"
      ],
      "id": "ZIa51Y64AS5J"
    },
    {
      "cell_type": "code",
      "execution_count": null,
      "metadata": {
        "tags": [],
        "id": "-MDpVS6wAS5J"
      },
      "outputs": [],
      "source": [
        "# Esto guarda el estado aleatorio de nuestro código para que podamos\n",
        "# generamos los mismos números cada vez que ejecutamos el código.\n",
        "# Por favor no cambie esta línea.\n",
        "\n",
        "np.random.seed(16)\n",
        "\n",
        "model_proportions = ...\n",
        "simulation_proportion_correct = ...\n",
        "one_statistic = ...\n",
        "one_statistic"
      ],
      "id": "-MDpVS6wAS5J"
    },
    {
      "cell_type": "code",
      "execution_count": null,
      "metadata": {
        "deletable": false,
        "editable": false,
        "id": "fDc_lGNuAS5K"
      },
      "outputs": [],
      "source": [
        "grader.check(\"q1_7\")"
      ],
      "id": "fDc_lGNuAS5K"
    },
    {
      "cell_type": "markdown",
      "metadata": {
        "id": "yHDr2zh0AS5K"
      },
      "source": [
        "**Pregunta 1.8:** Veamos ahora cómo es realmente la distribución de las estadísticas según el modelo de Emily.\n",
        "\n",
        "Defina la función `simulación_y_estadística` para incluir la matriz `model_proportions` y la proporción esperada de veces que un practicante de TT adivinaría una mano correctamente según el modelo de Emily. La función debería simular que Emily realiza el experimento 210 veces y devolver la estadística de esta simulación.\n",
        "\n",
        "*Pista:* Esto debería seguir el mismo patrón que el código que hiciste en el problema anterior."
      ],
      "id": "yHDr2zh0AS5K"
    },
    {
      "cell_type": "markdown",
      "metadata": {
        "id": "UP79_fTMAS5K"
      },
      "source": [
        "_Escriba su respuesta aquí, reemplazando este texto._"
      ],
      "id": "UP79_fTMAS5K"
    },
    {
      "cell_type": "code",
      "execution_count": null,
      "metadata": {
        "tags": [],
        "id": "Jn8tlqJeAS5K"
      },
      "outputs": [],
      "source": [
        "def simulation_and_statistic(model_proportions, expected_proportion_correct):\n",
        "    '''Simulates 210 TT hand choices under Emily’s model.\n",
        "    Returns one statistic from the simulation.'''\n",
        "    ..."
      ],
      "id": "Jn8tlqJeAS5K"
    },
    {
      "cell_type": "code",
      "execution_count": null,
      "metadata": {
        "tags": [],
        "id": "y3pL3zkjAS5K"
      },
      "outputs": [],
      "source": [
        "num_repetitions = 1000\n",
        "\n",
        "simulated_statistics = ...\n",
        "\n",
        "for ... in ...:\n",
        "    ..."
      ],
      "id": "y3pL3zkjAS5K"
    },
    {
      "cell_type": "code",
      "execution_count": null,
      "metadata": {
        "deletable": false,
        "editable": false,
        "id": "HaTkHWzSAS5K"
      },
      "outputs": [],
      "source": [
        "grader.check(\"q1_8\")"
      ],
      "id": "HaTkHWzSAS5K"
    },
    {
      "cell_type": "markdown",
      "metadata": {
        "id": "a4a947VAAS5L"
      },
      "source": [
        "Veamos la distribución de las estadísticas simuladas bajo el modelo de Emily y comparemos visualmente dónde se encuentra la estadística observada en relación con las estadísticas simuladas."
      ],
      "id": "a4a947VAAS5L"
    },
    {
      "cell_type": "code",
      "execution_count": null,
      "metadata": {
        "id": "-961AezFAS5L"
      },
      "outputs": [],
      "source": [
        "t = Table().with_column('Simulated Statistics', simulated_statistics)\n",
        "t.hist()\n",
        "plt.scatter(observed_statistic, 0, color='red', s=100, zorder=2);"
      ],
      "id": "-961AezFAS5L"
    },
    {
      "cell_type": "markdown",
      "metadata": {
        "id": "eu1nSoy9AS5L"
      },
      "source": [
        "Podemos argumentar visualmente si creemos que la estadística observada es consistente con el modelo de Emily. En este caso, dado que valores mayores de la estadística de prueba sugieren el modelo alternativo (donde la probabilidad de adivinar la mano correcta es algo distinta del 50%), podemos formalizar nuestro análisis encontrando qué proporción de estadísticas simuladas fueron tan grandes o mayores que nuestras observadas. estadística de prueba (el área a la derecha o a la derecha de la estadística de prueba observada). Si esta área es lo suficientemente pequeña, declararemos que los datos observados son inconsistentes con nuestro modelo simulado. Aquí está el [enlace](https://inferentialthinking.com/chapters/11/1/Assessing_a_Model.html) a la sección del libro de texto."
      ],
      "id": "eu1nSoy9AS5L"
    },
    {
      "cell_type": "markdown",
      "metadata": {
        "id": "K0Fh3VcSAS5L"
      },
      "source": [
        "**Pregunta 1.9:** Calcule la proporción de estadísticas simuladas en la Pregunta 1.8 mayor o igual a la estadística observada.\n",
        "\n",
        "*Pista:* El uso de `np.count_nonzero` se puede encontrar [aquí](http://data8.org/fa23/reference)."
      ],
      "id": "K0Fh3VcSAS5L"
    },
    {
      "cell_type": "code",
      "execution_count": null,
      "metadata": {
        "scrolled": true,
        "tags": [],
        "id": "d0TfpyhxAS5d"
      },
      "outputs": [],
      "source": [
        "proportion_greater_or_equal = ...\n",
        "proportion_greater_or_equal"
      ],
      "id": "d0TfpyhxAS5d"
    },
    {
      "cell_type": "code",
      "execution_count": null,
      "metadata": {
        "deletable": false,
        "editable": false,
        "id": "r1Dhk1WZAS5e"
      },
      "outputs": [],
      "source": [
        "grader.check(\"q1_9\")"
      ],
      "id": "r1Dhk1WZAS5e"
    },
    {
      "cell_type": "markdown",
      "metadata": {
        "id": "GSXFyEjaAS5e"
      },
      "source": [
        "Por convención, a menudo comparamos la proporción que acabamos de calcular con 0,05. Si la proporción de estadísticas simuladas mayores o iguales a las estadísticas observadas es suficientemente pequeña (menor o igual a 0,05), entonces esto es evidencia en contra del modelo de Emily. Conceptualmente, se puede pensar en este caso como el caso en el que menos del 5% de los valores simulados están tan o más lejos de lo que esperábamos. Si este no es el caso, no tenemos ningún motivo para dudar del modelo de Emily.\n",
        "\n",
        "Esto debería ayudarte a sacar tus propias conclusiones sobre el experimento de Emily Rosa.\n",
        "\n",
        "El contacto terapéutico dejó de utilizarse después de este experimento, que finalmente fue aceptado en una de las principales revistas médicas. Los practicantes de TT respondieron y acusaron a Emily y su familia de alterar los resultados, mientras que algunos afirmaron que el mal humor espiritual de Emily hacia el contacto terapéutico hacía difícil leer su HEF. Sea lo que sea, el experimento de Emily es un ejemplo clásico de cómo cualquiera, con los recursos adecuados, puede probar lo que quiera."
      ],
      "id": "GSXFyEjaAS5e"
    },
    {
      "cell_type": "markdown",
      "metadata": {
        "id": "cedf1csvAS5e"
      },
      "source": [
        "**Pregunta 1.10:** Ahora, tómate un tiempo para reflexionar sobre las preguntas a continuación y luego discútelas con tus compañeros o echa un vistazo a las discusiones en la publicación educativa de este laboratorio.\n",
        "\n",
        "1. ¿Son los datos más consistentes con el modelo de Emily (los practicantes adivinaban al azar)?\n",
        "2. ¿Qué significa esto en términos del experimento de Emily? ¿Las respuestas de los practicantes de TT siguen un modelo de probabilidad par o hay algo más en juego?\n",
        "\n",
        "¿Hablaste con tus compañeros o miraste el foro de discusión? (Verdadero Falso)\n"
      ],
      "id": "cedf1csvAS5e"
    },
    {
      "cell_type": "code",
      "execution_count": null,
      "metadata": {
        "tags": [],
        "id": "p0Bx_0slAS5e"
      },
      "outputs": [],
      "source": [
        "peer_talk = ...\n",
        "peer_talk"
      ],
      "id": "p0Bx_0slAS5e"
    },
    {
      "cell_type": "code",
      "execution_count": null,
      "metadata": {
        "deletable": false,
        "editable": false,
        "id": "15FVmUdEAS5e"
      },
      "outputs": [],
      "source": [
        "grader.check(\"q1_10\")"
      ],
      "id": "15FVmUdEAS5e"
    },
    {
      "cell_type": "markdown",
      "metadata": {
        "id": "eyJNi4y8AS5e"
      },
      "source": [
        "## ¡CASI LLEGAMOS!\n",
        "\n",
        "<img src=\"https://github.com/darioblandon/materials-fa23/blob/main/lab/lab06/teddy.jpeg?raw=1\" alt=\"Cute dog standing in a hallway with tile floors\" width=\"300\"/>\n",
        "\n",
        "**Teddy** quiere hacerte saber que eres genial."
      ],
      "id": "eyJNi4y8AS5e"
    },
    {
      "cell_type": "markdown",
      "metadata": {
        "id": "2KmP2EBbAS5f"
      },
      "source": [
        "\n",
        "---\n",
        "\n",
        "¡Terminaste con el laboratorio!\n",
        "\n",
        "**Información importante sobre el envío:**\n",
        "- **Ejecuta todas las pruebas** y verifica que todas pasan\n",
        "- **Guardar** desde el menú **Archivo**\n",
        "- **Ejecute la celda final para generar el archivo zip**\n",
        "- **Haga clic en el enlace para descargar el archivo zip**\n",
        "- Luego, ve a [Gradescope](https://www.gradescope.com/courses/576157) y envía el archivo zip a la tarea correspondiente. El nombre de esta tarea es \"Lab XX Autograder\", donde XX es el número de laboratorio: 01, 02, 03, etc.\n",
        "\n",
        "- Si terminas temprano en el laboratorio regular, **pídele a uno de los miembros del personal que te marque**.\n",
        "\n",
        "**Es su responsabilidad asegurarse de que su trabajo esté guardado antes de ejecutar la última celda.**"
      ],
      "id": "2KmP2EBbAS5f"
    },
    {
      "cell_type": "markdown",
      "metadata": {
        "deletable": false,
        "editable": false,
        "id": "kC6Wl2XiAS5f"
      },
      "source": [
        "## Envío\n",
        "\n",
        "Asegúrese de haber ejecutado todas las celdas de su cuaderno en orden antes de ejecutar la siguiente celda, para que todas las imágenes/gráficos aparezcan en el resultado. La siguiente celda generará un archivo zip para que lo envíe. **¡Guarde antes de exportar!**"
      ],
      "id": "kC6Wl2XiAS5f"
    },
    {
      "cell_type": "code",
      "execution_count": null,
      "metadata": {
        "deletable": false,
        "editable": false,
        "id": "0sfwGDgPAS5f"
      },
      "outputs": [],
      "source": [
        "# Save your notebook first, then run this cell to export your submission.\n",
        "grader.export(pdf=False, run_tests=True)"
      ],
      "id": "0sfwGDgPAS5f"
    },
    {
      "cell_type": "markdown",
      "metadata": {
        "id": "A2onuBjnAS5f"
      },
      "source": [
        ""
      ],
      "id": "A2onuBjnAS5f"
    }
  ],
  "metadata": {
    "kernelspec": {
      "display_name": "Python 3",
      "language": "python",
      "name": "python3"
    },
    "language_info": {
      "codemirror_mode": {
        "name": "ipython",
        "version": 3
      },
      "file_extension": ".py",
      "mimetype": "text/x-python",
      "name": "python",
      "nbconvert_exporter": "python",
      "pygments_lexer": "ipython3",
      "version": "3.11.2"
    },
    "otter": {
      "OK_FORMAT": true,
      "tests": {
        "q1_10": {
          "name": "q1_10",
          "points": null,
          "suites": [
            {
              "cases": [
                {
                  "code": ">>> peer_talk == True\nTrue",
                  "hidden": false,
                  "locked": false
                }
              ],
              "scored": true,
              "setup": "",
              "teardown": "",
              "type": "doctest"
            }
          ]
        },
        "q1_2": {
          "name": "q1_2",
          "points": null,
          "suites": [
            {
              "cases": [
                {
                  "code": ">>> 0 <= expected_proportion_correct <= 1\nTrue",
                  "hidden": false,
                  "locked": false
                },
                {
                  "code": ">>> expected_proportion_correct == 0.5\nTrue",
                  "hidden": false,
                  "locked": false
                }
              ],
              "scored": true,
              "setup": "",
              "teardown": "",
              "type": "doctest"
            }
          ]
        },
        "q1_3": {
          "name": "q1_3",
          "points": null,
          "suites": [
            {
              "cases": [
                {
                  "code": ">>> type(valid_stat) == np.ndarray\nTrue",
                  "hidden": false,
                  "locked": false
                },
                {
                  "code": ">>> int(sum(valid_stat))\n2",
                  "hidden": false,
                  "locked": false
                }
              ],
              "scored": true,
              "setup": "",
              "teardown": "",
              "type": "doctest"
            }
          ]
        },
        "q1_5": {
          "name": "q1_5",
          "points": null,
          "suites": [
            {
              "cases": [
                {
                  "code": ">>> int(round(statistic(.5,.5) + statistic(.4,.1),1))\n30",
                  "hidden": false,
                  "locked": false
                },
                {
                  "code": ">>> int(statistic(.4,.1) - statistic(.1,.4))\n0",
                  "hidden": false,
                  "locked": false
                }
              ],
              "scored": true,
              "setup": "",
              "teardown": "",
              "type": "doctest"
            }
          ]
        },
        "q1_6": {
          "name": "q1_6",
          "points": null,
          "suites": [
            {
              "cases": [
                {
                  "code": ">>> int(round(observed_statistic,2))\n6",
                  "hidden": false,
                  "locked": false
                }
              ],
              "scored": true,
              "setup": "",
              "teardown": "",
              "type": "doctest"
            }
          ]
        },
        "q1_7": {
          "name": "q1_7",
          "points": null,
          "suites": [
            {
              "cases": [
                {
                  "code": ">>> len(model_proportions) % 2 == 0\nTrue",
                  "hidden": false,
                  "locked": false
                },
                {
                  "code": ">>> len(np.unique(model_proportions))\n1",
                  "hidden": false,
                  "locked": false
                },
                {
                  "code": ">>> sum(model_proportions) == 1\nTrue",
                  "hidden": false,
                  "locked": false
                },
                {
                  "code": ">>> type(simulation_proportion_correct) == float\nTrue",
                  "hidden": false,
                  "locked": false
                },
                {
                  "code": ">>> round(simulation_proportion_correct, 2)\n0.49",
                  "hidden": false,
                  "locked": false
                },
                {
                  "code": ">>> round(one_statistic, 2) - 0.95 < 0.05\nTrue",
                  "hidden": false,
                  "locked": false
                }
              ],
              "scored": true,
              "setup": "",
              "teardown": "",
              "type": "doctest"
            }
          ]
        },
        "q1_8": {
          "name": "q1_8",
          "points": null,
          "suites": [
            {
              "cases": [
                {
                  "code": ">>> len(simulated_statistics) == 1000\nTrue",
                  "hidden": false,
                  "locked": false
                },
                {
                  "code": ">>> np.all(simulated_statistics <= 30)\nTrue",
                  "hidden": false,
                  "locked": false
                },
                {
                  "code": ">>> np.all(simulated_statistics >= 0)\nTrue",
                  "hidden": false,
                  "locked": false
                },
                {
                  "code": ">>> 0 <= simulation_and_statistic(model_proportions, expected_proportion_correct) <= 25\nTrue",
                  "hidden": false,
                  "locked": false
                }
              ],
              "scored": true,
              "setup": "",
              "teardown": "",
              "type": "doctest"
            }
          ]
        },
        "q1_9": {
          "name": "q1_9",
          "points": null,
          "suites": [
            {
              "cases": [
                {
                  "code": ">>> 0 <= proportion_greater_or_equal <= 1\nTrue",
                  "hidden": false,
                  "locked": false
                },
                {
                  "code": ">>> proportion_greater_or_equal*1000 == np.count_nonzero(simulated_statistics >= observed_statistic)\nTrue",
                  "hidden": false,
                  "locked": false
                }
              ],
              "scored": true,
              "setup": "",
              "teardown": "",
              "type": "doctest"
            }
          ]
        }
      }
    },
    "colab": {
      "provenance": [],
      "include_colab_link": true
    }
  },
  "nbformat": 4,
  "nbformat_minor": 5
}