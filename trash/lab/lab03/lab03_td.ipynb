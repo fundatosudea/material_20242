{
 "cells": [
  {
   "cell_type": "code",
   "execution_count": null,
   "id": "69ba7977",
   "metadata": {
    "deletable": false,
    "editable": false
   },
   "outputs": [],
   "source": [
    "# Initialize Otter\n",
    "import otter\n",
    "grader = otter.Notebook(\"lab03.ipynb\")"
   ]
  },
  {
   "cell_type": "markdown",
   "id": "97e6ee6c",
   "metadata": {},
   "source": [
    "<p><img alt=\"Colaboratory logo\" height=\"140px\" src=\"https://upload.wikimedia.org/wikipedia/commons/archive/f/fb/20161010213812%21Escudo-UdeA.svg\" align=\"left\" hspace=\"10px\" vspace=\"0px\"></p>\n",
    "\n",
    "<h1> Fundamentos en ciencias de datos</h1>\n",
    "\n",
    "# Laboratorio 3: Tipos de datos y matrices\n",
    "¡Bienvenidos al Laboratorio 3!\n",
    "\n",
    "Hasta ahora, hemos usado Python para manipular números y trabajar con tablas. Pero necesitamos analizar los tipos de datos para profundizar nuestra comprensión de cómo trabajar con datos en Python.\n",
    "\n",
    "En esta práctica de laboratorio, primero verá cómo representar y manipular otro tipo fundamental de datos: el texto. Un fragmento de texto se llama *cadena* en Python. También verás cómo trabajar con *matrices* de datos. Una matriz podría contener todos los números entre 0 y 100 o todas las palabras del capítulo de un libro. Por último, creará tablas y practicará su análisis con su conocimiento de las operaciones de tablas. La [Referencia de Python](https://www.data8.org/fa23/reference/) tiene información que será útil para esta práctica de laboratorio.\n",
    "\n",
    "**Fecha límite de envío de laboratorio (solo Mega Lab): viernes 8 de septiembre a las 11 p.m.**"
   ]
  },
  {
   "cell_type": "markdown",
   "id": "05a75806",
   "metadata": {},
   "source": [
    "**Obtener ayuda en el laboratorio**: Siempre que te sientas estancado o necesites más aclaraciones, busca un GSI o un tutor, ¡y estarán encantados de ayudarte!\n",
    "\n",
    "Estas son las políticas para obtener crédito completo:\n",
    "\n",
    "1. Para los estudiantes inscritos en <span style=\"color: #BC412B\">**Regular Labs**</span> en persona, recibirán crédito de laboratorio al **asistir** a la sección de laboratorio y lograr un progreso significativo en el cuaderno de laboratorio. **<span style=\"text-decoration: underline\">debes</span>** enviar esta tarea a Gradescope.\n",
    "\n",
    "2. Los estudiantes inscritos en <span style=\"color: #04888B\">**Laboratorio de autoservicio**</span> recibirán crédito de laboratorio al **completar** el cuaderno, aprobar los casos de prueba y **enviándolo** a Gradescope antes de las **11:59 p. m. de la fecha de entrega**.\n",
    "\n",
    "**Envío**: una vez que haya terminado, ejecute todas las celdas además de la última, seleccione Archivo > Guardar cuaderno y luego ejecute la celda final. El resultado contendrá un archivo zip que podrá utilizar para enviarlo en Gradescope.\n",
    "\n",
    "Comencemos configurando las pruebas y las importaciones ejecutando la siguiente celda."
   ]
  },
  {
   "cell_type": "code",
   "execution_count": null,
   "id": "c62f05a2",
   "metadata": {
    "deletable": false,
    "scrolled": true
   },
   "outputs": [],
   "source": [
    "# Just run this cell\n",
    "import numpy as np\n",
    "import math\n",
    "from datascience import *"
   ]
  },
  {
   "cell_type": "markdown",
   "id": "cf2da4d1",
   "metadata": {},
   "source": [
    "# 1. Texto\n",
    "La programación no se trata sólo de números. El texto es uno de los tipos de datos más comunes utilizados en los programas.\n",
    "\n",
    "El texto está representado por un **valor de string** en Python. La palabra \"string\" es un término de programación para una secuencia de caracteres. Una cadena puede contener un solo carácter, una palabra, una oración o un libro completo.\n",
    "\n",
    "Para distinguir los datos de texto del código real, delimitamos las cadenas poniéndolas entre comillas. Las comillas simples (`'`) y las comillas dobles (`\"`) son válidas, pero los tipos de comillas de apertura y cierre deben coincidir. El contenido puede ser cualquier secuencia de caracteres, incluidos números y símbolos.\n",
    "\n",
    "Hemos visto cadenas antes en declaraciones `print` A continuación, se pasan dos cadenas diferentes como argumentos a la función`print` function."
   ]
  },
  {
   "cell_type": "code",
   "execution_count": null,
   "id": "865e2a7a",
   "metadata": {},
   "outputs": [],
   "source": [
    "print(\"I <3\", 'Data Science')"
   ]
  },
  {
   "cell_type": "markdown",
   "id": "e3352832",
   "metadata": {},
   "source": [
    "Así como se pueden dar nombres a los números, se pueden dar nombres a los valores de cadena. No es necesario que los nombres y las cadenas sean similares de ningún modo. Se puede asignar cualquier nombre a cualquier cadena."
   ]
  },
  {
   "cell_type": "code",
   "execution_count": null,
   "id": "0d0d069c",
   "metadata": {},
   "outputs": [],
   "source": [
    "one = 'two'\n",
    "plus = '*'\n",
    "print(one, plus, one)"
   ]
  },
  {
   "cell_type": "markdown",
   "id": "0385b724",
   "metadata": {},
   "source": [
    "**Pregunta 1.1.** Yuri Gagarin fue la primera persona en viajar por el espacio exterior. Cuando salió de su cápsula al aterrizar en la Tierra, [según se informa](https://en.wikiquote.org/wiki/Yuri_Gagarin) tuvo la siguiente conversación con una mujer y una niña que vieron el aterrizaje:\n",
    "\n",
    "     La mujer preguntó: \"¿Será que has venido del espacio exterior?\"\n",
    "     Gagarin respondió: \"¡De hecho, sí!\".\n",
    "\n",
    "La siguiente celda contiene código sin terminar. Complete los `...`s para que imprima esta conversación *exactamente* como aparece arriba.\n",
    "\n",
    "Sugerencia: examine cómo se define `mujer_cita` para incluir las comillas dobles.\n"
   ]
  },
  {
   "cell_type": "code",
   "execution_count": null,
   "id": "d078a901",
   "metadata": {
    "deletable": false,
    "tags": []
   },
   "outputs": [],
   "source": [
    "mujer_preguntando = ...\n",
    "cita_mujer = '\"¿Será que has venido del espacio exterior?\"'\n",
    "respuesta_de_gagarin = 'Gagarin respondió:'\n",
    "cita_de_gagarin = ...\n",
    "\n",
    "print(mujer_preguntando, cita_mujer)\n",
    "print(respuesta_de_gagarin, cita_de_gagarin)"
   ]
  },
  {
   "cell_type": "code",
   "execution_count": null,
   "id": "c902046e",
   "metadata": {
    "deletable": false,
    "editable": false
   },
   "outputs": [],
   "source": [
    "grader.check(\"q11\")"
   ]
  },
  {
   "cell_type": "markdown",
   "id": "6cd953c0",
   "metadata": {},
   "source": [
    "## 1.1. Métodos de string"
   ]
  },
  {
   "cell_type": "markdown",
   "id": "163f0839",
   "metadata": {},
   "source": [
    "Las cadenas se pueden transformar usando **métodos**. Recuerde que métodos y funciones no son lo mismo. Aquí está la sección del libro de texto sobre métodos de cadena: [4.2.1 Métodos de cadena](https://inferentialthinking.com/chapters/04/2/1/String_Methods.html).\n",
    "\n",
    "Aquí hay un bosquejo de cómo llamar a métodos en una cadena:\n",
    "\n",
    "     <expresión que se evalúa como una cadena>.<nombre del método>(<argumento>, <argumento>, ...)\n",
    "    \n",
    "Un ejemplo de un método de cadena es \"replace\", que reemplaza todas las instancias de alguna parte de la cadena original (o una *subcadena*) con una nueva cadena.\n",
    "\n",
    "     <cadena original>.replace(<subcadena antigua>, <subcadena nueva>)\n",
    "    \n",
    "`replace` devuelve (evalúa) una nueva cadena, dejando la cadena original sin cambios.\n",
    "    \n",
    "Intente predecir el resultado de este ejemplo y luego ejecute la celda."
   ]
  },
  {
   "cell_type": "code",
   "execution_count": null,
   "id": "3e8ea87c",
   "metadata": {},
   "outputs": [],
   "source": [
    "# Reemplazar una letra\n",
    "bag = 'bag'\n",
    "print(bag.replace('g', 't'), bag)"
   ]
  },
  {
   "cell_type": "markdown",
   "id": "6b9ff5a4",
   "metadata": {},
   "source": [
    "Puede llamar funciones sobre los resultados de otras funciones. Por ejemplo, `max(abs(-5), abs(3))` se evalúa como 5. De manera similar, puede llamar a métodos según los resultados de otras llamadas a métodos o funciones.\n",
    "\n",
    "Es posible que ya hayas notado una diferencia entre funciones y métodos: una función como `max` no requiere un `.` antes de ser llamada, pero un método de cadena como `replace` sí. La referencia de Python a la que se hace referencia en el párrafo inicial puede resultar útil en los casos en los que no esté seguro de cómo llamar a una función o método."
   ]
  },
  {
   "cell_type": "code",
   "execution_count": null,
   "id": "4ab2e74a",
   "metadata": {
    "scrolled": true
   },
   "outputs": [],
   "source": [
    "# Calling replace on the output of another call to replace\n",
    "'train'.replace('t', 'ing').replace('in', 'de')"
   ]
  },
  {
   "cell_type": "markdown",
   "id": "c1a3016b",
   "metadata": {},
   "source": [
    "Here's a picture of how Python evaluates a \"chained\" method call like that:\n",
    "\n",
    "<img src=\"chaining_method_calls.png\"/>"
   ]
  },
  {
   "cell_type": "markdown",
   "id": "1a1004c8",
   "metadata": {},
   "source": [
    "**Question 1.1.1.** Use `replace` to transform the string `'hitchhiker'` into `'matchmaker'`. Assign your result to `new_word`.\n"
   ]
  },
  {
   "cell_type": "code",
   "execution_count": null,
   "id": "6b1e115e",
   "metadata": {
    "deletable": false,
    "tags": []
   },
   "outputs": [],
   "source": [
    "new_word = ...\n",
    "new_word"
   ]
  },
  {
   "cell_type": "code",
   "execution_count": null,
   "id": "f1ff9163",
   "metadata": {
    "deletable": false,
    "editable": false
   },
   "outputs": [],
   "source": [
    "grader.check(\"q111\")"
   ]
  },
  {
   "cell_type": "markdown",
   "id": "2aab714c",
   "metadata": {},
   "source": [
    "Hay muchos más métodos de cadenas en Python, pero la mayoría de los programadores no memorizan sus nombres ni cómo usarlos. En el \"mundo real\", la gente normalmente simplemente busca documentación y ejemplos en Internet. Una [lista completa de métodos de cadena](https://docs.python.org/3/library/stdtypes.html#string-methods) aparece en la documentación del lenguaje Python. [Stack Overflow](http://stackoverflow.com) tiene una enorme base de datos de preguntas respondidas que a menudo demuestran cómo utilizar estos métodos para lograr diversos fines. El material cubierto en estos recursos que aún no se haya presentado en esta clase estará fuera de alcance."
   ]
  },
  {
   "cell_type": "markdown",
   "id": "604d71c8",
   "metadata": {},
   "source": [
    "## 1.2. Conversión hacia y desde cadenas"
   ]
  },
  {
   "cell_type": "markdown",
   "id": "b65cca92",
   "metadata": {},
   "source": [
    "Las cadenas y los números son *tipos* diferentes de valores, incluso cuando una cadena contiene los dígitos de un número. Por ejemplo, evaluar la siguiente celda provoca un error porque no se puede agregar un número entero a una cadena."
   ]
  },
  {
   "cell_type": "code",
   "execution_count": null,
   "id": "ae3a46bd",
   "metadata": {
    "tags": [
     "raises-exception"
    ]
   },
   "outputs": [],
   "source": [
    "8 + \"8\""
   ]
  },
  {
   "cell_type": "markdown",
   "id": "ab1fa105",
   "metadata": {},
   "source": [
    "Las cadenas y los números son *tipos* diferentes de valores, incluso cuando una cadena contiene los dígitos de un número. Por ejemplo, evaluar la siguiente celda provoca un error porque no se puede agregar un número entero a una cadena.\n",
    "\n",
    "|Función |Descripción|\n",
    "|-|-|\n",
    "|`int`|Convierte una cadena de dígitos o un valor flotante en un valor entero (\"int\")|\n",
    "|`float`|Convierte una cadena de dígitos (quizás con un punto decimal) o un int en un valor decimal (\"flotante\")|\n",
    "|`str`|Convierte cualquier valor en una cadena|"
   ]
  },
  {
   "cell_type": "markdown",
   "id": "01281005",
   "metadata": {},
   "source": [
    "Intente predecir qué tipo de datos y valor se evalúa \"ejemplo\", luego ejecute la celda."
   ]
  },
  {
   "cell_type": "code",
   "execution_count": null,
   "id": "aa6e0c67",
   "metadata": {},
   "outputs": [],
   "source": [
    "example = 8 + int(\"10\") + float(\"8\")\n",
    "\n",
    "print(example)\n",
    "print(\"Este ejemplo devolvió un\" + str(type(example)) + \"!\")"
   ]
  },
  {
   "cell_type": "markdown",
   "id": "c650b0ff",
   "metadata": {},
   "source": [
    "Supongamos que está escribiendo un programa que busca fechas en un texto y desea que su programa encuentre la cantidad de tiempo que transcurrió entre dos años que identificó. No tiene sentido restar dos textos, pero primero puedes convertir el texto que contiene los años en números.\n",
    "\n",
    "**Pregunta 1.2.1.** Complete el siguiente código para calcular el número de años que transcurrieron entre \"un_año\" y \"otro_año\". No escriba simplemente los números \"1618\" y \"1648\" (o \"30\"); Utilice una función de conversión para convertir los datos de texto dados en números.\n"
   ]
  },
  {
   "cell_type": "code",
   "execution_count": null,
   "id": "73d9b66f",
   "metadata": {
    "deletable": false,
    "tags": []
   },
   "outputs": [],
   "source": [
    "# Algunos datos de texto:\n",
    "un_año = \"1618\"\n",
    "otro_año = \"1648\"\n",
    "\n",
    "# Complete la siguiente línea. Tenga en cuenta que no podemos simplemente escribir:\n",
    "# otro_año - un_año\n",
    "# Si no ves por qué, intenta ver qué sucede cuando\n",
    "# escribe eso aquí.\n",
    "diferencia =...\n",
    "diferencia"
   ]
  },
  {
   "cell_type": "code",
   "execution_count": null,
   "id": "1a173534",
   "metadata": {
    "deletable": false,
    "editable": false
   },
   "outputs": [],
   "source": [
    "grader.check(\"q121\")"
   ]
  },
  {
   "cell_type": "markdown",
   "id": "b37ac002",
   "metadata": {},
   "source": [
    "## 1.3. Pasar cadenas a funciones\n",
    "\n",
    "Los valores de cadena, como los números, pueden ser argumentos de funciones y pueden ser devueltos por funciones.\n",
    "\n",
    "La función `len` (derivada de la palabra \"longitud\") toma una sola cadena como argumento y devuelve el número de caracteres (incluidos espacios) en la cadena.\n",
    "\n",
    "Tenga en cuenta que no cuenta *palabras*. `len(\"un pequeño paso para el hombre\")` se evalúa como 22 caracteres, no 5 palabras.\n",
    "\n",
    "**Pregunta 1.3.1.** Utilice `len` para encontrar la cantidad de caracteres en la cadena larga en la siguiente celda. Los caracteres incluyen cosas como espacios y puntuación. Asigne `sentence_length` a ese número.\n",
    "\n",
    "(La cadena es la primera oración de la traducción al inglés de la [Declaración de los Derechos del Hombre] en francés (http://avalon.law.yale.edu/18th_century/rightsof.asp).)"
   ]
  },
  {
   "cell_type": "code",
   "execution_count": null,
   "id": "68077b24",
   "metadata": {
    "deletable": false,
    "tags": []
   },
   "outputs": [],
   "source": [
    "una_frace_larga = \"Los representantes del pueblo francés, organizados en Asamblea Nacional, creyendo que la ignorancia, el olvido o el menosprecio de los derechos del hombre son la única causa de las calamidades públicas y de la corrupción de los gobiernos, han decidido exponer en una declaración solemne de los derechos naturales, inalienables y sagrados del hombre, a fin de que esta declaración, estando constantemente ante todos los miembros del cuerpo social, les recuerde continuamente sus derechos y deberes; a fin de que los actos del poder legislativo , así como los del poder ejecutivo, puedan compararse en todo momento con los objetos y fines de todas las instituciones políticas y así puedan ser más respetados, y, por último, para que los agravios de los ciudadanos, basados en lo sucesivo en motivos simples y principios indiscutibles, tenderán al mantenimiento de la constitución y redundarán en la felicidad de todos.\"\n",
    "longitud_oración = ...\n",
    "longitud_oración"
   ]
  },
  {
   "cell_type": "code",
   "execution_count": null,
   "id": "ed791dfa",
   "metadata": {
    "deletable": false,
    "editable": false
   },
   "outputs": [],
   "source": [
    "grader.check(\"q131\")"
   ]
  },
  {
   "cell_type": "markdown",
   "id": "93d5927d",
   "metadata": {},
   "source": [
    "# 2. Matrices\n",
    "\n",
    "Las computadoras son más útiles cuando puedes usar una pequeña cantidad de código para *realizar la misma acción* en *muchas cosas diferentes*.\n",
    "\n",
    "Por ejemplo, en el tiempo que le lleva calcular la propina del 18% en la factura de un restaurante, una computadora portátil puede calcular el 18% de propina por cada factura de restaurante pagada por cada ser humano en la Tierra ese día. (¡Eso es si eres bastante rápido haciendo aritmética mentalmente!)\n",
    "\n",
    "**Las matrices** son la forma en que colocamos muchos valores en un solo lugar para poder operar con ellos como un grupo. Por ejemplo, si `billions_of_numbers` es una matriz de números, la expresión\n",
    "\n",
    "     .18 *billions_of_numbers\n",
    "\n",
    "proporciona una nueva matriz de números que contiene el resultado de multiplicar **cada número** en `billones_de_números` por 0,18. Las matrices no se limitan a números; También podemos poner todas las palabras de un libro en una serie de cadenas.\n",
    "\n",
    "Concretamente, una matriz es una **colección de valores del mismo tipo**."
   ]
  },
  {
   "cell_type": "markdown",
   "id": "4c0a2b63",
   "metadata": {},
   "source": [
    "## 2.1. Hacer matrices\n",
    "\n",
    "Primero, aprendamos cómo ingresar valores manualmente en una matriz. Por lo general, no es así como funcionan los programas. Normalmente, creamos matrices cargándolas desde una fuente externa, como un archivo de datos.\n",
    "\n",
    "Para crear una matriz a mano, llame a la función `make_array`. Cada argumento que pase a `make_array` estará en la matriz que devuelve. Ejecute esta celda para ver un ejemplo:"
   ]
  },
  {
   "cell_type": "code",
   "execution_count": null,
   "id": "a5dafb5a",
   "metadata": {
    "scrolled": true
   },
   "outputs": [],
   "source": [
    "make_array(0.125, 4.75, -1.3)"
   ]
  },
  {
   "cell_type": "markdown",
   "id": "88fc4597",
   "metadata": {},
   "source": [
    "Cada valor de una matriz (en el caso anterior, los números 0,125, 4,75 y -1,3) se denomina *elemento* de esa matriz.\n",
    "\n",
    "Las matrices en sí mismas también son valores, al igual que los números y las cadenas. Eso significa que puedes asignarlos a nombres o usarlos como argumentos para funciones. Por ejemplo, `len(<some_array>)` devuelve el número de elementos en `some_array`."
   ]
  },
  {
   "cell_type": "markdown",
   "id": "b41c464b",
   "metadata": {},
   "source": [
    "**Pregunta 2.1.1.** Haz una matriz que contenga los números 0, 1, -1 y $\\pi$, en ese orden. Nómbrelo \"números_interesantes\".\n",
    "\n",
    "*Pista:* ¿Cómo obtuviste el valor $\\pi$ en el laboratorio 2? Puedes consultarlo de la misma manera aquí. El módulo \"matemáticas\" se importó en la parte superior de este cuaderno."
   ]
  },
  {
   "cell_type": "code",
   "execution_count": null,
   "id": "5fe54ea7",
   "metadata": {
    "deletable": false,
    "tags": []
   },
   "outputs": [],
   "source": [
    "números_interesantes = ...\n",
    "números_interesantes"
   ]
  },
  {
   "cell_type": "code",
   "execution_count": null,
   "id": "97d12fff",
   "metadata": {
    "deletable": false,
    "editable": false
   },
   "outputs": [],
   "source": [
    "grader.check(\"q211\")"
   ]
  },
  {
   "cell_type": "markdown",
   "id": "77ae6bee",
   "metadata": {},
   "source": [
    "**Pregunta 2.1.2.** Cree una matriz que contenga las cinco cadenas `\"Hello\"`, `\",\"`, `\" \"`, `\"world\"` y `\"!\"`. (El tercero es un espacio único entre comillas). Nómbralo `hello_world_components`.\n",
    "\n",
    "*Nota:* Si evalúa `hello_world_components`, notará información adicional además de su contenido: `dtype='<U5'`. Esa es simplemente la forma extremadamente críptica que tiene NumPy de decir que los tipos de datos en la matriz son cadenas.\n"
   ]
  },
  {
   "cell_type": "code",
   "execution_count": null,
   "id": "cac8770f",
   "metadata": {
    "deletable": false,
    "tags": []
   },
   "outputs": [],
   "source": [
    "hello_world_components = ...\n",
    "hello_world_components"
   ]
  },
  {
   "cell_type": "code",
   "execution_count": null,
   "id": "56466cc8",
   "metadata": {
    "deletable": false,
    "editable": false
   },
   "outputs": [],
   "source": [
    "grader.check(\"q212\")"
   ]
  },
  {
   "cell_type": "markdown",
   "id": "97af372f",
   "metadata": {},
   "source": [
    "### `np.arange`\n",
    "Las matrices las proporciona un paquete llamado [NumPy](http://www.numpy.org/) (pronunciado \"NUM-pie\"). El paquete se llama \"numpy\", pero es estándar cambiarle el nombre a \"np\" por brevedad. Puedes hacerlo con:\n",
    "\n",
    "     importar numpy como np\n",
    "\n",
    "Muy a menudo, en la ciencia de datos, queremos trabajar con muchos números que estén espaciados uniformemente dentro de algún rango. NumPy proporciona una función especial para esto llamada \"arange\". La línea de código `np.arange(start, stop, step)` se evalúa como una matriz con todos los números comenzando en `start` y contando `step`, deteniéndose **antes** de llegar a `stop`.\n",
    "\n",
    "Ejecute las siguientes celdas para ver algunos ejemplos."
   ]
  },
  {
   "cell_type": "code",
   "execution_count": null,
   "id": "da3f5e6d",
   "metadata": {},
   "outputs": [],
   "source": [
    "# Esta matriz comienza en 1 y cuenta hasta 2\n",
    "# y luego se detiene antes de las 6\n",
    "np.arange(1, 6, 2)"
   ]
  },
  {
   "cell_type": "code",
   "execution_count": null,
   "id": "d800ecf6",
   "metadata": {},
   "outputs": [],
   "source": [
    "# Esta matriz no contiene 9\n",
    "# porque np.arange se detiene *antes* de alcanzar el valor de parada\n",
    "np.arange(4, 9, 1)"
   ]
  },
  {
   "cell_type": "markdown",
   "id": "cb3a3a75",
   "metadata": {},
   "source": [
    "**Pregunta 2.1.3.** Importe `numpy` como `np` y luego use `np.arange` para crear una matriz con múltiplos de 99 desde 0 hasta (**e incluyendo**) 9999. (Entonces sus elementos son 0, 99, 198, 297, etc.)\n"
   ]
  },
  {
   "cell_type": "code",
   "execution_count": null,
   "id": "1db63402",
   "metadata": {
    "deletable": false,
    "tags": []
   },
   "outputs": [],
   "source": [
    "...\n",
    "multiples_of_99 = ...\n",
    "multiples_of_99"
   ]
  },
  {
   "cell_type": "code",
   "execution_count": null,
   "id": "209fa0b0",
   "metadata": {
    "deletable": false,
    "editable": false
   },
   "outputs": [],
   "source": [
    "grader.check(\"q213\")"
   ]
  },
  {
   "cell_type": "markdown",
   "id": "9a660a09",
   "metadata": {
    "deletable": false
   },
   "source": [
    "## 2.2. Trabajar con elementos individuales de matrices (\"indexación\")\n",
    "Trabajemos con un conjunto de datos más interesante. La siguiente celda crea una matriz llamada \"montos_población\" que incluye las poblaciones mundiales estimadas de cada año desde **1950** hasta aproximadamente el presente. (Las estimaciones provienen del sitio web de la Oficina del Censo de EE. UU.).\n",
    "\n",
    "En lugar de escribir los datos manualmente, los hemos cargado desde un archivo en su computadora llamado `world_population.csv`. ¡Aprenderá cómo hacerlo más adelante en esta práctica de laboratorio!"
   ]
  },
  {
   "cell_type": "code",
   "execution_count": null,
   "id": "b1e0d396",
   "metadata": {
    "deletable": false
   },
   "outputs": [],
   "source": [
    "cantidades_población = Table.read_table(\"población_mundial.csv\").columna(\"Población\")\n",
    "cantidades_poblacion"
   ]
  },
  {
   "cell_type": "markdown",
   "id": "9c3362f6",
   "metadata": {},
   "source": [
    "Así es como obtenemos el primer elemento de \"cantidades_población\", que es la población mundial en el primer año del conjunto de datos, 1950."
   ]
  },
  {
   "cell_type": "code",
   "execution_count": null,
   "id": "8e301b23",
   "metadata": {},
   "outputs": [],
   "source": [
    "population_amounts.item(0)"
   ]
  },
  {
   "cell_type": "markdown",
   "id": "087dd032",
   "metadata": {},
   "source": [
    "El valor de esa expresión es el número 2.557.628.654 (alrededor de 2.500 millones), porque eso es lo primero en la matriz `cantidades_población`.\n",
    "\n",
    "Observe que escribimos `.item(0)`, no `.item(1)`, para obtener el primer elemento. Esta es una convención extraña en informática. **0 se llama *índice* del primer elemento.** Es el número de elementos que aparecen *antes* de ese elemento. Entonces 3 es el índice del cuarto elemento.\n",
    "\n",
    "Aquí hay algunos ejemplos más. En los ejemplos, hemos dado nombres a las cosas que obtenemos de `población_cantidades`. Lea y ejecute cada celda."
   ]
  },
  {
   "cell_type": "code",
   "execution_count": null,
   "id": "3747f9bd",
   "metadata": {},
   "outputs": [],
   "source": [
    "# El decimotercer elemento de la matriz es la población.\n",
    "# en 1962 (que es 1950 + 12).\n",
    "población_1962 = cantidades_población.item(12)\n",
    "población_1962"
   ]
  },
  {
   "cell_type": "code",
   "execution_count": null,
   "id": "940f5bbe",
   "metadata": {},
   "outputs": [],
   "source": [
    "# El elemento 66 es la población en 2015.\n",
    "población_2015 = cantidades_población.item(65)\n",
    "población_2015"
   ]
  },
  {
   "cell_type": "code",
   "execution_count": null,
   "id": "22de96b5",
   "metadata": {
    "tags": [
     "raises-exception"
    ]
   },
   "outputs": [],
   "source": [
    "# La matriz tiene sólo 66 elementos, por lo que esto no funciona.\n",
    "# (No hay ningún elemento con otros 66 elementos antes).\n",
    "población_2016 = cantidades_población.item(66)\n",
    "población_2016"
   ]
  },
  {
   "cell_type": "markdown",
   "id": "197fb16a",
   "metadata": {},
   "source": [
    "Dado que `make_array` devuelve una matriz, podemos llamar a `.item(3)` en su salida para obtener su cuarto elemento, tal como \"encadenamos\" llamadas al método `replace` anteriormente."
   ]
  },
  {
   "cell_type": "code",
   "execution_count": null,
   "id": "4e496f27",
   "metadata": {},
   "outputs": [],
   "source": [
    "make_array(-1, -3, 4, -2).item(3)"
   ]
  },
  {
   "cell_type": "markdown",
   "id": "e6d5ff57",
   "metadata": {},
   "source": [
    "**Pregunta 2.2.1.** Establezca \"población_1973\" como la población mundial en 1973, obteniendo el elemento apropiado de \"cantidades_población\" usando \"item\"."
   ]
  },
  {
   "cell_type": "code",
   "execution_count": null,
   "id": "521871e7",
   "metadata": {
    "deletable": false,
    "tags": []
   },
   "outputs": [],
   "source": [
    "población_1973 = ...\n",
    "población_1973"
   ]
  },
  {
   "cell_type": "code",
   "execution_count": null,
   "id": "ca1c61da",
   "metadata": {
    "deletable": false,
    "editable": false
   },
   "outputs": [],
   "source": [
    "grader.check(\"q221\")"
   ]
  },
  {
   "cell_type": "markdown",
   "id": "ccf0dc6d",
   "metadata": {},
   "source": [
    "## 2.3. Hacer algo con cada elemento de una matriz\n",
    "Las matrices son principalmente útiles para realizar la misma operación muchas veces, por lo que no tenemos que usar `.item` y trabajar con elementos individuales con frecuencia.\n",
    "\n",
    "### Redondeo\n",
    "Aquí hay una pregunta simple que podríamos hacer sobre la población mundial:\n",
    "\n",
    "> ¿Qué tamaño tenía la población cada año, redondeado al millón más cercano?\n",
    "\n",
    "El redondeo se utiliza a menudo con números grandes cuando no necesitamos tanta precisión en nuestros números. Un ejemplo de esto es cuando presentamos datos en tablas y visualizaciones.\n",
    "\n",
    "Podríamos intentar responder nuestra pregunta usando la función `round` que está integrada en Python y el método `item` que acabas de ver.\n",
    "\n",
    "**Nota:** la función `redondear` toma dos argumentos: el número que se va a redondear y el número de decimales a los que se va a redondear. El segundo argumento se puede considerar como cuántos pasos hacia la derecha o hacia la izquierda se mueve desde el punto decimal. Los números negativos nos dicen que nos muevamos hacia la izquierda y los números positivos nos dicen que nos muevamos hacia la derecha. Entonces, si tenemos \"redondear (1234.5, -2)\", significa que debemos movernos dos lugares hacia la izquierda y luego convertir todos los números a la derecha de este lugar en ceros. Esto generaría el número 1200.0. Por otro lado, si tenemos \"redondear (6.789, 1)\", debemos movernos un lugar a la derecha y luego convertir todos los números a la derecha de este lugar en ceros. Esto generaría el número 6,8."
   ]
  },
  {
   "cell_type": "code",
   "execution_count": null,
   "id": "d37fc41b",
   "metadata": {
    "scrolled": true
   },
   "outputs": [],
   "source": [
    "population_1950_magnitude = round(population_amounts.item(0), -6)\n",
    "population_1951_magnitude = round(population_amounts.item(1), -6)\n",
    "population_1952_magnitude = round(population_amounts.item(2), -6)\n",
    "population_1953_magnitude = round(population_amounts.item(3), -6)"
   ]
  },
  {
   "cell_type": "markdown",
   "id": "c4f8474e",
   "metadata": {},
   "source": [
    "Pero esto es tedioso y realmente no aprovecha el hecho de que estamos usando una computadora.\n",
    "\n",
    "En cambio, NumPy proporciona su propia versión de \"redondo\" que redondea cada elemento de una matriz. Toma dos argumentos: una única matriz de números y el número de decimales a redondear. Devuelve una matriz de la misma longitud, donde el primer elemento del resultado es el primer elemento del argumento redondeado, y así sucesivamente.\n",
    "\n",
    "**Pregunta 2.3.1.** Utilice `np.round` para calcular la población mundial de cada año, redondeada al millón más cercano (6 ceros). Asigne al resultado (una matriz de 66 números) el nombre \"población_redondeada\". Tu código debe ser muy corto."
   ]
  },
  {
   "cell_type": "code",
   "execution_count": null,
   "id": "9a48b608",
   "metadata": {
    "deletable": false,
    "tags": []
   },
   "outputs": [],
   "source": [
    "población_redondeada = ...\n",
    "población_redondeada"
   ]
  },
  {
   "cell_type": "code",
   "execution_count": null,
   "id": "0694e2fa",
   "metadata": {
    "deletable": false,
    "editable": false
   },
   "outputs": [],
   "source": [
    "grader.check(\"q231\")"
   ]
  },
  {
   "cell_type": "markdown",
   "id": "c7eb239c",
   "metadata": {},
   "source": [
    "Lo que acabas de hacer se llama aplicación **elemental** de `np.round`, ya que `np.round` opera por separado en cada elemento de la matriz al que se llama. Aquí hay una imagen de lo que está pasando:"
   ]
  },
  {
   "cell_type": "markdown",
   "id": "0d821374",
   "metadata": {},
   "source": [
    "<img src=\"array_round.jpg\">\n",
    "\n",
    "The textbook's [section](https://www.inferentialthinking.com/chapters/05/1/Arrays)  on arrays has a useful list of NumPy functions that are designed to work elementwise, like `np.round`."
   ]
  },
  {
   "cell_type": "markdown",
   "id": "9da5f8f4",
   "metadata": {},
   "source": [
    "### Aritmética\n",
    "La aritmética también funciona por elementos en matrices, lo que significa que si realiza una operación aritmética (como resta, división, etc.) en una matriz, Python realizará la operación en cada elemento de la matriz individualmente y devolverá una matriz con todos los resultados. Por ejemplo, puedes dividir todas las cifras de población por mil millones para obtener cifras en miles de millones:"
   ]
  },
  {
   "cell_type": "code",
   "execution_count": null,
   "id": "f4adfd4c",
   "metadata": {},
   "outputs": [],
   "source": [
    "población_en_billones = cantidades_población / 1000000000\n",
    "población_en_millones"
   ]
  },
  {
   "cell_type": "markdown",
   "id": "d734d4c5",
   "metadata": {},
   "source": [
    "Puedes hacer lo mismo con la suma, resta, multiplicación y exponenciación (`**`)."
   ]
  },
  {
   "cell_type": "markdown",
   "id": "7a018792",
   "metadata": {
    "deletable": false
   },
   "source": [
    "## 3. Creando tablas\n",
    "\n",
    "Una matriz es útil para describir un único atributo de cada elemento de una colección. Por ejemplo, digamos que nuestra colección son todos los estados de EE. UU. Entonces una matriz podría describir la superficie terrestre de cada estado.\n",
    "\n",
    "Las tablas amplían esta idea al contener múltiples columnas almacenadas y representadas como matrices, cada una de las cuales describe un atributo diferente para cada elemento de una colección. De esta manera, las tablas nos permiten no sólo almacenar datos sobre muchas entidades sino también contener varios tipos de datos sobre cada entidad.\n",
    "\n",
    "Por ejemplo, en la celda siguiente tenemos dos matrices. El primero, \"cantidades_población\", se definió anteriormente en la sección 2.2 y contiene la población mundial de cada año (estimada por la Oficina del Censo de EE. UU.). La segunda matriz, \"años\", contiene los años mismos. Estos elementos están en orden, por lo que el año y la población mundial de ese año tienen el mismo índice en sus matrices correspondientes."
   ]
  },
  {
   "cell_type": "code",
   "execution_count": null,
   "id": "a31f969f",
   "metadata": {
    "deletable": false,
    "scrolled": true
   },
   "outputs": [],
   "source": [
    "# Simplemente ejecuta esta celda\n",
    "\n",
    "años = np.arange(1950, 2015+1)\n",
    "print(\"Columna de población:\", cantidades_población)\n",
    "print(\"Columna de años:\", años)"
   ]
  },
  {
   "cell_type": "markdown",
   "id": "c566d1a0",
   "metadata": {
    "deletable": false
   },
   "source": [
    "Supongamos que queremos responder a esta pregunta:\n",
    "\n",
    "> ¿En qué año la población mundial superó los 6 mil millones?\n",
    "\n",
    "Técnicamente, podrías responder a esta pregunta simplemente mirando las matrices, pero es un poco complicado, ya que tendrías que contar la posición donde la población cruzó por primera vez los 6 mil millones y luego encontrar el elemento correspondiente en la matriz de años. En casos como estos, podría ser más fácil colocar los datos en una *`Tabla`*, un tipo de conjunto de datos bidimensional.\n",
    "\n",
    "La siguiente expresión:\n",
    "\n",
    "- crea una tabla vacía usando la expresión `Table()`,\n",
    "- agrega dos columnas llamando a `with_columns` con cuatro argumentos (correspondientes al nombre de la columna, los valores de esa columna, el nombre de la segunda columna y los valores de esa columna),\n",
    "- asigna el resultado al nombre `población`, y finalmente\n",
    "- evalúa la \"población\" para que podamos ver la tabla.\n",
    "\n",
    "Las cadenas `\"Año\"` y `\"Población\"` son etiquetas de columnas que hemos elegido. Los nombres `población_cantidades` y `años` se asignaron arriba a dos matrices de la **misma longitud**. La función `with_columns` (puede encontrar la documentación [aquí](http://data8.org/fa21/python-reference.html)) acepta cadenas alternas (para representar etiquetas de columnas) y matrices (que representan los datos en esas columnas). Las cadenas y matrices están separadas por comas."
   ]
  },
  {
   "cell_type": "code",
   "execution_count": null,
   "id": "b2366869",
   "metadata": {
    "deletable": false
   },
   "outputs": [],
   "source": [
    "población = Tabla().with_columns(\n",
    "     \"Población\", cantidades_población,\n",
    "     \"Año\", años\n",
    ")\n",
    "población"
   ]
  },
  {
   "cell_type": "markdown",
   "id": "c2bde1fe",
   "metadata": {
    "deletable": false
   },
   "source": [
    "¡Ahora los datos se combinan en una sola tabla! Es mucho más fácil analizar estos datos. Si necesita saber cuál era la población en 1959, por ejemplo, podrá saberlo con un solo vistazo."
   ]
  },
  {
   "cell_type": "markdown",
   "id": "953ada90",
   "metadata": {},
   "source": [
    "**Pregunta 3.1.** En la celda siguiente, hemos creado 2 matrices. Siguiendo los pasos anteriores, asigne `top_10_movies` a una tabla que tenga dos columnas llamadas \"Nombre\" y \"Clasificación\", que contienen `top_10_movie_names` y `top_10_movie_ratings` respectivamente.\n"
   ]
  },
  {
   "cell_type": "code",
   "execution_count": null,
   "id": "47611e36",
   "metadata": {
    "deletable": false,
    "tags": []
   },
   "outputs": [],
   "source": [
    "top_10_movie_names = make_array(\n",
    "        'The Shawshank Redemption (1994)',\n",
    "        'The Godfather (1972)',\n",
    "        'The Godfather: Part II (1974)',\n",
    "        'Pulp Fiction (1994)',\n",
    "        \"Schindler's List (1993)\",\n",
    "        'The Lord of the Rings: The Return of the King (2003)',\n",
    "        '12 Angry Men (1957)',\n",
    "        'The Dark Knight (2008)',\n",
    "        'Il buono, il brutto, il cattivo (1966)',\n",
    "        'The Lord of the Rings: The Fellowship of the Ring (2001)')\n",
    "top_10_movie_ratings = make_array(9.2, 9.2, 9., 8.9, 8.9, 8.9, 8.9, 8.9, 8.9, 8.8)\n",
    "\n",
    "top_10_movies = ...\n",
    "\n",
    "# We've put this next line here \n",
    "# so your table will get printed out \n",
    "# when you run this cell.\n",
    "top_10_movies"
   ]
  },
  {
   "cell_type": "code",
   "execution_count": null,
   "id": "8f882984",
   "metadata": {
    "deletable": false,
    "editable": false
   },
   "outputs": [],
   "source": [
    "grader.check(\"q31\")"
   ]
  },
  {
   "cell_type": "markdown",
   "id": "33da5fbc",
   "metadata": {},
   "source": [
    "#### Cargando una tabla desde un archivo\n",
    "\n",
    "En la mayoría de los casos, no nos tomaremos la molestia de escribir todos los datos manualmente. En lugar de ello, los cargamos desde una fuente externa, como un archivo de datos. Existen muchos formatos para archivos de datos, pero CSV (\"valores separados por comas\") es el más común.\n",
    "\n",
    "`Table.read_table(...)` toma un argumento (una ruta a un archivo de datos en formato **cadena**) y devuelve una tabla.\n",
    "\n",
    "**Pregunta 3.2.** `imdb.csv` contiene una tabla de información sobre las 250 películas mejor calificadas en IMDb. Cárguelo como una tabla llamada `imdb`.\n",
    "\n",
    "(¡Quizás recuerde haber trabajado con esta tabla en el Laboratorio 2!)"
   ]
  },
  {
   "cell_type": "code",
   "execution_count": null,
   "id": "c4610f54",
   "metadata": {
    "deletable": false,
    "tags": []
   },
   "outputs": [],
   "source": [
    "imdb = ...\n",
    "imdb"
   ]
  },
  {
   "cell_type": "code",
   "execution_count": null,
   "id": "a367c277",
   "metadata": {
    "deletable": false,
    "editable": false
   },
   "outputs": [],
   "source": [
    "grader.check(\"q32\")"
   ]
  },
  {
   "cell_type": "markdown",
   "id": "4957fb5d",
   "metadata": {},
   "source": [
    "¿De dónde vino \"imdb.csv\"? Eche un vistazo a [la carpeta de este laboratorio](./). Debería ver un archivo llamado `imdb.csv`.\n",
    "\n",
    "Abra el archivo `imdb.csv` en esa carpeta y observe el formato. ¿Que notaste? La terminación del nombre de archivo `.csv` dice que este archivo está en el [formato CSV (valores separados por comas)] (http://edoceo.com/utilitas/csv-file-format)."
   ]
  },
  {
   "cell_type": "markdown",
   "id": "0b01d811",
   "metadata": {},
   "source": [
    "## 4. ¡Más operaciones en la mesa!\n",
    "\n",
    "Ahora que ha trabajado con matrices, agreguemos algunos métodos más a la lista de operaciones de tablas que vio en la Práctica 2.\n",
    "\n",
    "### `columna`\n",
    "\n",
    "`columna` toma el nombre de la columna de una tabla (en formato de cadena) como argumento y devuelve los valores de esa columna como una **matriz**."
   ]
  },
  {
   "cell_type": "code",
   "execution_count": null,
   "id": "99750054",
   "metadata": {
    "scrolled": true
   },
   "outputs": [],
   "source": [
    "# Returns an array of movie names\n",
    "top_10_movies.column('Name')"
   ]
  },
  {
   "cell_type": "markdown",
   "id": "db4cd0e5",
   "metadata": {},
   "source": [
    "### `take`\n",
    "El método de tabla `take` toma como argumento una matriz de números. Cada número debe ser el índice de una fila de la tabla. Devuelve una **nueva tabla** con solo esas filas.\n",
    "\n",
    "Por lo general, querrás usar `take` junto con `np.arange` para tomar las primeras filas de una tabla."
   ]
  },
  {
   "cell_type": "code",
   "execution_count": null,
   "id": "43cf7973",
   "metadata": {
    "scrolled": true
   },
   "outputs": [],
   "source": [
    "# Toma las primeras 5 películas de top_10_movies\n",
    "top_10_movies.take(np.arange(0, 5, 1))"
   ]
  },
  {
   "cell_type": "markdown",
   "id": "509e9ebb",
   "metadata": {},
   "source": [
    "Las siguientes tres preguntas le brindarán práctica para combinar las operaciones que aprendió en esta práctica de laboratorio y la anterior para responder preguntas sobre las tablas \"población\" e \"imdb\". Primero, consulte la tabla de \"población\" de la sección 2."
   ]
  },
  {
   "cell_type": "code",
   "execution_count": null,
   "id": "c5f4a1e4",
   "metadata": {},
   "outputs": [],
   "source": [
    "# Ejecute esta celda para mostrar la tabla de población.\n",
    "población"
   ]
  },
  {
   "cell_type": "markdown",
   "id": "157f27b2",
   "metadata": {},
   "source": [
    "**Pregunta 4.1.** Consulte la tabla de \"población\" de la sección 2 de esta práctica de laboratorio. Calcule el año en que la población mundial superó por primera vez los 6 mil millones. Asigne el año a `year_population_crossed_6_billion`.\n",
    "\n",
    "_Sugerencia:_ ¿Cómo podemos filtrar la tabla solo para filas con valores de población superiores a 6 mil millones? ¿Cómo podemos encontrar el primer año de esta tabla filtrada?"
   ]
  },
  {
   "cell_type": "code",
   "execution_count": null,
   "id": "19ed09dc",
   "metadata": {
    "deletable": false,
    "tags": []
   },
   "outputs": [],
   "source": [
    "year_population_crossed_6_billion = ...\n",
    "year_population_crossed_6_billion"
   ]
  },
  {
   "cell_type": "code",
   "execution_count": null,
   "id": "4048a40d",
   "metadata": {
    "deletable": false,
    "editable": false
   },
   "outputs": [],
   "source": [
    "grader.check(\"q41\")"
   ]
  },
  {
   "cell_type": "markdown",
   "id": "8068181c",
   "metadata": {},
   "source": [
    "**Pregunta 4.2.** Encuentre la calificación promedio de las películas estrenadas antes del año 2000 y la calificación promedio de las películas estrenadas en el año 2000 o después de las películas en `imdb`.\n",
    "\n",
    "*Pista*: Piensa en los pasos que debes seguir (tomar el promedio, encontrar las calificaciones, buscar películas estrenadas en los siglos XX y XXI) e intenta ponerlas en un orden que tenga sentido."
   ]
  },
  {
   "cell_type": "code",
   "execution_count": null,
   "id": "0cb36323",
   "metadata": {
    "deletable": false,
    "tags": []
   },
   "outputs": [],
   "source": [
    "antes_2000 = ...\n",
    "después_o_en_2000 = ...\n",
    "antes_2000_avg = ...\n",
    "after_or_in_2000_avg = ...\n",
    "print(\"Calificación promedio antes de 2000:\", antes_2000_avg)\n",
    "print(\"Calificación promedio después o en 2000:\", despues_or_in_2000_avg)"
   ]
  },
  {
   "cell_type": "code",
   "execution_count": null,
   "id": "f455bc87",
   "metadata": {
    "deletable": false,
    "editable": false
   },
   "outputs": [],
   "source": [
    "grader.check(\"q42\")"
   ]
  },
  {
   "cell_type": "markdown",
   "id": "0b4fad7f",
   "metadata": {},
   "source": [
    "**Pregunta 4.3.** Aquí tienes un desafío: encuentra la cantidad de películas que se estrenaron en años *pares*.\n",
    "\n",
    "*Pista:* El operador `%` calcula el resto al dividir por un número. Entonces \"5% 2\" es 1 y \"6% 2\" es 0. Un número es par si el resto es 0 cuando se divide por 2.\n",
    "\n",
    "*Pista 2:* `%` se puede usar en matrices, operando por elementos como `+` o `*`. Entonces `make_array(5, 6, 7) % 2` es `array([1, 0, 1])`.\n",
    "\n",
    "*Pista 3:* Agregue una nueva columna llamada \"Año restante\" que es el resto cuando el año de estreno de cada película se divide por 2. Para hacer esto, puede usar `tbl.with_column(col_name, col_values)`: un método de tabla que toma en el nombre de la nueva columna y una matriz de valores y devuelve una copia del `tbl` original con la nueva columna. Luego, use `where` para encontrar filas donde esa nueva columna sea igual a 0. Finalmente, use `num_rows` para contar el número de dichas filas.\n",
    "\n",
    "*Nota:* Estos pasos pueden encadenarse en una sola declaración o dividirse en varias líneas con nombres intermedios asignados. ¡Siempre puedes resolver los problemas como quieras!"
   ]
  },
  {
   "cell_type": "code",
   "execution_count": null,
   "id": "d5b38c1c",
   "metadata": {
    "deletable": false,
    "tags": []
   },
   "outputs": [],
   "source": [
    "núm_películas_año_pares=...\n",
    "núm_películas_año_pares"
   ]
  },
  {
   "cell_type": "code",
   "execution_count": null,
   "id": "e671f1e6",
   "metadata": {
    "deletable": false,
    "editable": false
   },
   "outputs": [],
   "source": [
    "grader.check(\"q43\")"
   ]
  },
  {
   "cell_type": "markdown",
   "id": "6902cf86",
   "metadata": {},
   "source": [
    "## 5. Más práctica de matrices\n",
    "\n",
    "¡Las siguientes preguntas serán una excelente práctica para aprender a generar matrices de diferentes maneras, así como para ejecutar diferentes métodos de aritmética de matrices!"
   ]
  },
  {
   "cell_type": "markdown",
   "id": "659f6786",
   "metadata": {},
   "source": [
    "###  5.1 `np.arange` (cont.)"
   ]
  },
  {
   "cell_type": "markdown",
   "id": "02934e39",
   "metadata": {},
   "source": [
    "##### Lecturas de temperatura\n",
    "La NOAA (la Administración Nacional Oceánica y Atmosférica de EE. UU.) opera estaciones meteorológicas que miden las temperaturas de la superficie en diferentes sitios de los Estados Unidos. Las lecturas horarias están [disponibles públicamente] (http://www.ncdc.noaa.gov/qclcd/QCLCD?prior=N).\n",
    "\n",
    "Supongamos que descargamos todos los datos horarios del sitio de Oakland, California, para el mes de diciembre de 2015. Para analizar los datos, queremos saber cuándo se tomó cada lectura, pero encontramos que los datos no incluyen las marcas de tiempo de las lecturas. (la hora a la que se tomó cada uno).\n",
    "\n",
    "Sin embargo, sabemos que la primera lectura se tomó en el primer instante de diciembre de 2015 (medianoche del 1 de diciembre) y cada lectura posterior se tomó exactamente 1 hora después de la última.\n",
    "\n",
    "**Pregunta 5.1.1.** Cree una matriz del *tiempo, en segundos, desde el inicio del mes* en el que se tomó **cada lectura horaria**. Nómbralo `collection_times`.\n",
    "\n",
    "*Pista 1:* Hubo 31 días en diciembre, lo que equivale a ($31 \\times 24$) horas o ($31 \\times 24 \\times 60 \\times 60$) segundos. Entonces su matriz debe tener $31 \\times 24$ elementos.\n",
    "\n",
    "*Pista 2:* ¡La función `len` también funciona en matrices! Si su `collection_times` no pasa las pruebas, verifique su longitud y asegúrese de que tenga $31 \\times 24$ elementos."
   ]
  },
  {
   "cell_type": "code",
   "execution_count": null,
   "id": "3bd772b6",
   "metadata": {
    "tags": []
   },
   "outputs": [],
   "source": [
    "tiempos_colección = ...\n",
    "tiempos_de_colección"
   ]
  },
  {
   "cell_type": "code",
   "execution_count": null,
   "id": "66ac305e",
   "metadata": {
    "deletable": false,
    "editable": false
   },
   "outputs": [],
   "source": [
    "grader.check(\"q511\")"
   ]
  },
  {
   "cell_type": "markdown",
   "id": "ec71d6f0",
   "metadata": {},
   "source": [
    "### 5.2 Hacer algo con cada elemento de una matriz (cont.)\n",
    "\n",
    "Calcular una propina en varias cuentas de restaurante a la vez (en este caso solo 3):"
   ]
  },
  {
   "cell_type": "code",
   "execution_count": null,
   "id": "5d6b33a5",
   "metadata": {},
   "outputs": [],
   "source": [
    "facturas_restaurante = make_array(20.12, 39.90, 31.01)\n",
    "print(\"Facturas del restaurante:\\t\", facturas_restaurante)\n",
    "\n",
    "# Multiplicación de matrices\n",
    "propinas = .2 * facturas_restaurante\n",
    "print(\"Consejos:\\t\\t\\t\", consejos)"
   ]
  },
  {
   "cell_type": "markdown",
   "id": "94874c62",
   "metadata": {},
   "source": [
    "<img src=\"array_multiplication.jpg\">\n",
    "\n",
    "**Pregunta 5.2.1** Supongamos que el cargo total en un restaurante es la factura original más la propina. Si la propina es del 20%, eso significa que podemos multiplicar la factura original por 1,2 para obtener el cargo total. Calcule el cargo total por cada factura en \"facturas_restaurante\" y asigne la matriz resultante a \"cargos_totales\"."
   ]
  },
  {
   "cell_type": "code",
   "execution_count": null,
   "id": "8fc8d518",
   "metadata": {
    "tags": []
   },
   "outputs": [],
   "source": [
    "cargos_totales = ...\n",
    "cargos_totales"
   ]
  },
  {
   "cell_type": "code",
   "execution_count": null,
   "id": "863904c6",
   "metadata": {
    "deletable": false,
    "editable": false
   },
   "outputs": [],
   "source": [
    "grader.check(\"q521\")"
   ]
  },
  {
   "cell_type": "markdown",
   "id": "1d709a9e",
   "metadata": {},
   "source": [
    "**Pregunta 5.2.2.** ¡La matriz `more_restaurant_bills` contiene 100.000 billetes! Calcule el cargo total por cada uno en `more_restaurant_bills`. ¿En qué se diferencia tu código?"
   ]
  },
  {
   "cell_type": "code",
   "execution_count": null,
   "id": "ad826f3e",
   "metadata": {
    "tags": []
   },
   "outputs": [],
   "source": [
    "more_restaurant_bills = Table.read_table(\"more_restaurant_bills.csv\").column(\"Bill\")\n",
    "more_total_charges = ...\n",
    "more_total_charges"
   ]
  },
  {
   "cell_type": "code",
   "execution_count": null,
   "id": "ef8d0c74",
   "metadata": {
    "deletable": false,
    "editable": false
   },
   "outputs": [],
   "source": [
    "grader.check(\"q522\")"
   ]
  },
  {
   "cell_type": "markdown",
   "id": "ba38f6cc",
   "metadata": {},
   "source": [
    "La función `sum` toma una única matriz de números como argumento. Devuelve la suma de todos los números de esa matriz (por lo que devuelve un único número, no una matriz).\n",
    "\n",
    "**Pregunta 5.2.3.** ¿Cuál fue la suma de todas las facturas en `more_restaurant_bills`, *incluidas las propinas*?\n"
   ]
  },
  {
   "cell_type": "code",
   "execution_count": null,
   "id": "cb825aef",
   "metadata": {
    "tags": []
   },
   "outputs": [],
   "source": [
    "sum_of_bills = ...\n",
    "sum_of_bills"
   ]
  },
  {
   "cell_type": "code",
   "execution_count": null,
   "id": "ac6f9ff4",
   "metadata": {
    "deletable": false,
    "editable": false
   },
   "outputs": [],
   "source": [
    "grader.check(\"q523\")"
   ]
  },
  {
   "cell_type": "markdown",
   "id": "ce5b8e7e",
   "metadata": {},
   "source": [
    "**Pregunta 5.2.4.** Las potencias de 2 ($2^0 = 1$, $2^1 = 2$, $2^2 = 4$, etc.) surgen con frecuencia en informática. (Por ejemplo, es posible que hayas notado que el almacenamiento en teléfonos inteligentes o dispositivos USB viene en potencias de 2, como 16 GB, 32 GB o 64 GB). Utilice `np.arange` y el operador de exponenciación `**` para calcular la primera 30 potencias de 2, comenzando desde `2^0`.\n",
    "\n",
    "*Pista 1:* `np.arange(1, 2**30, 1)` crea una matriz con $2^{30}$ elementos y **bloqueará su kernel**.\n",
    "\n",
    "*Pista 2:* Parte de tu solución involucrará `np.arange`, pero tu matriz no debe tener más de 30 elementos.\n"
   ]
  },
  {
   "cell_type": "code",
   "execution_count": null,
   "id": "67944842",
   "metadata": {
    "tags": []
   },
   "outputs": [],
   "source": [
    "potencias_de_2 = ...\n",
    "poderes_de_2"
   ]
  },
  {
   "cell_type": "code",
   "execution_count": null,
   "id": "830e20b1",
   "metadata": {
    "deletable": false,
    "editable": false
   },
   "outputs": [],
   "source": [
    "grader.check(\"q524\")"
   ]
  },
  {
   "cell_type": "markdown",
   "id": "3dd70d8a",
   "metadata": {},
   "source": [
    "---\n",
    "\n",
    "<img src=\"java.png\" alt=\"Picture of two brown cats sitting on a window\" width=\"400\"/>\n",
    "\n",
    "¡¡**Java** y **Juno** están emocionados de que hayas terminado el Laboratorio 3!!\n",
    "\n",
    "Para volver a verificar su trabajo, la celda a continuación volverá a ejecutar todas las pruebas del autocalificador."
   ]
  },
  {
   "cell_type": "markdown",
   "id": "76c2e05e",
   "metadata": {},
   "source": [
    "---\n",
    "\n",
    "¡Terminaste con el laboratorio!\n",
    "\n",
    "**Información importante sobre el envío:**\n",
    "- **Ejecuta todas las pruebas** y verifica que todas pasan\n",
    "- **Guardar** desde el menú **Archivo**\n",
    "- **Ejecute la celda final para generar el archivo zip**\n",
    "- **Haga clic en el enlace para descargar el archivo zip**\n",
    "- Luego, vaya a [Gradescope](https://www.gradescope.com/courses/576157) y envíe el archivo zip a la tarea correspondiente. El nombre de esta tarea es \"Lab XX Autograder\", donde XX es el número de laboratorio: 01, 02, 03, etc.\n",
    "\n",
    "- Si terminas temprano en el laboratorio regular, **pídele a uno de los miembros del personal que te marque**.\n",
    "\n",
    "**Es su responsabilidad asegurarse de que su trabajo esté guardado antes de ejecutar la última celda.**"
   ]
  },
  {
   "cell_type": "markdown",
   "id": "51c9e8ed",
   "metadata": {},
   "source": []
  },
  {
   "cell_type": "markdown",
   "id": "7b701c90",
   "metadata": {},
   "source": [
    "## Envío\n",
    "\n",
    "Asegúrese de haber ejecutado todas las celdas de su cuaderno en orden antes de ejecutar la siguiente celda, para que todas las imágenes/gráficos aparezcan en el resultado. La siguiente celda generará un archivo zip para que lo envíe. **¡Guarde antes de exportar!**"
   ]
  },
  {
   "cell_type": "markdown",
   "id": "6004dd6a",
   "metadata": {
    "deletable": false,
    "editable": false
   },
   "source": [
    "## Submission\n",
    "\n",
    "Make sure you have run all cells in your notebook in order before running the cell below, so that all images/graphs appear in the output. The cell below will generate a zip file for you to submit. **Please save before exporting!**"
   ]
  },
  {
   "cell_type": "code",
   "execution_count": null,
   "id": "4ec39a8e",
   "metadata": {
    "deletable": false,
    "editable": false
   },
   "outputs": [],
   "source": [
    "# Save your notebook first, then run this cell to export your submission.\n",
    "grader.export(pdf=False, run_tests=True)"
   ]
  },
  {
   "cell_type": "markdown",
   "id": "ba6c9db3",
   "metadata": {},
   "source": [
    " "
   ]
  }
 ],
 "metadata": {
  "kernelspec": {
   "display_name": "Python 3 (ipykernel)",
   "language": "python",
   "name": "python3"
  },
  "language_info": {
   "codemirror_mode": {
    "name": "ipython",
    "version": 3
   },
   "file_extension": ".py",
   "mimetype": "text/x-python",
   "name": "python",
   "nbconvert_exporter": "python",
   "pygments_lexer": "ipython3",
   "version": "3.10.12"
  },
  "otter": {
   "OK_FORMAT": true,
   "tests": {
    "q11": {
     "name": "q11",
     "points": null,
     "suites": [
      {
       "cases": [
        {
         "code": ">>> woman_asking\n'The woman asked:'",
         "hidden": false,
         "locked": false
        },
        {
         "code": ">>> gagarin_quote\n'\"As a matter of fact, I have!\"'",
         "hidden": false,
         "locked": false
        }
       ],
       "scored": true,
       "setup": "",
       "teardown": "",
       "type": "doctest"
      }
     ]
    },
    "q111": {
     "name": "q111",
     "points": null,
     "suites": [
      {
       "cases": [
        {
         "code": ">>> new_word\n'matchmaker'",
         "hidden": false,
         "locked": false
        }
       ],
       "scored": true,
       "setup": "",
       "teardown": "",
       "type": "doctest"
      }
     ]
    },
    "q121": {
     "name": "q121",
     "points": null,
     "suites": [
      {
       "cases": [
        {
         "code": ">>> abs(difference) == 30 or abs(difference) == 30.0\nTrue",
         "hidden": false,
         "locked": false
        }
       ],
       "scored": true,
       "setup": "",
       "teardown": "",
       "type": "doctest"
      }
     ]
    },
    "q131": {
     "name": "q131",
     "points": null,
     "suites": [
      {
       "cases": [
        {
         "code": ">>> sentence_length\n896",
         "hidden": false,
         "locked": false
        }
       ],
       "scored": true,
       "setup": "",
       "teardown": "",
       "type": "doctest"
      }
     ]
    },
    "q211": {
     "name": "q211",
     "points": null,
     "suites": [
      {
       "cases": [
        {
         "code": ">>> import numpy as np\n>>> type(interesting_numbers) == np.ndarray\nTrue",
         "hidden": false,
         "locked": false
        },
        {
         "code": ">>> len(interesting_numbers)\n4",
         "hidden": false,
         "locked": false
        },
        {
         "code": ">>> import numpy as np\n>>> all(interesting_numbers == np.array([0, 1, -1, math.pi]))\nTrue",
         "hidden": false,
         "locked": false
        }
       ],
       "scored": true,
       "setup": "",
       "teardown": "",
       "type": "doctest"
      }
     ]
    },
    "q212": {
     "name": "q212",
     "points": null,
     "suites": [
      {
       "cases": [
        {
         "code": ">>> import numpy as np\n>>> type(hello_world_components) == np.ndarray\nTrue",
         "hidden": false,
         "locked": false
        },
        {
         "code": ">>> len(hello_world_components)\n5",
         "hidden": false,
         "locked": false
        },
        {
         "code": ">>> import numpy as np\n>>> all(hello_world_components == np.array([\"Hello\", \",\", \" \", \"world\", \"!\"]))\nTrue",
         "hidden": false,
         "locked": false
        }
       ],
       "scored": true,
       "setup": "",
       "teardown": "",
       "type": "doctest"
      }
     ]
    },
    "q213": {
     "name": "q213",
     "points": null,
     "suites": [
      {
       "cases": [
        {
         "code": ">>> type(multiples_of_99) == np.ndarray\nTrue",
         "hidden": false,
         "locked": false
        },
        {
         "code": ">>> len(multiples_of_99)\n102",
         "hidden": false,
         "locked": false
        },
        {
         "code": ">>> all(multiples_of_99 == np.arange(0, 9999+99, 99))\nTrue",
         "hidden": false,
         "locked": false
        }
       ],
       "scored": true,
       "setup": "",
       "teardown": "",
       "type": "doctest"
      }
     ]
    },
    "q221": {
     "name": "q221",
     "points": null,
     "suites": [
      {
       "cases": [
        {
         "code": ">>> population_1973\n3942096442",
         "hidden": false,
         "locked": false
        }
       ],
       "scored": true,
       "setup": "",
       "teardown": "",
       "type": "doctest"
      }
     ]
    },
    "q231": {
     "name": "q231",
     "points": null,
     "suites": [
      {
       "cases": [
        {
         "code": ">>> # It looks like you're not making an array.  You shouldn't need to\n>>> # use .item anywhere in your solution.\n>>> import numpy as np\n>>> type(population_rounded) == np.ndarray\nTrue",
         "hidden": false,
         "locked": false
        },
        {
         "code": ">>> # You made an array, but it doesn't have the right numbers in it.\n>>> import numpy as np\n>>> sum(population_rounded) == 312868000000\nTrue",
         "hidden": false,
         "locked": false
        }
       ],
       "scored": true,
       "setup": "",
       "teardown": "",
       "type": "doctest"
      }
     ]
    },
    "q31": {
     "name": "q31",
     "points": null,
     "suites": [
      {
       "cases": [
        {
         "code": ">>> type(top_10_movies) == tables.Table\nTrue",
         "hidden": false,
         "locked": false
        },
        {
         "code": ">>> top_10_movies.select('Name', 'Rating')\nName                                                     | Rating\nThe Shawshank Redemption (1994)                          | 9.2\nThe Godfather (1972)                                     | 9.2\nThe Godfather: Part II (1974)                            | 9\nPulp Fiction (1994)                                      | 8.9\nSchindler's List (1993)                                  | 8.9\nThe Lord of the Rings: The Return of the King (2003)     | 8.9\n12 Angry Men (1957)                                      | 8.9\nThe Dark Knight (2008)                                   | 8.9\nIl buono, il brutto, il cattivo (1966)                   | 8.9\nThe Lord of the Rings: The Fellowship of the Ring (2001) | 8.8",
         "hidden": false,
         "locked": false
        }
       ],
       "scored": true,
       "setup": "",
       "teardown": "",
       "type": "doctest"
      }
     ]
    },
    "q32": {
     "name": "q32",
     "points": null,
     "suites": [
      {
       "cases": [
        {
         "code": ">>> type(imdb) == tables.Table\nTrue",
         "hidden": false,
         "locked": false
        },
        {
         "code": ">>> imdb.num_rows == 250\nTrue",
         "hidden": false,
         "locked": false
        },
        {
         "code": ">>> imdb.select('Votes', 'Rating', 'Title', 'Year', 'Decade').sort(0).take(range(2,5))\nVotes | Rating | Title                       | Year | Decade\n31003 | 8.1    | Le salaire de la peur       | 1953 | 1950\n32385 | 8      | La battaglia di Algeri      | 1966 | 1960\n35983 | 8.1    | The Best Years of Our Lives | 1946 | 1940",
         "hidden": false,
         "locked": false
        }
       ],
       "scored": true,
       "setup": "",
       "teardown": "",
       "type": "doctest"
      }
     ]
    },
    "q41": {
     "name": "q41",
     "points": null,
     "suites": [
      {
       "cases": [
        {
         "code": ">>> # Oops, your name is assigned to the wrong data type!\n>>> import numpy as np\n>>> type(year_population_crossed_6_billion) == int or type(year_population_crossed_6_billion) == np.int64\nTrue",
         "hidden": false,
         "locked": false
        },
        {
         "code": ">>> year_population_crossed_6_billion == 1999\nTrue",
         "hidden": false,
         "locked": false
        }
       ],
       "scored": true,
       "setup": "",
       "teardown": "",
       "type": "doctest"
      }
     ]
    },
    "q42": {
     "name": "q42",
     "points": null,
     "suites": [
      {
       "cases": [
        {
         "code": ">>> abs(before_2000_avg - 8.2783625730994146) < 1e-5\nTrue",
         "hidden": false,
         "locked": false
        },
        {
         "code": ">>> abs(after_or_in_2000_avg - 8.2379746835443033) < 1e-5\nTrue",
         "hidden": false,
         "locked": false
        }
       ],
       "scored": true,
       "setup": "",
       "teardown": "",
       "type": "doctest"
      }
     ]
    },
    "q43": {
     "name": "q43",
     "points": null,
     "suites": [
      {
       "cases": [
        {
         "code": ">>> num_even_year_movies == 127\nTrue",
         "hidden": false,
         "locked": false
        }
       ],
       "scored": true,
       "setup": "",
       "teardown": "",
       "type": "doctest"
      }
     ]
    },
    "q511": {
     "name": "q511",
     "points": null,
     "suites": [
      {
       "cases": [
        {
         "code": ">>> type(collection_times) == np.ndarray\nTrue",
         "hidden": false,
         "locked": false
        },
        {
         "code": ">>> len(collection_times)\n744",
         "hidden": false,
         "locked": false
        },
        {
         "code": ">>> collection_times.item(12) == 43200\nTrue",
         "hidden": false,
         "locked": false
        },
        {
         "code": ">>> collection_times.item(37) == 133200\nTrue",
         "hidden": false,
         "locked": false
        }
       ],
       "scored": true,
       "setup": "",
       "teardown": "",
       "type": "doctest"
      }
     ]
    },
    "q521": {
     "name": "q521",
     "points": null,
     "suites": [
      {
       "cases": [
        {
         "code": ">>> # It looks like you're not making an array.  You shouldn't need to\n>>> # use .item anywhere in your solution.\n>>> import numpy as np\n>>> type(total_charges) == np.ndarray\nTrue",
         "hidden": false,
         "locked": false
        },
        {
         "code": ">>> # You made an array, but it doesn't have the right numbers in it.\n>>> import numpy as np\n>>> sum(abs(total_charges - np.array([24.144, 47.88, 37.212]))) < 1e-6\nTrue",
         "hidden": false,
         "locked": false
        }
       ],
       "scored": true,
       "setup": "",
       "teardown": "",
       "type": "doctest"
      }
     ]
    },
    "q522": {
     "name": "q522",
     "points": null,
     "suites": [
      {
       "cases": [
        {
         "code": ">>> # It looks like you're not making an array.  You shouldn't need to\n>>> # use .item anywhere in your solution.\n>>> import numpy as np\n>>> type(more_total_charges) == np.ndarray\nTrue",
         "hidden": false,
         "locked": false
        },
        {
         "code": ">>> # You made an array, but it doesn't have the right numbers in it.\n>>> import numpy as np\n>>> sum(abs(more_total_charges - 1.2 * more_restaurant_bills)) < 1e-6\nTrue",
         "hidden": false,
         "locked": false
        }
       ],
       "scored": true,
       "setup": "",
       "teardown": "",
       "type": "doctest"
      }
     ]
    },
    "q523": {
     "name": "q523",
     "points": null,
     "suites": [
      {
       "cases": [
        {
         "code": ">>> round(sum_of_bills, 2) == 1795730.06\nTrue",
         "hidden": false,
         "locked": false
        }
       ],
       "scored": true,
       "setup": "",
       "teardown": "",
       "type": "doctest"
      }
     ]
    },
    "q524": {
     "name": "q524",
     "points": null,
     "suites": [
      {
       "cases": [
        {
         "code": ">>> all(powers_of_2 == 2 ** np.arange(30))\nTrue",
         "hidden": false,
         "locked": false
        }
       ],
       "scored": true,
       "setup": "",
       "teardown": "",
       "type": "doctest"
      }
     ]
    }
   }
  }
 },
 "nbformat": 4,
 "nbformat_minor": 5
}
