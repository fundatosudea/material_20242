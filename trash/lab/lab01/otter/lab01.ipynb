{
 "cells": [
  {
   "cell_type": "raw",
   "id": "01ba756c",
   "metadata": {},
   "source": [
    "# ASSIGNMENT CONFIG\n",
    "\n",
    "solutions_pdf: False\n",
    "export_cell:\n",
    "    instructions: \"These are some submission instructions.\"\n",
    "generate: \n",
    "    pdf: False\n",
    "    filtering: true\n",
    "    pagebreaks: true\n",
    "    zips: false"
   ]
  },
  {
   "cell_type": "code",
   "execution_count": 1,
   "id": "54e59a67",
   "metadata": {},
   "outputs": [],
   "source": [
    "import otter\n",
    "import pandas as pd\n",
    "import numpy as np\n",
    "%matplotlib inline\n",
    "import otter\n",
    "import matplotlib.pylab as plt\n",
    "grader = otter.Notebook()\n"
   ]
  },
  {
   "cell_type": "raw",
   "id": "19a642ad",
   "metadata": {},
   "source": [
    "# BEGIN QUESTION\n",
    "name: q0"
   ]
  },
  {
   "cell_type": "markdown",
   "id": "4b277244",
   "metadata": {},
   "source": [
    "\n",
    "**Pregunta  1:** Ingrese la palabra secreta"
   ]
  },
  {
   "cell_type": "raw",
   "id": "bf6cbb5a",
   "metadata": {},
   "source": [
    "# BEGIN SOLUTION"
   ]
  },
  {
   "cell_type": "code",
   "execution_count": 2,
   "id": "e3ff2c09",
   "metadata": {},
   "outputs": [
    {
     "data": {
      "text/plain": [
       "' # BEGIN PROMPT\\nsecret_word=...\\n'"
      ]
     },
     "execution_count": 2,
     "metadata": {},
     "output_type": "execute_result"
    }
   ],
   "source": [
    "# BEGIN SOLUTION NO PROMPT\n",
    "word=[]\n",
    "secret_word in word \n",
    "# END SOLUTION\n",
    "\n",
    "\"\"\" # BEGIN PROMPT\n",
    "secret_word=...\n",
    "\"\"\" # END PROMPT\n"
   ]
  },
  {
   "cell_type": "raw",
   "id": "d9db0fe0",
   "metadata": {},
   "source": [
    "# END SOLUTION"
   ]
  },
  {
   "cell_type": "raw",
   "id": "e3b0f678",
   "metadata": {},
   "source": [
    "# BEGIN TESTS"
   ]
  },
  {
   "cell_type": "code",
   "execution_count": 3,
   "id": "14afe3ce",
   "metadata": {},
   "outputs": [
    {
     "data": {
      "text/plain": [
       "False"
      ]
     },
     "execution_count": 3,
     "metadata": {},
     "output_type": "execute_result"
    }
   ],
   "source": [
    "(secret_word in secret_word_List)==True\n"
   ]
  },
  {
   "cell_type": "raw",
   "id": "28d37657",
   "metadata": {},
   "source": [
    "# END TESTS"
   ]
  },
  {
   "cell_type": "raw",
   "id": "7f0f4eb8",
   "metadata": {},
   "source": [
    "# END QUESTION"
   ]
  },
  {
   "cell_type": "raw",
   "id": "d86e6b30",
   "metadata": {},
   "source": [
    "# BEGIN QUESTION\n",
    "name: q3_1_2"
   ]
  },
  {
   "cell_type": "markdown",
   "id": "8c071261",
   "metadata": {},
   "source": [
    "**Pregunta 3.1.2.** Asigne el nombre `segundos_en_una_década` al número de segundos entre la medianoche del 1 de enero de 2010 y la medianoche del 1 de enero de 2020. Tenga en cuenta que hay dos años bisiestos en este lapso de una década. Un año no bisiesto tiene 365 días y un año bisiesto tiene 366 días.\n",
    "\n",
    "*Pista:* Si estás atascado, la siguiente sección te muestra cómo obtener pistas."
   ]
  },
  {
   "cell_type": "raw",
   "id": "4a6accb5",
   "metadata": {},
   "source": [
    "# BEGIN SOLUTION"
   ]
  },
  {
   "cell_type": "code",
   "execution_count": 25,
   "id": "b6725f70",
   "metadata": {},
   "outputs": [
    {
     "data": {
      "text/plain": [
       "315360002"
      ]
     },
     "execution_count": 25,
     "metadata": {},
     "output_type": "execute_result"
    }
   ],
   "source": [
    "# Cambiar la siguiente línea\n",
    "# para que calcule el número de segundos en una década\n",
    "# y asigna a ese número el nombre, segundos_en_una_década.\n",
    "# BEGIN SOLUTION NO PROMPT\n",
    "segundos_en_una_década = 60*60*24*365*10+2\n",
    "# END SOLUTION\n",
    "\n",
    "\"\"\" # BEGIN PROMPT\n",
    "segundos_en_una_década=...\n",
    "\"\"\" # END PROMPT\n",
    "\n",
    "# Hemos puesto esta línea en esta celda.\n",
    "# para que imprima el valor que le has dado a segundos_en_una_década cuando lo ejecutas.\n",
    "# No es necesario cambiar esto.\n",
    "segundos_en_una_década"
   ]
  },
  {
   "cell_type": "raw",
   "id": "17a3c3bc",
   "metadata": {},
   "source": [
    "# END SOLUTION"
   ]
  },
  {
   "cell_type": "raw",
   "id": "658605ef",
   "metadata": {},
   "source": [
    "# BEGIN TESTS"
   ]
  },
  {
   "cell_type": "code",
   "execution_count": 5,
   "id": "ddc9695f",
   "metadata": {},
   "outputs": [
    {
     "data": {
      "text/plain": [
       "True"
      ]
     },
     "execution_count": 5,
     "metadata": {},
     "output_type": "execute_result"
    }
   ],
   "source": [
    "isinstance(segundos_en_una_década, int)==True"
   ]
  },
  {
   "cell_type": "code",
   "execution_count": 6,
   "id": "f68c8fe9",
   "metadata": {},
   "outputs": [
    {
     "data": {
      "text/plain": [
       "True"
      ]
     },
     "execution_count": 6,
     "metadata": {},
     "output_type": "execute_result"
    }
   ],
   "source": [
    "import numpy as np\n",
    "np.isclose(segundos_en_una_década,315360000, rtol=1E-8)==True"
   ]
  },
  {
   "cell_type": "raw",
   "id": "f68215c6",
   "metadata": {},
   "source": [
    "# END TESTS"
   ]
  },
  {
   "cell_type": "raw",
   "id": "67c1f8d0",
   "metadata": {},
   "source": [
    "# END QUESTION"
   ]
  },
  {
   "cell_type": "raw",
   "id": "5a129981",
   "metadata": {},
   "source": [
    "# BEGIN QUESTION\n",
    "name: q3_3_1"
   ]
  },
  {
   "cell_type": "markdown",
   "id": "de26d76c",
   "metadata": {},
   "source": [
    "**Pregunta 3.3.1.** Complete el código en la siguiente celda para completar los datos del experimento.\n",
    "\n",
    "*Pista:* No se requiere ningún cálculo; simplemente complete los datos del párrafo anterior."
   ]
  },
  {
   "cell_type": "raw",
   "id": "9a72d372",
   "metadata": {},
   "source": [
    "# BEGIN SOLUTION"
   ]
  },
  {
   "cell_type": "code",
   "execution_count": 26,
   "id": "25f0000c",
   "metadata": {},
   "outputs": [
    {
     "data": {
      "text/plain": [
       "1.152"
      ]
     },
     "execution_count": 26,
     "metadata": {},
     "output_type": "execute_result"
    }
   ],
   "source": [
    "# t, la duración de la caída en el experimento, en segundos.\n",
    "# Complete esto.\n",
    "# BEGIN SOLUTION NO PROMPT\n",
    "time = 1.2\n",
    "estimated_distance_m = 1.6*time**2/2\n",
    "# END SOLUTION\n",
    "\n",
    "\"\"\" # BEGIN PROMPT\n",
    "time = ...\n",
    "estimated_distance_m=...\n",
    "\"\"\" # END PROMPT\n",
    "# La distancia estimada que realmente cayó el martillo, en metros.\n",
    "# Complete esto.\n",
    "estimated_distance_m"
   ]
  },
  {
   "cell_type": "raw",
   "id": "35950ffb",
   "metadata": {},
   "source": [
    "# END SOLUTION"
   ]
  },
  {
   "cell_type": "raw",
   "id": "40173812",
   "metadata": {},
   "source": [
    "# BEGIN TESTS"
   ]
  },
  {
   "cell_type": "code",
   "execution_count": 8,
   "id": "392c8223",
   "metadata": {},
   "outputs": [
    {
     "data": {
      "text/plain": [
       "True"
      ]
     },
     "execution_count": 8,
     "metadata": {},
     "output_type": "execute_result"
    }
   ],
   "source": [
    "isinstance(estimated_distance_m, float)==True"
   ]
  },
  {
   "cell_type": "code",
   "execution_count": 9,
   "id": "1e9d87cf",
   "metadata": {},
   "outputs": [
    {
     "data": {
      "text/plain": [
       "True"
      ]
     },
     "execution_count": 9,
     "metadata": {},
     "output_type": "execute_result"
    }
   ],
   "source": [
    "import numpy as np\n",
    "np.isclose(estimated_distance_m,1.13, rtol=1E3)==True"
   ]
  },
  {
   "cell_type": "raw",
   "id": "080c68b5",
   "metadata": {},
   "source": [
    "# END TESTS"
   ]
  },
  {
   "cell_type": "raw",
   "id": "ac1fd12f",
   "metadata": {},
   "source": [
    "# END QUESTION"
   ]
  },
  {
   "cell_type": "raw",
   "id": "2ef6eff5",
   "metadata": {},
   "source": [
    "# BEGIN QUESTION\n",
    "name: q3_3_1"
   ]
  },
  {
   "cell_type": "markdown",
   "id": "729ab9cc",
   "metadata": {},
   "source": [
    "**Pregunta 3.3.2.** Ahora, completa el código en la siguiente celda para calcular la diferencia entre las distancias previstas y estimadas (en metros) a las que cayó el martillo en este experimento.\n",
    "\n",
    "Esto solo significa traducir la fórmula anterior ($\\frac{1}{2}G\\frac{M}{R^2}t^2$) al código Python. Tendrás que reemplazar cada variable en la fórmula matemática con el nombre que le dimos a ese número en el código Python.\n",
    "\n",
    "*Pista:* Intente utilizar variables que ya definió en la pregunta 3.3.1"
   ]
  },
  {
   "cell_type": "raw",
   "id": "2854479d",
   "metadata": {},
   "source": [
    "# BEGIN SOLUTION"
   ]
  },
  {
   "cell_type": "code",
   "execution_count": 13,
   "id": "c91209b1",
   "metadata": {},
   "outputs": [
    {
     "data": {
      "text/plain": [
       "0.018223694659304845"
      ]
     },
     "execution_count": 13,
     "metadata": {},
     "output_type": "execute_result"
    }
   ],
   "source": [
    "# Primero, hemos anotado los valores de las 3 constantes universales.\n",
    "# que aparecen en la fórmula de Newton.\n",
    "\n",
    "# G, la constante universal que mide la fuerza de la gravedad.\n",
    "gravity_constant = 6.674 * 10**-11\n",
    "\n",
    "# M, la masa de la luna, en kilogramos.\n",
    "moon_mass_kg = 7.34767309 * 10**22\n",
    "\n",
    "# R, el radio de la luna, en metros.\n",
    "moon_radius_m = 1.737 * 10**6\n",
    "\n",
    "\n",
    "# La distancia que debería haber caído el martillo\n",
    "# durante la duración de la caída, en metros,\n",
    "# según la ley de gravedad de Newton.\n",
    "# El texto de arriba describe la fórmula.\n",
    "# para esta distancia dada por la ley de Newton.\n",
    "# **USTED COMPLETA ESTA PARTE.**\n",
    "\n",
    "# BEGIN SOLUTION NO PROMPT\n",
    "predicted_distance_m = 0.5*gravity_constant*moon_mass_kg/moon_radius_m**2*1.2**2\n",
    "# END SOLUTION\n",
    "\n",
    "\"\"\" # BEGIN PROMPT\n",
    "predicted_distance_m = ...\n",
    "\"\"\" # END PROMPT\n",
    "\n",
    "# Aquí hemos calculado la diferencia.\n",
    "# entre la distancia de caída prevista y la distancia que realmente medimos.\n",
    "# Si ha completado el código anterior, esto debería funcionar.\n",
    "\n",
    "difference = predicted_distance_m - estimated_distance_m\n",
    "difference"
   ]
  },
  {
   "cell_type": "raw",
   "id": "8d35a497",
   "metadata": {},
   "source": [
    "# END SOLUTION"
   ]
  },
  {
   "cell_type": "raw",
   "id": "f7bf2fe6",
   "metadata": {},
   "source": [
    "# BEGIN TESTS"
   ]
  },
  {
   "cell_type": "code",
   "execution_count": 11,
   "id": "393e2505",
   "metadata": {},
   "outputs": [
    {
     "data": {
      "text/plain": [
       "True"
      ]
     },
     "execution_count": 11,
     "metadata": {},
     "output_type": "execute_result"
    }
   ],
   "source": [
    "isinstance(difference, float)==True"
   ]
  },
  {
   "cell_type": "code",
   "execution_count": 12,
   "id": "31386fc3",
   "metadata": {},
   "outputs": [
    {
     "data": {
      "text/plain": [
       "True"
      ]
     },
     "execution_count": 12,
     "metadata": {},
     "output_type": "execute_result"
    }
   ],
   "source": [
    "import numpy as np\n",
    "np.isclose(difference,0.0182236,rtol=1E-4)==True"
   ]
  },
  {
   "cell_type": "raw",
   "id": "62cfa0b1",
   "metadata": {},
   "source": [
    "# END TESTS"
   ]
  },
  {
   "cell_type": "raw",
   "id": "7273e7cc",
   "metadata": {},
   "source": [
    "# END QUESTION"
   ]
  },
  {
   "cell_type": "raw",
   "id": "e5706ab1",
   "metadata": {},
   "source": [
    "# BEGIN QUESTION\n",
    "name: q4_1_1"
   ]
  },
  {
   "cell_type": "markdown",
   "id": "70ac0943",
   "metadata": {},
   "source": [
    "**Pregunta 4.1.1.** Complete la línea `num_avenues_away = ...` en la siguiente celda para que la celda calcule la distancia que debe caminar Chunhua y le dé el nombre `manhattan_distance`. Todo lo demás ya lo hemos completado. **Utilice la función `abs`.** Además, asegúrese de ejecutar la celda de prueba después para probar su código."
   ]
  },
  {
   "cell_type": "raw",
   "id": "6185ce25",
   "metadata": {},
   "source": [
    "# BEGIN SOLUTION"
   ]
  },
  {
   "cell_type": "code",
   "execution_count": 15,
   "id": "715ea123",
   "metadata": {},
   "outputs": [
    {
     "data": {
      "text/plain": [
       "1462"
      ]
     },
     "execution_count": 15,
     "metadata": {},
     "output_type": "execute_result"
    }
   ],
   "source": [
    "# Aquí está el número de calles de distancia:\n",
    "num_streets_away = abs(42-34)\n",
    "\n",
    "# Calcule la distancia de avenidas de manera similar:\n",
    "# BEGIN SOLUTION NO PROMPT\n",
    "num_avenues_away =  abs(7-10)\n",
    "# END SOLUTION\n",
    "\n",
    "\"\"\" # BEGIN PROMPT\n",
    "num_avenues_away = ...\n",
    "\"\"\" # END PROMPT\n",
    "\n",
    "street_length_m = 80\n",
    "avenue_length_m = 274\n",
    "\n",
    "# Ahora calculamos la distancia total que debe caminar Chunhua.\n",
    "manhattan_distance = street_length_m*num_streets_away + avenue_length_m*num_avenues_away\n",
    "\n",
    "# Hemos incluido esta línea para que veas la distancia que has calculado\n",
    "# cuando ejecutas esta celda.\n",
    "# No es necesario cambiarlo, pero puedes hacerlo si lo deseas.\n",
    "manhattan_distance"
   ]
  },
  {
   "cell_type": "raw",
   "id": "10e8002c",
   "metadata": {},
   "source": [
    "# END SOLUTION"
   ]
  },
  {
   "cell_type": "raw",
   "id": "ada8c396",
   "metadata": {},
   "source": [
    "# BEGIN TESTS"
   ]
  },
  {
   "cell_type": "code",
   "execution_count": 16,
   "id": "84c20432",
   "metadata": {},
   "outputs": [
    {
     "data": {
      "text/plain": [
       "True"
      ]
     },
     "execution_count": 16,
     "metadata": {},
     "output_type": "execute_result"
    }
   ],
   "source": [
    "isinstance(difference, float)==True"
   ]
  },
  {
   "cell_type": "code",
   "execution_count": 17,
   "id": "3cc4d59c",
   "metadata": {},
   "outputs": [
    {
     "data": {
      "text/plain": [
       "True"
      ]
     },
     "execution_count": 17,
     "metadata": {},
     "output_type": "execute_result"
    }
   ],
   "source": [
    "\n",
    "manhattan_distance==1462"
   ]
  },
  {
   "cell_type": "raw",
   "id": "7d6a7c37",
   "metadata": {},
   "source": [
    "# END TESTS"
   ]
  },
  {
   "cell_type": "raw",
   "id": "9f2562cb",
   "metadata": {},
   "source": [
    "# END QUESTION"
   ]
  },
  {
   "cell_type": "raw",
   "id": "ef412450",
   "metadata": {},
   "source": [
    "# BEGIN QUESTION\n",
    "name: q51"
   ]
  },
  {
   "cell_type": "markdown",
   "id": "732e1b26",
   "metadata": {},
   "source": [
    "**Pregunta 5.1.** Digamos que la longitud de Genghis es de 16,7 pulgadas. En la siguiente celda, use \"abs\" para calcular el valor absoluto de la diferencia entre la longitud de Genghis y la longitud promedio del gato. Asigne a ese valor el nombre `genghis_distance_from_average_in`."
   ]
  },
  {
   "cell_type": "raw",
   "id": "e4a74226",
   "metadata": {},
   "source": [
    "# BEGIN SOLUTION"
   ]
  },
  {
   "cell_type": "code",
   "execution_count": 18,
   "id": "cb425621",
   "metadata": {},
   "outputs": [
    {
     "data": {
      "text/plain": [
       "5.0"
      ]
     },
     "execution_count": 18,
     "metadata": {},
     "output_type": "execute_result"
    }
   ],
   "source": [
    "# Reemplazar... con una expresión\n",
    "# para calcular el valor absoluto\n",
    "# de la diferencia entre la longitud de Genghis (16,7 pulgadas) y la longitud promedio de un gato.\n",
    "# BEGIN SOLUTION NO PROMPT\n",
    "genghis_distance_from_average_in= abs(21.7-16.7 )\n",
    "# END SOLUTION\n",
    "\n",
    "\"\"\" # BEGIN PROMPT\n",
    "genghis_distance_from_average_in = ...\n",
    "\"\"\" # END PROMPT\n",
    "\n",
    "genghis_distance_from_average_in"
   ]
  },
  {
   "cell_type": "raw",
   "id": "cf4dd9d6",
   "metadata": {},
   "source": [
    "# END SOLUTION"
   ]
  },
  {
   "cell_type": "raw",
   "id": "dad50ac0",
   "metadata": {},
   "source": [
    "# BEGIN TESTS"
   ]
  },
  {
   "cell_type": "code",
   "execution_count": 19,
   "id": "77e6314a",
   "metadata": {},
   "outputs": [
    {
     "data": {
      "text/plain": [
       "True"
      ]
     },
     "execution_count": 19,
     "metadata": {},
     "output_type": "execute_result"
    }
   ],
   "source": [
    "isinstance(genghis_distance_from_average_in, float)==True"
   ]
  },
  {
   "cell_type": "code",
   "execution_count": 20,
   "id": "f07dfc94",
   "metadata": {},
   "outputs": [
    {
     "data": {
      "text/plain": [
       "True"
      ]
     },
     "execution_count": 20,
     "metadata": {},
     "output_type": "execute_result"
    }
   ],
   "source": [
    "genghis_distance_from_average_in== abs(21.7-16.7 )"
   ]
  },
  {
   "cell_type": "raw",
   "id": "7f01f56a",
   "metadata": {},
   "source": [
    "# END TESTS"
   ]
  },
  {
   "cell_type": "raw",
   "id": "af657781",
   "metadata": {},
   "source": [
    "# END QUESTION"
   ]
  },
  {
   "cell_type": "raw",
   "id": "4611a574",
   "metadata": {},
   "source": [
    "# BEGIN QUESTION\n",
    "name: q5_1_1"
   ]
  },
  {
   "cell_type": "markdown",
   "id": "7bab9823",
   "metadata": {},
   "source": [
    "**Pregunta 5.1.1.** Dadas las longitudes de los gatos de Yanay, Hummus, Gatkes y Zeepty, escribe una expresión que calcule la diferencia más pequeña entre cualquiera de las tres longitudes. Su expresión no debe tener números, solo llamadas a funciones y los nombres \"hummus\", \"gatkes\" y \"zeepty\". Asigne al valor de su expresión el nombre `min_length_difference`.*"
   ]
  },
  {
   "cell_type": "raw",
   "id": "435342a0",
   "metadata": {},
   "source": [
    "# BEGIN SOLUTION"
   ]
  },
  {
   "cell_type": "code",
   "execution_count": 21,
   "id": "ed79d61f",
   "metadata": {},
   "outputs": [
    {
     "data": {
      "text/plain": [
       "3.8999999999999986"
      ]
     },
     "execution_count": 21,
     "metadata": {},
     "output_type": "execute_result"
    }
   ],
   "source": [
    "hummus =  24.5 # Hummus is 24.5 inches long\n",
    "gatkes = 19.7 # Gatkes is 19.7 inches long\n",
    "zeepty = 15.8 # Zeepty is 15.8 inches long\n",
    "\n",
    "# BEGIN SOLUTION NO PROMPT\n",
    "hummus_gatkes_length_diff=abs(hummus-gatkes )\n",
    "hummus_zeepty_length_diff=abs(hummus-zeepty)\n",
    "zeepty_gatkes_length_diff=abs(gatkes-zeepty)\n",
    "min_length_difference = min(hummus_gatkes_length_diff,hummus_zeepty_length_diff,zeepty_gatkes_length_diff)\n",
    "# END SOLUTION\n",
    "\n",
    "\"\"\" # BEGIN PROMPT\n",
    "min_length_difference = ...\n",
    "\"\"\" # END PROMPT\n",
    "min_length_difference"
   ]
  },
  {
   "cell_type": "raw",
   "id": "7458a6c4",
   "metadata": {},
   "source": [
    "# END SOLUTION"
   ]
  },
  {
   "cell_type": "raw",
   "id": "ede8a394",
   "metadata": {},
   "source": [
    "# BEGIN TESTS"
   ]
  },
  {
   "cell_type": "code",
   "execution_count": 22,
   "id": "5ecb6307",
   "metadata": {},
   "outputs": [
    {
     "data": {
      "text/plain": [
       "True"
      ]
     },
     "execution_count": 22,
     "metadata": {},
     "output_type": "execute_result"
    }
   ],
   "source": [
    "isinstance(min_length_difference, float)==True"
   ]
  },
  {
   "cell_type": "code",
   "execution_count": 23,
   "id": "751fd40e",
   "metadata": {},
   "outputs": [
    {
     "data": {
      "text/plain": [
       "True"
      ]
     },
     "execution_count": 23,
     "metadata": {},
     "output_type": "execute_result"
    }
   ],
   "source": [
    "np.isclose(min_length_difference,3.89,rtol=1E-2)==True"
   ]
  },
  {
   "cell_type": "raw",
   "id": "3528670f",
   "metadata": {},
   "source": [
    "# END TESTS"
   ]
  },
  {
   "cell_type": "raw",
   "id": "ed8d2877",
   "metadata": {},
   "source": [
    "# END QUESTION"
   ]
  }
 ],
 "metadata": {
  "kernelspec": {
   "display_name": "Python 3 (ipykernel)",
   "language": "python",
   "name": "python3"
  },
  "language_info": {
   "codemirror_mode": {
    "name": "ipython",
    "version": 3
   },
   "file_extension": ".py",
   "mimetype": "text/x-python",
   "name": "python",
   "nbconvert_exporter": "python",
   "pygments_lexer": "ipython3",
   "version": "3.10.12"
  }
 },
 "nbformat": 4,
 "nbformat_minor": 5
}
