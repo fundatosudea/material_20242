{
  "cells": [
    {
      "cell_type": "code",
      "execution_count": null,
      "metadata": {
        "deletable": false,
        "editable": false,
        "id": "aq4UPP5XphP2"
      },
      "outputs": [],
      "source": [
        "# Initialize Otter\n",
        "import otter\n",
        "grader = otter.Notebook(\"lab05.ipynb\")"
      ],
      "id": "aq4UPP5XphP2"
    },
    {
      "cell_type": "markdown",
      "metadata": {
        "id": "1rEuz9ApphP5"
      },
      "source": [
        "<p><img alt=\"Colaboratory logo\" height=\"140px\" src=\"https://upload.wikimedia.org/wikipedia/commons/archive/f/fb/20161010213812%21Escudo-UdeA.svg\" align=\"left\" hspace=\"10px\" vspace=\"0px\"></p>\n",
        "\n",
        "<h1> Fundamentos en ciencias de datos</h1>\n",
        "\n",
        "# Laboratorio 5: Simulaciones\n",
        "\n",
        "¡Bienvenidos!\n",
        "\n",
        "Repasaremos [iteración](https://www.inferentialthinking.com/chapters/09/2/Iteration.html) y [simulaciones](https://www.inferentialthinking.com/chapters/09/3/Simulation.html), así como introducir el concepto de [aleatoriedad](https://www.inferentialthinking.com/chapters/09/Randomness.html).\n",
        "\n",
        "Los datos utilizados en esta práctica de laboratorio contendrán datos salariales y otras estadísticas de los jugadores de baloncesto de la temporada 2014-2015 de la NBA. Estos datos se recopilaron de los siguientes sitios de análisis deportivos: [Basketball Reference](http://www.basketball-reference.com) y [Spotrac](http://www.spotrac.com)."
      ],
      "id": "1rEuz9ApphP5"
    },
    {
      "cell_type": "markdown",
      "metadata": {
        "id": "_7C23aFtphP7"
      },
      "source": [
        "**Obtener ayuda en el laboratorio**: Siempre que te sientas estancado o necesites más aclaraciones, busca un GSI o un tutor, ¡y estarán encantados de ayudarte!\n",
        "\n",
        "Estas son las políticas para obtener crédito completo:\n",
        "\n",
        "1. Para los estudiantes inscritos en <span style=\"color: #BC412B\">**Regular Labs**</span> en persona, recibirán crédito de laboratorio al **asistir** a la sección de laboratorio y lograr un progreso significativo en el cuaderno de laboratorio. **<span style=\"text-decoration: underline\">debes</span>** enviar esta tarea a Gradescope.\n",
        "\n",
        "2. Los estudiantes inscritos en <span style=\"color: #04888B\">**Laboratorio de autoservicio**</span> recibirán crédito de laboratorio al **completar** el cuaderno, aprobar los casos de prueba y **enviándolo** a Gradescope antes de las **11:59 p. m. de la fecha de entrega**.\n",
        "\n",
        "**Envío**: una vez que haya terminado, ejecute todas las celdas además de la última, seleccione Archivo > Guardar cuaderno y luego ejecute la celda final. El resultado contendrá un archivo zip que podrá utilizar para enviarlo en Gradescope.\n",
        "\n",
        "Comencemos configurando las pruebas y las importaciones ejecutando la siguiente celda."
      ],
      "id": "_7C23aFtphP7"
    },
    {
      "cell_type": "code",
      "execution_count": null,
      "metadata": {
        "id": "-4tDyJ2PphP8"
      },
      "outputs": [],
      "source": [
        "# Ejecute esta celda, pero no la cambie.\n",
        "\n",
        "# Estas líneas importan los módulos Numpy y Datascience.\n",
        "import numpy as np\n",
        "from datascience import *\n",
        "\n",
        "# These lines do some fancy plotting magic\n",
        "import matplotlib\n",
        "%matplotlib inline\n",
        "import matplotlib.pyplot as plt\n",
        "plt.style.use('fivethirtyeight')"
      ],
      "id": "-4tDyJ2PphP8"
    },
    {
      "cell_type": "markdown",
      "metadata": {
        "id": "UaE69EubphP9"
      },
      "source": [
        "## 1. Nachos and Conditionals"
      ],
      "id": "UaE69EubphP9"
    },
    {
      "cell_type": "markdown",
      "metadata": {
        "id": "WNk0zJyfphP-"
      },
      "source": [
        "En Python, el booleano es un tipo de datos con solo dos valores posibles: \"Verdadero\" y \"Falso\". Las expresiones que contienen operadores de comparación como `<` (menor que), `>` (mayor que) y `==` (igual a) se evalúan como valores booleanos. ¡A continuación encontrará una lista de operadores de comparación comunes!\n",
        "\n",
        "<img src=\"https://github.com/darioblandon/materials-fa23/blob/main/lab/lab05/comparisons.png?raw=1\" alt=\"Chart of comparison operators\">"
      ],
      "id": "WNk0zJyfphP-"
    },
    {
      "cell_type": "markdown",
      "metadata": {
        "id": "vX8Xjh8LphP-"
      },
      "source": [
        "Ejecute la siguiente celda para ver un ejemplo de un operador de comparación en acción."
      ],
      "id": "vX8Xjh8LphP-"
    },
    {
      "cell_type": "code",
      "execution_count": null,
      "metadata": {
        "id": "fUkthCR5phP_"
      },
      "outputs": [],
      "source": [
        "3 > (1 + 1)"
      ],
      "id": "fUkthCR5phP_"
    },
    {
      "cell_type": "markdown",
      "metadata": {
        "id": "L3nzg_JtphP_"
      },
      "source": [
        "Incluso podemos asignar el resultado de una operación de comparación a una variable. Tenga en cuenta que `==` y `=` **no** son lo mismo."
      ],
      "id": "L3nzg_JtphP_"
    },
    {
      "cell_type": "code",
      "execution_count": null,
      "metadata": {
        "id": "NO4L8NQdphQA"
      },
      "outputs": [],
      "source": [
        "result = 10 / 2 == 5\n",
        "result"
      ],
      "id": "NO4L8NQdphQA"
    },
    {
      "cell_type": "markdown",
      "metadata": {
        "id": "7CT8iDfZphQA"
      },
      "source": [
        "Así como los operadores aritméticos se pueden aplicar a cada elemento de una matriz, los operadores de comparación también se pueden usar en matrices para comparar una matriz completa con algún valor. El resultado de esta comparación es una matriz de valores booleanos."
      ],
      "id": "7CT8iDfZphQA"
    },
    {
      "cell_type": "code",
      "execution_count": null,
      "metadata": {
        "id": "p8VMUKSJphQB"
      },
      "outputs": [],
      "source": [
        "make_array(1, 5, 7, 8, 3, -1) > 3"
      ],
      "id": "p8VMUKSJphQB"
    },
    {
      "cell_type": "markdown",
      "metadata": {
        "id": "PaJFx9buphQB"
      },
      "source": [
        "Un día, cuando llegas a casa después de una larga semana, ¡ves un plato caliente de nachos esperando en la mesa del comedor! Digamos que siempre que saques un nacho del tazón, tendrá solo **queso**, solo **salsa**, **tanto** queso como salsa, o **ni** queso ni salsa (un triste tortilla chip de hecho).\n",
        "\n",
        "Intentemos simular tomar nachos del tazón al azar usando la función `np.random.choice(...)`."
      ],
      "id": "PaJFx9buphQB"
    },
    {
      "cell_type": "markdown",
      "metadata": {
        "id": "TPcAiRBGphQC"
      },
      "source": [
        "### `np.random.choice`\n",
        "\n",
        "`np.random.choice` elige un elemento al azar de la matriz dada. Es igualmente probable que elija cualquiera de los elementos. Ejecute la siguiente celda varias veces y observe cómo cambian los resultados. _Consejo:_ Para seguir ejecutando una celda varias veces, puedes usar el método abreviado de teclado `ctrl` + `return`."
      ],
      "id": "TPcAiRBGphQC"
    },
    {
      "cell_type": "code",
      "execution_count": null,
      "metadata": {
        "id": "QPPHR_SpphQC"
      },
      "outputs": [],
      "source": [
        "nachos = make_array('cheese', 'salsa', 'both', 'neither')\n",
        "np.random.choice(nachos)"
      ],
      "id": "QPPHR_SpphQC"
    },
    {
      "cell_type": "markdown",
      "metadata": {
        "id": "BvnBX1bIphQD"
      },
      "source": [
        "Para repetir este proceso varias veces, pase un int `n` como segundo argumento para devolver `n` opciones aleatorias diferentes. De forma predeterminada, `np.random.choice` muestra **con reemplazo** y devuelve una *matriz* de elementos. Muestreo **con reemplazo** significa que después de extraer un elemento, se reemplaza de nuevo al lugar donde se está tomando el muestreo y se puede extraer nuevamente en el futuro. Si tomamos muestras `n` veces con reemplazo, cada vez, cada elemento tiene la misma probabilidad de ser seleccionado.\n",
        "\n",
        "Ejecute la siguiente celda para ver un ejemplo de muestreo con reemplazo 10 veces de la matriz `nachos`."
      ],
      "id": "BvnBX1bIphQD"
    },
    {
      "cell_type": "code",
      "execution_count": null,
      "metadata": {
        "id": "wpxM91rmphQD"
      },
      "outputs": [],
      "source": [
        "np.random.choice(nachos, 10)"
      ],
      "id": "wpxM91rmphQD"
    },
    {
      "cell_type": "markdown",
      "metadata": {
        "id": "kVRNGFVXphQD"
      },
      "source": [
        "Para contar la cantidad de veces que se elige aleatoriamente un determinado tipo de nacho, podemos usar `np.count_nonzero`"
      ],
      "id": "kVRNGFVXphQD"
    },
    {
      "cell_type": "markdown",
      "metadata": {
        "id": "gAuk1GgWphQE"
      },
      "source": [
        "### `np.count_nonzero`\n",
        "\n",
        "`np.count_nonzero` cuenta el número de valores distintos de cero que aparecen en una matriz. Cuando se pasa una matriz de valores booleanos a través de la función, ésta contará el número de valores \"Verdaderos\" (recuerde que en Python, **\"Verdadero\" se codifica como 1 y \"Falso\" se codifica como 0.**)\n",
        "\n",
        "Ejecute la siguiente celda para ver un ejemplo que usa `np.count_nonzero`."
      ],
      "id": "gAuk1GgWphQE"
    },
    {
      "cell_type": "code",
      "execution_count": null,
      "metadata": {
        "id": "Q89UKJAOphQE"
      },
      "outputs": [],
      "source": [
        "np.count_nonzero(make_array(True, False, False, True, True))"
      ],
      "id": "Q89UKJAOphQE"
    },
    {
      "cell_type": "markdown",
      "metadata": {
        "id": "eH76-euiphQE"
      },
      "source": [
        "**Pregunta 1.1** Supongamos que tomamos diez nachos al azar y almacenamos los resultados en una matriz llamada `ten_nachos` como se hace a continuación. **Encuentre la cantidad de nachos solo con queso usando el código** (no ingrese manualmente la respuesta final).\n",
        "\n",
        "*Pista:* Nuestra solución implica un operador de comparación (por ejemplo, `==`, `<`, ...) y el método `np.count_nonzero`."
      ],
      "id": "eH76-euiphQE"
    },
    {
      "cell_type": "code",
      "execution_count": null,
      "metadata": {
        "tags": [],
        "id": "kFIyNoHkphQF"
      },
      "outputs": [],
      "source": [
        "ten_nachos = make_array('neither', 'cheese', 'both', 'both', 'cheese', 'salsa', 'both', 'neither', 'cheese', 'both')\n",
        "number_cheese = ...\n",
        "number_cheese"
      ],
      "id": "kFIyNoHkphQF"
    },
    {
      "cell_type": "code",
      "execution_count": null,
      "metadata": {
        "deletable": false,
        "editable": false,
        "id": "OUtsw36wphQF"
      },
      "outputs": [],
      "source": [
        "grader.check(\"q11\")"
      ],
      "id": "OUtsw36wphQF"
    },
    {
      "cell_type": "markdown",
      "metadata": {
        "id": "89gzLvDJphQG"
      },
      "source": [
        "**Declaraciones condicionales**\n",
        "\n",
        "Una declaración condicional es una declaración de varias líneas que permite a Python elegir entre diferentes alternativas según el valor de verdad de una expresión.\n",
        "\n",
        "Aquí hay un ejemplo básico.\n",
        "\n",
        "```\n",
        "def sign(x):\n",
        "    if x > 0:\n",
        "        return 'Positive'\n",
        "    else:\n",
        "        return 'Negative'\n",
        "```\n",
        "\n",
        "Si la entrada `x` es mayor que `0`, devolvemos la cadena `'Positiva'`. De lo contrario, devolvemos \"Negativo\".\n",
        "\n",
        "Si queremos probar varias condiciones a la vez, utilizamos el siguiente formato general.\n",
        "\n",
        "```\n",
        "if <if expression>:\n",
        "    <if body>\n",
        "elif <elif expression 0>:\n",
        "    <elif body 0>\n",
        "elif <elif expression 1>:\n",
        "    <elif body 1>\n",
        "...\n",
        "else:\n",
        "    <else body>\n",
        "```\n",
        "\n",
        "Sólo se evaluará el cuerpo de la primera expresión condicional que sea verdadera. Cada expresión `if` y `elif` se evalúa y considera en orden, comenzando desde arriba. `elif` solo se puede utilizar si lo precede una cláusula `if`. Tan pronto como se encuentra un valor verdadero, se ejecuta el cuerpo correspondiente y se omite el resto de la declaración condicional. Si ninguna de las expresiones `if` o `elif` es verdadera, entonces se ejecuta el `else body`.\n",
        "\n",
        "Para obtener más ejemplos y explicaciones, consulte la sección sobre declaraciones condicionales [aquí](https://inferentialthinking.com/chapters/09/1/Conditional_Statements.html)."
      ],
      "id": "89gzLvDJphQG"
    },
    {
      "cell_type": "markdown",
      "metadata": {
        "id": "XYzA1xPAphQG"
      },
      "source": [
        "**Pregunta 1.2** Complete la siguiente declaración condicional para que la cadena `'Más por favor'` se asigne a la variable `say_please` si el número de nachos con queso en `ten_nachos` es menor que `5`. Utilice la instrucción if para hacer esto (no reasigne directamente la variable `say_please`).\n",
        "\n",
        "*Pista*: Deberías usar `number_cheese` de la Pregunta 1."
      ],
      "id": "XYzA1xPAphQG"
    },
    {
      "cell_type": "code",
      "execution_count": null,
      "metadata": {
        "for_assignment_type": "student",
        "tags": [],
        "id": "bbYGXyxqphQH"
      },
      "outputs": [],
      "source": [
        "say_please = '?'\n",
        "\n",
        "if ...:\n",
        "    say_please = 'More please'\n",
        "say_please"
      ],
      "id": "bbYGXyxqphQH"
    },
    {
      "cell_type": "code",
      "execution_count": null,
      "metadata": {
        "deletable": false,
        "editable": false,
        "id": "HstHVT4UphQH"
      },
      "outputs": [],
      "source": [
        "grader.check(\"q12\")"
      ],
      "id": "HstHVT4UphQH"
    },
    {
      "cell_type": "markdown",
      "metadata": {
        "id": "6fr46kVUphQH"
      },
      "source": [
        "**Pregunta 1.3** Escribe una función llamada `nacho_reaction` que devuelva una reacción (como una cadena) basada en el tipo de nacho pasado como argumento. Utilice la siguiente tabla para hacer coincidir el tipo de nacho con la reacción adecuada.\n",
        "\n",
        "<img src=\"https://github.com/darioblandon/materials-fa23/blob/main/lab/lab05/nacho_reactions.png?raw=1\" alt=\"Table of nacho type with their respective reactions\">\n",
        "\n",
        "*Pista:* Si no pasas la prueba, revisa la ortografía de tus reacciones."
      ],
      "id": "6fr46kVUphQH"
    },
    {
      "cell_type": "code",
      "execution_count": null,
      "metadata": {
        "for_assignment_type": "student",
        "tags": [],
        "id": "xkZcOU3hphQI"
      },
      "outputs": [],
      "source": [
        "def nacho_reaction(nacho):\n",
        "    if nacho == \"cheese\":\n",
        "        return ...\n",
        "    ... :\n",
        "        ...\n",
        "    ... :\n",
        "        ...\n",
        "    ... :\n",
        "        ...\n",
        "\n",
        "spicy_nacho = nacho_reaction('salsa')\n",
        "spicy_nacho"
      ],
      "id": "xkZcOU3hphQI"
    },
    {
      "cell_type": "code",
      "execution_count": null,
      "metadata": {
        "deletable": false,
        "editable": false,
        "id": "H8kDNlfbphQI"
      },
      "outputs": [],
      "source": [
        "grader.check(\"q13\")"
      ],
      "id": "H8kDNlfbphQI"
    },
    {
      "cell_type": "markdown",
      "metadata": {
        "id": "Z7IXvlDgphQJ"
      },
      "source": [
        "**Pregunta 1.4** Cree una tabla `ten_nachos_reactions` que consista en los nachos en `ten_nachos` así como las reacciones para cada uno de esos nachos. Las columnas deben llamarse `Nachos` y `Reacciones`.\n",
        "\n",
        "*Sugerencia:* Considere usar el método `apply`, que devuelve una matriz.\n"
      ],
      "id": "Z7IXvlDgphQJ"
    },
    {
      "cell_type": "code",
      "execution_count": null,
      "metadata": {
        "for_assignment_type": "student",
        "tags": [],
        "id": "e7WH2vJjphQJ"
      },
      "outputs": [],
      "source": [
        "ten_nachos_tbl = Table().with_column('Nachos', ten_nachos)\n",
        "ten_nachos_reactions = ...\n",
        "ten_nachos_reactions"
      ],
      "id": "e7WH2vJjphQJ"
    },
    {
      "cell_type": "code",
      "execution_count": null,
      "metadata": {
        "deletable": false,
        "editable": false,
        "id": "TQWH9AHNphQJ"
      },
      "outputs": [],
      "source": [
        "grader.check(\"q14\")"
      ],
      "id": "TQWH9AHNphQJ"
    },
    {
      "cell_type": "markdown",
      "metadata": {
        "id": "IK3ynI-IphQK"
      },
      "source": [
        "**Pregunta 1.5** Usando el código, encuentre el número de '¡Guau!' reacciones para los nachos en `ten_nachos_reactions`."
      ],
      "id": "IK3ynI-IphQK"
    },
    {
      "cell_type": "code",
      "execution_count": null,
      "metadata": {
        "tags": [],
        "id": "PQW2uOylphQK"
      },
      "outputs": [],
      "source": [
        "number_wow_reactions = ...\n",
        "number_wow_reactions"
      ],
      "id": "PQW2uOylphQK"
    },
    {
      "cell_type": "code",
      "execution_count": null,
      "metadata": {
        "deletable": false,
        "editable": false,
        "id": "rYU2IcRophQK"
      },
      "outputs": [],
      "source": [
        "grader.check(\"q15\")"
      ],
      "id": "rYU2IcRophQK"
    },
    {
      "cell_type": "markdown",
      "metadata": {
        "id": "gasJsoIXphQL"
      },
      "source": [
        "## 2. Simulaciones y bucles For\n",
        "Usando una declaración \"para\", podemos realizar una tarea varias veces. Esto se conoce como iteración. La estructura general de un bucle for es:\n",
        "\n",
        "`for <placeholder> in <array>:` seguido de líneas de código sangradas que se repiten para cada elemento de la `matriz` sobre la que se itera. Puede leer más sobre los bucles for [aquí](https://www.inferentialthinking.com/chapters/09/2/Iteration.html).\n",
        "\n",
        "**NOTA:** A menudo usamos `i` como `marcador de posición` en nuestros ejemplos de clases, ¡pero puedes ponerle cualquier nombre! Algunos ejemplos se pueden encontrar a continuación."
      ],
      "id": "gasJsoIXphQL"
    },
    {
      "cell_type": "markdown",
      "metadata": {
        "id": "rY5tjsFMphQL"
      },
      "source": [
        "Un uso de la iteración es recorrer un conjunto de valores. Por ejemplo, podemos imprimir todos los colores del arcoíris."
      ],
      "id": "rY5tjsFMphQL"
    },
    {
      "cell_type": "code",
      "execution_count": null,
      "metadata": {
        "id": "VFFQWdFnphQL"
      },
      "outputs": [],
      "source": [
        "rainbow = make_array(\"red\", \"orange\", \"yellow\", \"green\", \"blue\", \"indigo\", \"violet\")\n",
        "\n",
        "for color in rainbow:\n",
        "    print(color)"
      ],
      "id": "VFFQWdFnphQL"
    },
    {
      "cell_type": "markdown",
      "metadata": {
        "id": "HvY0VMrUphQs"
      },
      "source": [
        "Podemos ver que la parte sangrada del bucle `for`, conocida como cuerpo, se ejecuta una vez para cada elemento en `rainbow`. El nombre \"color\" se asigna al siguiente valor en \"arco iris\" al comienzo de cada iteración. Tenga en cuenta que el nombre \"color\" es arbitrario; fácilmente podríamos haberlo llamado de otra manera. Cualquiera que sea el nombre que elijamos, debemos usarlo de manera consistente durante todo el ciclo \"for\"."
      ],
      "id": "HvY0VMrUphQs"
    },
    {
      "cell_type": "code",
      "execution_count": null,
      "metadata": {
        "id": "9tpjWYe5phQs"
      },
      "outputs": [],
      "source": [
        "for another_name in rainbow:\n",
        "    print(another_name)"
      ],
      "id": "9tpjWYe5phQs"
    },
    {
      "cell_type": "markdown",
      "metadata": {
        "id": "g45dfwLmphQt"
      },
      "source": [
        "Sin embargo, en general nos gustaría que el nombre de la variable fuera algo informativo."
      ],
      "id": "g45dfwLmphQt"
    },
    {
      "cell_type": "markdown",
      "metadata": {
        "id": "RH6YW-YgphQt"
      },
      "source": [
        "**Pregunta 2.1** En la siguiente celda, cargamos el texto de _Orgullo y prejuicio_ de Jane Austen, lo dividimos en palabras individuales y almacenamos estas palabras en una matriz `p_and_p_words`. Usando un bucle \"for\", asigne \"longer_than_five\" al número de palabras de la novela que tengan más de 5 letras.\n",
        "\n",
        "*Pista*: Puedes encontrar el número de letras de una palabra con la función `len`.\n",
        "\n",
        "*Pista*: ¿Cómo puedes usar `longer_than_five` para realizar un seguimiento del número de palabras que tienen más de cinco letras?"
      ],
      "id": "RH6YW-YgphQt"
    },
    {
      "cell_type": "code",
      "execution_count": null,
      "metadata": {
        "for_assignment_type": "student",
        "tags": [],
        "id": "vV5S-SzCphQt"
      },
      "outputs": [],
      "source": [
        "austen_string = open('Austen_PrideAndPrejudice.txt', encoding='utf-8').read()\n",
        "p_and_p_words = np.array(austen_string.split())\n",
        "\n",
        "longer_than_five = ...\n",
        "\n",
        "for ... in ...:\n",
        "    ...\n",
        "longer_than_five"
      ],
      "id": "vV5S-SzCphQt"
    },
    {
      "cell_type": "code",
      "execution_count": null,
      "metadata": {
        "deletable": false,
        "editable": false,
        "id": "yjCM1nTYphQu"
      },
      "outputs": [],
      "source": [
        "grader.check(\"q21\")"
      ],
      "id": "yjCM1nTYphQu"
    },
    {
      "cell_type": "markdown",
      "metadata": {
        "id": "1wWsQSQMphQu"
      },
      "source": [
        "Otra forma en que podemos usar bucles \"for\" es repetir líneas de código muchas veces. Recuerde la estructura de un bucle `for`:\n",
        "\n",
        "`for <placeholder> in <array>:` seguido de líneas de código sangradas que se repiten para cada elemento de la matriz sobre la que se itera.\n",
        "\n",
        "A veces, no nos importa cuál es el valor del marcador de posición. En su lugar, aprovechamos el hecho de que el bucle `for` se repetirá tantas veces como la longitud de nuestra matriz. En la siguiente celda, iteramos a través de una matriz de longitud 5 e imprimimos \"¡Hola, mundo!\" en cada iteración, pero no necesitamos usar el marcador de posición \"i\" en el cuerpo de nuestro bucle \"for\"."
      ],
      "id": "1wWsQSQMphQu"
    },
    {
      "cell_type": "code",
      "execution_count": null,
      "metadata": {
        "id": "IytIozllphQu"
      },
      "outputs": [],
      "source": [
        "for i in np.arange(5):\n",
        "    print(\"Hello, world!\")"
      ],
      "id": "IytIozllphQu"
    },
    {
      "cell_type": "markdown",
      "metadata": {
        "id": "DlvHirzEphQu"
      },
      "source": [
        "**Pregunta 2.2** Usando una simulación con 10,000 intentos, asigne `num_diferente` al **número** de veces, en 10,000 intentos, que dos palabras elegidas uniformemente al azar (con reemplazo) de Orgullo y Prejuicio tienen diferentes longitudes.\n",
        "\n",
        "*Pista 1*: ¿Qué función utilizamos en la sección 1 para tomar muestras al azar con reemplazo de una matriz?\n",
        "\n",
        "*Pista 2*: Recuerde que `!=` comprueba la no igualdad entre dos elementos.\n"
      ],
      "id": "DlvHirzEphQu"
    },
    {
      "cell_type": "code",
      "execution_count": null,
      "metadata": {
        "for_assignment_type": "student",
        "tags": [],
        "id": "iywGeivTphQv"
      },
      "outputs": [],
      "source": [
        "trials = 10000\n",
        "num_different = ...\n",
        "\n",
        "for ... in ...:\n",
        "    ...\n",
        "num_different"
      ],
      "id": "iywGeivTphQv"
    },
    {
      "cell_type": "code",
      "execution_count": null,
      "metadata": {
        "deletable": false,
        "editable": false,
        "id": "T3rQSDGDphQv"
      },
      "outputs": [],
      "source": [
        "grader.check(\"q22\")"
      ],
      "id": "T3rQSDGDphQv"
    },
    {
      "cell_type": "markdown",
      "metadata": {
        "id": "rkLzu_M8phQv"
      },
      "source": [
        "## 3. Muestreo de datos de baloncesto\n",
        "\n",
        "Ahora presentaremos el tema del muestreo, que discutiremos con más profundidad en las conferencias de esta semana. Lo guiaremos a través de este código, pero si desea leer más sobre diferentes tipos de ejemplos antes de intentar esta pregunta, puede consultar la [sección 10 del libro de texto](https://www.inferentialthinking.com/chapters/10/Sampling_and_Empirical_Distributions.html).\n",
        "\n",
        "Ejecute la siguiente celda para cargar los datos de jugadores y salarios que usaremos para nuestro muestreo.\n"
      ],
      "id": "rkLzu_M8phQv"
    },
    {
      "cell_type": "code",
      "execution_count": null,
      "metadata": {
        "id": "7k0OvDvdphQv"
      },
      "outputs": [],
      "source": [
        "player_data = Table().read_table(\"player_data.csv\")\n",
        "salary_data = Table().read_table(\"salary_data.csv\")\n",
        "full_data = salary_data.join(\"PlayerName\", player_data, \"Name\")\n",
        "\n",
        "# The show method immediately displays the contents of a table.\n",
        "# This way, we can display the top of two tables using a single cell.\n",
        "player_data.show(3)\n",
        "salary_data.show(3)\n",
        "full_data.show(3)"
      ],
      "id": "7k0OvDvdphQv"
    },
    {
      "cell_type": "markdown",
      "metadata": {
        "id": "W07_RBwUphQw"
      },
      "source": [
        "En lugar de obtener datos de cada jugador (como en las tablas cargadas arriba), imagine que obtuvimos datos solo de un subconjunto más pequeño de jugadores. Para 492 jugadores, no es tan descabellado esperar ver todos los datos, pero normalmente no tenemos tanta suerte.\n",
        "\n",
        "Si queremos hacer estimaciones sobre una determinada propiedad numérica de la población, es posible que tengamos que hacerlo basándose sólo en una muestra más pequeña. La propiedad numérica de la población se conoce como **parámetro** y la estimación se conoce como **estadística** (por ejemplo, la media o la mediana). El hecho de que estas estimaciones sean útiles o no depende a menudo de cómo se recopiló la muestra. Hemos preparado algunos conjuntos de datos de muestra de ejemplo para ver cómo se comparan con el conjunto de datos completo de la NBA. Más adelante te pediremos que crees tus propias muestras para ver cómo se comportan."
      ],
      "id": "W07_RBwUphQw"
    },
    {
      "cell_type": "markdown",
      "metadata": {
        "id": "rg_GhfkXphQw"
      },
      "source": [
        "Para ahorrar escritura y aumentar la claridad de su código, empaquetaremos el código de análisis en algunas funciones. Esto será útil en el resto de la práctica de laboratorio, ya que necesitaremos crear histogramas y recopilar estadísticas resumidas a partir de esos datos repetidamente."
      ],
      "id": "rg_GhfkXphQw"
    },
    {
      "cell_type": "markdown",
      "metadata": {
        "id": "mMdJMcvHphQw"
      },
      "source": [
        "Hemos definido la función \"histogramas\" a continuación, que toma una tabla con las columnas \"Edad\" y \"Salario\" y dibuja un histograma para cada una. Utiliza anchos de bin de 1 año para \"Edad\" y $1,000,000 para \"Salario\"."
      ],
      "id": "mMdJMcvHphQw"
    },
    {
      "cell_type": "code",
      "execution_count": null,
      "metadata": {
        "scrolled": true,
        "id": "nd9A5jsXphQw"
      },
      "outputs": [],
      "source": [
        "def histograms(t):\n",
        "    ages = t.column('Age')\n",
        "    salaries = t.column('Salary')/1000000\n",
        "    t1 = t.drop('Salary').with_column('Salary', salaries)\n",
        "    age_bins = np.arange(min(ages), max(ages) + 2, 1)\n",
        "    salary_bins = np.arange(min(salaries), max(salaries) + 1, 1)\n",
        "    t1.hist('Age', bins=age_bins, unit='year')\n",
        "    plt.title('Age distribution')\n",
        "    t1.hist('Salary', bins=salary_bins, unit='million dollars')\n",
        "    plt.title('Salary distribution')\n",
        "\n",
        "histograms(full_data)\n",
        "print('Two histograms should be displayed below')"
      ],
      "id": "nd9A5jsXphQw"
    },
    {
      "cell_type": "markdown",
      "metadata": {
        "id": "PU-NArfPphQx"
      },
      "source": [
        "**Pregunta 3.1**. Cree una función llamada `compute_statistics` que tome una tabla que contenga una columna \"Edad\" y una columna \"Salario\" y:\n",
        "- Dibuja un histograma de edades.\n",
        "- Dibuja un histograma de salarios.\n",
        "- Devuelve una matriz de dos elementos que contiene la edad promedio y el salario promedio (en ese orden)\n",
        "\n",
        "¡Puedes llamar a la función `histograms` para dibujar los histogramas!\n"
      ],
      "id": "PU-NArfPphQx"
    },
    {
      "cell_type": "code",
      "execution_count": null,
      "metadata": {
        "tags": [],
        "id": "PCmSAUnuphQx"
      },
      "outputs": [],
      "source": [
        "def compute_statistics(age_and_salary_data):\n",
        "    ...\n",
        "    age = ...\n",
        "    salary = ...\n",
        "    ...\n",
        "\n",
        "\n",
        "full_stats = compute_statistics(full_data)\n",
        "full_stats"
      ],
      "id": "PCmSAUnuphQx"
    },
    {
      "cell_type": "code",
      "execution_count": null,
      "metadata": {
        "deletable": false,
        "editable": false,
        "id": "BbFf2kXFphQx"
      },
      "outputs": [],
      "source": [
        "grader.check(\"q31\")"
      ],
      "id": "BbFf2kXFphQx"
    },
    {
      "cell_type": "markdown",
      "metadata": {
        "id": "1s_nvM8AphQx"
      },
      "source": [
        "### Muestreo aleatorio simple\n",
        "Un enfoque más justificable es tomar muestras aleatorias y uniformes de los jugadores. En una **muestra aleatoria simple (SRS) sin reemplazo**, nos aseguramos de que cada jugador sea seleccionado como máximo una vez. Imagínese escribir el nombre de cada jugador en una tarjeta, poner las tarjetas en una caja y barajar la caja. Luego, saque las tarjetas una por una y déjelas a un lado, deteniéndose cuando se alcance el tamaño de muestra especificado."
      ],
      "id": "1s_nvM8AphQx"
    },
    {
      "cell_type": "markdown",
      "metadata": {
        "id": "i6B7lYLGphQy"
      },
      "source": [
        "### Producir muestras aleatorias simples\n",
        "A veces es útil tomar muestras aleatorias incluso cuando tenemos datos de toda la población. Nos ayuda a comprender la precisión del muestreo.\n",
        "\n",
        "### `sample`\n",
        "\n",
        "El método de tabla  `sample` produce una muestra aleatoria de la tabla. De forma predeterminada, extrae aleatoriamente **con reemplazo** de las filas de una tabla. El muestreo con reemplazo significa que para cualquier fila seleccionada al azar, existe la posibilidad de que se pueda seleccionar nuevamente si tomamos muestras varias veces. `Sample` toma el tamaño de la muestra como argumento y devuelve una **tabla** con solo las filas que se seleccionaron. Esto difiere de `np.random.choice`, que toma una matriz y genera un valor aleatorio de la matriz.\n",
        "\n",
        "Ejecute la siguiente celda para ver un ejemplo de llamada a `sample()` con un tamaño de muestra de 5, con reemplazo."
      ],
      "id": "i6B7lYLGphQy"
    },
    {
      "cell_type": "code",
      "execution_count": null,
      "metadata": {
        "id": "w861PZzJphQy"
      },
      "outputs": [],
      "source": [
        "# Just run this cell\n",
        "\n",
        "salary_data.sample(5)"
      ],
      "id": "w861PZzJphQy"
    },
    {
      "cell_type": "markdown",
      "metadata": {
        "id": "oqeND8jqphQy"
      },
      "source": [
        "El argumento opcional `with_replacement=False` se puede pasar a través de `sample()` para especificar que la muestra debe extraerse sin reemplazo.\n",
        "\n",
        "Ejecute la siguiente celda para ver un ejemplo de llamada a `sample()` con un tamaño de muestra de 5, sin reemplazo."
      ],
      "id": "oqeND8jqphQy"
    },
    {
      "cell_type": "code",
      "execution_count": null,
      "metadata": {
        "id": "mxonLkUUphQy"
      },
      "outputs": [],
      "source": [
        "# Just run this cell\n",
        "\n",
        "salary_data.sample(5, with_replacement=False)"
      ],
      "id": "mxonLkUUphQy"
    },
    {
      "cell_type": "markdown",
      "metadata": {
        "id": "7MIUBPrephQy"
      },
      "source": [
        "**Pregunta 3.2** Produzca una muestra aleatoria simple **sin** reemplazo del tamaño **44** de `full_data`. Luego, ejecute su análisis nuevamente usando la función `compute_statistics` que definió anteriormente. Ejecute la celda varias veces para ver cómo cambian los histogramas y las estadísticas en diferentes muestras.\n",
        "\n",
        "- ¿Cuánto cambia la edad promedio entre muestras?\n",
        "- ¿Qué pasa con el salario medio?\n",
        "\n",
        "(Para su información: srs = muestra aleatoria simple, wor = sin reemplazo)"
      ],
      "id": "7MIUBPrephQy"
    },
    {
      "cell_type": "markdown",
      "metadata": {
        "id": "T75WXu2gphQz"
      },
      "source": [
        "_Escriba su respuesta aquí, reemplazando este texto._"
      ],
      "id": "T75WXu2gphQz"
    },
    {
      "cell_type": "markdown",
      "metadata": {
        "id": "PWiShGfuphQz"
      },
      "source": [
        "<!-- BEGIN QUESTION -->\n",
        "\n"
      ],
      "id": "PWiShGfuphQz"
    },
    {
      "cell_type": "code",
      "execution_count": null,
      "metadata": {
        "tags": [],
        "id": "ev9_UGWOphQz"
      },
      "outputs": [],
      "source": [
        "my_small_srswor_data = ...\n",
        "my_small_stats = ...\n",
        "my_small_stats"
      ],
      "id": "ev9_UGWOphQz"
    },
    {
      "cell_type": "markdown",
      "metadata": {
        "id": "EusWF_mEphQz"
      },
      "source": [
        "<!-- FIN DE PREGUNTA -->\n",
        "\n",
        "## 4. Más práctica de muestreo aleatorio\n",
        "\n",
        "Más práctica para el muestreo aleatorio utilizando `np.random.choice`."
      ],
      "id": "EusWF_mEphQz"
    },
    {
      "cell_type": "markdown",
      "metadata": {
        "id": "yE2Ym4tSphQz"
      },
      "source": [
        "### Simulaciones y bucles For (cont.)"
      ],
      "id": "yE2Ym4tSphQz"
    },
    {
      "cell_type": "markdown",
      "metadata": {
        "id": "XP4xaA59phQ0"
      },
      "source": [
        "**Pregunta 4.1** Podemos usar `np.random.choice` para simular múltiples pruebas.\n",
        "\n",
        "Stephanie decide jugar a tirar un dado estándar de seis caras, donde su puntuación en cada tirada está determinada por la cara que sale. Quiere saber cuál sería su puntuación total si lanzara el dado 1000 veces. Escribe un código que simule su puntuación total después de 1000 tiradas.\n",
        "\n",
        "*Pista:* Primero decide los posibles valores que puedes tomar en el experimento (valores puntuales en este caso). Luego use `np.random.choice` para simular las tiradas de Stephanie. Finalmente, suma las tiradas para obtener la puntuación total de Stephanie."
      ],
      "id": "XP4xaA59phQ0"
    },
    {
      "cell_type": "code",
      "execution_count": null,
      "metadata": {
        "tags": [],
        "id": "ZlE3fLDDphQ0"
      },
      "outputs": [],
      "source": [
        "possible_point_values = ...\n",
        "num_tosses = 1000\n",
        "simulated_tosses = ...\n",
        "total_score = ...\n",
        "total_score"
      ],
      "id": "ZlE3fLDDphQ0"
    },
    {
      "cell_type": "code",
      "execution_count": null,
      "metadata": {
        "deletable": false,
        "editable": false,
        "id": "v-h42hWjphQ0"
      },
      "outputs": [],
      "source": [
        "grader.check(\"q41\")"
      ],
      "id": "v-h42hWjphQ0"
    },
    {
      "cell_type": "markdown",
      "metadata": {
        "id": "ND5p1eUKphQ0"
      },
      "source": [
        "### Muestreo aleatorio simple (cont.)"
      ],
      "id": "ND5p1eUKphQ0"
    },
    {
      "cell_type": "markdown",
      "metadata": {
        "id": "8U9jh_MJphQ0"
      },
      "source": [
        "**Pregunta 4.2** Como en la pregunta anterior, analice varias muestras aleatorias simples de tamaño 100 de `full_data` utilizando la función `compute_statistics`.\n",
        "- ¿Las formas del histograma parecen cambiar más o menos entre muestras de 100 que entre muestras de tamaño 44?\n",
        "- ¿Están los promedios muestrales y los histogramas más cercanos a sus valores/forma reales para la edad o el salario? ¿Qué esperabas ver?"
      ],
      "id": "8U9jh_MJphQ0"
    },
    {
      "cell_type": "markdown",
      "metadata": {
        "id": "R0HWSHNkphQ1"
      },
      "source": [
        "_Escriba su respuesta aquí, reemplazando este texto._"
      ],
      "id": "R0HWSHNkphQ1"
    },
    {
      "cell_type": "markdown",
      "metadata": {
        "id": "Rm-iTAHVphQ1"
      },
      "source": [
        "<!-- BEGIN QUESTION -->\n",
        "\n"
      ],
      "id": "Rm-iTAHVphQ1"
    },
    {
      "cell_type": "code",
      "execution_count": null,
      "metadata": {
        "tags": [],
        "id": "rw5mrF-aphQ1"
      },
      "outputs": [],
      "source": [
        "my_large_srswor_data = ...\n",
        "my_large_stats = ...\n",
        "my_large_stats"
      ],
      "id": "rw5mrF-aphQ1"
    },
    {
      "cell_type": "markdown",
      "metadata": {
        "id": "1Qce5fiPphQ1"
      },
      "source": [
        "<!-- FIN DE PREGUNTA -->\n",
        "\n",
        "---\n",
        "\n",
        "<img src=\"https://github.com/darioblandon/materials-fa23/blob/main/lab/lab05/winston.jpeg?raw=1\" alt=\"Picture of an adorable cat named Winston\" width=\"300\"/>\n",
        "\n",
        "**Winston** está muy feliz de que hayas terminado el laboratorio."
      ],
      "id": "1Qce5fiPphQ1"
    },
    {
      "cell_type": "markdown",
      "metadata": {
        "id": "naYoScsvphQ1"
      },
      "source": [
        "\n",
        "---\n",
        "¡Terminaste con el laboratorio!\n",
        "\n",
        "**Información importante sobre el envío:**\n",
        "- **Ejecuta todas las pruebas** y verifica que todas pasan\n",
        "- **Guardar** desde el menú **Archivo**\n",
        "- **Ejecute la celda final para generar el archivo zip**\n",
        "- **Haga clic en el enlace para descargar el archivo zip**\n",
        "- Luego, ve a [Gradescope](https://www.gradescope.com/courses/576157) y envía el archivo zip a la tarea correspondiente. El nombre de esta tarea es \"Lab XX Autograder\", donde XX es el número de laboratorio: 01, 02, 03, etc.\n",
        "\n",
        "- Si terminas temprano en el laboratorio regular, **pídele a uno de los miembros del personal que te marque**.\n",
        "\n",
        "**Es su responsabilidad asegurarse de que su trabajo esté guardado antes de ejecutar la última celda.**"
      ],
      "id": "naYoScsvphQ1"
    },
    {
      "cell_type": "markdown",
      "metadata": {
        "deletable": false,
        "editable": false,
        "id": "OQDcGAKJphQ2"
      },
      "source": [
        "## Envío\n",
        "\n",
        "Asegúrese de haber ejecutado todas las celdas de su cuaderno en orden antes de ejecutar la siguiente celda, para que todas las imágenes/gráficos aparezcan en el resultado. La siguiente celda generará un archivo zip para que lo envíe. **¡Guarde antes de exportar!**"
      ],
      "id": "OQDcGAKJphQ2"
    },
    {
      "cell_type": "code",
      "execution_count": null,
      "metadata": {
        "deletable": false,
        "editable": false,
        "id": "IL_fWno2phQ2"
      },
      "outputs": [],
      "source": [
        "# Save your notebook first, then run this cell to export your submission.\n",
        "grader.export(pdf=False, run_tests=True)"
      ],
      "id": "IL_fWno2phQ2"
    },
    {
      "cell_type": "markdown",
      "metadata": {
        "id": "TvhJkC9UphQ2"
      },
      "source": [
        ""
      ],
      "id": "TvhJkC9UphQ2"
    }
  ],
  "metadata": {
    "kernelspec": {
      "display_name": "Python 3",
      "language": "python",
      "name": "python3"
    },
    "language_info": {
      "codemirror_mode": {
        "name": "ipython",
        "version": 3
      },
      "file_extension": ".py",
      "mimetype": "text/x-python",
      "name": "python",
      "nbconvert_exporter": "python",
      "pygments_lexer": "ipython3",
      "version": "3.11.2"
    },
    "otter": {
      "OK_FORMAT": true,
      "tests": {
        "q11": {
          "name": "q11",
          "points": null,
          "suites": [
            {
              "cases": [
                {
                  "code": ">>> number_cheese == 3\nTrue",
                  "hidden": false,
                  "locked": false
                }
              ],
              "scored": true,
              "setup": "",
              "teardown": "",
              "type": "doctest"
            }
          ]
        },
        "q12": {
          "name": "q12",
          "points": null,
          "suites": [
            {
              "cases": [
                {
                  "code": ">>> say_please == 'More please'\nTrue",
                  "hidden": false,
                  "locked": false
                }
              ],
              "scored": true,
              "setup": "",
              "teardown": "",
              "type": "doctest"
            }
          ]
        },
        "q13": {
          "name": "q13",
          "points": null,
          "suites": [
            {
              "cases": [
                {
                  "code": ">>> nacho_reaction('salsa')\n'Spicy!'",
                  "hidden": false,
                  "locked": false
                },
                {
                  "code": ">>> nacho_reaction('cheese')\n'Cheesy!'",
                  "hidden": false,
                  "locked": false
                },
                {
                  "code": ">>> nacho_reaction('both')\n'Wow!'",
                  "hidden": false,
                  "locked": false
                },
                {
                  "code": ">>> nacho_reaction('neither')\n'Meh.'",
                  "hidden": false,
                  "locked": false
                }
              ],
              "scored": true,
              "setup": "",
              "teardown": "",
              "type": "doctest"
            }
          ]
        },
        "q14": {
          "name": "q14",
          "points": null,
          "suites": [
            {
              "cases": [
                {
                  "code": ">>> # One or more of the reaction results could be incorrect\n>>> np.count_nonzero(ten_nachos_reactions.column('Reactions') == make_array('Meh.', 'Cheesy!', 'Wow!', 'Wow!', 'Cheesy!', 'Spicy!', 'Wow!', 'Meh.', 'Cheesy!', 'Wow!')) == 10\nTrue",
                  "hidden": false,
                  "locked": false
                }
              ],
              "scored": true,
              "setup": "",
              "teardown": "",
              "type": "doctest"
            }
          ]
        },
        "q15": {
          "name": "q15",
          "points": null,
          "suites": [
            {
              "cases": [
                {
                  "code": ">>> 2 < number_wow_reactions < 6\nTrue",
                  "hidden": false,
                  "locked": false
                },
                {
                  "code": ">>> # Incorrect value for number_wow_reactions\n>>> number_wow_reactions == 4\nTrue",
                  "hidden": false,
                  "locked": false
                }
              ],
              "scored": true,
              "setup": "",
              "teardown": "",
              "type": "doctest"
            }
          ]
        },
        "q21": {
          "name": "q21",
          "points": null,
          "suites": [
            {
              "cases": [
                {
                  "code": ">>> longer_than_five == 35453\nTrue",
                  "hidden": false,
                  "locked": false
                }
              ],
              "scored": true,
              "setup": "",
              "teardown": "",
              "type": "doctest"
            }
          ]
        },
        "q22": {
          "name": "q22",
          "points": null,
          "suites": [
            {
              "cases": [
                {
                  "code": ">>> 8100 <= num_different <= 9100\nTrue",
                  "hidden": false,
                  "locked": false
                }
              ],
              "scored": true,
              "setup": "",
              "teardown": "",
              "type": "doctest"
            }
          ]
        },
        "q31": {
          "name": "q31",
          "points": null,
          "suites": [
            {
              "cases": [
                {
                  "code": ">>> stats = compute_statistics(full_data)\n>>> plt.close()\n>>> plt.close()\n>>> round(float(stats[0]), 2) == 26.54\nTrue",
                  "hidden": false,
                  "locked": false
                },
                {
                  "code": ">>> stats = compute_statistics(full_data)\n>>> plt.close()\n>>> plt.close()\n>>> round(float(stats[1]), 2) == 4269775.77\nTrue",
                  "hidden": false,
                  "locked": false
                }
              ],
              "scored": true,
              "setup": "",
              "teardown": "",
              "type": "doctest"
            }
          ]
        },
        "q41": {
          "name": "q41",
          "points": null,
          "suites": [
            {
              "cases": [
                {
                  "code": ">>> 3000 <= total_score <= 4000\nTrue",
                  "hidden": false,
                  "locked": false
                }
              ],
              "scored": true,
              "setup": "",
              "teardown": "",
              "type": "doctest"
            }
          ]
        }
      }
    },
    "colab": {
      "provenance": []
    }
  },
  "nbformat": 4,
  "nbformat_minor": 5
}