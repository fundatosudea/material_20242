{
  "cells": [
    {
      "cell_type": "markdown",
      "metadata": {
        "id": "view-in-github",
        "colab_type": "text"
      },
      "source": [
        "<a href=\"https://colab.research.google.com/github/darioblandon/materials-fa23/blob/main/lab/lab04/lab04_td.ipynb\" target=\"_parent\"><img src=\"https://colab.research.google.com/assets/colab-badge.svg\" alt=\"Open In Colab\"/></a>"
      ]
    },
    {
      "cell_type": "code",
      "execution_count": null,
      "metadata": {
        "deletable": false,
        "editable": false,
        "id": "Pzk_3T3CLev9"
      },
      "outputs": [],
      "source": [
        "# Initialize Otter\n",
        "import otter\n",
        "grader = otter.Notebook(\"lab04.ipynb\")"
      ],
      "id": "Pzk_3T3CLev9"
    },
    {
      "cell_type": "markdown",
      "metadata": {
        "id": "Mw7fP0xxLewA"
      },
      "source": [
        "<p><img alt=\"Colaboratory logo\" height=\"140px\" src=\"https://upload.wikimedia.org/wikipedia/commons/archive/f/fb/20161010213812%21Escudo-UdeA.svg\" align=\"left\" hspace=\"10px\" vspace=\"0px\"></p>\n",
        "\n",
        "<h1> Fundamentos en ciencias de datos</h1>\n",
        "\n",
        "# Laboratorio 4: Funciones y Visualizaciones\n",
        "\n",
        "¡Bienvenidos al Laboratorio 4! ¡Esta semana aprenderemos sobre funciones, métodos de tablas como \"aplicar\" y cómo generar visualizaciones!\n",
        "\n",
        "Lectura recomendada:\n",
        "\n",
        "* [Aplicar una función a una columna](https://inferentialthinking.com/chapters/08/1/Applying_a_Function_to_a_Column.html)\n",
        "* [Visualizaciones](https://inferentialthinking.com/chapters/07/Visualization.html)\n",
        "* [Referencia de Python](https://www.data8.org/fa23/reference/)\n",
        "\n",
        "**Fecha límite de envío de laboratorio (solo laboratorio de autoservicio): viernes 27 de septiembre a las 11 p.m.**"
      ],
      "id": "Mw7fP0xxLewA"
    },
    {
      "cell_type": "markdown",
      "metadata": {
        "id": "mnRtTmEVLewC"
      },
      "source": [
        "**Obtener ayuda en el laboratorio**: Siempre que te sientas estancado o necesites más aclaraciones, busca un GSI o un tutor, ¡y estarán encantados de ayudarte!\n",
        "\n",
        "Estas son las políticas para obtener crédito completo:\n",
        "\n",
        "1. Para los estudiantes inscritos en <span style=\"color: #BC412B\">**Regular Labs**</span> en persona, recibirán crédito de laboratorio al **asistir** a la sección de laboratorio y lograr un progreso significativo en el cuaderno de laboratorio. **<span style=\"text-decoration: underline\">debes</span>** enviar esta tarea a Gradescope.\n",
        "\n",
        "2. Los estudiantes inscritos en <span style=\"color: #04888B\">**Laboratorio de autoservicio**</span> recibirán crédito de laboratorio al **completar** el cuaderno, aprobar los casos de prueba y **enviándolo** a Gradescope antes de las **11:59 p. m. de la fecha de entrega**.\n",
        "\n",
        "**Envío**: una vez que haya terminado, ejecute todas las celdas además de la última, seleccione Archivo > Guardar cuaderno y luego ejecute la celda final. El resultado contendrá un archivo zip que podrá utilizar para enviarlo en Gradescope.\n",
        "\n",
        "Comencemos configurando las pruebas y las importaciones ejecutando la siguiente celda."
      ],
      "id": "mnRtTmEVLewC"
    },
    {
      "cell_type": "markdown",
      "metadata": {
        "id": "PbHABhEqLewD"
      },
      "source": [
        "First, set up the notebook by running the cell below."
      ],
      "id": "PbHABhEqLewD"
    },
    {
      "cell_type": "code",
      "execution_count": null,
      "metadata": {
        "id": "eXWXTxh3LewD"
      },
      "outputs": [],
      "source": [
        "import numpy as np\n",
        "from datascience import *\n",
        "\n",
        "# Estas líneas configuran capacidades gráficas.\n",
        "import matplotlib\n",
        "%matplotlib inline\n",
        "import matplotlib.pyplot as plt\n",
        "plt.style.use('fivethirtyeight')\n",
        "import warnings\n",
        "warnings.simplefilter('ignore', FutureWarning)"
      ],
      "id": "eXWXTxh3LewD"
    },
    {
      "cell_type": "markdown",
      "metadata": {
        "id": "KeLo6hRrLewE"
      },
      "source": [
        "## 1. Definición de funciones\n",
        "\n",
        "Comencemos escribiendo una función que convierta una proporción en porcentaje multiplicándola por 100. Por ejemplo, el valor de `to_percentage(.5)` debe ser el número 50 (sin signo de porcentaje).\n",
        "\n",
        "Una definición de función tiene algunas partes."
      ],
      "id": "KeLo6hRrLewE"
    },
    {
      "cell_type": "markdown",
      "metadata": {
        "id": "Rp_hVTrALewE"
      },
      "source": [
        "##### `def`\n",
        "Creamos una función con una declaración `def` (abreviatura de **def**ine):\n",
        "<br>\n",
        "<pre style=\"margin-left: 40px; font-family: 'Courier New';\"><code><span style=\"font-weight: bold; color: green\">def</span></code>\n",
        "</pre>"
      ],
      "id": "Rp_hVTrALewE"
    },
    {
      "cell_type": "markdown",
      "metadata": {
        "id": "6cUkzEN6LewF"
      },
      "source": [
        "##### Nombre\n",
        "Luego viene el nombre de la función. Al igual que otros nombres que hemos definido, no puede comenzar con un número ni contener espacios. Llamemos a nuestra función `to_percentage`:\n",
        "    \n",
        "<br>\n",
        "<pre style=\"margin-left: 40px; font-family: 'Courier New';\"><code><span style=\"font-weight: bold; color: green\">def</span> <span style=\"color: blue\">to_percentage</span></code>\n",
        "</pre>"
      ],
      "id": "6cUkzEN6LewF"
    },
    {
      "cell_type": "markdown",
      "metadata": {
        "id": "r6MUZ0NeLewG"
      },
      "source": [
        "##### Signature\n",
        "Luego viene algo ___firma___ de la función. Esto le dice a Python el número de **argumentos** en la función y los nombres de esos argumentos. Un argumento es un valor que se _pasa_ a la función cuando se llama. Una función puede tener cualquier número de argumentos (¡incluido 0!).\n",
        "\n",
        "`to_percentage` debe tomar un argumento, y a ese argumento lo llamaremos `proporción` ya que debe ser una proporción.\n",
        "<br>\n",
        "<pre style=\"margin-left: 40px; font-family: 'Courier New';\"><code><span style=\"font-weight: bold; color: green\">def</span> <span style=\"color: blue\">to_percentage</span>(proportion)</code>\n",
        "</pre>\n",
        "    \n",
        "Si queremos que nuestra función tome más de un argumento, agregamos una coma entre el nombre de cada argumento, es decir, to_percentage(proporción, decimales). Tenga en cuenta que si tuviéramos cero argumentos, aún colocaríamos los paréntesis () después de ese nombre.\n",
        "\n",
        "Ponemos **dos puntos** después de la asignación para indicarle a Python que las siguientes líneas identadas son el cuerpo de la función. ¡Asegúrate de recordar los dos puntos!\n",
        "\n",
        "<br>\n",
        "<pre style=\"margin-left: 40px; font-family: 'Courier New';\"><code><span style=\"font-weight: bold; color: green\">def</span> <span style=\"color: blue\">to_percentage</span>(proportion):</code>\n",
        "</pre>"
      ],
      "id": "r6MUZ0NeLewG"
    },
    {
      "cell_type": "markdown",
      "metadata": {
        "id": "PqAQ9LpLLewG"
      },
      "source": [
        "##### Documentación\n",
        "Las funciones pueden hacer cosas complicadas, por lo que debes escribir una explicación de lo que hace tu función. Para funciones pequeñas, esto es menos importante, pero es un buen hábito aprender desde el principio (aunque la documentación no es estrictamente necesaria). Convencionalmente, las funciones de Python se documentan escribiendo una cadena **indentada** entre comillas triples:\n",
        "\n",
        "<br>\n",
        "<pre style=\"margin-left: 40px; font-family: 'Courier New';\"><code><span style=\"font-weight: bold; color: green\">def</span> <span style=\"color: blue\">to_percentage</span>(proportion):<br><span style=\"padding-left: 40px\"><span style=\"color: red\">\"\"\"Converts a proportion to a percentage.\"\"\"</span></span></code>\n",
        "</pre>"
      ],
      "id": "PqAQ9LpLLewG"
    },
    {
      "cell_type": "markdown",
      "metadata": {
        "id": "daFgG65YLewH"
      },
      "source": [
        "##### Body\n",
        "Ahora comenzamos a escribir código que se ejecuta cuando se llama a la función. Esto se llama *cuerpo* de la función y cada línea **debe tener una sangría con una tabulación**. Cualquier línea que *no* tenga sangría y esté alineada a la izquierda con la declaración def se considera fuera de la función.\n",
        "\n",
        "Algunas notas sobre el cuerpo de la función:\n",
        "- Podemos escribir código que escribiríamos en cualquier otro lugar.\n",
        "- Usamos los argumentos definidos en la firma de la función. Podemos hacer esto porque se asignan valores a esos argumentos cuando llamamos a la función.\n",
        "- Generalmente evitamos hacer referencia a variables definidas *fuera* de la función. Si desea hacer referencia a variables fuera de la función, ¡páselas como argumentos!\n",
        "\n",
        "\n",
        "Ahora, vamos a darle un nombre al número por el que multiplicamos una proporción para obtener un porcentaje:\n",
        "\n",
        "<br>\n",
        "<pre style=\"margin-left: 40px; font-family: 'Courier New';\"><code><span style=\"font-weight: bold; color: green\">def</span> <span style=\"color: blue\">to_percentage</span>(proportion):<br><span style=\"padding-left: 40px\"><span style=\"color: red\">\"\"\"Converts a proportion to a percentage.\"\"\"</span></span>\n",
        "<span style=\"padding-left: 40px\">factor <span style=\"color: purple\">=</span> <span style=\"color: green\">100</span></span></code>\n",
        "</pre>"
      ],
      "id": "daFgG65YLewH"
    },
    {
      "cell_type": "markdown",
      "metadata": {
        "id": "UUPj-LrJLewH"
      },
      "source": [
        "##### `return`\n",
        "La instrucción especial \"return\" es parte del cuerpo de la función y le dice a Python que haga que el valor de la llamada a la función sea igual a lo que viene justo después de \"return\". Queremos que el valor de `to_percentage(.5)` sea la proporción .5 veces el factor 100, así que escribimos:\n",
        "<br>\n",
        "<pre style=\"margin-left: 40px; font-family: 'Courier New';\"><code><span style=\"font-weight: bold; color: green\">def</span> <span style=\"color: blue\">to_percentage</span>(proportion):<br><span style=\"padding-left: 40px\"><span style=\"color: red\">\"\"\"Converts a proportion to a percentage.\"\"\"</span></span>\n",
        "<span style=\"padding-left: 40px\">factor <span style=\"color: purple\">=</span> <span style=\"color: green\">100</span></span>\n",
        "<span style=\"padding-left: 40px\"><span style=\"font-weight: bold; color: green\">return</span> proportion <span style=\"color: purple\">*</span> factor</span>\n",
        "</code>\n",
        "</pre>\n",
        "        \n",
        "`return` solo tiene sentido en el contexto de una función y **nunca se puede usar fuera de una función**. `return` es siempre la última línea de la función porque Python deja de ejecutar el cuerpo de una función una vez que llega a una declaración `return`. Asegúrese de incluir una declaración de devolución a menos que no espere que la función devuelva nada.\n",
        "\n",
        "*Nota:* `return` dentro de una función le dice a Python a qué valor se evalúa la función. Sin embargo, hay otras funciones, como \"imprimir\", que no tienen valor de \"retorno\". Por ejemplo, \"imprimir\" simplemente imprime un valor determinado en la consola.\n",
        "\n",
        "En resumen, \"return\" se usa cuando quieres decirle a la *computadora* cuál es el valor de alguna variable, mientras que \"print\" se usa para decirte a ti, un *humano*, su valor."
      ],
      "id": "UUPj-LrJLewH"
    },
    {
      "cell_type": "markdown",
      "metadata": {
        "id": "wdKmf-3vLewH"
      },
      "source": [
        "**Question 1.1.** Define `to_percentage` in the cell below.  Call your function to convert the proportion .2 to a percentage.  Name that percentage `twenty_percent`.\n"
      ],
      "id": "wdKmf-3vLewH"
    },
    {
      "cell_type": "code",
      "execution_count": null,
      "metadata": {
        "tags": [],
        "id": "eBjGxT7eLewI"
      },
      "outputs": [],
      "source": [
        "def ...\n",
        "    ''' (Replace this with your documentation) '''\n",
        "    ... = ...\n",
        "    return ...\n",
        "\n",
        "twenty_percent = ...\n",
        "twenty_percent"
      ],
      "id": "eBjGxT7eLewI"
    },
    {
      "cell_type": "code",
      "execution_count": null,
      "metadata": {
        "deletable": false,
        "editable": false,
        "id": "hsq3AV7uLewI"
      },
      "outputs": [],
      "source": [
        "grader.check(\"q11\")"
      ],
      "id": "hsq3AV7uLewI"
    },
    {
      "cell_type": "markdown",
      "metadata": {
        "id": "e5eC6ARgLewI"
      },
      "source": [
        "Aquí hay algo importante sobre las funciones: **los nombres asignados *dentro* del cuerpo de una función solo son accesibles dentro del cuerpo de la función**. Una vez que la función ha regresado, esos nombres desaparecen. Entonces, incluso si creó una variable llamada `factor` y definió `factor = 100` dentro del cuerpo de la función `to_percentage` y luego llamó `to_percentage`, `factor` no tendría un valor asignado fuera del cuerpo. de `a_porcentaje`:\n",
        "\n",
        "**Nota**: A continuación, debería ver un mensaje de error \"NameError\" que indica que el \"nombre 'factor' no está definido\". Python arroja este error porque \"factor\" no se ha definido fuera del cuerpo de la función \"to_percentage\"."
      ],
      "id": "e5eC6ARgLewI"
    },
    {
      "cell_type": "code",
      "execution_count": null,
      "metadata": {
        "deletable": false,
        "tags": [
          "raises-exception"
        ],
        "id": "wLRqXKvcLewJ"
      },
      "outputs": [],
      "source": [
        "# Deberías recibir un error al ejecutar esto. (Si no lo haces,\n",
        "# es posible que haya definido el factor en algún lugar arriba).\n",
        "factor"
      ],
      "id": "wLRqXKvcLewJ"
    },
    {
      "cell_type": "markdown",
      "metadata": {
        "id": "W6OquseILewJ"
      },
      "source": [
        "Como lo hizo con las funciones integradas en laboratorios anteriores (max, abs, etc.), puede pasar valores con nombre como argumentos a su función.\n",
        "\n",
        "**Pregunta 1.2.** Utilice `to_percentage` nuevamente para convertir la proporción denominada `a_proportion` (definida a continuación) en un porcentaje llamado `a_percentage`.\n",
        "\n",
        "*Nota:* ¡No es necesario volver a definir `to_percentage`! Al igual que otros valores con nombre, las funciones permanecen después de que las defines."
      ],
      "id": "W6OquseILewJ"
    },
    {
      "cell_type": "code",
      "execution_count": null,
      "metadata": {
        "tags": [],
        "id": "HmncUFu_LewJ"
      },
      "outputs": [],
      "source": [
        "a_proportion = 2**(0.5) / 2\n",
        "a_percentage = ...\n",
        "a_percentage"
      ],
      "id": "HmncUFu_LewJ"
    },
    {
      "cell_type": "code",
      "execution_count": null,
      "metadata": {
        "deletable": false,
        "editable": false,
        "id": "gcmWlRHLLewK"
      },
      "outputs": [],
      "source": [
        "grader.check(\"q12\")"
      ],
      "id": "gcmWlRHLLewK"
    },
    {
      "cell_type": "markdown",
      "metadata": {
        "id": "s2szoFZxLewK"
      },
      "source": [
        "En la siguiente celda, definiremos una función llamada `disemvocal`. Toma una sola cadena como argumento. Devuelve una copia de esa cadena, pero con todos los caracteres que son vocales eliminados. (En inglés, las vocales son los caracteres \"a\", \"e\", \"i\", \"o\" y \"u\").\n",
        "\n",
        "Para eliminar todas las \"a\" de una cadena, usamos `a_string.replace(\"a\", \"\")`. El método `.replace` para cadenas devuelve una nueva cadena, por lo que podemos llamar a `replace` varias veces, una tras otra."
      ],
      "id": "s2szoFZxLewK"
    },
    {
      "cell_type": "code",
      "execution_count": null,
      "metadata": {
        "id": "H5NsXdSKLewK"
      },
      "outputs": [],
      "source": [
        "def disemvowel(a_string):\n",
        "    \"\"\"Removes all vowels from a string.\"\"\"\n",
        "    return a_string.replace(\"a\", \"\").replace(\"e\", \"\").replace(\"i\", \"\").replace(\"o\", \"\").replace(\"u\", \"\")\n",
        "\n",
        "# Un ejemplo de llamada a la función. (A menudo es útil ejecutar\n",
        "# una llamada de ejemplo de vez en cuando mientras escribimos una función,\n",
        "# para ver cómo funciona actualmente).\n",
        "disemvowels(\"¿Puedes leer esto sin vocales?\")"
      ],
      "id": "H5NsXdSKLewK"
    },
    {
      "cell_type": "markdown",
      "metadata": {
        "id": "BFIC0yReLewK"
      },
      "source": [
        "##### Llamadas sobre llamadas sobre llamadas\n",
        "Así como escribes una serie de líneas para construir un cálculo complejo, es útil definir una serie de pequeñas funciones que se complementan entre sí. Como puedes escribir cualquier código dentro del cuerpo de una función, puedes llamar a otras funciones que hayas escrito.\n",
        "\n",
        "Si una función es como una receta, definir una función en términos de otras funciones es como tener una receta de pastel que te dice que sigas otra receta para hacer el glaseado y otra para hacer el relleno de mermelada. Esto hace que la receta del pastel sea más corta y clara, y evita tener un montón de recetas de glaseado duplicadas. Es la base de la programación productiva.\n",
        "\n",
        "Por ejemplo, supongamos que desea contar el número de caracteres *que no son vocales* en un fragmento de texto. Una forma de hacerlo es eliminar todas las vocales y contar el tamaño de la cadena restante.\n",
        "\n",
        "**Pregunta 1.3.** Escribe una función llamada `num_non_vocals`. Debería tomar una cadena como argumento y devolver un número. Ese número debe ser el número de caracteres en la cadena del argumento que no sean vocales. Debes usar la función `disemvocal` que proporcionamos arriba dentro de la función `num_non_vocals`.\n",
        "\n",
        "*Pista:* La función `len` toma una cadena como argumento y devuelve el número de caracteres que contiene.\n"
      ],
      "id": "BFIC0yReLewK"
    },
    {
      "cell_type": "code",
      "execution_count": null,
      "metadata": {
        "tags": [],
        "id": "h1JMRBIQLewK"
      },
      "outputs": [],
      "source": [
        "def num_non_vowels(a_string):\n",
        "    \"\"\"The number of characters in a string, minus the vowels.\"\"\"\n",
        "    ...\n",
        "\n",
        "# Try calling your function yourself to make sure the output is what\n",
        "# you expect."
      ],
      "id": "h1JMRBIQLewK"
    },
    {
      "cell_type": "code",
      "execution_count": null,
      "metadata": {
        "deletable": false,
        "editable": false,
        "id": "ooNl3Y29LewL"
      },
      "outputs": [],
      "source": [
        "grader.check(\"q13\")"
      ],
      "id": "ooNl3Y29LewL"
    },
    {
      "cell_type": "markdown",
      "metadata": {
        "id": "Q1NBbpgdLewL"
      },
      "source": [
        "Functions can also encapsulate code that *displays output* instead of computing a value. For example, if you call `print` inside a function, and then call that function, something will get printed.\n",
        "\n",
        "The `movies_by_year` dataset in the textbook has information about movie sales in recent years.  Suppose you'd like to display the year with the 5th-highest total gross movie sales, printed within a sentence.  You might do this:"
      ],
      "id": "Q1NBbpgdLewL"
    },
    {
      "cell_type": "code",
      "execution_count": null,
      "metadata": {
        "id": "5kqPvAaXLewL"
      },
      "outputs": [],
      "source": [
        "movies_by_year = Table.read_table(\"movies_by_year.csv\")\n",
        "rank = 5\n",
        "fifth_from_top_movie_year = movies_by_year.sort(\"Total Gross\", descending=True).column(\"Year\").item(rank-1)\n",
        "print(\"Year number\", rank, \"for total gross movie sales was:\", fifth_from_top_movie_year)"
      ],
      "id": "5kqPvAaXLewL"
    },
    {
      "cell_type": "markdown",
      "metadata": {
        "id": "IPtHASqSLewL"
      },
      "source": [
        "Después de escribir esto, te das cuenta de que también querías imprimir el segundo y tercer año con mayor puntuación. En lugar de copiar tu código, decides ponerlo en una función. Dado que el rango varía, lo convierte en un argumento para su función.\n",
        "\n",
        "**Pregunta 1.4.** Escribe una función llamada `print_kth_top_movie_year`. Debería tomar un único argumento, la clasificación del año (como 2, 3 o 5 en los ejemplos anteriores) y debería utilizar la tabla `movies_by_year`. Debería imprimir un mensaje como el de arriba.\n",
        "\n",
        "*Nota:* Su función no debería tener una declaración de \"retorno\".\n"
      ],
      "id": "IPtHASqSLewL"
    },
    {
      "cell_type": "code",
      "execution_count": null,
      "metadata": {
        "id": "0UO3hc_bLewL"
      },
      "outputs": [],
      "source": [
        "def print_kth_top_movie_year(k):\n",
        "    # COMENZAR LA SOLUCIÓN\n",
        "    year = movies_by_year.sort(\"Total Gross\", descending=True).column(\"Year\").item(k-1)\n",
        "    print(\"Year number\", k, \"for total gross movie sales was:\", year)\n",
        "    # SOLUCIÓN FINAL\n",
        "    \"\"\" # BEGIN PROMPT\n",
        "    ...\n",
        "    print(...)\n",
        "\"\"\"; # INDICACIÓN DE FINALIZACIÓN\n",
        "\n",
        "# Ejemplos de llamadas a tu función:\n",
        "print_kth_top_movie_year(2)\n",
        "print_kth_top_movie_year(3)"
      ],
      "id": "0UO3hc_bLewL"
    },
    {
      "cell_type": "code",
      "execution_count": null,
      "metadata": {
        "deletable": false,
        "editable": false,
        "id": "wbcjYfsvLewM"
      },
      "outputs": [],
      "source": [
        "grader.check(\"q14\")"
      ],
      "id": "wbcjYfsvLewM"
    },
    {
      "cell_type": "markdown",
      "metadata": {
        "id": "JH9NW1mKLewM"
      },
      "source": [
        "### `print` No es la misma que `return`\n",
        "La función `print_kth_top_movie_year(k)` imprime las ventas brutas totales de películas para el año proporcionado! Sin embargo, como no devolvimos ningún valor en esta función, no podemos usarla después de llamarla. Veamos un ejemplo de otra función que imprime un valor pero no lo devuelve."
      ],
      "id": "JH9NW1mKLewM"
    },
    {
      "cell_type": "code",
      "execution_count": null,
      "metadata": {
        "id": "LMwT_z1iLewM"
      },
      "outputs": [],
      "source": [
        "def print_number_five():\n",
        "    print(5)"
      ],
      "id": "LMwT_z1iLewM"
    },
    {
      "cell_type": "code",
      "execution_count": null,
      "metadata": {
        "id": "QOP6NO_hLewM"
      },
      "outputs": [],
      "source": [
        "print_number_five()"
      ],
      "id": "QOP6NO_hLewM"
    },
    {
      "cell_type": "markdown",
      "metadata": {
        "id": "LkuaLRTnLewM"
      },
      "source": [
        "Sin embargo, si intentamos utilizar la salida de `print_number_five()`, vemos que se imprime el valor `5` pero obtenemos un TypeError cuando intentamos agregarle el número 2."
      ],
      "id": "LkuaLRTnLewM"
    },
    {
      "cell_type": "code",
      "execution_count": null,
      "metadata": {
        "tags": [
          "raises-exception"
        ],
        "id": "R00EOygjLewM"
      },
      "outputs": [],
      "source": [
        "print_number_five_output = print_number_five()\n",
        "print_number_five_output + 2"
      ],
      "id": "R00EOygjLewM"
    },
    {
      "cell_type": "markdown",
      "metadata": {
        "id": "l5LG84d5LewN"
      },
      "source": [
        "Puede parecer que `print_number_five()` está devolviendo un valor, 5. En realidad, ¡solo te muestra el número 5 sin darte el valor real! Si su función imprime un valor **sin devolverlo** e intenta utilizar ese valor, se encontrará con errores, ¡así que tenga cuidado!\n",
        "\n",
        "Piensa en cómo podrías agregar una línea de código a la función `print_number_five` (después de `print(5)`) para que el código `print_number_five_output + 5` dé como resultado el valor `10`, en lugar de un error."
      ],
      "id": "l5LG84d5LewN"
    },
    {
      "cell_type": "markdown",
      "metadata": {
        "id": "h6Qkgd-xLewN"
      },
      "source": [
        "## 2. Funciones e ingresos del CEO\n",
        "\n",
        "En esta pregunta, veremos la remuneración de los directores ejecutivos de las 100 empresas más grandes de California en 2015. Los datos se compilaron a partir de un [análisis de Los Angeles Times] (http://spreadsheets.latimes.com/california-ceo-compensation/) y, en última instancia, provinieron de [presentaciones] (https://www.sec.gov/answers /proxyhtf.htm) exigido por la SEC para todas las empresas que cotizan en bolsa. Dos empresas tienen dos directores ejecutivos, por lo que hay 102 directores ejecutivos en el conjunto de datos.\n",
        "\n",
        "Copiamos los datos sin procesar de la página del LA Times en un archivo llamado `raw_compensation.csv`. (La página señala que todos los montos en dólares están en **millones de dólares**)."
      ],
      "id": "h6Qkgd-xLewN"
    },
    {
      "cell_type": "code",
      "execution_count": null,
      "metadata": {
        "id": "QAEKo8q1LewN"
      },
      "outputs": [],
      "source": [
        "raw_compensation = Table.read_table('raw_compensation.csv')\n",
        "raw_compensation"
      ],
      "id": "QAEKo8q1LewN"
    },
    {
      "cell_type": "markdown",
      "metadata": {
        "id": "cZZPNOSDLewN"
      },
      "source": [
        "Queremos calcular el promedio del salario de los directores ejecutivos. Intente ejecutar la celda a continuación."
      ],
      "id": "cZZPNOSDLewN"
    },
    {
      "cell_type": "code",
      "execution_count": null,
      "metadata": {
        "tags": [
          "raises-exception"
        ],
        "id": "J96JQF62LewV"
      },
      "outputs": [],
      "source": [
        "np.average(raw_compensation.column(\"Total Pay\"))"
      ],
      "id": "J96JQF62LewV"
    },
    {
      "cell_type": "markdown",
      "metadata": {
        "id": "5at7_7vcLewW"
      },
      "source": [
        "Deberías ver un \"TypeError\". Examinemos por qué ocurrió este error observando los valores en la columna \"Pago total\". Para hacerlo, podemos usar la función `tipo`. Esta función nos dice el tipo de datos del objeto que le pasamos. Ejecute las siguientes celdas para ver qué sucede cuando pasamos `23`, `3.5` y `\"Hello\"` a la función `type`. ¿Tienen sentido sus resultados?"
      ],
      "id": "5at7_7vcLewW"
    },
    {
      "cell_type": "code",
      "execution_count": null,
      "metadata": {
        "id": "a-nBOnjLLewW"
      },
      "outputs": [],
      "source": [
        "type(23)"
      ],
      "id": "a-nBOnjLLewW"
    },
    {
      "cell_type": "code",
      "execution_count": null,
      "metadata": {
        "id": "bOjQrL-8LewW"
      },
      "outputs": [],
      "source": [
        "type(3.5)"
      ],
      "id": "bOjQrL-8LewW"
    },
    {
      "cell_type": "code",
      "execution_count": null,
      "metadata": {
        "id": "k_dsxLyXLewW"
      },
      "outputs": [],
      "source": [
        "type(\"Hello\")"
      ],
      "id": "k_dsxLyXLewW"
    },
    {
      "cell_type": "markdown",
      "metadata": {
        "id": "ziyve7zLLewW"
      },
      "source": [
        "**Pregunta 2.1.** Utilice la función `type` y establezca `total_pay_type` en el tipo del primer valor en la columna \"Pago total\".\n"
      ],
      "id": "ziyve7zLLewW"
    },
    {
      "cell_type": "code",
      "execution_count": null,
      "metadata": {
        "tags": [],
        "id": "EMutrI4lLewX"
      },
      "outputs": [],
      "source": [
        "total_pay_type = ...\n",
        "total_pay_type"
      ],
      "id": "EMutrI4lLewX"
    },
    {
      "cell_type": "code",
      "execution_count": null,
      "metadata": {
        "deletable": false,
        "editable": false,
        "id": "Dq2TRiTNLewX"
      },
      "outputs": [],
      "source": [
        "grader.check(\"q21\")"
      ],
      "id": "Dq2TRiTNLewX"
    },
    {
      "cell_type": "markdown",
      "metadata": {
        "id": "TMRMXSoyLewX"
      },
      "source": [
        "**Pregunta 2.2.** Deberías haber descubierto que los valores en la columna \"Pago total\" son cadenas. No tiene sentido tomar el promedio de los valores de una cadena, por lo que debemos convertirlos a números. Extraiga el primer valor en \"Pago total\". Es el salario de Mark Hurd en 2015, en *millones* de dólares. Llámelo `mark_hurd_pay_string`.\n"
      ],
      "id": "TMRMXSoyLewX"
    },
    {
      "cell_type": "code",
      "execution_count": null,
      "metadata": {
        "tags": [],
        "id": "nvFR0FY2LewX"
      },
      "outputs": [],
      "source": [
        "mark_hurd_pay_string = ...\n",
        "mark_hurd_pay_string"
      ],
      "id": "nvFR0FY2LewX"
    },
    {
      "cell_type": "code",
      "execution_count": null,
      "metadata": {
        "deletable": false,
        "editable": false,
        "id": "Pt7B3_6nLewX"
      },
      "outputs": [],
      "source": [
        "grader.check(\"q22\")"
      ],
      "id": "Pt7B3_6nLewX"
    },
    {
      "cell_type": "markdown",
      "metadata": {
        "id": "j2EmudhvLewY"
      },
      "source": [
        "**Pregunta 2.3.** Convierta `mark_hurd_pay_string` a una cantidad de *dólares*.\n",
        "\n",
        "Algunas sugerencias, ya que esta pregunta requiere varios pasos:\n",
        "- El método de cadena `strip` será útil para eliminar el signo de dólar; elimina un carácter específico del inicio o final de una cadena. Por ejemplo, el valor de `\"100%\".strip(\"%\")` es la cadena `\"100\"`.\n",
        "- También necesitarás la función `float`, que convierte una cadena que parece un número en un número real. No te preocupes por el espacio en blanco al final de la cadena; la función `float` ignorará esto.\n",
        "- Por último, recuerda que la respuesta debe ser en dólares, no en millones de dólares.\n"
      ],
      "id": "j2EmudhvLewY"
    },
    {
      "cell_type": "code",
      "execution_count": null,
      "metadata": {
        "tags": [],
        "id": "kVrXykSaLewY"
      },
      "outputs": [],
      "source": [
        "mark_hurd_pay = ...\n",
        "mark_hurd_pay"
      ],
      "id": "kVrXykSaLewY"
    },
    {
      "cell_type": "code",
      "execution_count": null,
      "metadata": {
        "deletable": false,
        "editable": false,
        "id": "o4s_v4g6LewY"
      },
      "outputs": [],
      "source": [
        "grader.check(\"q23\")"
      ],
      "id": "o4s_v4g6LewY"
    },
    {
      "cell_type": "markdown",
      "metadata": {
        "id": "k4C6YKZ2LewY"
      },
      "source": [
        "Para calcular el salario promedio, debemos hacer esto para cada director ejecutivo. Pero parece que eso implicaría copiar este código 102 veces.\n",
        "\n",
        "En su lugar, usaremos funciones para realizar este cálculo. Más adelante en esta práctica de laboratorio, veremos el beneficio: podemos llamar a esa función en cada cadena de pago en el conjunto de datos a la vez.\n",
        "\n",
        "**Pregunta 2.4.** Copie la expresión que utilizó para calcular `mark_hurd_pay` y utilícela como expresión de retorno de la siguiente función. Pero asegúrese de reemplazar el `mark_hurd_pay_string` específico con el nombre genérico `pay_string` especificado en la primera línea de la declaración `def`.\n",
        "\n",
        "*Sugerencia*: Cuando se trata de funciones, generalmente no se debe hacer referencia a ninguna variable fuera de la función. Por lo general, desea trabajar con los argumentos que se le pasan, como `pay_string` para esta función. Si estás usando `mark_hurd_pay_string` dentro de tu función, ¡estás haciendo referencia a una variable externa!"
      ],
      "id": "k4C6YKZ2LewY"
    },
    {
      "cell_type": "code",
      "execution_count": null,
      "metadata": {
        "tags": [],
        "id": "DuLjmLbFLewY"
      },
      "outputs": [],
      "source": [
        "def convert_pay_string_to_number(pay_string):\n",
        "    \"\"\"Converts a pay string like '$100' (in millions) to a number of dollars.\"\"\"\n",
        "    ..."
      ],
      "id": "DuLjmLbFLewY"
    },
    {
      "cell_type": "code",
      "execution_count": null,
      "metadata": {
        "deletable": false,
        "editable": false,
        "id": "RcWvQTWVLewZ"
      },
      "outputs": [],
      "source": [
        "grader.check(\"q24\")"
      ],
      "id": "RcWvQTWVLewZ"
    },
    {
      "cell_type": "markdown",
      "metadata": {
        "id": "UQFnmv6-LewZ"
      },
      "source": [
        "Ejecutar esa celda no convierte ninguna cadena de pago en particular. En su lugar, crea una función llamada `convert_pay_string_to_number` que puede convertir *cualquier* cadena con el formato correcto en un número que represente millones de dólares.\n",
        "\n",
        "Podemos llamar a nuestra función tal como llamamos a las funciones integradas que hemos visto. Toma un argumento, *una cadena*, y devuelve un flotante."
      ],
      "id": "UQFnmv6-LewZ"
    },
    {
      "cell_type": "code",
      "execution_count": null,
      "metadata": {
        "id": "2ZnjzqJ9LewZ"
      },
      "outputs": [],
      "source": [
        "convert_pay_string_to_number('$42')"
      ],
      "id": "2ZnjzqJ9LewZ"
    },
    {
      "cell_type": "code",
      "execution_count": null,
      "metadata": {
        "id": "aaYeBTPKLewZ"
      },
      "outputs": [],
      "source": [
        "convert_pay_string_to_number(mark_hurd_pay_string)"
      ],
      "id": "aaYeBTPKLewZ"
    },
    {
      "cell_type": "code",
      "execution_count": null,
      "metadata": {
        "id": "VfDI5fw8LewZ"
      },
      "outputs": [],
      "source": [
        "# También podemos calcular el salario de Safra Catz de la misma manera:\n",
        "convert_pay_string_to_number(raw_compensation.where(\"Name\", are.containing(\"Safra\")).column(\"Total Pay\").item(0))"
      ],
      "id": "VfDI5fw8LewZ"
    },
    {
      "cell_type": "markdown",
      "metadata": {
        "id": "vOupxAPhLewa"
      },
      "source": [
        "Con esta función, no tenemos que copiar el código que convierte una cadena de pago en un número cada vez que queremos convertir una cadena de pago. Ahora simplemente llamamos a una función cuyo nombre dice exactamente lo que está haciendo."
      ],
      "id": "vOupxAPhLewa"
    },
    {
      "cell_type": "markdown",
      "metadata": {
        "id": "YCw8_DLMLewa"
      },
      "source": [
        "## 3. `apply` funciones\n",
        "\n",
        "Definir una función es muy parecido a darle un nombre a un valor con `=`. De hecho, una función es un valor como el número 1 o el texto \"datos\".\n",
        "\n",
        "Por ejemplo, podemos crear un nuevo nombre para la función incorporada `max` si queremos:"
      ],
      "id": "YCw8_DLMLewa"
    },
    {
      "cell_type": "code",
      "execution_count": null,
      "metadata": {
        "id": "Ue6IVLjfLewa"
      },
      "outputs": [],
      "source": [
        "our_name_for_max = max\n",
        "our_name_for_max(2, 6)"
      ],
      "id": "Ue6IVLjfLewa"
    },
    {
      "cell_type": "markdown",
      "metadata": {
        "id": "gDLry9bYLewa"
      },
      "source": [
        "El antiguo nombre de \"max\" todavía existe:"
      ],
      "id": "gDLry9bYLewa"
    },
    {
      "cell_type": "code",
      "execution_count": null,
      "metadata": {
        "id": "wVu2qySkLewa"
      },
      "outputs": [],
      "source": [
        "max(2, 6)"
      ],
      "id": "wVu2qySkLewa"
    },
    {
      "cell_type": "markdown",
      "metadata": {
        "id": "5nKecATTLewa"
      },
      "source": [
        "Intente simplemente escribir `max` o `our_name_for_max` (o el nombre de cualquier otra función) en una celda y ejecute esa celda. Python imprimirá una descripción (muy breve) de la función."
      ],
      "id": "5nKecATTLewa"
    },
    {
      "cell_type": "code",
      "execution_count": null,
      "metadata": {
        "id": "HHprPikbLewb"
      },
      "outputs": [],
      "source": [
        "max"
      ],
      "id": "HHprPikbLewb"
    },
    {
      "cell_type": "markdown",
      "metadata": {
        "id": "AnURn73tLewb"
      },
      "source": [
        "Ahora intenta escribir `max?` o `our_name_for_max?` (o el nombre de cualquier otra función) en una celda y ejecuta esa celda. Debería aparecer un cuadro de información en la parte inferior de la pantalla con una descripción más larga de la función.\n",
        "\n",
        "*Nota: ¡También puedes presionar Shift+Tab después de hacer clic en un nombre para ver información similar!*"
      ],
      "id": "AnURn73tLewb"
    },
    {
      "cell_type": "code",
      "execution_count": null,
      "metadata": {
        "id": "felRg5mqLewb"
      },
      "outputs": [],
      "source": [
        "our_name_for_max?"
      ],
      "id": "felRg5mqLewb"
    },
    {
      "cell_type": "markdown",
      "metadata": {
        "id": "2qXfEr2jLewb"
      },
      "source": [
        "Veamos qué sucede cuando configuramos \"max\" en un valor que no es función. Python ahora cree que estás intentando utilizar un número como una función, lo que provoca un error. Esté atento a las funciones a las que se les haya cambiado el nombre cuando encuentre este tipo de error."
      ],
      "id": "2qXfEr2jLewb"
    },
    {
      "cell_type": "code",
      "execution_count": null,
      "metadata": {
        "tags": [
          "raises-exception"
        ],
        "id": "AO2olHwALewb"
      },
      "outputs": [],
      "source": [
        "max = 6\n",
        "max(2, 6)"
      ],
      "id": "AO2olHwALewb"
    },
    {
      "cell_type": "code",
      "execution_count": null,
      "metadata": {
        "id": "2P9NICKJLewb"
      },
      "outputs": [],
      "source": [
        "# Esta celda restablece max a la función incorporada. Simplemente ejecuta esta celda, no cambies su contenido.\n",
        "import builtins\n",
        "max = builtins.max"
      ],
      "id": "2P9NICKJLewb"
    },
    {
      "cell_type": "markdown",
      "metadata": {
        "id": "u_v66_S3Lewb"
      },
      "source": [
        "¿Por qué es esto útil? Como las funciones son sólo valores, es posible pasarlas como argumentos a otras funciones. Aquí hay un ejemplo simple pero no tan práctico: podemos crear una serie de funciones."
      ],
      "id": "u_v66_S3Lewb"
    },
    {
      "cell_type": "code",
      "execution_count": null,
      "metadata": {
        "id": "7HyQpQ0gLewc"
      },
      "outputs": [],
      "source": [
        "make_array(max, np.average, are.equal_to)"
      ],
      "id": "7HyQpQ0gLewc"
    },
    {
      "cell_type": "markdown",
      "metadata": {
        "id": "U6SToOdfLewc"
      },
      "source": [
        "**Pregunta 3.1.** Crea una matriz que contenga otras 3 funciones cualesquiera que hayas visto. Llámelo \"some_functions\"."
      ],
      "id": "U6SToOdfLewc"
    },
    {
      "cell_type": "code",
      "execution_count": null,
      "metadata": {
        "tags": [],
        "id": "GMPQT7YkLewc"
      },
      "outputs": [],
      "source": [
        "some_functions = ...\n",
        "some_functions"
      ],
      "id": "GMPQT7YkLewc"
    },
    {
      "cell_type": "code",
      "execution_count": null,
      "metadata": {
        "deletable": false,
        "editable": false,
        "id": "2g10PZLYLewc"
      },
      "outputs": [],
      "source": [
        "grader.check(\"q31\")"
      ],
      "id": "2g10PZLYLewc"
    },
    {
      "cell_type": "markdown",
      "metadata": {
        "id": "gE2JIiE6Lewc"
      },
      "source": [
        "Trabajar con funciones como valores puede generar un código de aspecto extraño. Por ejemplo, vea si puede descubrir por qué funciona el siguiente código."
      ],
      "id": "gE2JIiE6Lewc"
    },
    {
      "cell_type": "code",
      "execution_count": null,
      "metadata": {
        "id": "AXQ9m2AhLewc"
      },
      "outputs": [],
      "source": [
        "make_array(max, np.average, are.equal_to).item(0)(4, -2, 7)"
      ],
      "id": "AXQ9m2AhLewc"
    },
    {
      "cell_type": "markdown",
      "metadata": {
        "id": "Y-WyhnG6Lewd"
      },
      "source": [
        "Un ejemplo más útil de pasar funciones a otras funciones como argumentos es el método de tabla \"aplicar\".\n",
        "\n",
        "`apply` llama a una función muchas veces, una vez en *cada* elemento en una columna de una tabla. Produce una *matriz* de los resultados. Aquí usamos \"aplicar\" para convertir el pago de cada CEO a un número, usando la función que definiste:\n",
        "\n",
        "*Nota:* Verá una serie de números como `5.325e+07`. Esta es la forma en que Python representa la **notación científica**. Interpretamos \"5.325e+07\" como \"5.325 * 10**7\", o \"53.250.000\"."
      ],
      "id": "Y-WyhnG6Lewd"
    },
    {
      "cell_type": "code",
      "execution_count": null,
      "metadata": {
        "id": "rwhYm0_GLewd"
      },
      "outputs": [],
      "source": [
        "raw_compensation.apply(convert_pay_string_to_number, \"Total Pay\")"
      ],
      "id": "rwhYm0_GLewd"
    },
    {
      "cell_type": "markdown",
      "metadata": {
        "id": "Z-QBa8GkLewd"
      },
      "source": [
        "Aquí hay una ilustración de lo que eso hizo:\n",
        "\n",
        "<img src=\"https://github.com/darioblandon/materials-fa23/blob/main/lab/lab04/apply.png?raw=1\"/>\n",
        "\n",
        "Tenga en cuenta que no escribimos `raw_compensation.apply(convert_pay_string_to_number(), “Total Pay”)` o `raw_compensation.apply(convert_pay_string_to_number(“Total Pay”))`. Simplemente pasamos el nombre de la función, sin paréntesis, a \"aplicar\", porque todo lo que queremos hacer es que \"aplicar\" sepa el nombre de la función que nos gustaría usar y el nombre de la columna que Me gusta usarlo. ¡`apply` luego llamará a la función `convert_pay_string_to_number` en cada valor de la columna por nosotros! También tenga en cuenta que llamar a `tbl.apply` ___no___ altera la tabla original de ninguna manera.\n",
        "\n",
        "\n",
        "\n",
        "**Pregunta 3.2.** Usando `apply`, cree una tabla que sea una copia de `raw_compensation` con una columna adicional llamada `Total Pay ($)`. Esa columna debe contener el resultado de aplicar `convert_pay_string_to_number` a la columna `Total Pay` (como hicimos anteriormente). Llame a la nueva tabla \"compensación\".\n"
      ],
      "id": "Z-QBa8GkLewd"
    },
    {
      "cell_type": "code",
      "execution_count": null,
      "metadata": {
        "tags": [],
        "id": "uWpE31LuLewd"
      },
      "outputs": [],
      "source": [
        "compensation = raw_compensation.with_column(\n",
        "    \"Total Pay ($)\",\n",
        "    ...\n",
        "    )\n",
        "compensation"
      ],
      "id": "uWpE31LuLewd"
    },
    {
      "cell_type": "code",
      "execution_count": null,
      "metadata": {
        "deletable": false,
        "editable": false,
        "id": "5GdUo7RJLewe"
      },
      "outputs": [],
      "source": [
        "grader.check(\"q32\")"
      ],
      "id": "5GdUo7RJLewe"
    },
    {
      "cell_type": "markdown",
      "metadata": {
        "id": "MrLyYoEWLewe"
      },
      "source": [
        "Ahora que tenemos todos los pagos como números, podemos aprender más sobre ellos mediante el cálculo."
      ],
      "id": "MrLyYoEWLewe"
    },
    {
      "cell_type": "markdown",
      "metadata": {
        "id": "Cg9U3JjjLewe"
      },
      "source": [
        "**Pregunta 3.3.** Calcule el salario total promedio de los directores ejecutivos en el conjunto de datos.\n"
      ],
      "id": "Cg9U3JjjLewe"
    },
    {
      "cell_type": "code",
      "execution_count": null,
      "metadata": {
        "tags": [],
        "id": "QZk5pk5uLewe"
      },
      "outputs": [],
      "source": [
        "average_total_pay = ...\n",
        "average_total_pay"
      ],
      "id": "QZk5pk5uLewe"
    },
    {
      "cell_type": "code",
      "execution_count": null,
      "metadata": {
        "deletable": false,
        "editable": false,
        "id": "GOISpXLxLewe"
      },
      "outputs": [],
      "source": [
        "grader.check(\"q33\")"
      ],
      "id": "GOISpXLxLewe"
    },
    {
      "cell_type": "markdown",
      "metadata": {
        "id": "kLfI1F7yLewf"
      },
      "source": [
        "**Pregunta 3.4** Las empresas pagan a los ejecutivos de diversas formas: en efectivo, otorgándoles acciones u otro capital de la empresa, o con beneficios auxiliares (como jets privados). Calcule la proporción del pago de cada director ejecutivo que fue en efectivo. (Su respuesta debería ser una serie de números, uno para cada director ejecutivo en el conjunto de datos).\n",
        "\n",
        "*Pista:* ¿Qué función has definido que puede convertir una cadena en un número?\n"
      ],
      "id": "kLfI1F7yLewf"
    },
    {
      "cell_type": "code",
      "execution_count": null,
      "metadata": {
        "tags": [],
        "id": "pACa9kqxLewf"
      },
      "outputs": [],
      "source": [
        "cash_proportion = ...\n",
        "cash_proportion"
      ],
      "id": "pACa9kqxLewf"
    },
    {
      "cell_type": "code",
      "execution_count": null,
      "metadata": {
        "deletable": false,
        "editable": false,
        "id": "bF4rTtLNLewf"
      },
      "outputs": [],
      "source": [
        "grader.check(\"q34\")"
      ],
      "id": "bF4rTtLNLewf"
    },
    {
      "cell_type": "markdown",
      "metadata": {
        "for_assignment_type": "solution",
        "id": "mDHG5fJVLewf"
      },
      "source": [
        "**Why is `apply` useful?**\n",
        "\n",
        "For operations like arithmetic, or the functions in the NumPy library, you don't need to use `apply`, because they automatically work on each element of an array.  But there are many things that don't.  The string manipulation we did in today's lab is one example.  Since you can write any code you want in a function, `apply` gives you greater control over how you operate on data."
      ],
      "id": "mDHG5fJVLewf"
    },
    {
      "cell_type": "markdown",
      "metadata": {
        "id": "ImY6bT0MLewf"
      },
      "source": [
        "Consulte la columna \"% de cambio\" en \"compensación\". Muestra el aumento porcentual en la remuneración del director ejecutivo con respecto al año anterior. Para los directores ejecutivos que no tienen ningún año anterior registrado, en su lugar dice \"(Sin año anterior)\". Los valores en esta columna son *cadenas*, no números, por lo que, al igual que la columna \"Pago total\", no se puede utilizar sin un poco de trabajo adicional.\n",
        "\n",
        "Dado su salario actual y el aumento porcentual del año anterior, puede calcular el salario del año anterior. Por ejemplo, si su salario es $\\$120$ este año, y eso es un aumento del 50 % respecto al año anterior, entonces su salario del año anterior fue $\\frac{\\$120}{1 + \\frac{50}{100} }$ o \\$80.\n",
        "\n",
        "**Pregunta 3.5** Cree una nueva tabla llamada `with_previous_compensation`. Debería ser una copia de \"compensación\", pero con los directores ejecutivos \"(sin año anterior)\" filtrados y con una columna adicional llamada \"Pago total de 2014 ($)\". Esa columna debería tener la remuneración de cada director ejecutivo en 2014.\n",
        "\n",
        "*Pista 1:* Puedes imprimir tus resultados después de cada paso para asegurarte de que estás en el camino correcto.\n",
        "\n",
        "*Pista 2:* Hemos proporcionado una estructura que puedes utilizar para llegar a la respuesta. Sin embargo, si le resulta confuso, no dude en eliminar la estructura actual y abordar el problema a su manera.\n"
      ],
      "id": "ImY6bT0MLewf"
    },
    {
      "cell_type": "code",
      "execution_count": null,
      "metadata": {
        "tags": [],
        "id": "hcfdx1akLewg"
      },
      "outputs": [],
      "source": [
        "# Definition to turn percent to number\n",
        "def percent_string_to_num(percent_string):\n",
        "    \"\"\"Converts a percentage string to a number.\"\"\"\n",
        "    return ...\n",
        "\n",
        "# Compensation table where there is a previous year\n",
        "having_previous_year = ...\n",
        "\n",
        "# Get the percent changes as numbers instead of strings\n",
        "# We're still working off the table having_previous_year\n",
        "percent_changes = ...\n",
        "\n",
        "# Calculate the previous year's pay\n",
        "# We're still working off the table having_previous_year\n",
        "previous_pay = ...\n",
        "\n",
        "# Put the previous pay column into the having_previous_year table\n",
        "with_previous_compensation = ...\n",
        "\n",
        "with_previous_compensation"
      ],
      "id": "hcfdx1akLewg"
    },
    {
      "cell_type": "code",
      "execution_count": null,
      "metadata": {
        "deletable": false,
        "editable": false,
        "id": "CrWdMq0SLewg"
      },
      "outputs": [],
      "source": [
        "grader.check(\"q35\")"
      ],
      "id": "CrWdMq0SLewg"
    },
    {
      "cell_type": "markdown",
      "metadata": {
        "id": "nYFLcT_DLewg"
      },
      "source": [
        "**Pregunta 3.6** Determinar la remuneración media en 2014 de los CEOs que aparecen en la tabla `with_previous_compensationr`. Asigne este valor a la variable `average_pay_2014`."
      ],
      "id": "nYFLcT_DLewg"
    },
    {
      "cell_type": "code",
      "execution_count": null,
      "metadata": {
        "tags": [],
        "id": "fUHf5o_dLewg"
      },
      "outputs": [],
      "source": [
        "average_pay_2014 = ...\n",
        "average_pay_2014"
      ],
      "id": "fUHf5o_dLewg"
    },
    {
      "cell_type": "code",
      "execution_count": null,
      "metadata": {
        "deletable": false,
        "editable": false,
        "id": "A3E9l-rjLewg"
      },
      "outputs": [],
      "source": [
        "grader.check(\"q36\")"
      ],
      "id": "A3E9l-rjLewg"
    },
    {
      "cell_type": "markdown",
      "metadata": {
        "id": "z4h7r2zgLewh"
      },
      "source": [
        "## 4. Histogramas\n",
        "Anteriormente, calculamos el salario promedio entre los directores ejecutivos en nuestro conjunto de datos de 102 directores ejecutivos. Sin embargo, el promedio no nos dice todo sobre las cantidades que se les paga a los directores ejecutivos. Quizás sólo unos pocos directores ejecutivos ganen la mayor parte del dinero, incluso entre estos 102.\n",
        "\n",
        "Podemos usar un método de *histograma* para mostrar la *distribución* de un conjunto de números. El método de tabla `hist` toma un único argumento, el nombre de una columna de números. Produce un histograma de los números en esa columna.\n",
        "\n",
        "**Pregunta 4.1.** Haga un histograma del salario total de los CEO en `remuneración`. Consulte con un compañero o instructor para asegurarse de tener la trama correcta. *Si recibes una advertencia, ignórala.*\n",
        "\n",
        "*Sugerencia:* Si no está seguro de cómo crear un histograma, consulte la [hoja de referencia de Python](https://www.data8.org/fa23/reference/)."
      ],
      "id": "z4h7r2zgLewh"
    },
    {
      "cell_type": "code",
      "execution_count": null,
      "metadata": {
        "tags": [],
        "id": "4dXzIU87Lewh"
      },
      "outputs": [],
      "source": [
        "..."
      ],
      "id": "4dXzIU87Lewh"
    },
    {
      "cell_type": "markdown",
      "metadata": {
        "id": "qn54b304Lewh"
      },
      "source": [
        "**Pregunta 4.2.** ¿Cuántos directores ejecutivos ganaron más de $30 millones en salario total? Encuentre el valor usando el código, luego verifique que el valor que encontró sea consistente con lo que ve en el histograma."
      ],
      "id": "qn54b304Lewh"
    },
    {
      "cell_type": "code",
      "execution_count": null,
      "metadata": {
        "tags": [],
        "id": "2w0qTWg7Lewh"
      },
      "outputs": [],
      "source": [
        "num_ceos_more_than_30_million_2 = ...\n",
        "num_ceos_more_than_30_million_2"
      ],
      "id": "2w0qTWg7Lewh"
    },
    {
      "cell_type": "code",
      "execution_count": null,
      "metadata": {
        "deletable": false,
        "editable": false,
        "id": "xUoImMZ6Lewh"
      },
      "outputs": [],
      "source": [
        "grader.check(\"q42\")"
      ],
      "id": "xUoImMZ6Lewh"
    },
    {
      "cell_type": "markdown",
      "metadata": {
        "tags": [],
        "id": "ewBPzRtlLewh"
      },
      "source": [
        "<img src=\"https://github.com/darioblandon/materials-fa23/blob/main/lab/lab04/toby.png?raw=1\" alt=\"Photo of small dog being pet\" width=\"30%\"/>\n",
        "\n",
        "**Toby** está emocionado de que el sol vuelva a brillar. Ahora que has terminado el laboratorio 4, ¡puedes relajarte en el Claro con él!"
      ],
      "id": "ewBPzRtlLewh"
    },
    {
      "cell_type": "markdown",
      "metadata": {
        "id": "-VAKY8ebLewh"
      },
      "source": [
        "## 5. Formulario de socio del proyecto 1\n",
        "\n",
        "¡El Proyecto 1 se lanzará **este viernes** (27/9)! Tiene la opción de trabajar con un socio que esté inscrito en su laboratorio. Su GSI le enviará un formulario para conectarlo con un socio para este proyecto. También puedes indicar si trabajas solo o ya has encontrado pareja y no necesitas estar emparejado. Este formulario es **obligatorio**; complételo antes de enviar su laboratorio. Establezca \"enviado\" en \"Verdadero\" una vez que haya enviado el formulario.\n",
        "\n",
        "Nota: Si está completando esta práctica de laboratorio antes de tiempo, es posible que el formulario aún no se haya enviado. Establezca \"enviado\" en \"Verdadero\" por ahora y esté atento a un correo electrónico de su GSI a finales de esta semana."
      ],
      "id": "-VAKY8ebLewh"
    },
    {
      "cell_type": "code",
      "execution_count": null,
      "metadata": {
        "tags": [],
        "id": "YXB88XvxLewi"
      },
      "outputs": [],
      "source": [
        "submitted = ..."
      ],
      "id": "YXB88XvxLewi"
    },
    {
      "cell_type": "code",
      "execution_count": null,
      "metadata": {
        "deletable": false,
        "editable": false,
        "id": "ffoVJDDCLewi"
      },
      "outputs": [],
      "source": [
        "grader.check(\"q5\")"
      ],
      "id": "ffoVJDDCLewi"
    },
    {
      "cell_type": "markdown",
      "metadata": {
        "id": "IIiIGWc7Lewi"
      },
      "source": [
        "\n",
        "---\n",
        "\n",
        "¡Terminaste con el laboratorio!\n",
        "\n",
        "**Información importante sobre el envío:**\n",
        "- **Ejecuta todas las pruebas** y verifica que todas pasan\n",
        "- **Guardar** desde el menú **Archivo**\n",
        "- **Ejecute la celda final para generar el archivo zip**\n",
        "- **Haga clic en el enlace para descargar el archivo zip**\n",
        "- Luego, ve a [Gradescope](https://www.gradescope.com/courses/576157) y envía el archivo zip a la tarea correspondiente. El nombre de esta tarea es \"Lab XX Autograder\", donde XX es el número de laboratorio: 01, 02, 03, etc.\n",
        "\n",
        "- Si terminas temprano en el laboratorio regular, **pídele a uno de los miembros del personal que te marque**.\n",
        "\n",
        "**Es su responsabilidad asegurarse de que su trabajo esté guardado antes de ejecutar la última celda.**"
      ],
      "id": "IIiIGWc7Lewi"
    },
    {
      "cell_type": "markdown",
      "metadata": {
        "deletable": false,
        "editable": false,
        "id": "7ABzQ61WLewi"
      },
      "source": [
        "## Envío\n",
        "\n",
        "Asegúrese de haber ejecutado todas las celdas de su cuaderno en orden antes de ejecutar la siguiente celda, para que todas las imágenes/gráficos aparezcan en el resultado. La siguiente celda generará un archivo zip para que lo envíe. **¡Guarde antes de exportar!**"
      ],
      "id": "7ABzQ61WLewi"
    },
    {
      "cell_type": "code",
      "execution_count": null,
      "metadata": {
        "deletable": false,
        "editable": false,
        "id": "exUvcaZpLewi"
      },
      "outputs": [],
      "source": [
        "# Save your notebook first, then run this cell to export your submission.\n",
        "grader.export(pdf=False, run_tests=True)"
      ],
      "id": "exUvcaZpLewi"
    },
    {
      "cell_type": "markdown",
      "metadata": {
        "id": "S39jgebJLewi"
      },
      "source": [
        ""
      ],
      "id": "S39jgebJLewi"
    }
  ],
  "metadata": {
    "kernelspec": {
      "display_name": "Python 3",
      "language": "python",
      "name": "python3"
    },
    "language_info": {
      "codemirror_mode": {
        "name": "ipython",
        "version": 3
      },
      "file_extension": ".py",
      "mimetype": "text/x-python",
      "name": "python",
      "nbconvert_exporter": "python",
      "pygments_lexer": "ipython3",
      "version": "3.11.2"
    },
    "otter": {
      "OK_FORMAT": true,
      "tests": {
        "q11": {
          "name": "q11",
          "points": null,
          "suites": [
            {
              "cases": [
                {
                  "code": ">>> # Make sure your function has the proper syntax!\n>>> to_percentage(.35) == 35.0\nTrue",
                  "hidden": false,
                  "locked": false
                },
                {
                  "code": ">>> # Make sure you are passing in the proper argument!\n>>> twenty_percent == 20.0\nTrue",
                  "hidden": false,
                  "locked": false
                }
              ],
              "scored": true,
              "setup": "",
              "teardown": "",
              "type": "doctest"
            }
          ]
        },
        "q12": {
          "name": "q12",
          "points": null,
          "suites": [
            {
              "cases": [
                {
                  "code": ">>> # Make sure you're using a_proportion!\n>>> np.isclose(a_percentage, 70.71067811865476)\nTrue",
                  "hidden": false,
                  "locked": false
                }
              ],
              "scored": true,
              "setup": "",
              "teardown": "",
              "type": "doctest"
            }
          ]
        },
        "q13": {
          "name": "q13",
          "points": null,
          "suites": [
            {
              "cases": [
                {
                  "code": ">>> num_non_vowels(\"Go bears!\") == 6\nTrue",
                  "hidden": false,
                  "locked": false
                }
              ],
              "scored": true,
              "setup": "",
              "teardown": "",
              "type": "doctest"
            }
          ]
        },
        "q14": {
          "name": "q14",
          "points": null,
          "suites": [
            {
              "cases": [
                {
                  "code": ">>> print_kth_top_movie_year(4)\nYear number 4 for total gross movie sales was: 2009\n",
                  "hidden": false,
                  "locked": false
                }
              ],
              "scored": true,
              "setup": "",
              "teardown": "",
              "type": "doctest"
            }
          ]
        },
        "q21": {
          "name": "q21",
          "points": null,
          "suites": [
            {
              "cases": [
                {
                  "code": ">>> # Make sure you are examining the values in the column, not the column itself\n>>> import numpy\n>>> total_pay_type != numpy.ndarray\nTrue",
                  "hidden": false,
                  "locked": false
                },
                {
                  "code": ">>> 'str' in str(total_pay_type)\nTrue",
                  "hidden": false,
                  "locked": false
                },
                {
                  "code": ">>> isinstance(total_pay_type, type)\nTrue",
                  "hidden": false,
                  "locked": false
                },
                {
                  "code": ">>> # Make sure to call the type function on a value in the column\n>>> total_pay_type != int\nTrue",
                  "hidden": false,
                  "locked": false
                }
              ],
              "scored": true,
              "setup": "",
              "teardown": "",
              "type": "doctest"
            }
          ]
        },
        "q22": {
          "name": "q22",
          "points": null,
          "suites": [
            {
              "cases": [
                {
                  "code": ">>> str(mark_hurd_pay_string)\n'$53.25 '",
                  "hidden": false,
                  "locked": false
                }
              ],
              "scored": true,
              "setup": "",
              "teardown": "",
              "type": "doctest"
            }
          ]
        },
        "q23": {
          "name": "q23",
          "points": null,
          "suites": [
            {
              "cases": [
                {
                  "code": ">>> # Your answer should be a number\n>>> type(mark_hurd_pay) != str\nTrue",
                  "hidden": false,
                  "locked": false
                },
                {
                  "code": ">>> # Don't forget to give your answer in dollars, not millions of \n>>> # Dollars! \n>>> mark_hurd_pay != 5325\nTrue",
                  "hidden": false,
                  "locked": false
                },
                {
                  "code": ">>> # Don't forget to give your answer in dollars, not millions of \n>>> # Dollars! \n>>> mark_hurd_pay == 53250000\nTrue",
                  "hidden": false,
                  "locked": false
                }
              ],
              "scored": true,
              "setup": "",
              "teardown": "",
              "type": "doctest"
            }
          ]
        },
        "q24": {
          "name": "q24",
          "points": null,
          "suites": [
            {
              "cases": [
                {
                  "code": ">>> convert_pay_string_to_number(\"$100 \") == 100000000.0\nTrue",
                  "hidden": false,
                  "locked": false
                },
                {
                  "code": ">>> convert_pay_string_to_number(\"$23 \") == 23000000.0\nTrue",
                  "hidden": false,
                  "locked": false
                }
              ],
              "scored": true,
              "setup": "",
              "teardown": "",
              "type": "doctest"
            }
          ]
        },
        "q31": {
          "name": "q31",
          "points": null,
          "suites": [
            {
              "cases": [
                {
                  "code": ">>> len(some_functions)\n3",
                  "hidden": false,
                  "locked": false
                },
                {
                  "code": ">>> # The first thing in your array may not be a function\n>>> callable(some_functions.item(0))\nTrue",
                  "hidden": false,
                  "locked": false
                },
                {
                  "code": ">>> # The second thing in your array may not be a function\n>>> callable(some_functions.item(1))\nTrue",
                  "hidden": false,
                  "locked": false
                },
                {
                  "code": ">>> # The third thing in your array may not be a function\n>>> callable(some_functions.item(2))\nTrue",
                  "hidden": false,
                  "locked": false
                }
              ],
              "scored": true,
              "setup": "",
              "teardown": "",
              "type": "doctest"
            }
          ]
        },
        "q32": {
          "name": "q32",
          "points": null,
          "suites": [
            {
              "cases": [
                {
                  "code": ">>> # You either didn't add the 'Total Pay ($)' column, \n>>> # or you mislabeled it\n>>> 'Total Pay ($)' in compensation.labels\nTrue",
                  "hidden": false,
                  "locked": false
                },
                {
                  "code": ">>> # You have the column in your table, but the values may be wrong\n>>> t = compensation.sort('Total Pay ($)', descending = True)\n>>> np.isclose(t.column('Total Pay ($)').item(0), 53250000.0)\nTrue",
                  "hidden": false,
                  "locked": false
                }
              ],
              "scored": true,
              "setup": "",
              "teardown": "",
              "type": "doctest"
            }
          ]
        },
        "q33": {
          "name": "q33",
          "points": null,
          "suites": [
            {
              "cases": [
                {
                  "code": ">>> import math\n>>> math.isclose(average_total_pay, 11558613.861386139, rel_tol = 0.1)\nTrue",
                  "hidden": false,
                  "locked": false
                }
              ],
              "scored": true,
              "setup": "",
              "teardown": "",
              "type": "doctest"
            }
          ]
        },
        "q34": {
          "name": "q34",
          "points": null,
          "suites": [
            {
              "cases": [
                {
                  "code": ">>> len(cash_proportion) == 101\nTrue",
                  "hidden": false,
                  "locked": false
                },
                {
                  "code": ">>> import math\n>>> math.isclose(cash_proportion.item(0), 0.01784038, rel_tol = .001)\nTrue",
                  "hidden": false,
                  "locked": false
                }
              ],
              "scored": true,
              "setup": "",
              "teardown": "",
              "type": "doctest"
            }
          ]
        },
        "q35": {
          "name": "q35",
          "points": null,
          "suites": [
            {
              "cases": [
                {
                  "code": ">>> # Make sure to remove the \"(No previous year)\" CEOs \n>>> \"(No previous year)\" not in with_previous_compensation.column(\"% Change\")\nTrue",
                  "hidden": false,
                  "locked": false
                },
                {
                  "code": ">>> import math\n>>> # You have the column, but some of your values may be wrong\n>>> t = with_previous_compensation.sort(\"2014 Total Pay ($)\", descending = True)\n>>> value = t.column(\"2014 Total Pay ($)\").item(0)\n>>> math.isclose(value, 67700000.0, rel_tol = 0.01)\nTrue",
                  "hidden": false,
                  "locked": false
                },
                {
                  "code": ">>> # You have the column, but your number of rows is off\n>>> with_previous_compensation.num_rows == 80\nTrue",
                  "hidden": false,
                  "locked": false
                }
              ],
              "scored": true,
              "setup": "",
              "teardown": "",
              "type": "doctest"
            }
          ]
        },
        "q36": {
          "name": "q36",
          "points": null,
          "suites": [
            {
              "cases": [
                {
                  "code": ">>> import math\n>>> math.isclose(average_pay_2014, 11794790.817048479, rel_tol = 0.01)\nTrue",
                  "hidden": false,
                  "locked": false
                }
              ],
              "scored": true,
              "setup": "",
              "teardown": "",
              "type": "doctest"
            }
          ]
        },
        "q42": {
          "name": "q42",
          "points": null,
          "suites": [
            {
              "cases": [
                {
                  "code": ">>> num_ceos_more_than_30_million_2 == 5\nTrue",
                  "hidden": false,
                  "locked": false
                }
              ],
              "scored": true,
              "setup": "",
              "teardown": "",
              "type": "doctest"
            }
          ]
        },
        "q5": {
          "name": "q5",
          "points": null,
          "suites": [
            {
              "cases": [
                {
                  "code": ">>> submitted\nTrue",
                  "hidden": false,
                  "locked": false
                }
              ],
              "scored": true,
              "setup": "",
              "teardown": "",
              "type": "doctest"
            }
          ]
        }
      }
    },
    "colab": {
      "provenance": [],
      "include_colab_link": true
    }
  },
  "nbformat": 4,
  "nbformat_minor": 5
}