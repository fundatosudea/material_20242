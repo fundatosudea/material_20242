{
 "cells": [
  {
   "cell_type": "markdown",
   "id": "12b66de6",
   "metadata": {
    "colab_type": "text",
    "id": "view-in-github"
   },
   "source": [
    "<a href=\"https://colab.research.google.com/github/darioblandon/materials-fa23/blob/main/lab/lab02/lab02_td.ipynb\" target=\"_parent\"><img src=\"https://colab.research.google.com/assets/colab-badge.svg\" alt=\"Open In Colab\"/></a>"
   ]
  },
  {
   "cell_type": "code",
   "execution_count": null,
   "id": "_aUWmMHPUIBv",
   "metadata": {
    "deletable": false,
    "editable": false,
    "id": "_aUWmMHPUIBv"
   },
   "outputs": [],
   "source": [
    "# Initialize Otter\n",
    "import otter\n",
    "grader = otter.Notebook(\"lab02.ipynb\")"
   ]
  },
  {
   "cell_type": "markdown",
   "id": "qMi-y4rRUIBx",
   "metadata": {
    "id": "qMi-y4rRUIBx"
   },
   "source": [
    "<p><img alt=\"Colaboratory logo\" height=\"140px\" src=\"https://upload.wikimedia.org/wikipedia/commons/archive/f/fb/20161010213812%21Escudo-UdeA.svg\" align=\"left\" hspace=\"10px\" vspace=\"0px\"></p>\n",
    "\n",
    "<h1> Fundamentos en ciencias de datos</h1>\n",
    "\n",
    "\n",
    "#Laboratorio 2: Operaciones de tabla\n",
    "\n",
    "¡Bienvenidos al Laboratorio 2! Esta semana, aprenderemos cómo importar un módulo y practicaremos operaciones de tablas. La [Referencia de Python](https://www.data8.org/fa23/reference/) tiene información que será útil para esta práctica de laboratorio.\n",
    "\n",
    "**Lectura recomendada**:\n",
    "  * [Introducción a las Tablas](https://www.inferentialthinking.com/chapters/03/4/Introduction_to_Tables)\n",
    "\n",
    "Como recordatorio, estas son las políticas para obtener crédito completo:\n",
    "\n",
    "1. Para los estudiantes inscritos en <span style=\"color: #BC412B\">**Regular Labs**</span> en persona, recibirán crédito de laboratorio al **asistir** a la sección de laboratorio y lograr un progreso significativo en el cuaderno de laboratorio y enviándolo a Gradescope.\n",
    "\n",
    "2. Para los estudiantes inscritos en <span style=\"color: #04888B\">**Mega Lab**</span>, recibirán crédito de laboratorio al **completar** el cuaderno, aprobar los casos de prueba y ** enviándolo** a Gradescope antes de las **11 p. m. del viernes de la misma semana en que se publicó**.\n",
    "\n",
    "**Envío**: una vez que haya terminado, ejecute todas las celdas además de la última, seleccione Archivo > Guardar cuaderno y luego ejecute la celda final. El resultado contendrá un archivo zip que podrá utilizar para enviarlo en Gradescope.\n",
    "\n",
    "Comencemos configurando las pruebas e importaciones ejecutando la siguiente celda."
   ]
  },
  {
   "cell_type": "code",
   "execution_count": null,
   "id": "dmr1q7mDUIB0",
   "metadata": {
    "id": "dmr1q7mDUIB0"
   },
   "outputs": [],
   "source": [
    "# No cambies esta celda; simplemente ejecútelo.\n",
    "import numpy as np\n",
    "from datascience import *"
   ]
  },
  {
   "cell_type": "markdown",
   "id": "b-j67N-IUIB1",
   "metadata": {
    "id": "b-j67N-IUIB1"
   },
   "source": [
    "# 1. Revisión: Los componentes básicos del código Python\n",
    "\n",
    "Los dos bloques de construcción del código Python son *expresiones* y *declaraciones*. Una **expresión** es un fragmento de código que\n",
    "\n",
    "* es autónomo, lo que significa que tendría sentido escribirlo en una línea por sí solo, y\n",
    "* generalmente se evalúa como un valor.\n",
    "\n",
    "\n",
    "Aquí hay dos expresiones que se evalúan como 3:\n",
    "\n",
    "     3\n",
    "     5 - 2\n",
    "    \n",
    "Un tipo importante de expresión es la **expresión de llamada**. Una expresión de llamada comienza con el nombre de una función y va seguida de los argumentos de esa función entre paréntesis. La función devuelve algún valor, según sus argumentos. Algunas funciones matemáticas importantes se enumeran a continuación.\n",
    "\n",
    "| Función | Descripción |\n",
    "|----------|-------------------------------------- -------------------------|\n",
    "| `abdominales` | Devuelve el valor absoluto de su argumento |\n",
    "| `máximo` | Devuelve el máximo de todos sus argumentos |\n",
    "| `min` | Devuelve el mínimo de todos sus argumentos |\n",
    "| `poder` | Eleva su primer argumento a la potencia de su segundo argumento |\n",
    "| `redondo` | Redondea su argumento al entero más cercano |\n",
    "\n",
    "Aquí hay dos expresiones de llamada que se evalúan como 3:\n",
    "\n",
    "     abdominales(2 - 5)\n",
    "     max(ronda(2.8), min(pow(2, 10), -1 * pow(2, 10)))\n",
    "\n",
    "La expresión `2 - 5` y las dos expresiones de llamada dadas anteriormente son ejemplos de **expresiones compuestas**, lo que significa que en realidad son combinaciones de varias expresiones más pequeñas. `2 - 5` combina las expresiones `2` y `5` mediante resta. En este caso, `2` y `5` se denominan **subexpresiones** porque son expresiones que forman parte de una expresión más grande.\n",
    "\n",
    "Una **declaración** es una línea completa de código. Algunas declaraciones son sólo expresiones. Las expresiones enumeradas anteriormente son ejemplos.\n",
    "\n",
    "Otras declaraciones *hacen que algo suceda* en lugar de *tener un valor*. Por ejemplo, una **declaración de asignación** asigna un valor a un nombre.\n",
    "\n",
    "Una buena forma de pensar en esto es que estamos **evaluando el lado derecho** del signo igual y **asignándolo al lado izquierdo**. Aquí hay algunas declaraciones de asignación:\n",
    "    \n",
    "     altura = 1,3\n",
    "     el_número_cinco = abs(-5)\n",
    "     diferencia_altura_absoluta = abs(altura - 1.688)\n",
    "\n",
    "Una idea importante en programación es que se pueden construir cosas grandes e interesantes combinando muchas cosas simples y poco interesantes. La clave para comprender un código complicado es dividirlo en sus componentes simples.\n",
    "\n",
    "Por ejemplo, suceden muchas cosas en la última declaración anterior, pero en realidad es solo una combinación de algunas cosas. Esta imagen describe lo que está pasando.\n",
    "\n",
    "<img src=\"https://github.com/darioblandon/materials-fa23/blob/main/lab/lab02/statement.png?raw=1\">"
   ]
  },
  {
   "cell_type": "markdown",
   "id": "pg2VYRqxUIB3",
   "metadata": {
    "id": "pg2VYRqxUIB3"
   },
   "source": [
    "**Pregunta 1.1.** En la siguiente celda, asigne el nombre `new_year` al **número mayor** entre los dos números siguientes:\n",
    "\n",
    "* el **valor absoluto** de $2^{6}-2^{11}-2^{5} - 7$, y\n",
    "* $5 \\times 13 \\times 31 + 7$.\n",
    "\n",
    "Intente utilizar solo una declaración (una línea de código). Asegúrese de verificar su trabajo ejecutando la celda de prueba después."
   ]
  },
  {
   "cell_type": "code",
   "execution_count": null,
   "id": "Ek58A3GAUIB3",
   "metadata": {
    "deletable": false,
    "id": "Ek58A3GAUIB3",
    "tags": []
   },
   "outputs": [],
   "source": [
    "new_year = ...\n",
    "new_year"
   ]
  },
  {
   "cell_type": "code",
   "execution_count": null,
   "id": "h6hi1_l1UIB4",
   "metadata": {
    "deletable": false,
    "editable": false,
    "id": "h6hi1_l1UIB4"
   },
   "outputs": [],
   "source": [
    "grader.check(\"q11\")"
   ]
  },
  {
   "cell_type": "markdown",
   "id": "AtF2G0DdUIB4",
   "metadata": {
    "id": "AtF2G0DdUIB4"
   },
   "source": [
    "Le pedimos que use una línea de código en la pregunta anterior porque solo involucra operaciones matemáticas. Sin embargo, las preguntas de programación más complicadas requerirán más pasos. No siempre es una buena idea agrupar estos pasos en una sola línea porque puede hacer que el código sea más difícil de leer y de depurar.\n",
    "\n",
    "Una buena práctica de programación implica dividir el código en pasos más pequeños y utilizar nombres apropiados. ¡Tendrás mucha práctica en el resto de este curso!"
   ]
  },
  {
   "cell_type": "markdown",
   "id": "Wpet8FHOUIB5",
   "metadata": {
    "id": "Wpet8FHOUIB5"
   },
   "source": [
    "# 2. Importación de código\n",
    "\n",
    "La mayor parte de la programación implica un trabajo muy similar al trabajo que se ha realizado antes. Dado que escribir código lleva mucho tiempo, es bueno confiar en el código publicado por otros cuando sea posible. En lugar de copiar y pegar, Python nos permite **importar módulos**. Un módulo es un archivo con código Python que tiene variables y funciones definidas. Al importar un módulo, podemos usar su código en nuestro propio cuaderno.\n",
    "\n",
    "Python incluye muchos módulos útiles que están a sólo una \"importación\" de distancia. Veremos el módulo \"matemáticas\" como primer ejemplo. El módulo \"math\" es extremadamente útil para calcular expresiones matemáticas en Python.\n",
    "\n",
    "Supongamos que queremos calcular con mucha precisión el área de un círculo con un radio de 5 metros. Para eso, necesitamos la constante $\\pi$, que es aproximadamente 3,14. Convenientemente, el módulo \"math\" tiene \"pi\" definido para nosotros. Ejecute la siguiente celda para importar el módulo matemático:"
   ]
  },
  {
   "cell_type": "code",
   "execution_count": null,
   "id": "U5ao4XSFUIB6",
   "metadata": {
    "id": "U5ao4XSFUIB6"
   },
   "outputs": [],
   "source": [
    "import math\n",
    "radius = 5\n",
    "area_of_circle = radius**2 * math.pi\n",
    "area_of_circle"
   ]
  },
  {
   "cell_type": "markdown",
   "id": "VR0qyxkKUIB6",
   "metadata": {
    "id": "VR0qyxkKUIB6"
   },
   "source": [
    "En el código anterior, la línea \"importar matemáticas\" importa el módulo matemático. Esta declaración crea un módulo y luego asigna el nombre \"matemáticas\" a ese módulo. Ahora podemos acceder a cualquier variable o función definida en `math` escribiendo el nombre del módulo seguido de un punto, luego seguido del nombre de la variable o función que queremos.\n",
    "\n",
    "     <nombre del módulo>.<nombre>"
   ]
  },
  {
   "cell_type": "markdown",
   "id": "M27a2o0xUIB7",
   "metadata": {
    "id": "M27a2o0xUIB7"
   },
   "source": [
    "**Pregunta 2.1.** El módulo `math` también proporciona el nombre `e` para la base del logaritmo natural, que es aproximadamente 2,71. Calcule $e^{\\pi}-\\pi$, dándole el nombre `near_twenty`.\n",
    "\n",
    "*Recuerda: ¡También puedes acceder a `pi` desde el módulo `math`!*"
   ]
  },
  {
   "cell_type": "code",
   "execution_count": null,
   "id": "NmedBuxRUIB7",
   "metadata": {
    "deletable": false,
    "id": "NmedBuxRUIB7",
    "tags": []
   },
   "outputs": [],
   "source": [
    "near_twenty = ...\n",
    "near_twenty"
   ]
  },
  {
   "cell_type": "code",
   "execution_count": null,
   "id": "92EKcbgVUIB8",
   "metadata": {
    "deletable": false,
    "editable": false,
    "id": "92EKcbgVUIB8"
   },
   "outputs": [],
   "source": [
    "grader.check(\"q21\")"
   ]
  },
  {
   "cell_type": "markdown",
   "id": "WP6fv6QSUIB9",
   "metadata": {
    "id": "WP6fv6QSUIB9"
   },
   "source": [
    "## 2.1. Acceso a funciones\n",
    "\n",
    "En la pregunta anterior, accedió a variables dentro del módulo \"matemáticas\".\n",
    "\n",
    "**Los módulos** también definen **funciones**. Por ejemplo, \"matemáticas\" proporciona el nombre \"suelo\" para la función suelo. Habiendo importado ya \"matemáticas\", podemos escribir \"math.floor(7.5)\" para calcular el piso de 7.5. (Tenga en cuenta que la función piso devuelve el número entero más grande menor o igual a un número determinado).\n",
    "\n",
    "**Pregunta 2.1.1.** Calcule el piso de pi usando `floor` y `pi` del módulo `math`. Asigne al resultado el nombre `floor_of_pi`."
   ]
  },
  {
   "cell_type": "code",
   "execution_count": null,
   "id": "oYEDSjT1UIB9",
   "metadata": {
    "deletable": false,
    "id": "oYEDSjT1UIB9",
    "tags": []
   },
   "outputs": [],
   "source": [
    "floor_of_pi = ...\n",
    "floor_of_pi"
   ]
  },
  {
   "cell_type": "code",
   "execution_count": null,
   "id": "v4wFxjgsUIB-",
   "metadata": {
    "deletable": false,
    "editable": false,
    "id": "v4wFxjgsUIB-"
   },
   "outputs": [],
   "source": [
    "grader.check(\"q211\")"
   ]
  },
  {
   "cell_type": "markdown",
   "id": "hZwiymnrUIB-",
   "metadata": {
    "id": "hZwiymnrUIB-"
   },
   "source": [
    "Para su referencia, a continuación se muestran algunos ejemplos más de funciones del módulo \"math\".\n",
    "\n",
    "Observe cómo diferentes funciones toman diferentes números de argumentos. A menudo, la [documentación](https://docs.python.org/3/library/math.html) del módulo proporcionará información sobre cuántos argumentos se requieren para cada función.\n",
    "\n",
    "*Sugerencia: si presiona `shift+tab` mientras está al lado de la llamada de función, aparecerá la documentación para esa función.*"
   ]
  },
  {
   "cell_type": "code",
   "execution_count": null,
   "id": "2TgilbNGUIB_",
   "metadata": {
    "id": "2TgilbNGUIB_"
   },
   "outputs": [],
   "source": [
    "# Calcular logaritmos (el logaritmo de 8 en base 2).\n",
    "# El resultado es 3 porque 2 elevado a 3 es 8.\n",
    "math.log(8, 2)"
   ]
  },
  {
   "cell_type": "code",
   "execution_count": null,
   "id": "o_O4DTZRUICA",
   "metadata": {
    "id": "o_O4DTZRUICA"
   },
   "outputs": [],
   "source": [
    "# Calcular raíces cuadradas.\n",
    "math.sqrt(5)"
   ]
  },
  {
   "cell_type": "markdown",
   "id": "GFhHP38NUICA",
   "metadata": {
    "id": "GFhHP38NUICA"
   },
   "source": [
    "Hay varias formas de importar y acceder a código desde fuentes externas. El método que usamos anteriormente, `<importar <nombre_módulo>`, importa el módulo completo y requiere que usemos `<nombre_módulo>.<nombre>` para acceder a su código.\n",
    "\n",
    "También podemos importar una constante o función específica en lugar del módulo completo. Tenga en cuenta que no es necesario utilizar el nombre del módulo de antemano para hacer referencia a ese valor en particular. Sin embargo, debe tener cuidado al reasignar los nombres de las constantes o funciones a otros valores."
   ]
  },
  {
   "cell_type": "code",
   "execution_count": null,
   "id": "UcPl59TLUICB",
   "metadata": {
    "id": "UcPl59TLUICB"
   },
   "outputs": [],
   "source": [
    "# Importando solo cos y pi desde matemáticas.\n",
    "# No tenemos que usar \"matemáticas\" delante de cos o pi\n",
    "from math import cos, pi\n",
    "print(cos(pi))\n",
    "\n",
    "# Sin embargo, tenemos que usarlo delante de otras funciones matemáticas.\n",
    "math.log(pi)"
   ]
  },
  {
   "cell_type": "markdown",
   "id": "2oNPgEeoUICB",
   "metadata": {
    "id": "2oNPgEeoUICB"
   },
   "source": [
    "O podemos importar cada función y valor de todo el módulo."
   ]
  },
  {
   "cell_type": "code",
   "execution_count": null,
   "id": "D_914dWNUICB",
   "metadata": {
    "id": "D_914dWNUICB"
   },
   "outputs": [],
   "source": [
    "# Por último, podemos importar todo desde matemáticas usando el *\n",
    "# Una vez más, no tenemos que usar \"matemáticas\". antemano\n",
    "from math import *\n",
    "log(pi)"
   ]
  },
  {
   "cell_type": "markdown",
   "id": "e5ks-kyNUICC",
   "metadata": {
    "id": "e5ks-kyNUICC"
   },
   "source": [
    "No se preocupe demasiado por qué tipo de importación utilizar. A menudo es una elección de estilo de codificación que queda en manos de cada programador. En este curso, siempre importará los módulos necesarios cuando ejecute la celda de configuración (como la primera celda de código en esta práctica de laboratorio).\n",
    "\n",
    "¡Pasemos a practicar algunas de las operaciones de mesa que aprendiste en la conferencia!"
   ]
  },
  {
   "cell_type": "markdown",
   "id": "1kOBuv_2UICC",
   "metadata": {
    "id": "1kOBuv_2UICC"
   },
   "source": [
    "# 3. Operaciones de mesa\n",
    "\n",
    "La tabla `farmers_markets.csv` contiene datos sobre los mercados de agricultores en los Estados Unidos (datos asociados con [el USDA](https://apps.ams.usda.gov/FarmersMarketsExport/ExcelExport.aspx)). Cada fila representa uno de esos mercados.\n",
    "\n",
    "Ejecute la siguiente celda para cargar la tabla `farmers_markets`. No habrá resultados; no se espera ningún resultado ya que la celda contiene una declaración de asignación. Una declaración de asignación no produce ningún resultado (no produce ningún valor)."
   ]
  },
  {
   "cell_type": "code",
   "execution_count": null,
   "id": "k_S6jhA5UICC",
   "metadata": {
    "deletable": false,
    "id": "k_S6jhA5UICC"
   },
   "outputs": [],
   "source": [
    "# Simplemente ejecuta esta celda\n",
    "\n",
    "farmers_markets = Table.read_table('farmers_markets.csv')"
   ]
  },
  {
   "cell_type": "markdown",
   "id": "CHUFdwKzUICD",
   "metadata": {
    "id": "CHUFdwKzUICD"
   },
   "source": [
    "Examinemos nuestra tabla para ver qué datos contiene.\n",
    "\n",
    "**Pregunta 3.1.** Utilice el método `show` para mostrar las primeras 5 filas de `farmers_markets`.\n",
    "\n",
    "*Nota:* Los términos \"método\" y \"función\" técnicamente no son lo mismo, pero para los propósitos de este curso, los usaremos indistintamente.\n",
    "\n",
    "**Pista:** `tbl.show(3)` mostrará las primeras 3 filas de la tabla denominada `tbl`. Además, asegúrese de no llamar a `.show()` sin un argumento, ya que esto bloqueará su kernel.\n"
   ]
  },
  {
   "cell_type": "code",
   "execution_count": null,
   "id": "ix_5Og9IUICD",
   "metadata": {
    "deletable": false,
    "id": "ix_5Og9IUICD",
    "tags": []
   },
   "outputs": [],
   "source": [
    "..."
   ]
  },
  {
   "cell_type": "markdown",
   "id": "wwr6JkbPUICD",
   "metadata": {
    "id": "wwr6JkbPUICD"
   },
   "source": [
    "Observe que faltan algunos de los valores en esta tabla, como se indica con \"nan\". Esto significa que el valor no está disponible (por ejemplo, si no conocemos la dirección del mercado) o no es aplicable (por ejemplo, si el mercado no tiene una dirección). ¡También notarás que la tabla tiene una gran cantidad de columnas!\n",
    "\n",
    "### `num_columnas`\n",
    "\n",
    "La propiedad de la tabla `num_columns` devuelve el número de columnas de una tabla. (Una \"propiedad\" es solo un método al que no es necesario llamar agregando paréntesis).\n",
    "\n",
    "Llamada de ejemplo: `tbl.num_columns` devolverá el número de columnas en una tabla llamada `tbl`\n",
    "\n",
    "**Pregunta 3.2.** Utilice `num_columns` para encontrar el número de columnas en nuestro conjunto de datos de mercados de agricultores.\n",
    "\n",
    "Asigne el número de columnas a `num_farmers_markets_columns`.\n"
   ]
  },
  {
   "cell_type": "code",
   "execution_count": null,
   "id": "ZL4GrwKTUICE",
   "metadata": {
    "deletable": false,
    "id": "ZL4GrwKTUICE",
    "tags": []
   },
   "outputs": [],
   "source": [
    "num_farmers_markets_columns = ...\n",
    "print(\"The table has\", num_farmers_markets_columns, \"columns in it!\")"
   ]
  },
  {
   "cell_type": "code",
   "execution_count": null,
   "id": "duml5lPiUICE",
   "metadata": {
    "deletable": false,
    "editable": false,
    "id": "duml5lPiUICE"
   },
   "outputs": [],
   "source": [
    "grader.check(\"q32\")"
   ]
  },
  {
   "cell_type": "markdown",
   "id": "RR3FoqiEUICF",
   "metadata": {
    "id": "RR3FoqiEUICF"
   },
   "source": [
    "### `num_rows`\n",
    "\n",
    "De manera similar, la propiedad `num_rows` te indica cuántas filas hay en una tabla."
   ]
  },
  {
   "cell_type": "code",
   "execution_count": null,
   "id": "WpUWlTV6UICF",
   "metadata": {
    "deletable": false,
    "id": "WpUWlTV6UICF"
   },
   "outputs": [],
   "source": [
    "# Just run this cell\n",
    "\n",
    "num_farmers_markets_rows = farmers_markets.num_rows\n",
    "print(\"The table has\", num_farmers_markets_rows, \"rows in it!\")"
   ]
  },
  {
   "cell_type": "markdown",
   "id": "ODNN8Q1GUICF",
   "metadata": {
    "id": "ODNN8Q1GUICF"
   },
   "source": [
    "### `select`\n",
    "\n",
    "La mayoría de las columnas tratan sobre productos concretos: si el mercado vende tofu, comida para mascotas, etc. Si no estamos interesados en esa información, la tabla resulta difícil de leer. Esto surge más de lo que se podría pensar, porque es posible que las personas que recopilan y publican datos no sepan de antemano qué querrán hacer con ellos.\n",
    "\n",
    "En tales situaciones, podemos usar el método de tabla \"seleccionar\" para elegir solo las columnas que queremos en una tabla en particular. Se necesitan muchos argumentos. Cada uno debe ser el nombre de una columna de la tabla. Devuelve una nueva tabla con solo esas columnas. Las columnas están en el orden *en el que fueron enumeradas como argumentos*.\n",
    "\n",
    "Por ejemplo, el valor de `farmers_markets.select(\"MarketName\", \"State\")` es una tabla con solo el nombre y el estado de cada mercado de agricultores en `farmers_markets`.\n",
    "\n",
    "\n",
    "\n",
    "**Pregunta 3.3.** Utilice `select` para crear una tabla con solo el nombre, ciudad, estado, latitud (`y`) y longitud (`x`) de cada mercado. Llame a esa nueva tabla \"farmers_markets_locations\".\n",
    "\n",
    "*Sugerencia:* Asegúrese de ser exacto al usar nombres de columnas con `select`; ¡Compruebe dos veces las mayúsculas!"
   ]
  },
  {
   "cell_type": "code",
   "execution_count": null,
   "id": "PzamAZwPUICG",
   "metadata": {
    "deletable": false,
    "id": "PzamAZwPUICG",
    "tags": []
   },
   "outputs": [],
   "source": [
    "farmers_markets_locations = ...\n",
    "farmers_markets_locations"
   ]
  },
  {
   "cell_type": "code",
   "execution_count": null,
   "id": "rmpCZNhUUICG",
   "metadata": {
    "deletable": false,
    "editable": false,
    "id": "rmpCZNhUUICG"
   },
   "outputs": [],
   "source": [
    "grader.check(\"q33\")"
   ]
  },
  {
   "cell_type": "markdown",
   "id": "loRWY1RVUICG",
   "metadata": {
    "id": "loRWY1RVUICG"
   },
   "source": [
    "### `drop`\n",
    "\n",
    "`drop` tiene el mismo propósito que `select`, pero elimina las columnas que usted proporciona en lugar de las que no proporciona. Al igual que \"seleccionar\", \"soltar\" devuelve una nueva tabla.\n",
    "\n",
    "**Pregunta 3.4.** Supongamos que simplemente no desea las columnas `FMID` y `updateTime` en `farmers_markets`. Cree una tabla que sea una copia de `farmers_markets` pero que no incluya esas columnas. Llame a esa tabla \"farmers_markets_ without_fmid\"."
   ]
  },
  {
   "cell_type": "code",
   "execution_count": null,
   "id": "-aVV1zODUICH",
   "metadata": {
    "deletable": false,
    "id": "-aVV1zODUICH",
    "tags": []
   },
   "outputs": [],
   "source": [
    "farmers_markets_without_fmid = ...\n",
    "farmers_markets_without_fmid"
   ]
  },
  {
   "cell_type": "code",
   "execution_count": null,
   "id": "QKBQATW9UICr",
   "metadata": {
    "deletable": false,
    "editable": false,
    "id": "QKBQATW9UICr"
   },
   "outputs": [],
   "source": [
    "grader.check(\"q34\")"
   ]
  },
  {
   "cell_type": "markdown",
   "id": "WqW_RNv4UICr",
   "metadata": {
    "id": "WqW_RNv4UICr"
   },
   "source": [
    "Ahora supongamos que queremos responder algunas preguntas sobre los mercados de agricultores en Estados Unidos. Por ejemplo, ¿qué mercado(s) tiene la mayor longitud (dada por la columna \"x\")?\n",
    "\n",
    "Para responder a esto, ordenaremos `farmers_markets_locations` por longitud."
   ]
  },
  {
   "cell_type": "code",
   "execution_count": null,
   "id": "FbqfZI2MUICr",
   "metadata": {
    "id": "FbqfZI2MUICr"
   },
   "outputs": [],
   "source": [
    "farmers_markets_locations.sort('x')"
   ]
  },
  {
   "cell_type": "markdown",
   "id": "-0HoDdZPUICr",
   "metadata": {
    "id": "-0HoDdZPUICr"
   },
   "source": [
    "Vaya, eso no respondió nuestra pregunta porque ordenamos de menor a mayor longitud. Para ver las longitudes más grandes, tendremos que ordenar en orden inverso."
   ]
  },
  {
   "cell_type": "code",
   "execution_count": null,
   "id": "3ISBrpjHUICs",
   "metadata": {
    "id": "3ISBrpjHUICs"
   },
   "outputs": [],
   "source": [
    "farmers_markets_locations.sort('x', descending=True)"
   ]
  },
  {
   "cell_type": "markdown",
   "id": "tbeUeH6dUICs",
   "metadata": {
    "id": "tbeUeH6dUICs"
   },
   "source": [
    "(The `descending=True` se llama *argumento opcional*. Tiene un valor predeterminado de `False`, por lo que cuando le dices explícitamente a la función `descending=True`, la función ordenará en orden descendente).\n",
    "\n",
    "### `sort`\n",
    "\n",
    "Algunos detalles sobre la clasificación:\n",
    "\n",
    "1. El primer argumento para \"ordenar\" es el nombre de una columna por la que ordenar.\n",
    "2. Si la columna tiene texto, \"ordenar\" ordenará alfabéticamente; si la columna tiene números, se ordenará numéricamente, ambos en orden ascendente de forma predeterminada.\n",
    "3. El valor de `farmers_markets_locations.sort(\"x\")` es una *copia* de `farmers_markets_locations`; la tabla `farmers_markets_locations` no se modifica. Por ejemplo, si llamamos a `farmers_markets_locations.sort(\"x\")`, ejecutar `farmers_markets_locations` por sí solo aún devolvería la tabla sin clasificar.\n",
    "4. Las filas siempre permanecen juntas cuando se ordena una tabla. No tendría sentido ordenar solo una columna y dejar las otras columnas como están. Por ejemplo, en este caso, si ordenáramos solo la columna \"x\", todos los mercados de agricultores terminarían con las longitudes incorrectas.\n",
    "\n",
    "**Pregunta 3.5.** Cree una versión de `farmers_markets_locations` que esté ordenada por **latitud (`y`)**, con las latitudes más grandes primero. Llámelo \"farmers_markets_locations_by_latitude\".\n"
   ]
  },
  {
   "cell_type": "code",
   "execution_count": null,
   "id": "em38RIIAUICs",
   "metadata": {
    "deletable": false,
    "id": "em38RIIAUICs",
    "scrolled": true,
    "tags": []
   },
   "outputs": [],
   "source": [
    "farmers_markets_locations_by_latitude = ...\n",
    "farmers_markets_locations_by_latitude"
   ]
  },
  {
   "cell_type": "code",
   "execution_count": null,
   "id": "h6XKJf3PUICt",
   "metadata": {
    "deletable": false,
    "editable": false,
    "id": "h6XKJf3PUICt"
   },
   "outputs": [],
   "source": [
    "grader.check(\"q35\")"
   ]
  },
  {
   "cell_type": "markdown",
   "id": "oVFv9PilUICt",
   "metadata": {
    "id": "oVFv9PilUICt"
   },
   "source": [
    "Ahora digamos que queremos una tabla de todos los mercados de agricultores de California. La clasificación no nos ayudará mucho aquí porque California está más cerca del centro del conjunto de datos.\n",
    "\n",
    "En su lugar, utilizamos el método de la tabla. `where`."
   ]
  },
  {
   "cell_type": "code",
   "execution_count": null,
   "id": "UP-rigJKUICt",
   "metadata": {
    "deletable": false,
    "id": "UP-rigJKUICt"
   },
   "outputs": [],
   "source": [
    "california_farmers_markets = farmers_markets_locations.where('State', are.equal_to('California'))\n",
    "california_farmers_markets"
   ]
  },
  {
   "cell_type": "markdown",
   "id": "AwU0rq1gUICt",
   "metadata": {
    "id": "AwU0rq1gUICt"
   },
   "source": [
    "Ignora la sintaxis por el momento. En su lugar, intenta leer esa línea así:\n",
    "\n",
    "> Asigne el nombre **`california_farmers_markets`** a una tabla cuyas filas son las filas de la tabla **`farmers_markets_locations`** **`donde`** están los **`\"Estados\"`** **` are equal to` `\"California\"`**."
   ]
  },
  {
   "cell_type": "markdown",
   "id": "NPMV2Tl6UICu",
   "metadata": {
    "id": "NPMV2Tl6UICu"
   },
   "source": [
    "### `where`\n",
    "\n",
    "Ahora profundicemos un poco más en los detalles. `where` toma 2 argumentos:\n",
    "\n",
    "1. El nombre de una columna. `where` busca filas donde los valores de esa columna cumplen algún criterio.\n",
    "2. Un predicado que describe el criterio que debe cumplir la columna.\n",
    "\n",
    "El predicado en el ejemplo anterior llamó a la función `are.equal_to` con el valor que queríamos, 'California'. Pronto veremos otros predicados.\n",
    "\n",
    "`where` devuelve una tabla que es una copia de la tabla original, pero **con solo las filas que cumplen el predicado dado**."
   ]
  },
  {
   "cell_type": "markdown",
   "id": "ryi_qQMsUICu",
   "metadata": {
    "id": "ryi_qQMsUICu"
   },
   "source": [
    "**Pregunta 3.6.** Utilice `california_farmers_markets` para crear una tabla llamada `berkeley_markets` que contenga los mercados de agricultores en Berkeley, California."
   ]
  },
  {
   "cell_type": "code",
   "execution_count": null,
   "id": "nYfa8zYtUICu",
   "metadata": {
    "deletable": false,
    "id": "nYfa8zYtUICu",
    "tags": []
   },
   "outputs": [],
   "source": [
    "berkeley_markets = ...\n",
    "berkeley_markets"
   ]
  },
  {
   "cell_type": "code",
   "execution_count": null,
   "id": "r-b2jV2cUICu",
   "metadata": {
    "deletable": false,
    "editable": false,
    "id": "r-b2jV2cUICu"
   },
   "outputs": [],
   "source": [
    "grader.check(\"q36\")"
   ]
  },
  {
   "cell_type": "markdown",
   "id": "FwK7pV3oUICv",
   "metadata": {
    "id": "FwK7pV3oUICv"
   },
   "source": [
    "Hasta ahora solo hemos estado usando `dónde` con el predicado que requiere encontrar que los valores en una columna sean *exactamente* iguales a un cierto valor. Sin embargo, hay muchos otros predicados. Hemos enumerado algunos de los más comunes a continuación, pero si desea una lista más completa, consulte la sección de predicados en la [hoja de referencia de Python] (https://www.data8.org/fa23/reference/#tablewhere-predicates).\n",
    "\n",
    "|Predicate|Example|Result|\n",
    "|-|-|-|\n",
    "|`are.equal_to`|`are.equal_to(50)`|Find rows with values equal to 50|\n",
    "|`are.not_equal_to`|`are.not_equal_to(50)`|Find rows with values not equal to 50|\n",
    "|`are.above`|`are.above(50)`|Find rows with values above (and not equal to) 50|\n",
    "|`are.above_or_equal_to`|`are.above_or_equal_to(50)`|Find rows with values above 50 or equal to 50|\n",
    "|`are.below`|`are.below(50)`|Find rows with values below 50|\n",
    "|`are.between`|`are.between(2, 10)`|Find rows with values above or equal to 2 and below 10|\n",
    "|`are.between_or_equal_to`|`are.between_or_equal_to(2, 10)`|Find rows with values above or equal to 2 and below or equal to 10|"
   ]
  },
  {
   "cell_type": "markdown",
   "id": "r4gvIJDUUICv",
   "metadata": {
    "id": "r4gvIJDUUICv"
   },
   "source": [
    "## 4. Analizando un conjunto de datos\n",
    "\n",
    "Ahora que está familiarizado con las operaciones de tablas, ¡respondamos una pregunta interesante sobre un conjunto de datos!\n",
    "\n",
    "Ejecute la siguiente celda para cargar la tabla `imdb`. Contiene información sobre las 250 películas mejor calificadas en IMDb."
   ]
  },
  {
   "cell_type": "code",
   "execution_count": null,
   "id": "Hprwn87WUICv",
   "metadata": {
    "deletable": false,
    "id": "Hprwn87WUICv",
    "scrolled": true
   },
   "outputs": [],
   "source": [
    "# Simplemente ejecuta esta celda\n",
    "\n",
    "imdb = Table.read_table('imdb.csv')\n",
    "imdb"
   ]
  },
  {
   "cell_type": "markdown",
   "id": "CXywp8mFUICv",
   "metadata": {
    "id": "CXywp8mFUICv"
   },
   "source": [
    "A menudo, queremos realizar múltiples operaciones (clasificar, filtrar u otras) para convertir una tabla que tenemos en algo más útil. Puede realizar estas operaciones una por una, por ejemplo.\n",
    "\n",
    "```\n",
    "first_step = original_tbl.where(“col1”, are.equal_to(12))\n",
    "second_step = first_step.sort(‘col2’, descending=True)\n",
    "```\n",
    "Sin embargo, dado que el valor de la expresión `original_tbl.where(“col1”, are.equal_to(12))` es en sí mismo una tabla, puedes simplemente llamar a un método de tabla en él:\n",
    "```\n",
    "original_tbl.where(“col1”, are.equal_to(12)).sort(‘col2’, descending=True)\n",
    "```\n",
    "Debe organizar su trabajo de la manera que tenga más sentido para usted, utilizando nombres informativos para las tablas intermedias que cree."
   ]
  },
  {
   "cell_type": "markdown",
   "id": "BqvGqTPFUICw",
   "metadata": {
    "id": "BqvGqTPFUICw"
   },
   "source": [
    "**Pregunta 4.1.** Cree una tabla de películas estrenadas entre 2010 y 2015 (inclusive) con calificaciones superiores a 8. La tabla solo debe contener las columnas `Title` and `Rating`, **en ese orden**.\n",
    "\n",
    "Asigne la tabla al nombre `above_eight`.\n",
    "\n",
    "*Pista:* Piensa en los pasos que debes seguir e intenta ordenarlos en un orden que tenga sentido. ¡Siéntete libre de crear tablas intermedias para cada paso, pero asegúrate de asignar a tu tabla final el nombre \"above_eight\"!\n"
   ]
  },
  {
   "cell_type": "code",
   "execution_count": null,
   "id": "NiWbG0pmUICw",
   "metadata": {
    "deletable": false,
    "id": "NiWbG0pmUICw",
    "tags": []
   },
   "outputs": [],
   "source": [
    "above_eight = ...\n",
    "above_eight"
   ]
  },
  {
   "cell_type": "code",
   "execution_count": null,
   "id": "k_eP1odHUICw",
   "metadata": {
    "deletable": false,
    "editable": false,
    "id": "k_eP1odHUICw"
   },
   "outputs": [],
   "source": [
    "grader.check(\"q41\")"
   ]
  },
  {
   "cell_type": "markdown",
   "id": "xWnPWMvDUICw",
   "metadata": {
    "id": "xWnPWMvDUICw"
   },
   "source": [
    "**Pregunta 4.2.** Utilice `num_rows` (y aritmética) para encontrar la *el numero* de películas en el conjunto de datos que se estrenaron entre 1900 y 1999, y la *el numero* de películas en el conjunto de datos que se estrenaron en el año 2000 o después.\n",
    "\n",
    "Asigne \"num_en_siglo_20\" a el número de películas en el conjunto de datos que se estrenaron entre 1900 y 1999, y \"num_en_siglo_21\" a el número de películas en el conjunto de datos que se estrenaron en el año 2000 o después.\n",
    "\n",
    "*Pista:* El *número* de películas estrenadas en el siglo XX es el *número* de películas estrenadas en el siglo XX, dividida por el *número total* de películas.\n"
   ]
  },
  {
   "cell_type": "code",
   "execution_count": null,
   "id": "K26ocysAUICx",
   "metadata": {
    "deletable": false,
    "id": "K26ocysAUICx",
    "tags": []
   },
   "outputs": [],
   "source": [
    "num_movies_in_dataset = ...\n",
    "num_in_20th_century = ...\n",
    "num_in_21st_century = ...\n",
    "proportion_in_20th_century = ...\n",
    "proportion_in_21st_century = ...\n",
    "print(\"Proportion in 20th century:\", proportion_in_20th_century)\n",
    "print(\"Proportion in 21st century:\", proportion_in_21st_century)"
   ]
  },
  {
   "cell_type": "code",
   "execution_count": null,
   "id": "uB8tnuX8UICx",
   "metadata": {
    "deletable": false,
    "editable": false,
    "id": "uB8tnuX8UICx"
   },
   "outputs": [],
   "source": [
    "grader.check(\"q42\")"
   ]
  },
  {
   "cell_type": "markdown",
   "id": "m7HgCZxeUICx",
   "metadata": {
    "id": "m7HgCZxeUICx"
   },
   "source": [
    "## 5. Resumen\n",
    "\n",
    "Para su referencia, aquí hay una tabla de todas las funciones y métodos que vimos en esta práctica de laboratorio. ¡Aprenderemos más métodos para agregar a esta tabla la próxima semana!\n",
    "\n",
    "|Nombre|Ejemplo|Propósito|\n",
    "|-|-|-|\n",
    "|`sort`|`tbl.sort(\"N\")`|Crear una copia de una tabla ordenada por los valores de una columna|\n",
    "|`where`|`tbl.where(\"N\", are.above(2))`|Crea una copia de una tabla con solo las filas que coinciden con algún *predicado*|\n",
    "|`num_rows`|`tbl.num_rows`|Calcular el número de filas en una tabla|\n",
    "|`num_columns`|`tbl.num_columns`|Calcular el número de columnas en una tabla|\n",
    "|`select`|`tbl.select(\"N\")`|Crear una copia de una tabla con solo algunas de las columnas|\n",
    "|`drop`|`tbl.drop(\"N\")`|Crear una copia de una tabla sin algunas de las columnas|"
   ]
  },
  {
   "cell_type": "markdown",
   "id": "uWXNbgoiUICx",
   "metadata": {
    "id": "uWXNbgoiUICx"
   },
   "source": [
    "**¡Lego** quiere felicitarte por terminar el Laboratorio 2!\n",
    "\n",
    "<img src=\"https://github.com/darioblandon/materials-fa23/blob/main/lab/lab02/lego.png?raw=1\" alt=\"Picture of brown cavalier poodle dog\" width=\"300\"/>"
   ]
  },
  {
   "cell_type": "markdown",
   "id": "wBHG9VEeUICy",
   "metadata": {
    "id": "wBHG9VEeUICy"
   },
   "source": [
    "\n",
    "---\n",
    "\n",
    "¡Terminaste con el laboratorio!\n",
    "\n",
    "**Información importante sobre el envío:**\n",
    "- **Ejecuta todas las pruebas** y verifica que todas pasan\n",
    "- **Guardar** desde el menú **Archivo**\n",
    "- **Ejecute la celda final para generar el archivo zip**\n",
    "- **Haga clic en el enlace para descargar el archivo zip**\n",
    "- Luego, ve a [Gradescope](https://www.gradescope.com/courses/576157) y envía el archivo zip a la tarea correspondiente. El nombre de esta tarea es \"Lab XX Autograder\", donde XX es el número de laboratorio: 01, 02, 03, etc.\n",
    "\n",
    "- Si terminas temprano en el laboratorio regular, **pídele a uno de los miembros del personal que te marque**.\n",
    "\n",
    "**Es su responsabilidad asegurarse de que su trabajo esté guardado antes de ejecutar la última celda.**\n"
   ]
  },
  {
   "cell_type": "markdown",
   "id": "NdRaZVDhUICy",
   "metadata": {
    "deletable": false,
    "editable": false,
    "id": "NdRaZVDhUICy"
   },
   "source": [
    "## Envío\n",
    "\n",
    "Asegúrese de haber ejecutado todas las celdas de su cuaderno en orden antes de ejecutar la siguiente celda, para que todas las imágenes/gráficos aparezcan en el resultado. La siguiente celda generará un archivo zip para que lo envíe. **¡Guarde antes de exportar!**"
   ]
  },
  {
   "cell_type": "code",
   "execution_count": null,
   "id": "Lh_OGVpzUICy",
   "metadata": {
    "deletable": false,
    "editable": false,
    "id": "Lh_OGVpzUICy"
   },
   "outputs": [],
   "source": [
    "# Save your notebook first, then run this cell to export your submission.\n",
    "grader.export(pdf=False, run_tests=True)"
   ]
  }
 ],
 "metadata": {
  "colab": {
   "include_colab_link": true,
   "provenance": []
  },
  "kernelspec": {
   "display_name": "Python 3 (ipykernel)",
   "language": "python",
   "name": "python3"
  },
  "language_info": {
   "codemirror_mode": {
    "name": "ipython",
    "version": 3
   },
   "file_extension": ".py",
   "mimetype": "text/x-python",
   "name": "python",
   "nbconvert_exporter": "python",
   "pygments_lexer": "ipython3",
   "version": "3.10.12"
  },
  "otter": {
   "OK_FORMAT": true,
   "tests": {
    "q11": {
     "name": "q11",
     "points": null,
     "suites": [
      {
       "cases": [
        {
         "code": ">>> new_year\n2023",
         "hidden": false,
         "locked": false
        }
       ],
       "scored": true,
       "setup": "",
       "teardown": "",
       "type": "doctest"
      }
     ]
    },
    "q21": {
     "name": "q21",
     "points": null,
     "suites": [
      {
       "cases": [
        {
         "code": ">>> round(near_twenty, 8)\n19.99909998",
         "hidden": false,
         "locked": false
        }
       ],
       "scored": true,
       "setup": "",
       "teardown": "",
       "type": "doctest"
      }
     ]
    },
    "q211": {
     "name": "q211",
     "points": null,
     "suites": [
      {
       "cases": [
        {
         "code": ">>> import math\n>>> floor_of_pi == 3\nTrue",
         "hidden": false,
         "locked": false
        }
       ],
       "scored": true,
       "setup": "",
       "teardown": "",
       "type": "doctest"
      }
     ]
    },
    "q32": {
     "name": "q32",
     "points": null,
     "suites": [
      {
       "cases": [
        {
         "code": ">>> num_farmers_markets_columns == 59\nTrue",
         "hidden": false,
         "locked": false
        }
       ],
       "scored": true,
       "setup": "",
       "teardown": "",
       "type": "doctest"
      }
     ]
    },
    "q33": {
     "name": "q33",
     "points": null,
     "suites": [
      {
       "cases": [
        {
         "code": ">>> sorted(farmers_markets_locations.labels)\n['MarketName', 'State', 'city', 'x', 'y']",
         "hidden": false,
         "locked": false
        },
        {
         "code": ">>> farmers_markets_locations.num_rows == 8546\nTrue",
         "hidden": false,
         "locked": false
        }
       ],
       "scored": true,
       "setup": "",
       "teardown": "",
       "type": "doctest"
      }
     ]
    },
    "q34": {
     "name": "q34",
     "points": null,
     "suites": [
      {
       "cases": [
        {
         "code": ">>> farmers_markets_without_fmid.num_columns\n57",
         "hidden": false,
         "locked": false
        },
        {
         "code": ">>> print(sorted(farmers_markets_without_fmid.labels))\n['Bakedgoods', 'Beans', 'Cheese', 'Coffee', 'County', 'Crafts', 'Credit', 'Eggs', 'Facebook', 'Flowers', 'Fruits', 'Grains', 'Herbs', 'Honey', 'Jams', 'Juices', 'Location', 'Maple', 'MarketName', 'Meat', 'Mushrooms', 'Nursery', 'Nuts', 'Organic', 'OtherMedia', 'PetFood', 'Plants', 'Poultry', 'Prepared', 'SFMNP', 'SNAP', 'Seafood', 'Season1Date', 'Season1Time', 'Season2Date', 'Season2Time', 'Season3Date', 'Season3Time', 'Season4Date', 'Season4Time', 'Soap', 'State', 'Tofu', 'Trees', 'Twitter', 'Vegetables', 'WIC', 'WICcash', 'Website', 'WildHarvested', 'Wine', 'Youtube', 'city', 'street', 'x', 'y', 'zip']\n",
         "hidden": false,
         "locked": false
        }
       ],
       "scored": true,
       "setup": "",
       "teardown": "",
       "type": "doctest"
      }
     ]
    },
    "q35": {
     "name": "q35",
     "points": null,
     "suites": [
      {
       "cases": [
        {
         "code": ">>> type(farmers_markets_locations_by_latitude) == tables.Table\nTrue",
         "hidden": false,
         "locked": false
        },
        {
         "code": ">>> # HINT: Check the order of your table. \n>>> np.isclose(round(farmers_markets_locations_by_latitude.column('y').item(1), 4), round(64.8459, 4))\nTrue",
         "hidden": false,
         "locked": false
        }
       ],
       "scored": true,
       "setup": "",
       "teardown": "",
       "type": "doctest"
      }
     ]
    },
    "q36": {
     "name": "q36",
     "points": null,
     "suites": [
      {
       "cases": [
        {
         "code": ">>> berkeley_markets.num_rows == 3\nTrue",
         "hidden": false,
         "locked": false
        },
        {
         "code": ">>> list(berkeley_markets.column('city')) == ['Berkeley', 'Berkeley', 'Berkeley']\nTrue",
         "hidden": false,
         "locked": false
        }
       ],
       "scored": true,
       "setup": "",
       "teardown": "",
       "type": "doctest"
      }
     ]
    },
    "q41": {
     "name": "q41",
     "points": null,
     "suites": [
      {
       "cases": [
        {
         "code": ">>> type(above_eight) == tables.Table\nTrue",
         "hidden": false,
         "locked": false
        },
        {
         "code": ">>> above_eight.num_rows == 20\nTrue",
         "hidden": false,
         "locked": false
        },
        {
         "code": ">>> # Make sure your columns are in the right order!\n>>> # First column should be 'Title', second column should be 'Rating'\n>>> print(above_eight.sort(0).take([17]))\nTitle       | Rating\nToy Story 3 | 8.3\n",
         "hidden": false,
         "locked": false
        }
       ],
       "scored": true,
       "setup": "",
       "teardown": "",
       "type": "doctest"
      }
     ]
    },
    "q42": {
     "name": "q42",
     "points": null,
     "suites": [
      {
       "cases": [
        {
         "code": ">>> proportion_in_20th_century == 0.684\nTrue",
         "hidden": false,
         "locked": false
        },
        {
         "code": ">>> proportion_in_21st_century == 0.316\nTrue",
         "hidden": false,
         "locked": false
        }
       ],
       "scored": true,
       "setup": "",
       "teardown": "",
       "type": "doctest"
      }
     ]
    }
   }
  }
 },
 "nbformat": 4,
 "nbformat_minor": 5
}
