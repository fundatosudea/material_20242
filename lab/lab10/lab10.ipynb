{
  "cells": [
    {
      "cell_type": "markdown",
      "metadata": {
        "id": "view-in-github",
        "colab_type": "text"
      },
      "source": [
        "<a href=\"https://colab.research.google.com/github/darioblandon/materials-fa23/blob/main/lab/lab10/lab10_td.ipynb\" target=\"_parent\"><img src=\"https://colab.research.google.com/assets/colab-badge.svg\" alt=\"Open In Colab\"/></a>"
      ]
    },
    {
      "cell_type": "code",
      "execution_count": null,
      "metadata": {
        "deletable": false,
        "editable": false,
        "id": "3Ak0wVFj0B0U"
      },
      "outputs": [],
      "source": [
        "# Initialize Otter\n",
        "import otter\n",
        "grader = otter.Notebook(\"lab10.ipynb\")"
      ],
      "id": "3Ak0wVFj0B0U"
    },
    {
      "cell_type": "code",
      "execution_count": null,
      "metadata": {
        "id": "ne0gBmCd0B0V"
      },
      "outputs": [],
      "source": [
        "# Run this cell to set up the notebook, but please don't change it.\n",
        "\n",
        "# These lines import the Numpy and Datascience modules.\n",
        "import numpy as np\n",
        "from datascience import *\n",
        "\n",
        "# These lines do some fancy plotting magic.\n",
        "import matplotlib\n",
        "%matplotlib inline\n",
        "import matplotlib.pyplot as plt\n",
        "plt.style.use('fivethirtyeight')\n",
        "import warnings\n",
        "warnings.simplefilter('ignore')\n",
        "\n",
        "# This line loads the visualization code for this lab.\n",
        "import visualizations"
      ],
      "id": "ne0gBmCd0B0V"
    },
    {
      "cell_type": "markdown",
      "metadata": {
        "id": "DMQ_TW8P0B0W"
      },
      "source": [
        "# 1. ¿Para qué sirve la probabilidad condicional?\n",
        "\n",
        "Supongamos que tenemos una población conocida, como todos los perros de California. Hasta ahora, hemos visto tres formas de *predecir* algo sobre un individuo en esa población, dado un conocimiento incompleto sobre la identidad del individuo:\n",
        "\n",
        "* Si no sabemos nada sobre el perro individual, podríamos predecir que su velocidad es el *promedio* o *mediana* de todas las velocidades de la población.\n",
        "* Si conocemos la altura del perro pero no su velocidad, podríamos usar *regresión lineal* para predecir su velocidad a partir de su altura. La predicción resultante sigue siendo imperfecta, pero podría ser más precisa que el promedio de la población.\n",
        "* Si conocemos la raza, la altura y la edad del perro, podríamos usar la *clasificación del vecino más cercano* para predecir su velocidad comparándolo con un grupo de perros con velocidad conocida.\n",
        "\n",
        "\n",
        "También podemos calcular probabilidades condicionales para hacer predicciones sobre individuos o eventos. Esta técnica es diferente de los métodos anteriores que hemos examinado porque\n",
        "\n",
        "1. nuestra predicción para cada resultado se describe mediante una probabilidad, y\n",
        "2. cada probabilidad puede calcularse exactamente a partir de suposiciones, en lugar de estimarse a partir de datos."
      ],
      "id": "DMQ_TW8P0B0W"
    },
    {
      "cell_type": "markdown",
      "metadata": {
        "id": "X0hWB4as0B0X"
      },
      "source": [
        "# 2. Matrices de iconos\n",
        "Las partes 3 y 4 de esta práctica de laboratorio trabajan con un ejemplo más complejo sobre enfermedades, pero primero, comencemos con un ejemplo simple.\n",
        "\n",
        "Imagina que Samantha y tú estáis jugando un juego en el que os dan una canica y os piden que determines su textura y tamaño. No sabes nada sobre la canica que te dan, pero sabes que Samantha la sacó **uniformemente al azar** de una bolsa que contenía las siguientes canicas:\n",
        "* 4 canicas grandes y brillantes,\n",
        "* 1 canica grande sin brillo,\n",
        "* 6 pequeñas canicas brillantes,\n",
        "* 2 canicas pequeñas sin brillo."
      ],
      "id": "X0hWB4as0B0X"
    },
    {
      "cell_type": "markdown",
      "metadata": {
        "id": "fMuFwLLy0B0Y"
      },
      "source": [
        "**Pregunta 2.0.1.** Sabiendo sólo lo que te hemos dicho hasta ahora, ¿cuál es la probabilidad de que la canica que te dieron sea una canica grande y brillante?\n"
      ],
      "id": "fMuFwLLy0B0Y"
    },
    {
      "cell_type": "code",
      "execution_count": null,
      "metadata": {
        "deletable": false,
        "tags": [],
        "id": "q7Ld6O4Q0B0Y"
      },
      "outputs": [],
      "source": [
        "probability_large_shiny = ..."
      ],
      "id": "q7Ld6O4Q0B0Y"
    },
    {
      "cell_type": "code",
      "execution_count": null,
      "metadata": {
        "deletable": false,
        "editable": false,
        "id": "0W_k3iwm0B0Y"
      },
      "outputs": [],
      "source": [
        "grader.check(\"q2_0_1\")"
      ],
      "id": "0W_k3iwm0B0Y"
    },
    {
      "cell_type": "markdown",
      "metadata": {
        "id": "tY89QjMq0B0Z"
      },
      "source": [
        "Here's a table with those marbles:"
      ],
      "id": "tY89QjMq0B0Z"
    },
    {
      "cell_type": "code",
      "execution_count": null,
      "metadata": {
        "id": "p8W9QsBh0B0Z"
      },
      "outputs": [],
      "source": [
        "marbles = Table.read_table(\"marbles.csv\")\n",
        "marbles.show()"
      ],
      "id": "p8W9QsBh0B0Z"
    },
    {
      "cell_type": "markdown",
      "metadata": {
        "id": "LQi2dQdl0B0a"
      },
      "source": [
        "Aquí están los recuentos de cada tipo de canica en una tabla dinámica."
      ],
      "id": "LQi2dQdl0B0a"
    },
    {
      "cell_type": "code",
      "execution_count": null,
      "metadata": {
        "id": "lQSzrxUO0B0a"
      },
      "outputs": [],
      "source": [
        "marbles.pivot('surface', 'size')"
      ],
      "id": "lQSzrxUO0B0a"
    },
    {
      "cell_type": "markdown",
      "metadata": {
        "id": "yJ5J-Q-q0B0a"
      },
      "source": [
        "Aquí están todas las diferentes combinaciones de superficie y tamaño, con el recuento de cada combinación de superficie y tamaño. Cada tipo de mármol aparece en su propia fila."
      ],
      "id": "yJ5J-Q-q0B0a"
    },
    {
      "cell_type": "code",
      "execution_count": null,
      "metadata": {
        "id": "98Q2n8Yi0B0b"
      },
      "outputs": [],
      "source": [
        "marbles.group(['surface', 'size'])"
      ],
      "id": "98Q2n8Yi0B0b"
    },
    {
      "cell_type": "markdown",
      "metadata": {
        "id": "eALPZvot0B0b"
      },
      "source": [
        "Hemos incluido código para mostrar algo llamado *matriz de iconos*. Las funciones de la celda siguiente crean matrices de iconos a partir de varios tipos de tablas. No te preocupes por entender el código; simplemente ejecuta esta celda.\n",
        "\n",
        "**NOTA:** Puede ignorar las etiquetas del eje y. Solo recuerda que cada caja representa 1 canica."
      ],
      "id": "eALPZvot0B0b"
    },
    {
      "cell_type": "code",
      "execution_count": null,
      "metadata": {
        "id": "JW9xra950B0b"
      },
      "outputs": [],
      "source": [
        "# Ejecute esta celda.\n",
        "\n",
        "#######################################################################\n",
        "# Las funciones que necesitarás utilizar están aquí. Cada uno es un\n",
        "# forma de crear una matriz de iconos a partir de una tabla con formato diferente.\n",
        "#######################################################################\n",
        "\n",
        "def display_icon_array(table, groups, individuals_name):\n",
        "    \"\"\"\n",
        "     Dada una tabla y algunas columnas para agruparla, muestra una matriz de iconos\n",
        "     de los grupos.\n",
        "\n",
        "     Los grupos deben ser una serie de etiquetas de columnas en la tabla.\n",
        "\n",
        "     individuos_name es su nombre para las filas individuales de la tabla.\n",
        "     Por ejemplo, si hablamos de una población de personas,\n",
        "     individuos_name debe ser \"personas\".\n",
        "\n",
        "     Por ejemplo:\n",
        "\n",
        "     display_icon_array(canicas, [\"superficie\", \"tamaño\"], \"canicas\")\n",
        "     \"\"\"\n",
        "    display_grouped_icon_array(table.group(groups), individuals_name)\n",
        "\n",
        "def display_grouped_icon_array(grouped_data, individuals_name):\n",
        "    \"\"\"\n",
        "     Dada una tabla con recuentos de datos agrupados por 1 o más categorías,\n",
        "     muestra una matriz de iconos de los grupos representados en la tabla.\n",
        "\n",
        "     grouped_data debe ser una tabla de frecuencias o recuentos, como\n",
        "     una tabla creada llamando al método de grupos en alguna tabla.\n",
        "\n",
        "     individuos_name es su nombre para los miembros individuales del\n",
        "     conjunto de datos. Por ejemplo, si hablamos de una población de\n",
        "     personas, nombre_individuos debe ser \"personas\".\n",
        "\n",
        "     Por ejemplo:\n",
        "\n",
        "     display_grouped_icon_array(canicas.group([\"superficie\", \"tamaño\"]), \"canicas\")\n",
        "    \"\"\"\n",
        "    visualizations.display_combinations(grouped_data, individuals_name=individuals_name)\n",
        "\n",
        "def display_crosstab_icon_array(crosstabulation, x_label, individuals_name):\n",
        "    \"\"\"\n",
        "     Dada una tabla de tabulación cruzada, muestra una matriz de iconos de los grupos\n",
        "     representado en la tabla.\n",
        "\n",
        "     La tabulación cruzada debe ser una tabla de frecuencias o recuentos creada por\n",
        "     llamando a pivote en alguna mesa.\n",
        "\n",
        "     x_label debe ser la etiqueta de las categorías enumeradas como columnas (en\n",
        "     el \"eje x\" cuando se imprime la tabla de contingencia).\n",
        "\n",
        "     individuos_name es su nombre para los miembros individuales del\n",
        "     conjunto de datos. Por ejemplo, si hablamos de una población de\n",
        "     personas, nombre_individuos debe ser \"personas\".\n",
        "\n",
        "     For example:\n",
        "     display_crosstab_icon_array(marbles.pivot(\"surface\", \"size\"), \"surface\", \"marbles\")\n",
        "    \"\"\"\n",
        "    display_grouped_icon_array(visualizations.pivot_table_to_groups(crosstabulation, x_label), individuals_name)"
      ],
      "id": "JW9xra950B0b"
    },
    {
      "cell_type": "markdown",
      "metadata": {
        "id": "nNC2ObO60B0c"
      },
      "source": [
        "Aquí hay una serie de iconos de todas las canicas, agrupadas por superficie y tamaño:"
      ],
      "id": "nNC2ObO60B0c"
    },
    {
      "cell_type": "code",
      "execution_count": null,
      "metadata": {
        "scrolled": true,
        "id": "J--Ke0bS0B0c"
      },
      "outputs": [],
      "source": [
        "# Run this cell.\n",
        "display_grouped_icon_array(marbles.group([\"surface\", \"size\"]), \"marble(s)\")"
      ],
      "id": "J--Ke0bS0B0c"
    },
    {
      "cell_type": "markdown",
      "metadata": {
        "id": "KyWdjii90B0c"
      },
      "source": [
        "Debes imaginar que la canica que te dieron fue seleccionada mediante un sorteo aleatorio entre estos 13 íconos.\n",
        "\n",
        "La siguiente es una serie de íconos de las canicas, agrupadas **solo por su superficie (brillante/opaca)**."
      ],
      "id": "KyWdjii90B0c"
    },
    {
      "cell_type": "code",
      "execution_count": null,
      "metadata": {
        "id": "uUIyUdJa0B0d"
      },
      "outputs": [],
      "source": [
        "display_grouped_icon_array(marbles.group(\"surface\"), \"marble(s)\")"
      ],
      "id": "uUIyUdJa0B0d"
    },
    {
      "cell_type": "markdown",
      "metadata": {
        "id": "DWvpQrtT0B0d"
      },
      "source": [
        "Sin saber nada más sobre el mármol, es igualmente probable que sea cualquiera de los mármoles representados arriba; Esto se debe a que hemos asumido que la canica se selecciona **uniformemente al azar** de la bolsa.\n",
        "\n",
        "**Pregunta 2.0.2.** ¿Cuál es la probabilidad de que te hayan dado una canica brillante? Responda usando expresiones matemáticas mirando su conjunto de iconos.\n"
      ],
      "id": "DWvpQrtT0B0d"
    },
    {
      "cell_type": "code",
      "execution_count": null,
      "metadata": {
        "deletable": false,
        "tags": [],
        "id": "9rdj5B7R0B0d"
      },
      "outputs": [],
      "source": [
        "probability_shiny = ..."
      ],
      "id": "9rdj5B7R0B0d"
    },
    {
      "cell_type": "code",
      "execution_count": null,
      "metadata": {
        "deletable": false,
        "editable": false,
        "id": "as38FaPf0B0d"
      },
      "outputs": [],
      "source": [
        "grader.check(\"q2_0_2\")"
      ],
      "id": "as38FaPf0B0d"
    },
    {
      "cell_type": "markdown",
      "metadata": {
        "id": "prn-7qpT0B0e"
      },
      "source": [
        "## 2.1. La probabilidad condicional\n",
        "\n",
        "Supongamos que escuchas a Samantha decir que te dieron una canica grande. ¿Esto cambia de alguna manera la posibilidad de que tu canica brille? Vamos a averiguar.\n",
        "\n",
        "Vuelva a la matriz de iconos completa, que se muestra a continuación para mayor comodidad."
      ],
      "id": "prn-7qpT0B0e"
    },
    {
      "cell_type": "code",
      "execution_count": null,
      "metadata": {
        "id": "i0LEFvMN0B0e"
      },
      "outputs": [],
      "source": [
        "display_grouped_icon_array(marbles.group([\"surface\", \"size\"]), \"marble(s)\")"
      ],
      "id": "i0LEFvMN0B0e"
    },
    {
      "cell_type": "markdown",
      "metadata": {
        "id": "v-VczyDy0B0e"
      },
      "source": [
        "En la pregunta 2.0.2, asumimos que la canica que te dieron tenía la misma probabilidad de ser cualquiera de las canicas, simplemente porque no sabíamos nada mejor. Por eso miramos todas las canicas para calcular la probabilidad de que tu canica fuera brillante.\n",
        "\n",
        "Pero suponiendo que te hayan dado una canica grande, podemos eliminar algunas de estas posibilidades. En particular, no te pueden haber dado una pequeña canica brillante o una pequeña canica sin brillo.\n",
        "\n",
        "Es igualmente probable que te hayan dado alguna de las canicas restantes, porque no conoces ninguna otra información. Así que aquí hay una serie de iconos de esas posibilidades restantes:"
      ],
      "id": "v-VczyDy0B0e"
    },
    {
      "cell_type": "code",
      "execution_count": null,
      "metadata": {
        "id": "k-KMX73b0B0e"
      },
      "outputs": [],
      "source": [
        "# Just run this cell.\n",
        "display_grouped_icon_array(marbles.where(\"size\", \"large\").group(\"surface\"), \"large marble(s)\")"
      ],
      "id": "k-KMX73b0B0e"
    },
    {
      "cell_type": "markdown",
      "metadata": {
        "id": "YRNGehY30B0f"
      },
      "source": [
        "**Pregunta 2.1.1.** ¿Cuál es la probabilidad de que Samantha te haya dado una canica brillante, sabiendo que te dio una canica grande?\n",
        "\n",
        "*Sugerencia: eche un vistazo a la matriz de iconos.*\n"
      ],
      "id": "YRNGehY30B0f"
    },
    {
      "cell_type": "code",
      "execution_count": null,
      "metadata": {
        "deletable": false,
        "tags": [],
        "id": "RVkUZu_20B0f"
      },
      "outputs": [],
      "source": [
        "probability_shiny_given_large = ..."
      ],
      "id": "RVkUZu_20B0f"
    },
    {
      "cell_type": "code",
      "execution_count": null,
      "metadata": {
        "deletable": false,
        "editable": false,
        "id": "3Rt8H_R70B0f"
      },
      "outputs": [],
      "source": [
        "grader.check(\"q2_1_1\")"
      ],
      "id": "3Rt8H_R70B0f"
    },
    {
      "cell_type": "markdown",
      "metadata": {
        "id": "SGu8Ru4a0B0f"
      },
      "source": [
        "Deberías haber descubierto que esto es diferente de la probabilidad de que Samantha te diera una canica brillante, sin tener información sobre el tamaño, que calculaste anteriormente. La distribución de superficies entre los mármoles grandes es un poco diferente a la distribución de superficies entre todos los mármoles."
      ],
      "id": "SGu8Ru4a0B0f"
    },
    {
      "cell_type": "code",
      "execution_count": null,
      "metadata": {
        "id": "AF9tH1Oi0B0f"
      },
      "outputs": [],
      "source": [
        "# Run this cell to display the icon array. Then fill answer the next question.\n",
        "display_grouped_icon_array(marbles.where(\"surface\", \"shiny\").group(\"size\"), \"shiny marble(s)\")"
      ],
      "id": "AF9tH1Oi0B0f"
    },
    {
      "cell_type": "markdown",
      "metadata": {
        "id": "RICHOz-E0B0g"
      },
      "source": [
        "**Pregunta 2.1.2.** Supongamos que Samantha hubiera dicho que te dio una canica **brillante** (¡hurra!). ¿Cuál es la probabilidad de que la canica que te dieron sea grande?\n",
        "\n",
        "Ejecute la celda de código de arriba para mostrar la matriz de iconos, luego asigne `probability_large_given_shiny` al valor apropiado."
      ],
      "id": "RICHOz-E0B0g"
    },
    {
      "cell_type": "code",
      "execution_count": null,
      "metadata": {
        "tags": [],
        "id": "jvH071uF0B0g"
      },
      "outputs": [],
      "source": [
        "probability_large_given_shiny = ..."
      ],
      "id": "jvH071uF0B0g"
    },
    {
      "cell_type": "code",
      "execution_count": null,
      "metadata": {
        "deletable": false,
        "editable": false,
        "id": "roV84V9G0B0g"
      },
      "outputs": [],
      "source": [
        "grader.check(\"q2_1_2\")"
      ],
      "id": "roV84V9G0B0g"
    },
    {
      "cell_type": "markdown",
      "metadata": {
        "id": "8IBmmtc30B0g"
      },
      "source": [
        "**Pregunta 2.1.3.** ¿Puedes responder las dos preguntas anteriores simplemente mirando la matriz completa de íconos? (Puede ejecutar la celda a continuación para verla nuevamente).\n",
        "\n",
        "*Pista:* Consulte el [Capítulo 18.2](https://inferentialthinking.com/chapters/18/2/Making_Decisions.html) para repasar cómo utilizar la regla de Bayes."
      ],
      "id": "8IBmmtc30B0g"
    },
    {
      "cell_type": "code",
      "execution_count": null,
      "metadata": {
        "id": "s6vTF9h40B0g"
      },
      "outputs": [],
      "source": [
        "# Just run this cell.  The next cell is where you should write your answer.\n",
        "display_grouped_icon_array(marbles.group([\"surface\", \"size\"]), \"marble(s)\")"
      ],
      "id": "s6vTF9h40B0g"
    },
    {
      "cell_type": "markdown",
      "metadata": {
        "id": "e6UhnMNw0B0g"
      },
      "source": [
        "Si puedes, ¿cómo? ¿Si no, porque no? Consulte con sus compañeros de laboratorio o con un miembro del personal para ver si está en el camino correcto.\n"
      ],
      "id": "e6UhnMNw0B0g"
    },
    {
      "cell_type": "markdown",
      "metadata": {
        "id": "YHs2f-aa0B0g"
      },
      "source": [
        "_Escriba su respuesta aquí, reemplazando este texto._"
      ],
      "id": "YHs2f-aa0B0g"
    },
    {
      "cell_type": "markdown",
      "metadata": {
        "id": "Nzsks7oa0B0h"
      },
      "source": [
        "# 3. Detección de cáncer\n",
        "Esperamos que las matrices de iconos de la parte anterior le hayan ayudado a desarrollar una intuición sobre por qué las probabilidades condicionales pueden ser útiles. Ahora, veamos una aplicación de la vida real.\n",
        "\n",
        "### Fondo\n",
        "Las pruebas médicas son muy importantes, especialmente para el cáncer. Una prueba de detección de cáncer básica implica buscar el cáncer antes de que una persona presente algún síntoma.\n",
        "\n",
        "La detección del cáncer no es 100% confiable y puede tener errores. Hay casos en los que alguien sin cáncer o con un tumor benigno ve un resultado positivo en la prueba. También hay casos en los que alguien con cáncer puede recibir un resultado negativo. (“Positivo” implica una indicación de cáncer en este contexto). El primer caso, llamado falso positivo, podría causar ansiedad al paciente y dar lugar a pruebas adicionales que pueden ser riesgosas e implicar radiación innecesaria. En el segundo caso, llamado falso negativo, una persona no recibiría la información necesaria y el posible tratamiento para su condición.\n",
        "\n",
        "La probabilidad condicional puede proporcionar información sobre la precisión de las pruebas iniciales de cáncer. Por ejemplo, se puede calcular la probabilidad de que una persona tenga cáncer según los resultados de una prueba de diagnóstico combinando información de diferentes distribuciones de probabilidad. Verá que la probabilidad de que la Persona X tenga cáncer incluso si recibe un resultado positivo no es necesariamente del 100%.\n",
        "\n",
        "Es importante señalar que las probabilidades condicionales ofrecen sólo una línea de información para comprender el resultado de una prueba y que este enfoque estadístico no tiene en cuenta factores importantes como la herencia o el entorno que llegan a afectar la salud y el diagnóstico de una persona. Los [Centros para el Control y la Prevención de Enfermedades] (https://www.cdc.gov/cancer/dcpc/prevention/screening.htm) (CDC) recomiendan realizarse exámenes de detección de cáncer preventivos y siempre se debe consultar a un médico si tiene dudas. sobre su salud."
      ],
      "id": "Nzsks7oa0B0h"
    },
    {
      "cell_type": "markdown",
      "metadata": {
        "id": "cm2PUrRo0B0h"
      },
      "source": [
        "## 3.1. Estadísticas básicas sobre el cáncer\n",
        "\n",
        "Nota: Todas las siguientes estadísticas son inventadas y no reflejan necesariamente el estado real del mundo.\n",
        "\n",
        "\n",
        "Supongamos que en un grupo representativo de 10.000 personas a las que se les hacen pruebas de cáncer (\"representativo\", lo que significa que las frecuencias de diferentes eventos son las mismas que las frecuencias en toda la población):\n",
        "1. 100 personas tienen cáncer.\n",
        "2. Entre las 100 personas que tienen cáncer, 90 tienen resultados positivos en una prueba de cáncer y 10 tienen resultados negativos. (Entonces 10 personas reciben resultados falsos negativos).\n",
        "3. Las otras 9.900 personas no tienen cáncer.\n",
        "4. Entre estas 9.900 personas, 198 tienen resultados positivos en una prueba de cáncer y las otras 9.702 tienen resultados negativos. (Entonces 198 ven resultados \"falsos positivos\").\n",
        "\n",
        "A continuación hemos generado una tabla con datos de estas 10.000 personas hipotéticas.\n",
        "\n",
        "*Nota: Estas estadísticas son inventadas y no reflejan necesariamente el estado real del mundo.*"
      ],
      "id": "cm2PUrRo0B0h"
    },
    {
      "cell_type": "code",
      "execution_count": null,
      "metadata": {
        "id": "BD9p9h740B0h"
      },
      "outputs": [],
      "source": [
        "people = Table().with_columns(\n",
        "    \"status\", [\"cancer\", \"cancer\", \"no cancer\", \"no cancer\"],\n",
        "    \"test status\", [\"positive\", \"negative\", \"positive\", \"negative\"],\n",
        "    \"count\", [90, 10, 198, 9702])\n",
        "people"
      ],
      "id": "BD9p9h740B0h"
    },
    {
      "cell_type": "markdown",
      "metadata": {
        "id": "KBKQe0pr0B0h"
      },
      "source": [
        "Una forma de visualizar este conjunto de datos es con una tabla de contingencia, que ya ha visto antes.\n",
        "\n",
        "**Pregunta 3.1.1.** Utilizando la tabla \"personas\" definida anteriormente, cree una tabla de contingencia similar a esta:\n",
        "\n",
        "|estado|negativo|positivo|\n",
        "|-|-|-|\n",
        "|cáncer|||\n",
        "|sin cáncer||||\n",
        "\n",
        "con el **recuento** de cada grupo completado, según lo que te hemos contado anteriormente. Los conteos en las 4 casillas deben sumar 10,000.\n"
      ],
      "id": "KBKQe0pr0B0h"
    },
    {
      "cell_type": "code",
      "execution_count": null,
      "metadata": {
        "deletable": false,
        "scrolled": true,
        "tags": [],
        "id": "WavRxPU-0B0i"
      },
      "outputs": [],
      "source": [
        "cancer = ...\n",
        "cancer"
      ],
      "id": "WavRxPU-0B0i"
    },
    {
      "cell_type": "code",
      "execution_count": null,
      "metadata": {
        "deletable": false,
        "editable": false,
        "id": "f4o2TloT0B0i"
      },
      "outputs": [],
      "source": [
        "grader.check(\"q3_1_1\")"
      ],
      "id": "f4o2TloT0B0i"
    },
    {
      "cell_type": "markdown",
      "metadata": {
        "id": "8rQsEv_P0B0i"
      },
      "source": [
        "Aquí están los datos de \"personas\" en una matriz de iconos."
      ],
      "id": "8rQsEv_P0B0i"
    },
    {
      "cell_type": "code",
      "execution_count": null,
      "metadata": {
        "id": "K81UoUNQ0B0i"
      },
      "outputs": [],
      "source": [
        "display_grouped_icon_array(people, \"people who've taken a cancer test\")"
      ],
      "id": "K81UoUNQ0B0i"
    },
    {
      "cell_type": "markdown",
      "metadata": {
        "id": "2-OAOgPt0B0i"
      },
      "source": [
        "Ahora pensemos en cómo se puede utilizar este tipo de información cuando a la Persona X se le haga una prueba de cáncer.\n",
        "\n",
        "Antes de conocer cualquier información sobre la Persona X, podría imaginarse a la Persona X como una **muestra aleatoria uniforme** de una de las 10,000 personas en esta población imaginaria de personas que han sido examinadas.\n",
        "\n",
        "¿Cuál es la probabilidad de que la Persona X tenga cáncer sin saber nada más sobre ella? Es $\\frac{100}{10000}$, o 1%. Podemos ver eso más directamente con esta matriz de iconos:"
      ],
      "id": "2-OAOgPt0B0i"
    },
    {
      "cell_type": "code",
      "execution_count": null,
      "metadata": {
        "id": "FPnqebxW0B0i"
      },
      "outputs": [],
      "source": [
        "by_health = people.select(0, 2).group(0, sum).relabeled(1, 'count')\n",
        "display_grouped_icon_array(by_health, \"people who've taken a cancer test\")"
      ],
      "id": "FPnqebxW0B0i"
    },
    {
      "cell_type": "markdown",
      "metadata": {
        "id": "sVU7-rAq0B0j"
      },
      "source": [
        "**Pregunta 3.1.2.** ¿Cuál es la probabilidad de que la Persona X tenga un resultado positivo en la prueba sin saber nada más sobre ella?\n",
        "Ejecute la siguiente celda de código para mostrar una matriz de iconos, luego asigne `probability_positive_test` a este valor."
      ],
      "id": "sVU7-rAq0B0j"
    },
    {
      "cell_type": "code",
      "execution_count": null,
      "metadata": {
        "deletable": false,
        "tags": [],
        "id": "iuxczRrt0B0j"
      },
      "outputs": [],
      "source": [
        "# Run this cell first to display an icon array. Then fill in the probability of a positive test result in the last line.\n",
        "by_test = people.select(1, 2).group(0, sum).relabeled(1, 'count')\n",
        "display_grouped_icon_array(by_test, \"people who've taken a cancer test\")\n",
        "\n",
        "# Now fill in the probability of a positive test result\n",
        "probability_positive_test = ..."
      ],
      "id": "iuxczRrt0B0j"
    },
    {
      "cell_type": "code",
      "execution_count": null,
      "metadata": {
        "deletable": false,
        "editable": false,
        "id": "51edT8HV0B0j"
      },
      "outputs": [],
      "source": [
        "grader.check(\"q3_1_2\")"
      ],
      "id": "51edT8HV0B0j"
    },
    {
      "cell_type": "markdown",
      "metadata": {
        "id": "L7KghAeF0B0j"
      },
      "source": [
        "## 3.2. Interpretación de los resultados de las pruebas\n",
        "Supongamos que la Persona X tiene un resultado positivo en la prueba. Esto significa que ahora puedes limitarlos a formar parte de solo uno de los dos grupos siguientes:\n",
        "1. Las personas con cáncer que tengan un resultado positivo en la prueba.\n",
        "2. Las personas sin cáncer que tengan un resultado positivo en la prueba.\n",
        "\n",
        "Aquí hay una matriz de iconos para esos dos grupos:"
      ],
      "id": "L7KghAeF0B0j"
    },
    {
      "cell_type": "code",
      "execution_count": null,
      "metadata": {
        "id": "fgDXav3S0B0j"
      },
      "outputs": [],
      "source": [
        "# Just run this cell.\n",
        "display_grouped_icon_array(people.where(\"test status\", are.equal_to(\"positive\")).drop(1), \"people who have a positive test result\")"
      ],
      "id": "fgDXav3S0B0j"
    },
    {
      "cell_type": "markdown",
      "metadata": {
        "id": "N4UD2DQD0B0j"
      },
      "source": [
        "La *probabilidad condicional* de que la Persona X **tenga cáncer dado el resultado positivo de su prueba** es la posibilidad de que esté en el primer grupo (cáncer), suponiendo que tenga un resultado positivo de la prueba.\n",
        "\n",
        "**Pregunta 3.2.1.** Si observamos la matriz de iconos de arriba, la probabilidad condicional de que la Persona X tenga cáncer **dado el resultado positivo de su prueba** es la más cercana a:\n",
        "\n",
        "1. $\\displaystyle\\frac{9}{10}$\n",
        "\n",
        "2. $\\displaystyle\\frac{2}{3}$\n",
        "\n",
        "3. $\\displaystyle\\frac{1}{2}$\n",
        "\n",
        "4. $\\displaystyle\\frac{1}{3}$\n",
        "\n",
        "5. $\\displaystyle\\frac{1}{100}$\n",
        "\n",
        "\n",
        "Asigne `rough_prob_cancer_given_positive` a un número entero correspondiente a su respuesta."
      ],
      "id": "N4UD2DQD0B0j"
    },
    {
      "cell_type": "code",
      "execution_count": null,
      "metadata": {
        "deletable": false,
        "tags": [],
        "id": "kczrurai0B0k"
      },
      "outputs": [],
      "source": [
        "# Set this to either 1, 2, 3, 4, or 5 corresponding to the correct probability.\n",
        "rough_prob_cancer_given_positive = ..."
      ],
      "id": "kczrurai0B0k"
    },
    {
      "cell_type": "code",
      "execution_count": null,
      "metadata": {
        "deletable": false,
        "editable": false,
        "id": "K1FiiKE-0B0k"
      },
      "outputs": [],
      "source": [
        "grader.check(\"q3_2_1\")"
      ],
      "id": "K1FiiKE-0B0k"
    },
    {
      "cell_type": "markdown",
      "metadata": {
        "id": "pl1t-wrg0B0k"
      },
      "source": [
        "**Pregunta 3.2.2.** Ahora escribe código para calcular esa probabilidad exactamente, usando la tabla de contingencia original que escribiste (la tabla de \"cáncer\").\n",
        "\n",
        "Ejecute la siguiente celda de código para ver la tabla \"cáncer\", luego complete \"prob_cancer_given_positive\" con su código.\n",
        "\n"
      ],
      "id": "pl1t-wrg0B0k"
    },
    {
      "cell_type": "code",
      "execution_count": null,
      "metadata": {
        "deletable": false,
        "tags": [],
        "id": "KU-ZnwZ90B0k"
      },
      "outputs": [],
      "source": [
        "# Run this cell first to see the cancer table. Then fill in the next line of this cell.\n",
        "cancer.show()\n",
        "\n",
        "prob_cancer_given_positive = ...\n",
        "\n",
        "print('Probability of cancer given positive test result: {}'.format(prob_cancer_given_positive))"
      ],
      "id": "KU-ZnwZ90B0k"
    },
    {
      "cell_type": "code",
      "execution_count": null,
      "metadata": {
        "deletable": false,
        "editable": false,
        "id": "9H0W6aai0B0k"
      },
      "outputs": [],
      "source": [
        "grader.check(\"q3_2_2\")"
      ],
      "id": "9H0W6aai0B0k"
    },
    {
      "cell_type": "markdown",
      "metadata": {
        "id": "zmJ20cW-0B0l"
      },
      "source": [
        "**Pregunta 3.2.3.** Mire nuevamente la matriz completa de íconos. Usando eso, ¿cómo calcularías la probabilidad condicional de cáncer si la prueba fuera positiva?\n",
        "\n",
        "Ejecute la siguiente celda de código para ver la matriz de iconos completa.\n"
      ],
      "id": "zmJ20cW-0B0l"
    },
    {
      "cell_type": "markdown",
      "metadata": {
        "id": "FiD24Iit0B0l"
      },
      "source": [
        "_Escriba su respuesta aquí, reemplazando este texto._"
      ],
      "id": "FiD24Iit0B0l"
    },
    {
      "cell_type": "code",
      "execution_count": null,
      "metadata": {
        "id": "3NVuRS7Y0B0l"
      },
      "outputs": [],
      "source": [
        "# The full icon array is given here for your convenience.\n",
        "# Write your answer in the previous cell.\n",
        "display_grouped_icon_array(people, \"people who've taken a cancer test\")"
      ],
      "id": "3NVuRS7Y0B0l"
    },
    {
      "cell_type": "markdown",
      "metadata": {
        "id": "d-kmoj_l0B0l"
      },
      "source": [
        "**Pregunta 3.2.4.** ¿Su respuesta a la pregunta 3.2.2 es mayor que la proporción general de personas en la población que tienen cáncer (indicada como 1 % en 3.1.1)? ¿Tiene sentido? Consulte con sus compañeros o con un miembro del personal para ver si tiene la idea correcta."
      ],
      "id": "d-kmoj_l0B0l"
    },
    {
      "cell_type": "markdown",
      "metadata": {
        "id": "y4JUp7I30B0l"
      },
      "source": [
        "_Escriba su respuesta aquí, reemplazando este texto._"
      ],
      "id": "y4JUp7I30B0l"
    },
    {
      "cell_type": "markdown",
      "metadata": {
        "id": "CVGO0PCN0B0l"
      },
      "source": [
        "# 4. Un previo subjetivo\n",
        "\n",
        "Tener razón no siempre es satisfactorio. Clasificar a un paciente positivo como si no tuviera cáncer todavía parece algo incorrecto, para una prueba tan precisa. En esta sección, analizaremos en mayor profundidad la base de nuestro cálculo de probabilidad: el supuesto de aleatoriedad.\n",
        "\n",
        "Nuestra suposición era que se hizo la prueba a una persona elegida al azar de nuestra población de 10.000 individuos. Esto no sucede en la realidad. Las personas acuden a hacerse la prueba porque creen que podrían tener la enfermedad o porque su médico cree que podrían tener la enfermedad. Las personas que se hacen la prueba no son miembros de la población elegidos al azar.\n",
        "\n",
        "Es por eso que nuestra intuición sobre las personas que se hacían la prueba no encajaba bien con la respuesta que obtuvimos. En la **Pregunta 3.2.2**, calculamos que la probabilidad de cáncer si el resultado de la prueba era positivo era **0,3125**, o **31,25%**. Esto parece inusualmente bajo, especialmente teniendo en cuenta lo que sabemos sobre la eficacia de las pruebas de detección del cáncer. Estábamos imaginando una situación realista en la que un paciente iba a hacerse la prueba porque había alguna razón para hacerlo, mientras que el cálculo se basaba en una persona elegida al azar para la prueba.\n",
        "\n",
        "Así que rehagamos nuestro cálculo bajo la suposición más realista de que el paciente se hace la prueba porque el médico cree que existe la posibilidad de que tenga la enfermedad y comparemos las dos probabilidades.\n",
        "\n",
        "**Aparte:** Para obtener más información sobre la Parte 4 de esta práctica de laboratorio, consulte la [Sección 18.2.2](https://inferentialthinking.com/chapters/18/2/Making_Decisions.html#a-subjective-prior) de el libro de texto."
      ],
      "id": "CVGO0PCN0B0l"
    },
    {
      "cell_type": "markdown",
      "metadata": {
        "id": "-N8mUHsI0B0m"
      },
      "source": [
        "## 4.1. Una nueva mirada a la población\n",
        "Supongamos ahora que nuestra población de 10.000 personas tiene en cuenta el hecho de que la elección de realizarse un examen médico no se hace al azar; debe haber algún motivo para que un individuo tome uno. Así, nuestra población modificada tiene las siguientes propiedades:\n",
        "1. 1.000 personas tienen cáncer.\n",
        "1. Entre las 1.000 personas que tienen cáncer, 900 tienen resultados positivos en una prueba de cáncer y 100 tienen resultados negativos.\n",
        "3. Las otras 9.000 personas no tienen cáncer.\n",
        "4. Entre estas 9.000 personas, 180 tienen resultados positivos en una prueba de cáncer y las otras 8.820 tienen resultados negativos. (Entonces 180 ven resultados \"falsos positivos\").\n",
        "\n",
        "A continuación hemos generado una tabla de población llamada `people_new` y una tabla de contingencia con datos de estas 10.000 personas hipotéticas llamada `cancer_new`."
      ],
      "id": "-N8mUHsI0B0m"
    },
    {
      "cell_type": "code",
      "execution_count": null,
      "metadata": {
        "id": "wlGNtoAK0B0m"
      },
      "outputs": [],
      "source": [
        "# Just run this cell to load the table\n",
        "people_new = Table().with_columns(\n",
        "    \"status\", [\"cancer\", \"cancer\", \"no cancer\", \"no cancer\"],\n",
        "    \"test status\", [\"positive\", \"negative\", \"positive\", \"negative\"],\n",
        "    \"count\", [900, 100, 180, 8820])\n",
        "people_new"
      ],
      "id": "wlGNtoAK0B0m"
    },
    {
      "cell_type": "code",
      "execution_count": null,
      "metadata": {
        "id": "2BBlwK-20B0m"
      },
      "outputs": [],
      "source": [
        "# Just run this cell to load the table\n",
        "cancer_new = Table().with_columns(\n",
        "    \"status\", [\"cancer\", \"no cancer\"],\n",
        "    \"negative\", [100, 8820],\n",
        "    \"positive\", [900, 180])\n",
        "cancer_new"
      ],
      "id": "2BBlwK-20B0m"
    },
    {
      "cell_type": "markdown",
      "metadata": {
        "id": "xtMA2QpN0B0m"
      },
      "source": [
        "Como antes, podemos presentar los datos anteriores en una matriz de iconos. Aquí están los datos `people_new` en dicho formato."
      ],
      "id": "xtMA2QpN0B0m"
    },
    {
      "cell_type": "code",
      "execution_count": null,
      "metadata": {
        "id": "ST9bLFPi0B0m"
      },
      "outputs": [],
      "source": [
        "display_grouped_icon_array(people_new, \"people who've taken a cancer test\")"
      ],
      "id": "ST9bLFPi0B0m"
    },
    {
      "cell_type": "markdown",
      "metadata": {
        "id": "v9ksxcLd0B0m"
      },
      "source": [
        "## 4.2. Interpretación y comparación\n",
        "Como en la Parte 3, supongamos que la Persona X tiene un resultado positivo en la prueba. Esto significa que ahora puedes limitarlos a formar parte de solo uno de los dos grupos siguientes:\n",
        "1. Las personas con cáncer que tengan un resultado positivo en la prueba.\n",
        "2. Las personas sin cáncer que tengan un resultado positivo en la prueba.\n",
        "\n",
        "Tal como lo hicimos en la Parte 3 de esta práctica de laboratorio, aquí hay una matriz de íconos para esos dos grupos:"
      ],
      "id": "v9ksxcLd0B0m"
    },
    {
      "cell_type": "code",
      "execution_count": null,
      "metadata": {
        "id": "A9Yp6pRw0B0n"
      },
      "outputs": [],
      "source": [
        "# Just run this cell.\n",
        "display_grouped_icon_array(people_new.where(\"test status\", are.equal_to(\"positive\")).drop(1), \"people who have a positive test result\")"
      ],
      "id": "A9Yp6pRw0B0n"
    },
    {
      "cell_type": "markdown",
      "metadata": {
        "id": "bWQ2ma9G0B0n"
      },
      "source": [
        "**Pregunta 4.2.1.** Utilizando la nueva tabla de contingencia, `cancer_new`, que se proporcionó al principio de esta sección, escriba código para calcular la probabilidad exacta de que un individuo tenga cáncer dado que ha recibido una prueba positiva. resultado.\n",
        "\n",
        "Ejecute la siguiente celda de código para ver la tabla `cancer_new`, luego complete `prob_cancer_given_positive_new` con su código.\n"
      ],
      "id": "bWQ2ma9G0B0n"
    },
    {
      "cell_type": "code",
      "execution_count": null,
      "metadata": {
        "deletable": false,
        "tags": [],
        "id": "IkU0CLfJ0B0n"
      },
      "outputs": [],
      "source": [
        "# Run this cell first to see the cancer_new table. Then fill in the next line of this cell.\n",
        "cancer_new.show()\n",
        "\n",
        "prob_cancer_given_positive_new = ...\n",
        "\n",
        "print(f'Probability of cancer given positive test result: {prob_cancer_given_positive_new}')"
      ],
      "id": "IkU0CLfJ0B0n"
    },
    {
      "cell_type": "code",
      "execution_count": null,
      "metadata": {
        "deletable": false,
        "editable": false,
        "id": "fB0EF5nk0B0n"
      },
      "outputs": [],
      "source": [
        "grader.check(\"q4_2_1\")"
      ],
      "id": "fB0EF5nk0B0n"
    },
    {
      "cell_type": "markdown",
      "metadata": {
        "id": "0ZC2ToWS0B0o"
      },
      "source": [
        "**Pregunta 4.2.2.** ¿Cómo se compara su probabilidad en 3.2.2 con su respuesta de 4.2.1? ¿Tiene sentido? Consulte con sus compañeros o con un miembro del personal para ver si tiene la idea correcta."
      ],
      "id": "0ZC2ToWS0B0o"
    },
    {
      "cell_type": "markdown",
      "metadata": {
        "id": "nOpPCvcN0B0o"
      },
      "source": [
        "_Escriba su respuesta aquí, reemplazando este texto._"
      ],
      "id": "nOpPCvcN0B0o"
    },
    {
      "cell_type": "markdown",
      "metadata": {
        "id": "JaXpeUPx0B0o"
      },
      "source": [
        "## ¡Hecho!\n",
        "\n",
        "<img src=\"https://github.com/darioblandon/materials-fa23/blob/main/lab/lab10/yogi.jpeg?raw=1\" alt=\"Photo of dog on white carpet with phone nearby.\" width=\"250\"/>\n",
        "\n",
        "¡Felicitaciones, ya terminó con _todos_ los laboratorios de Data 8! **¡Yogi** está muy orgulloso de ti!"
      ],
      "id": "JaXpeUPx0B0o"
    },
    {
      "cell_type": "markdown",
      "metadata": {
        "deletable": false,
        "editable": false,
        "id": "jE2PdVDI0B0p"
      },
      "source": [
        "## Envío\n",
        "\n",
        "Asegúrese de haber ejecutado todas las celdas de su cuaderno en orden antes de ejecutar la siguiente celda, para que todas las imágenes/gráficos aparezcan en el resultado. La siguiente celda generará un archivo zip para que lo envíe. **¡Guarde antes de exportar!**"
      ],
      "id": "jE2PdVDI0B0p"
    },
    {
      "cell_type": "code",
      "execution_count": null,
      "metadata": {
        "deletable": false,
        "editable": false,
        "id": "R2QzeQtw0B0p"
      },
      "outputs": [],
      "source": [
        "# Save your notebook first, then run this cell to export your submission.\n",
        "grader.export(pdf=False, run_tests=True)"
      ],
      "id": "R2QzeQtw0B0p"
    }
  ],
  "metadata": {
    "kernelspec": {
      "display_name": "Python 3",
      "language": "python",
      "name": "python3"
    },
    "language_info": {
      "codemirror_mode": {
        "name": "ipython",
        "version": 3
      },
      "file_extension": ".py",
      "mimetype": "text/x-python",
      "name": "python",
      "nbconvert_exporter": "python",
      "pygments_lexer": "ipython3",
      "version": "3.11.2"
    },
    "otter": {
      "OK_FORMAT": true,
      "tests": {
        "q2_0_1": {
          "name": "q2_0_1",
          "points": null,
          "suites": [
            {
              "cases": [
                {
                  "code": ">>> 0 < probability_large_shiny < 1 \nTrue",
                  "hidden": false,
                  "locked": false
                },
                {
                  "code": ">>> \n>>> import hashlib \n>>> def get_hash(num):\n...     \"\"\"Helper function for assessing correctness.\"\"\"\n...     return hashlib.md5(str(num).encode()).hexdigest()\n>>> \n>>> get_hash(np.round(probability_large_shiny, 3))\n'8404599d79837400f000c64a4fa1cc0e'",
                  "hidden": false,
                  "locked": false
                }
              ],
              "scored": true,
              "setup": "",
              "teardown": "",
              "type": "doctest"
            }
          ]
        },
        "q2_0_2": {
          "name": "q2_0_2",
          "points": null,
          "suites": [
            {
              "cases": [
                {
                  "code": ">>> import hashlib \n>>> def get_hash(num):\n...     \"\"\"Helper function for assessing correctness.\"\"\"\n...     return hashlib.md5(str(num).encode()).hexdigest()\n>>> \n>>> get_hash(np.round(probability_shiny, 3))\n'a83a7d5356406fb9bdbb4d93697cee38'",
                  "hidden": false,
                  "locked": false
                }
              ],
              "scored": true,
              "setup": "",
              "teardown": "",
              "type": "doctest"
            }
          ]
        },
        "q2_1_1": {
          "name": "q2_1_1",
          "points": null,
          "suites": [
            {
              "cases": [
                {
                  "code": ">>> \n>>> import hashlib \n>>> def get_hash(num):\n...     \"\"\"Helper function for assessing correctness.\"\"\"\n...     return hashlib.md5(str(num).encode()).hexdigest()\n>>> \n>>> get_hash(np.round(probability_shiny_given_large, 3))\n'57eeec0a6974ecb4e9fcf68fab052f7b'",
                  "hidden": false,
                  "locked": false
                }
              ],
              "scored": true,
              "setup": "",
              "teardown": "",
              "type": "doctest"
            }
          ]
        },
        "q2_1_2": {
          "name": "q2_1_2",
          "points": null,
          "suites": [
            {
              "cases": [
                {
                  "code": ">>> \n>>> import hashlib \n>>> def get_hash(num):\n...     \"\"\"Helper function for assessing correctness.\"\"\"\n...     return hashlib.md5(str(num).encode()).hexdigest()\n>>> \n>>> get_hash(np.round(probability_large_given_shiny, 3))\n'54fbf38cf649866815e0fefc46a1f6c7'",
                  "hidden": false,
                  "locked": false
                }
              ],
              "scored": true,
              "setup": "",
              "teardown": "",
              "type": "doctest"
            }
          ]
        },
        "q3_1_1": {
          "name": "q3_1_1",
          "points": null,
          "suites": [
            {
              "cases": [
                {
                  "code": ">>> sum(cancer.column(1)) == 9712\nTrue",
                  "hidden": false,
                  "locked": false
                },
                {
                  "code": ">>> sum(cancer.column(2)) == 288\nTrue",
                  "hidden": false,
                  "locked": false
                },
                {
                  "code": ">>> cancer\nstatus    | negative | positive\ncancer    | 10       | 90\nno cancer | 9702     | 198",
                  "hidden": false,
                  "locked": false
                }
              ],
              "scored": true,
              "setup": "",
              "teardown": "",
              "type": "doctest"
            }
          ]
        },
        "q3_1_2": {
          "name": "q3_1_2",
          "points": null,
          "suites": [
            {
              "cases": [
                {
                  "code": ">>> \n>>> import hashlib \n>>> def get_hash(num):\n...     \"\"\"Helper function for assessing correctness.\"\"\"\n...     return hashlib.md5(str(num).encode()).hexdigest()\n>>> \n>>> get_hash(np.round(probability_positive_test, 4)) == 'c50fc42a07a3cc2af3249a6e3ed78374'\nTrue",
                  "hidden": false,
                  "locked": false
                }
              ],
              "scored": true,
              "setup": "",
              "teardown": "",
              "type": "doctest"
            }
          ]
        },
        "q3_2_1": {
          "name": "q3_2_1",
          "points": null,
          "suites": [
            {
              "cases": [
                {
                  "code": ">>> \n>>> import hashlib \n>>> def get_hash(num):\n...     \"\"\"Helper function for assessing correctness.\"\"\"\n...     return hashlib.md5(str(num).encode()).hexdigest()\n>>> \n>>> get_hash(int(rough_prob_cancer_given_positive))\n'a87ff679a2f3e71d9181a67b7542122c'",
                  "hidden": false,
                  "locked": false
                }
              ],
              "scored": true,
              "setup": "",
              "teardown": "",
              "type": "doctest"
            }
          ]
        },
        "q3_2_2": {
          "name": "q3_2_2",
          "points": null,
          "suites": [
            {
              "cases": [
                {
                  "code": ">>> \n>>> import hashlib \n>>> def get_hash(num):\n...     \"\"\"Helper function for assessing correctness.\"\"\"\n...     return hashlib.md5(str(num).encode()).hexdigest()\n>>> \n>>> get_hash(np.round(prob_cancer_given_positive, 4))\n'15432ad172f7f319fe502e6337b3f549'",
                  "hidden": false,
                  "locked": false
                }
              ],
              "scored": true,
              "setup": "",
              "teardown": "",
              "type": "doctest"
            }
          ]
        },
        "q4_2_1": {
          "name": "q4_2_1",
          "points": null,
          "suites": [
            {
              "cases": [
                {
                  "code": ">>> \n>>> import hashlib \n>>> def get_hash(num):\n...     \"\"\"Helper function for assessing correctness.\"\"\"\n...     return hashlib.md5(str(num).encode()).hexdigest()\n>>> \n>>> get_hash(np.round(prob_cancer_given_positive_new, 4)) == '4f59b3fd6f5001542919c239391a3278'\nTrue",
                  "hidden": false,
                  "locked": false
                }
              ],
              "scored": true,
              "setup": "",
              "teardown": "",
              "type": "doctest"
            }
          ]
        }
      }
    },
    "colab": {
      "provenance": [],
      "include_colab_link": true
    }
  },
  "nbformat": 4,
  "nbformat_minor": 5
}