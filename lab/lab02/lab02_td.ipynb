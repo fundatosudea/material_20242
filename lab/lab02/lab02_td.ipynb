{
  "cells": [
    {
      "cell_type": "markdown",
      "metadata": {
        "id": "view-in-github",
        "colab_type": "text"
      },
      "source": [
        "<a href=\"https://colab.research.google.com/github/darioblandon/materials-fa23/blob/main/lab/lab02/lab02_td.ipynb\" target=\"_parent\"><img src=\"https://colab.research.google.com/assets/colab-badge.svg\" alt=\"Open In Colab\"/></a>"
      ]
    },
    {
      "cell_type": "code",
      "execution_count": null,
      "metadata": {
        "deletable": false,
        "editable": false,
        "id": "_aUWmMHPUIBv"
      },
      "outputs": [],
      "source": [
        "# Initialize Otter\n",
        "import otter\n",
        "grader = otter.Notebook(\"lab02.ipynb\")"
      ],
      "id": "_aUWmMHPUIBv"
    },
    {
      "cell_type": "markdown",
      "metadata": {
        "id": "qMi-y4rRUIBx"
      },
      "source": [
        "<img src=\"https://github.com/darioblandon/materials-fa23/blob/main/lab/lab02/data8logo.png?raw=1\" style=\"width: 15%; float: right; padding: 1%; margin-right: 2%;\"/>\n",
        "\n",
        "# Lab 2: Table Operations\n",
        "\n",
        "Welcome to Lab 2!  This week, we'll learn how to import a module and practice table operations. The [Python Reference](https://www.data8.org/fa23/reference/) has information that will be useful for this lab.\n",
        "\n",
        "**Recommended Reading**:\n",
        " * [Introduction to Tables](https://www.inferentialthinking.com/chapters/03/4/Introduction_to_Tables)\n",
        "\n",
        "As a reminder, here are the policies for getting full credit:\n",
        "\n",
        "1. For students enrolled in in-person <span style=\"color: #BC412B\">**Regular Labs**</span>, you will receive lab credit by **attending** lab section and making significant progress on the lab notebook, and by submitting to Gradescope.\n",
        "\n",
        "2. For students enrolled in <span style=\"color: #04888B\">**Mega Lab**</span>, you will receive lab credit by **completing** the notebook, passing the test cases, and **submitting** it to Gradescope by **11pm on the Friday the same week it was released**.\n",
        "\n",
        "**Submission**: Once you’re finished, run all cells besides the last one, select File > Save Notebook, and then execute the final cell. The result will contain a zip file that you can use to submit on Gradescope.\n",
        "\n",
        "Let's begin by setting up the tests and imports by running the cell below."
      ],
      "id": "qMi-y4rRUIBx"
    },
    {
      "cell_type": "code",
      "execution_count": null,
      "metadata": {
        "id": "dmr1q7mDUIB0"
      },
      "outputs": [],
      "source": [
        "# Don't change this cell; just run it.\n",
        "import numpy as np\n",
        "from datascience import *"
      ],
      "id": "dmr1q7mDUIB0"
    },
    {
      "cell_type": "markdown",
      "metadata": {
        "id": "b-j67N-IUIB1"
      },
      "source": [
        "# 1. Review: The Building Blocks of Python Code\n",
        "\n",
        "The two building blocks of Python code are *expressions* and *statements*.  An **expression** is a piece of code that\n",
        "\n",
        "* is self-contained, meaning it would make sense to write it on a line by itself, and\n",
        "* usually evaluates to a value.\n",
        "\n",
        "\n",
        "Here are two expressions that both evaluate to 3:\n",
        "\n",
        "    3\n",
        "    5 - 2\n",
        "    \n",
        "One important type of expression is the **call expression**. A call expression begins with the name of a function and is followed by the argument(s) of that function in parentheses. The function returns some value, based on its arguments. Some important mathematical functions are listed below.\n",
        "\n",
        "| Function | Description                                                   |\n",
        "|----------|---------------------------------------------------------------|\n",
        "| `abs`      | Returns the absolute value of its argument                    |\n",
        "| `max`      | Returns the maximum of all its arguments                      |\n",
        "| `min`      | Returns the minimum of all its arguments                      |\n",
        "| `pow`      | Raises its first argument to the power of its second argument |\n",
        "| `round`    | Rounds its argument to the nearest integer                     |\n",
        "\n",
        "Here are two call expressions that both evaluate to 3:\n",
        "\n",
        "    abs(2 - 5)\n",
        "    max(round(2.8), min(pow(2, 10), -1 * pow(2, 10)))\n",
        "\n",
        "The expression `2 - 5` and the two call expressions given above are examples of **compound expressions**, meaning that they are actually combinations of several smaller expressions.  `2 - 5` combines the expressions `2` and `5` by subtraction.  In this case, `2` and `5` are called **subexpressions** because they're expressions that are part of a larger expression.\n",
        "\n",
        "A **statement** is a whole line of code.  Some statements are just expressions.  The expressions listed above are examples.\n",
        "\n",
        "Other statements *make something happen* rather than *having a value*. For example, an **assignment statement** assigns a value to a name.\n",
        "\n",
        "A good way to think about this is that we're **evaluating the right-hand side** of the equals sign and **assigning it to the left-hand side**. Here are some assignment statements:\n",
        "    \n",
        "    height = 1.3\n",
        "    the_number_five = abs(-5)\n",
        "    absolute_height_difference = abs(height - 1.688)\n",
        "\n",
        "An important idea in programming is that large, interesting things can be built by combining many simple, uninteresting things.  The key to understanding a complicated piece of code is breaking it down into its simple components.\n",
        "\n",
        "For example, a lot is going on in the last statement above, but it's really just a combination of a few things.  This picture describes what's going on.\n",
        "\n",
        "<img src=\"https://github.com/darioblandon/materials-fa23/blob/main/lab/lab02/statement.png?raw=1\">"
      ],
      "id": "b-j67N-IUIB1"
    },
    {
      "cell_type": "markdown",
      "metadata": {
        "id": "pg2VYRqxUIB3"
      },
      "source": [
        "**Question 1.1.** In the next cell, assign the name `new_year` to the **larger number** among the following two numbers:\n",
        "\n",
        "* the **absolute value** of $2^{6}-2^{11}-2^{5} - 7$, and\n",
        "* $5 \\times 13 \\times 31 + 7$.\n",
        "\n",
        "Try to use just one statement (one line of code). Be sure to check your work by executing the test cell afterward.\n"
      ],
      "id": "pg2VYRqxUIB3"
    },
    {
      "cell_type": "code",
      "execution_count": null,
      "metadata": {
        "deletable": false,
        "tags": [],
        "id": "Ek58A3GAUIB3"
      },
      "outputs": [],
      "source": [
        "new_year = ...\n",
        "new_year"
      ],
      "id": "Ek58A3GAUIB3"
    },
    {
      "cell_type": "code",
      "execution_count": null,
      "metadata": {
        "deletable": false,
        "editable": false,
        "id": "h6hi1_l1UIB4"
      },
      "outputs": [],
      "source": [
        "grader.check(\"q11\")"
      ],
      "id": "h6hi1_l1UIB4"
    },
    {
      "cell_type": "markdown",
      "metadata": {
        "id": "AtF2G0DdUIB4"
      },
      "source": [
        "We've asked you to use one line of code in the question above because it only involves mathematical operations. However, more complicated programming questions will require more steps. It isn’t always a good idea to jam these steps into a single line because it can make the code harder to read and harder to debug.\n",
        "\n",
        "Good programming practice involves splitting up your code into smaller steps and using appropriate names. You'll have plenty of practice in the rest of this course!"
      ],
      "id": "AtF2G0DdUIB4"
    },
    {
      "cell_type": "markdown",
      "metadata": {
        "id": "Wpet8FHOUIB5"
      },
      "source": [
        "# 2. Importing Code\n",
        "\n",
        "Most programming involves work that is very similar to work that has been done before.  Since writing code is time-consuming, it's good to rely on others' published code when you can.  Rather than copy-pasting, Python allows us to **import modules**. A module is a file with Python code that has defined variables and functions. By importing a module, we are able to use its code in our own notebook.\n",
        "\n",
        "Python includes many useful modules that are just an `import` away.  We'll look at the `math` module as a first example. The `math` module is extremely useful in computing mathematical expressions in Python.\n",
        "\n",
        "Suppose we want to very accurately compute the area of a circle with a radius of 5 meters.  For that, we need the constant $\\pi$, which is roughly 3.14.  Conveniently, the `math` module has `pi` defined for us. Run the following cell to import the math module:"
      ],
      "id": "Wpet8FHOUIB5"
    },
    {
      "cell_type": "code",
      "execution_count": null,
      "metadata": {
        "id": "U5ao4XSFUIB6"
      },
      "outputs": [],
      "source": [
        "import math\n",
        "radius = 5\n",
        "area_of_circle = radius**2 * math.pi\n",
        "area_of_circle"
      ],
      "id": "U5ao4XSFUIB6"
    },
    {
      "cell_type": "markdown",
      "metadata": {
        "id": "VR0qyxkKUIB6"
      },
      "source": [
        "In the code above, the line `import math` imports the math module. This statement creates a module and then assigns the name `math` to that module. We are now able to access any variables or functions defined within `math` by typing the name of the module followed by a dot, then followed by the name of the variable or function we want.\n",
        "\n",
        "    <module name>.<name>"
      ],
      "id": "VR0qyxkKUIB6"
    },
    {
      "cell_type": "markdown",
      "metadata": {
        "id": "M27a2o0xUIB7"
      },
      "source": [
        "**Question 2.1.** The module `math` also provides the name `e` for the base of the natural logarithm, which is roughly 2.71. Compute $e^{\\pi}-\\pi$, giving it the name `near_twenty`.\n",
        "\n",
        "*Remember: You can access `pi` from the `math` module as well!*\n"
      ],
      "id": "M27a2o0xUIB7"
    },
    {
      "cell_type": "code",
      "execution_count": null,
      "metadata": {
        "deletable": false,
        "tags": [],
        "id": "NmedBuxRUIB7"
      },
      "outputs": [],
      "source": [
        "near_twenty = ...\n",
        "near_twenty"
      ],
      "id": "NmedBuxRUIB7"
    },
    {
      "cell_type": "code",
      "execution_count": null,
      "metadata": {
        "deletable": false,
        "editable": false,
        "id": "92EKcbgVUIB8"
      },
      "outputs": [],
      "source": [
        "grader.check(\"q21\")"
      ],
      "id": "92EKcbgVUIB8"
    },
    {
      "cell_type": "markdown",
      "metadata": {
        "id": "WP6fv6QSUIB9"
      },
      "source": [
        "## 2.1. Accessing Functions\n",
        "\n",
        "In the question above, you accessed variables within the `math` module.\n",
        "\n",
        "**Modules** also define **functions**.  For example, `math` provides the name `floor` for the floor function.  Having imported `math` already, we can write `math.floor(7.5)` to compute the floor of 7.5.  (Note that the floor function returns the largest integer less than or equal to a given number.)\n",
        "\n",
        "**Question 2.1.1.** Compute the floor of pi using `floor` and `pi` from the `math` module.  Give the result the name `floor_of_pi`.\n"
      ],
      "id": "WP6fv6QSUIB9"
    },
    {
      "cell_type": "code",
      "execution_count": null,
      "metadata": {
        "deletable": false,
        "tags": [],
        "id": "oYEDSjT1UIB9"
      },
      "outputs": [],
      "source": [
        "floor_of_pi = ...\n",
        "floor_of_pi"
      ],
      "id": "oYEDSjT1UIB9"
    },
    {
      "cell_type": "code",
      "execution_count": null,
      "metadata": {
        "deletable": false,
        "editable": false,
        "id": "v4wFxjgsUIB-"
      },
      "outputs": [],
      "source": [
        "grader.check(\"q211\")"
      ],
      "id": "v4wFxjgsUIB-"
    },
    {
      "cell_type": "markdown",
      "metadata": {
        "id": "hZwiymnrUIB-"
      },
      "source": [
        "For your reference, below are some more examples of functions from the `math` module.\n",
        "\n",
        "Notice how different functions take in different numbers of arguments. Often, the [documentation](https://docs.python.org/3/library/math.html) of the module will provide information on how many arguments are required for each function.\n",
        "\n",
        "*Hint: If you press `shift+tab` while next to the function call, the documentation for that function will appear.*"
      ],
      "id": "hZwiymnrUIB-"
    },
    {
      "cell_type": "code",
      "execution_count": null,
      "metadata": {
        "id": "2TgilbNGUIB_"
      },
      "outputs": [],
      "source": [
        "# Calculating logarithms (the logarithm of 8 in base 2).\n",
        "# The result is 3 because 2 to the power of 3 is 8.\n",
        "math.log(8, 2)"
      ],
      "id": "2TgilbNGUIB_"
    },
    {
      "cell_type": "code",
      "execution_count": null,
      "metadata": {
        "id": "o_O4DTZRUICA"
      },
      "outputs": [],
      "source": [
        "# Calculating square roots.\n",
        "math.sqrt(5)"
      ],
      "id": "o_O4DTZRUICA"
    },
    {
      "cell_type": "markdown",
      "metadata": {
        "id": "GFhHP38NUICA"
      },
      "source": [
        "There are various ways to import and access code from outside sources. The method we used above — `import <module_name>` — imports the entire module and requires that we use `<module_name>.<name>` to access its code.\n",
        "\n",
        "We can also import a specific constant or function instead of the entire module. Notice that you don't have to use the module name beforehand to reference that particular value. However, you do have to be careful about reassigning the names of the constants or functions to other values!"
      ],
      "id": "GFhHP38NUICA"
    },
    {
      "cell_type": "code",
      "execution_count": null,
      "metadata": {
        "id": "UcPl59TLUICB"
      },
      "outputs": [],
      "source": [
        "# Importing just cos and pi from math.\n",
        "# We don't have to use `math.` in front of cos or pi\n",
        "from math import cos, pi\n",
        "print(cos(pi))\n",
        "\n",
        "# We do have to use it in front of other functions from math, though\n",
        "math.log(pi)"
      ],
      "id": "UcPl59TLUICB"
    },
    {
      "cell_type": "markdown",
      "metadata": {
        "id": "2oNPgEeoUICB"
      },
      "source": [
        "Or we can import every function and value from the entire module."
      ],
      "id": "2oNPgEeoUICB"
    },
    {
      "cell_type": "code",
      "execution_count": null,
      "metadata": {
        "id": "D_914dWNUICB"
      },
      "outputs": [],
      "source": [
        "# Lastly, we can import everything from math using the *\n",
        "# Once again, we don't have to use 'math.' beforehand\n",
        "from math import *\n",
        "log(pi)"
      ],
      "id": "D_914dWNUICB"
    },
    {
      "cell_type": "markdown",
      "metadata": {
        "id": "e5ks-kyNUICC"
      },
      "source": [
        "Don't worry too much about which type of import to use. It's often a coding style choice left up to each programmer. In this course, you'll always import the necessary modules when you run the setup cell (like the first code cell in this lab).\n",
        "\n",
        "Let's move on to practicing some of the table operations you've learned in lecture!"
      ],
      "id": "e5ks-kyNUICC"
    },
    {
      "cell_type": "markdown",
      "metadata": {
        "id": "1kOBuv_2UICC"
      },
      "source": [
        "# 3. Table Operations\n",
        "\n",
        "The table `farmers_markets.csv` contains data on farmers' markets in the United States  (data associated with [the USDA](https://apps.ams.usda.gov/FarmersMarketsExport/ExcelExport.aspx)).  Each row represents one such market.\n",
        "\n",
        "Run the next cell to load the `farmers_markets` table. There will be no output -- no output is expected as the cell contains an assignment statement. An assignment statement does not produce any output (it does not yield any value)."
      ],
      "id": "1kOBuv_2UICC"
    },
    {
      "cell_type": "code",
      "execution_count": null,
      "metadata": {
        "deletable": false,
        "id": "k_S6jhA5UICC"
      },
      "outputs": [],
      "source": [
        "# Just run this cell\n",
        "\n",
        "farmers_markets = Table.read_table('farmers_markets.csv')"
      ],
      "id": "k_S6jhA5UICC"
    },
    {
      "cell_type": "markdown",
      "metadata": {
        "id": "CHUFdwKzUICD"
      },
      "source": [
        "Let's examine our table to see what data it contains.\n",
        "\n",
        "**Question 3.1.** Use the method `show` to display the first 5 rows of `farmers_markets`.\n",
        "\n",
        "*Note:* The terms \"method\" and \"function\" are technically not the same thing, but for the purposes of this course, we will use them interchangeably.\n",
        "\n",
        "**Hint:** `tbl.show(3)` will show the first 3 rows of the table named `tbl`. Additionally, make sure not to call `.show()` without an argument, as this will crash your kernel!\n"
      ],
      "id": "CHUFdwKzUICD"
    },
    {
      "cell_type": "code",
      "execution_count": null,
      "metadata": {
        "deletable": false,
        "tags": [],
        "id": "ix_5Og9IUICD"
      },
      "outputs": [],
      "source": [
        "..."
      ],
      "id": "ix_5Og9IUICD"
    },
    {
      "cell_type": "markdown",
      "metadata": {
        "id": "wwr6JkbPUICD"
      },
      "source": [
        "Notice that some of the values in this table are missing, as denoted by \"nan.\" This means either that the value is not available (e.g. if we don’t know the market’s street address) or not applicable (e.g. if the market doesn’t have a street address). You'll also notice that the table has a large number of columns in it!\n",
        "\n",
        "### `num_columns`\n",
        "\n",
        "The table property `num_columns` returns the number of columns in a table. (A \"property\" is just a method that doesn't need to be called by adding parentheses.)\n",
        "\n",
        "Example call: `tbl.num_columns` will return the number of columns in a table called `tbl`\n",
        "\n",
        "**Question 3.2.** Use `num_columns` to find the number of columns in our farmers' markets dataset.\n",
        "\n",
        "Assign the number of columns to `num_farmers_markets_columns`.\n"
      ],
      "id": "wwr6JkbPUICD"
    },
    {
      "cell_type": "code",
      "execution_count": null,
      "metadata": {
        "deletable": false,
        "tags": [],
        "id": "ZL4GrwKTUICE"
      },
      "outputs": [],
      "source": [
        "num_farmers_markets_columns = ...\n",
        "print(\"The table has\", num_farmers_markets_columns, \"columns in it!\")"
      ],
      "id": "ZL4GrwKTUICE"
    },
    {
      "cell_type": "code",
      "execution_count": null,
      "metadata": {
        "deletable": false,
        "editable": false,
        "id": "duml5lPiUICE"
      },
      "outputs": [],
      "source": [
        "grader.check(\"q32\")"
      ],
      "id": "duml5lPiUICE"
    },
    {
      "cell_type": "markdown",
      "metadata": {
        "id": "RR3FoqiEUICF"
      },
      "source": [
        "### `num_rows`\n",
        "\n",
        "Similarly, the property `num_rows` tells you how many rows are in a table."
      ],
      "id": "RR3FoqiEUICF"
    },
    {
      "cell_type": "code",
      "execution_count": null,
      "metadata": {
        "deletable": false,
        "id": "WpUWlTV6UICF"
      },
      "outputs": [],
      "source": [
        "# Just run this cell\n",
        "\n",
        "num_farmers_markets_rows = farmers_markets.num_rows\n",
        "print(\"The table has\", num_farmers_markets_rows, \"rows in it!\")"
      ],
      "id": "WpUWlTV6UICF"
    },
    {
      "cell_type": "markdown",
      "metadata": {
        "id": "ODNN8Q1GUICF"
      },
      "source": [
        "### `select`\n",
        "\n",
        "Most of the columns are about particular products -- whether the market sells tofu, pet food, etc.  If we're not interested in that information, it just makes the table difficult to read.  This comes up more than you might think, because people who collect and publish data may not know ahead of time what people will want to do with it.\n",
        "\n",
        "In such situations, we can use the table method `select` to choose only the columns that we want in a particular table. It takes any number of arguments. Each should be the name of a column in the table. It returns a new table with only those columns in it. The columns are in the order *in which they were listed as arguments*.\n",
        "\n",
        "For example, the value of `farmers_markets.select(\"MarketName\", \"State\")` is a table with only the name and the state of each farmers' market in `farmers_markets`.\n",
        "\n",
        "\n",
        "\n",
        "**Question 3.3.** Use `select` to create a table with only the name, city, state, latitude (`y`), and longitude (`x`) of each market.  Call that new table `farmers_markets_locations`.\n",
        "\n",
        "*Hint:* Make sure to be exact when using column names with `select`; double-check capitalization!\n"
      ],
      "id": "ODNN8Q1GUICF"
    },
    {
      "cell_type": "code",
      "execution_count": null,
      "metadata": {
        "deletable": false,
        "tags": [],
        "id": "PzamAZwPUICG"
      },
      "outputs": [],
      "source": [
        "farmers_markets_locations = ...\n",
        "farmers_markets_locations"
      ],
      "id": "PzamAZwPUICG"
    },
    {
      "cell_type": "code",
      "execution_count": null,
      "metadata": {
        "deletable": false,
        "editable": false,
        "id": "rmpCZNhUUICG"
      },
      "outputs": [],
      "source": [
        "grader.check(\"q33\")"
      ],
      "id": "rmpCZNhUUICG"
    },
    {
      "cell_type": "markdown",
      "metadata": {
        "id": "loRWY1RVUICG"
      },
      "source": [
        "### `drop`\n",
        "\n",
        "`drop` serves the same purpose as `select`, but it takes away the columns that you provide rather than the ones that you don't provide. Like `select`, `drop` returns a new table.\n",
        "\n",
        "**Question 3.4.** Suppose you just didn't want the `FMID` and `updateTime` columns in `farmers_markets`.  Create a table that's a copy of `farmers_markets` but doesn't include those columns.  Call that table `farmers_markets_without_fmid`.\n"
      ],
      "id": "loRWY1RVUICG"
    },
    {
      "cell_type": "code",
      "execution_count": null,
      "metadata": {
        "deletable": false,
        "tags": [],
        "id": "-aVV1zODUICH"
      },
      "outputs": [],
      "source": [
        "farmers_markets_without_fmid = ...\n",
        "farmers_markets_without_fmid"
      ],
      "id": "-aVV1zODUICH"
    },
    {
      "cell_type": "code",
      "execution_count": null,
      "metadata": {
        "deletable": false,
        "editable": false,
        "id": "QKBQATW9UICr"
      },
      "outputs": [],
      "source": [
        "grader.check(\"q34\")"
      ],
      "id": "QKBQATW9UICr"
    },
    {
      "cell_type": "markdown",
      "metadata": {
        "id": "WqW_RNv4UICr"
      },
      "source": [
        "Now, suppose we want to answer some questions about farmers' markets in the US. For example, which market(s) have the largest longitude (given by the `x` column)?\n",
        "\n",
        "To answer this, we'll sort `farmers_markets_locations` by longitude."
      ],
      "id": "WqW_RNv4UICr"
    },
    {
      "cell_type": "code",
      "execution_count": null,
      "metadata": {
        "id": "FbqfZI2MUICr"
      },
      "outputs": [],
      "source": [
        "farmers_markets_locations.sort('x')"
      ],
      "id": "FbqfZI2MUICr"
    },
    {
      "cell_type": "markdown",
      "metadata": {
        "id": "-0HoDdZPUICr"
      },
      "source": [
        "Oops, that didn't answer our question because we sorted from smallest to largest longitude. To look at the largest longitudes, we'll have to sort in reverse order."
      ],
      "id": "-0HoDdZPUICr"
    },
    {
      "cell_type": "code",
      "execution_count": null,
      "metadata": {
        "id": "3ISBrpjHUICs"
      },
      "outputs": [],
      "source": [
        "farmers_markets_locations.sort('x', descending=True)"
      ],
      "id": "3ISBrpjHUICs"
    },
    {
      "cell_type": "markdown",
      "metadata": {
        "id": "tbeUeH6dUICs"
      },
      "source": [
        "(The `descending=True` bit is called an *optional argument*. It has a default value of `False`, so when you explicitly tell the function `descending=True`, then the function will sort in descending order.)\n",
        "\n",
        "### `sort`\n",
        "\n",
        "Some details about sort:\n",
        "\n",
        "1. The first argument to `sort` is the name of a column to sort by.\n",
        "2. If the column has text in it, `sort` will sort alphabetically; if the column has numbers, it will sort numerically - both in ascending order by default.\n",
        "3. The value of `farmers_markets_locations.sort(\"x\")` is a *copy* of `farmers_markets_locations`; the `farmers_markets_locations` table doesn't get modified. For example, if we called `farmers_markets_locations.sort(\"x\")`, then running `farmers_markets_locations` by itself would still return the unsorted table.\n",
        "4. Rows always stick together when a table is sorted.  It wouldn't make sense to sort just one column and leave the other columns alone.  For example, in this case, if we sorted just the `x` column, the farmers' markets would all end up with the wrong longitudes.\n",
        "\n",
        "**Question 3.5.** Create a version of `farmers_markets_locations` that's sorted by **latitude (`y`)**, with the largest latitudes first.  Call it `farmers_markets_locations_by_latitude`.\n"
      ],
      "id": "tbeUeH6dUICs"
    },
    {
      "cell_type": "code",
      "execution_count": null,
      "metadata": {
        "deletable": false,
        "scrolled": true,
        "tags": [],
        "id": "em38RIIAUICs"
      },
      "outputs": [],
      "source": [
        "farmers_markets_locations_by_latitude = ...\n",
        "farmers_markets_locations_by_latitude"
      ],
      "id": "em38RIIAUICs"
    },
    {
      "cell_type": "code",
      "execution_count": null,
      "metadata": {
        "deletable": false,
        "editable": false,
        "id": "h6XKJf3PUICt"
      },
      "outputs": [],
      "source": [
        "grader.check(\"q35\")"
      ],
      "id": "h6XKJf3PUICt"
    },
    {
      "cell_type": "markdown",
      "metadata": {
        "id": "oVFv9PilUICt"
      },
      "source": [
        "Now let's say we want a table of all farmers' markets in California. Sorting won't help us much here because California  is closer to the middle of the dataset.\n",
        "\n",
        "Instead, we use the table method `where`."
      ],
      "id": "oVFv9PilUICt"
    },
    {
      "cell_type": "code",
      "execution_count": null,
      "metadata": {
        "deletable": false,
        "id": "UP-rigJKUICt"
      },
      "outputs": [],
      "source": [
        "california_farmers_markets = farmers_markets_locations.where('State', are.equal_to('California'))\n",
        "california_farmers_markets"
      ],
      "id": "UP-rigJKUICt"
    },
    {
      "cell_type": "markdown",
      "metadata": {
        "id": "AwU0rq1gUICt"
      },
      "source": [
        "Ignore the syntax for the moment.  Instead, try to read that line like this:\n",
        "\n",
        "> Assign the name **`california_farmers_markets`** to a table whose rows are the rows in the **`farmers_markets_locations`** table **`where`** the **`\"State\"`** **`are equal to` `\"California\"`**."
      ],
      "id": "AwU0rq1gUICt"
    },
    {
      "cell_type": "markdown",
      "metadata": {
        "id": "NPMV2Tl6UICu"
      },
      "source": [
        "### `where`\n",
        "\n",
        "Now let's dive into the details a bit more.  `where` takes 2 arguments:\n",
        "\n",
        "1. The name of a column.  `where` finds rows where that column's values meet some criterion.\n",
        "2. A predicate that describes the criterion that the column needs to meet.\n",
        "\n",
        "The predicate in the example above called the function `are.equal_to` with the value we wanted, 'California'.  We'll see other predicates soon.\n",
        "\n",
        "`where` returns a table that's a copy of the original table, but **with only the rows that meet the given predicate**."
      ],
      "id": "NPMV2Tl6UICu"
    },
    {
      "cell_type": "markdown",
      "metadata": {
        "id": "ryi_qQMsUICu"
      },
      "source": [
        "**Question 3.6.** Use `california_farmers_markets` to create a table called `berkeley_markets` containing farmers' markets in Berkeley, California."
      ],
      "id": "ryi_qQMsUICu"
    },
    {
      "cell_type": "code",
      "execution_count": null,
      "metadata": {
        "deletable": false,
        "tags": [],
        "id": "nYfa8zYtUICu"
      },
      "outputs": [],
      "source": [
        "berkeley_markets = ...\n",
        "berkeley_markets"
      ],
      "id": "nYfa8zYtUICu"
    },
    {
      "cell_type": "code",
      "execution_count": null,
      "metadata": {
        "deletable": false,
        "editable": false,
        "id": "r-b2jV2cUICu"
      },
      "outputs": [],
      "source": [
        "grader.check(\"q36\")"
      ],
      "id": "r-b2jV2cUICu"
    },
    {
      "cell_type": "markdown",
      "metadata": {
        "id": "FwK7pV3oUICv"
      },
      "source": [
        "So far we've only been using `where` with the predicate that requires finding the values in a column to be *exactly* equal to a certain value. However, there are many other predicates. We've listed a few common ones below but if you want a more complete list check out the predicates section on the [python reference sheet](https://www.data8.org/fa23/reference/#tablewhere-predicates).\n",
        "\n",
        "|Predicate|Example|Result|\n",
        "|-|-|-|\n",
        "|`are.equal_to`|`are.equal_to(50)`|Find rows with values equal to 50|\n",
        "|`are.not_equal_to`|`are.not_equal_to(50)`|Find rows with values not equal to 50|\n",
        "|`are.above`|`are.above(50)`|Find rows with values above (and not equal to) 50|\n",
        "|`are.above_or_equal_to`|`are.above_or_equal_to(50)`|Find rows with values above 50 or equal to 50|\n",
        "|`are.below`|`are.below(50)`|Find rows with values below 50|\n",
        "|`are.between`|`are.between(2, 10)`|Find rows with values above or equal to 2 and below 10|\n",
        "|`are.between_or_equal_to`|`are.between_or_equal_to(2, 10)`|Find rows with values above or equal to 2 and below or equal to 10|"
      ],
      "id": "FwK7pV3oUICv"
    },
    {
      "cell_type": "markdown",
      "metadata": {
        "id": "r4gvIJDUUICv"
      },
      "source": [
        "## 4. Analyzing a dataset\n",
        "\n",
        "Now that you're familiar with table operations, let’s answer an interesting question about a dataset!\n",
        "\n",
        "Run the cell below to load the `imdb` table. It contains information about the 250 highest-rated movies on IMDb."
      ],
      "id": "r4gvIJDUUICv"
    },
    {
      "cell_type": "code",
      "execution_count": null,
      "metadata": {
        "deletable": false,
        "scrolled": true,
        "id": "Hprwn87WUICv"
      },
      "outputs": [],
      "source": [
        "# Just run this cell\n",
        "\n",
        "imdb = Table.read_table('imdb.csv')\n",
        "imdb"
      ],
      "id": "Hprwn87WUICv"
    },
    {
      "cell_type": "markdown",
      "metadata": {
        "id": "CXywp8mFUICv"
      },
      "source": [
        "Often, we want to perform multiple operations - sorting, filtering, or others - in order to turn a table we have into something more useful. You can do these operations one by one, e.g.\n",
        "\n",
        "```\n",
        "first_step = original_tbl.where(“col1”, are.equal_to(12))\n",
        "second_step = first_step.sort(‘col2’, descending=True)\n",
        "```\n",
        "\n",
        "However, since the value of the expression `original_tbl.where(“col1”, are.equal_to(12))` is itself a table, you can just call a table method on it:\n",
        "\n",
        "```\n",
        "original_tbl.where(“col1”, are.equal_to(12)).sort(‘col2’, descending=True)\n",
        "```\n",
        "You should organize your work in the way that makes the most sense to you, using informative names for any intermediate tables you create."
      ],
      "id": "CXywp8mFUICv"
    },
    {
      "cell_type": "markdown",
      "metadata": {
        "id": "BqvGqTPFUICw"
      },
      "source": [
        "**Question 4.1.** Create a table of movies released between 2010 and 2015 (inclusive) with ratings above 8. The table should only contain the columns `Title` and `Rating`, **in that order**.\n",
        "\n",
        "Assign the table to the name `above_eight`.\n",
        "\n",
        "*Hint:* Think about the steps you need to take, and try to put them in an order that make sense. Feel free to create intermediate tables for each step, but please make sure you assign your final table the name `above_eight`!\n"
      ],
      "id": "BqvGqTPFUICw"
    },
    {
      "cell_type": "code",
      "execution_count": null,
      "metadata": {
        "deletable": false,
        "tags": [],
        "id": "NiWbG0pmUICw"
      },
      "outputs": [],
      "source": [
        "above_eight = ...\n",
        "above_eight"
      ],
      "id": "NiWbG0pmUICw"
    },
    {
      "cell_type": "code",
      "execution_count": null,
      "metadata": {
        "deletable": false,
        "editable": false,
        "id": "k_eP1odHUICw"
      },
      "outputs": [],
      "source": [
        "grader.check(\"q41\")"
      ],
      "id": "k_eP1odHUICw"
    },
    {
      "cell_type": "markdown",
      "metadata": {
        "id": "xWnPWMvDUICw"
      },
      "source": [
        "**Question 4.2.** Use `num_rows` (and arithmetic) to find the *proportion* of movies in the dataset that were released 1900-1999, and the *proportion* of movies in the dataset that were released in the year 2000 or later.\n",
        "\n",
        "Assign `proportion_in_20th_century` to the proportion of movies in the dataset that were released 1900-1999, and `proportion_in_21st_century` to the proportion of movies in the dataset that were released in the year 2000 or later.\n",
        "\n",
        "*Hint:* The *proportion* of movies released in the 1900's is the *number* of movies released in the 1900's, divided by the *total number* of movies.\n"
      ],
      "id": "xWnPWMvDUICw"
    },
    {
      "cell_type": "code",
      "execution_count": null,
      "metadata": {
        "deletable": false,
        "tags": [],
        "id": "K26ocysAUICx"
      },
      "outputs": [],
      "source": [
        "num_movies_in_dataset = ...\n",
        "num_in_20th_century = ...\n",
        "num_in_21st_century = ...\n",
        "proportion_in_20th_century = ...\n",
        "proportion_in_21st_century = ...\n",
        "print(\"Proportion in 20th century:\", proportion_in_20th_century)\n",
        "print(\"Proportion in 21st century:\", proportion_in_21st_century)"
      ],
      "id": "K26ocysAUICx"
    },
    {
      "cell_type": "code",
      "execution_count": null,
      "metadata": {
        "deletable": false,
        "editable": false,
        "id": "uB8tnuX8UICx"
      },
      "outputs": [],
      "source": [
        "grader.check(\"q42\")"
      ],
      "id": "uB8tnuX8UICx"
    },
    {
      "cell_type": "markdown",
      "metadata": {
        "id": "m7HgCZxeUICx"
      },
      "source": [
        "## 5. Summary\n",
        "\n",
        "For your reference, here's a table of all the functions and methods we saw in this lab. We'll learn more methods to add to this table in the coming week!\n",
        "\n",
        "|Name|Example|Purpose|\n",
        "|-|-|-|\n",
        "|`sort`|`tbl.sort(\"N\")`|Create a copy of a table sorted by the values in a column|\n",
        "|`where`|`tbl.where(\"N\", are.above(2))`|Create a copy of a table with only the rows that match some *predicate*|\n",
        "|`num_rows`|`tbl.num_rows`|Compute the number of rows in a table|\n",
        "|`num_columns`|`tbl.num_columns`|Compute the number of columns in a table|\n",
        "|`select`|`tbl.select(\"N\")`|Create a copy of a table with only some of the columns|\n",
        "|`drop`|`tbl.drop(\"N\")`|Create a copy of a table without some of the columns|"
      ],
      "id": "m7HgCZxeUICx"
    },
    {
      "cell_type": "markdown",
      "metadata": {
        "id": "uWXNbgoiUICx"
      },
      "source": [
        "**Lego** wants to congratulate you on finishing Lab 2!\n",
        "\n",
        "<img src=\"https://github.com/darioblandon/materials-fa23/blob/main/lab/lab02/lego.png?raw=1\" alt=\"Picture of brown cavalier poodle dog\" width=\"300\"/>"
      ],
      "id": "uWXNbgoiUICx"
    },
    {
      "cell_type": "markdown",
      "metadata": {
        "id": "wBHG9VEeUICy"
      },
      "source": [
        "\n",
        "---\n",
        "\n",
        "You're done with lab!\n",
        "\n",
        "**Important submission information:**\n",
        "- **Run all the tests** and verify that they all pass\n",
        "- **Save** from the **File** menu\n",
        "- **Run the final cell to generate the zip file**\n",
        "- **Click the link to download the zip file**\n",
        "- Then, go to [Gradescope](https://www.gradescope.com/courses/576157) and submit the zip file to the corresponding assignment. The name of this assignment is \"Lab XX Autograder\", where XX is the lab number -- 01, 02, 03, etc.\n",
        "\n",
        "- If you finish early in Regular Lab, **ask one of the staff members to check you off**.\n",
        "\n",
        "**It is your responsibility to make sure your work is saved before running the last cell.**\n"
      ],
      "id": "wBHG9VEeUICy"
    },
    {
      "cell_type": "markdown",
      "metadata": {
        "deletable": false,
        "editable": false,
        "id": "NdRaZVDhUICy"
      },
      "source": [
        "## Submission\n",
        "\n",
        "Make sure you have run all cells in your notebook in order before running the cell below, so that all images/graphs appear in the output. The cell below will generate a zip file for you to submit. **Please save before exporting!**"
      ],
      "id": "NdRaZVDhUICy"
    },
    {
      "cell_type": "code",
      "execution_count": null,
      "metadata": {
        "deletable": false,
        "editable": false,
        "id": "Lh_OGVpzUICy"
      },
      "outputs": [],
      "source": [
        "# Save your notebook first, then run this cell to export your submission.\n",
        "grader.export(pdf=False, run_tests=True)"
      ],
      "id": "Lh_OGVpzUICy"
    },
    {
      "cell_type": "markdown",
      "metadata": {
        "id": "Y6P7mpG5UICy"
      },
      "source": [
        ""
      ],
      "id": "Y6P7mpG5UICy"
    }
  ],
  "metadata": {
    "kernelspec": {
      "display_name": "Python 3",
      "language": "python",
      "name": "python3"
    },
    "language_info": {
      "codemirror_mode": {
        "name": "ipython",
        "version": 3
      },
      "file_extension": ".py",
      "mimetype": "text/x-python",
      "name": "python",
      "nbconvert_exporter": "python",
      "pygments_lexer": "ipython3",
      "version": "3.11.2"
    },
    "otter": {
      "OK_FORMAT": true,
      "tests": {
        "q11": {
          "name": "q11",
          "points": null,
          "suites": [
            {
              "cases": [
                {
                  "code": ">>> new_year\n2023",
                  "hidden": false,
                  "locked": false
                }
              ],
              "scored": true,
              "setup": "",
              "teardown": "",
              "type": "doctest"
            }
          ]
        },
        "q21": {
          "name": "q21",
          "points": null,
          "suites": [
            {
              "cases": [
                {
                  "code": ">>> round(near_twenty, 8)\n19.99909998",
                  "hidden": false,
                  "locked": false
                }
              ],
              "scored": true,
              "setup": "",
              "teardown": "",
              "type": "doctest"
            }
          ]
        },
        "q211": {
          "name": "q211",
          "points": null,
          "suites": [
            {
              "cases": [
                {
                  "code": ">>> import math\n>>> floor_of_pi == 3\nTrue",
                  "hidden": false,
                  "locked": false
                }
              ],
              "scored": true,
              "setup": "",
              "teardown": "",
              "type": "doctest"
            }
          ]
        },
        "q32": {
          "name": "q32",
          "points": null,
          "suites": [
            {
              "cases": [
                {
                  "code": ">>> num_farmers_markets_columns == 59\nTrue",
                  "hidden": false,
                  "locked": false
                }
              ],
              "scored": true,
              "setup": "",
              "teardown": "",
              "type": "doctest"
            }
          ]
        },
        "q33": {
          "name": "q33",
          "points": null,
          "suites": [
            {
              "cases": [
                {
                  "code": ">>> sorted(farmers_markets_locations.labels)\n['MarketName', 'State', 'city', 'x', 'y']",
                  "hidden": false,
                  "locked": false
                },
                {
                  "code": ">>> farmers_markets_locations.num_rows == 8546\nTrue",
                  "hidden": false,
                  "locked": false
                }
              ],
              "scored": true,
              "setup": "",
              "teardown": "",
              "type": "doctest"
            }
          ]
        },
        "q34": {
          "name": "q34",
          "points": null,
          "suites": [
            {
              "cases": [
                {
                  "code": ">>> farmers_markets_without_fmid.num_columns\n57",
                  "hidden": false,
                  "locked": false
                },
                {
                  "code": ">>> print(sorted(farmers_markets_without_fmid.labels))\n['Bakedgoods', 'Beans', 'Cheese', 'Coffee', 'County', 'Crafts', 'Credit', 'Eggs', 'Facebook', 'Flowers', 'Fruits', 'Grains', 'Herbs', 'Honey', 'Jams', 'Juices', 'Location', 'Maple', 'MarketName', 'Meat', 'Mushrooms', 'Nursery', 'Nuts', 'Organic', 'OtherMedia', 'PetFood', 'Plants', 'Poultry', 'Prepared', 'SFMNP', 'SNAP', 'Seafood', 'Season1Date', 'Season1Time', 'Season2Date', 'Season2Time', 'Season3Date', 'Season3Time', 'Season4Date', 'Season4Time', 'Soap', 'State', 'Tofu', 'Trees', 'Twitter', 'Vegetables', 'WIC', 'WICcash', 'Website', 'WildHarvested', 'Wine', 'Youtube', 'city', 'street', 'x', 'y', 'zip']\n",
                  "hidden": false,
                  "locked": false
                }
              ],
              "scored": true,
              "setup": "",
              "teardown": "",
              "type": "doctest"
            }
          ]
        },
        "q35": {
          "name": "q35",
          "points": null,
          "suites": [
            {
              "cases": [
                {
                  "code": ">>> type(farmers_markets_locations_by_latitude) == tables.Table\nTrue",
                  "hidden": false,
                  "locked": false
                },
                {
                  "code": ">>> # HINT: Check the order of your table. \n>>> np.isclose(round(farmers_markets_locations_by_latitude.column('y').item(1), 4), round(64.8459, 4))\nTrue",
                  "hidden": false,
                  "locked": false
                }
              ],
              "scored": true,
              "setup": "",
              "teardown": "",
              "type": "doctest"
            }
          ]
        },
        "q36": {
          "name": "q36",
          "points": null,
          "suites": [
            {
              "cases": [
                {
                  "code": ">>> berkeley_markets.num_rows == 3\nTrue",
                  "hidden": false,
                  "locked": false
                },
                {
                  "code": ">>> list(berkeley_markets.column('city')) == ['Berkeley', 'Berkeley', 'Berkeley']\nTrue",
                  "hidden": false,
                  "locked": false
                }
              ],
              "scored": true,
              "setup": "",
              "teardown": "",
              "type": "doctest"
            }
          ]
        },
        "q41": {
          "name": "q41",
          "points": null,
          "suites": [
            {
              "cases": [
                {
                  "code": ">>> type(above_eight) == tables.Table\nTrue",
                  "hidden": false,
                  "locked": false
                },
                {
                  "code": ">>> above_eight.num_rows == 20\nTrue",
                  "hidden": false,
                  "locked": false
                },
                {
                  "code": ">>> # Make sure your columns are in the right order!\n>>> # First column should be 'Title', second column should be 'Rating'\n>>> print(above_eight.sort(0).take([17]))\nTitle       | Rating\nToy Story 3 | 8.3\n",
                  "hidden": false,
                  "locked": false
                }
              ],
              "scored": true,
              "setup": "",
              "teardown": "",
              "type": "doctest"
            }
          ]
        },
        "q42": {
          "name": "q42",
          "points": null,
          "suites": [
            {
              "cases": [
                {
                  "code": ">>> proportion_in_20th_century == 0.684\nTrue",
                  "hidden": false,
                  "locked": false
                },
                {
                  "code": ">>> proportion_in_21st_century == 0.316\nTrue",
                  "hidden": false,
                  "locked": false
                }
              ],
              "scored": true,
              "setup": "",
              "teardown": "",
              "type": "doctest"
            }
          ]
        }
      }
    },
    "colab": {
      "provenance": [],
      "include_colab_link": true
    }
  },
  "nbformat": 4,
  "nbformat_minor": 5
}