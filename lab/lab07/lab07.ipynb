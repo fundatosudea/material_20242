{
  "cells": [
    {
      "cell_type": "markdown",
      "metadata": {
        "id": "view-in-github",
        "colab_type": "text"
      },
      "source": [
        "<a href=\"https://colab.research.google.com/github/darioblandon/materials-fa23/blob/main/lab/lab07/lab07.ipynb\" target=\"_parent\"><img src=\"https://colab.research.google.com/assets/colab-badge.svg\" alt=\"Open In Colab\"/></a>"
      ]
    },
    {
      "cell_type": "code",
      "execution_count": null,
      "metadata": {
        "deletable": false,
        "editable": false,
        "id": "s9vBllyCEGLn"
      },
      "outputs": [],
      "source": [
        "# Initialize Otter\n",
        "import otter\n",
        "grader = otter.Notebook(\"lab07.ipynb\")"
      ],
      "id": "s9vBllyCEGLn"
    },
    {
      "cell_type": "markdown",
      "metadata": {
        "id": "LCWNJeSnEGLp"
      },
      "source": [
        "<p><img alt=\"Colaboratory logo\" height=\"140px\" src=\"https://upload.wikimedia.org/wikipedia/commons/archive/f/fb/20161010213812%21Escudo-UdeA.svg\" align=\"left\" hspace=\"10px\" vspace=\"0px\"></p>\n",
        "\n",
        "<h1> Fundamentos en ciencias de datos</h1>\n",
        "\n",
        "\n",
        "# Laboratorio 7: Great British Bake Off (Prueba A/B)\n",
        "\n",
        "¡Bienvenido al Laboratorio 7 de Data 8! El laboratorio de esta semana se centrará en las pruebas A/B utilizando datos del siempre popular programa de televisión británico, [*The Great British Bake Off*](https://en.wikipedia.org/wiki/The_Great_British_Bake_Off)."
      ],
      "id": "LCWNJeSnEGLp"
    },
    {
      "cell_type": "markdown",
      "metadata": {
        "id": "MMNb2l6SEGL6"
      },
      "source": [
        "**Obtener ayuda en el laboratorio**: Siempre que te sientas estancado o necesites más aclaraciones, busca un GSI o un tutor, ¡y estarán encantados de ayudarte!\n",
        "\n",
        "Estas son las políticas para obtener crédito completo:\n",
        "\n",
        "1. Para los estudiantes inscritos en <span style=\"color: #BC412B\">**Regular Labs**</span> en persona, recibirán crédito de laboratorio al **asistir** a la sección de laboratorio y lograr un progreso significativo en el cuaderno de laboratorio. **<span style=\"text-decoration: underline\">debes</span>** enviar esta tarea a Gradescope.\n",
        "\n",
        "2. Los estudiantes inscritos en <span style=\"color: #04888B\">**Laboratorio de autoservicio**</span> recibirán crédito de laboratorio al **completar** el cuaderno, aprobar los casos de prueba y **enviándolo** a Gradescope antes de las **11:59 p. m. de la fecha de entrega**.\n",
        "\n",
        "**Envío**: una vez que haya terminado, ejecute todas las celdas además de la última, seleccione Archivo > Guardar cuaderno y luego ejecute la celda final. El resultado contendrá un archivo zip que podrá utilizar para enviarlo en Gradescope.\n",
        "\n",
        "Comencemos configurando las pruebas y las importaciones ejecutando la siguiente celda."
      ],
      "id": "MMNb2l6SEGL6"
    },
    {
      "cell_type": "code",
      "execution_count": null,
      "metadata": {
        "id": "-dTPHMAEEGL7"
      },
      "outputs": [],
      "source": [
        "# Ejecute esta celda para configurar el cuaderno, pero no la cambie.\n",
        "\n",
        "# Estas líneas importan los módulos Numpy y Datascience.\n",
        "import numpy as np\n",
        "from datascience import *\n",
        "\n",
        "# Estas líneas hacen algo de magia en la trama.\n",
        "import matplotlib\n",
        "%matplotlib inline\n",
        "import matplotlib.pyplot as plots\n",
        "plots.style.use('fivethirtyeight')\n",
        "import warnings\n",
        "warnings.simplefilter('ignore', (FutureWarning, np.VisibleDeprecationWarning))\n"
      ],
      "id": "-dTPHMAEEGL7"
    },
    {
      "cell_type": "markdown",
      "metadata": {
        "id": "Z3zbgcnxEGL7"
      },
      "source": [
        "## 0. Encuesta de mitad de semestre\n",
        "\n",
        "Nos gustaría que complete la encuesta de mitad de semestre antes de continuar con esta tarea.\n",
        "\n",
        "Complete la encuesta a continuación e ingrese la frase secreta que se muestra al final del formulario cuando lo envía. ¡Asigne esta frase a `mid_secret` como una cadena en la celda a continuación!\n",
        "\n",
        "Encuentre la encuesta [aquí](https://docs.google.com/forms/d/e/1FAIpQLSeDAOTEU8ILuP53naX__xa8MZ0ioa8gnyYacpv38E024H63sA/viewform?usp=sf_link)"
      ],
      "id": "Z3zbgcnxEGL7"
    },
    {
      "cell_type": "code",
      "execution_count": null,
      "metadata": {
        "tags": [],
        "id": "OSa4VynLEGL8"
      },
      "outputs": [],
      "source": [
        "mid_secret = ..."
      ],
      "id": "OSa4VynLEGL8"
    },
    {
      "cell_type": "code",
      "execution_count": null,
      "metadata": {
        "deletable": false,
        "editable": false,
        "id": "43vZgTOFEGL8"
      },
      "outputs": [],
      "source": [
        "grader.check(\"q0\")"
      ],
      "id": "43vZgTOFEGL8"
    },
    {
      "cell_type": "markdown",
      "metadata": {
        "id": "otiztXVXEGL9"
      },
      "source": [
        "## 1. Pruebas A/B\n",
        "\n",
        "La prueba A/B es una forma de prueba de hipótesis que le permite hacer comparaciones entre dos distribuciones. También podemos referirnos a una prueba A/B como prueba de permutación.\n",
        "\n",
        "Casi nunca se te pedirá explícitamente que realices una prueba A/B. Asegúrese de poder identificar situaciones en las que la prueba sea apropiada y sepa cómo implementar correctamente cada paso. A menudo, utilizamos una prueba A/B para determinar si dos muestras provienen o no de la misma distribución subyacente."
      ],
      "id": "otiztXVXEGL9"
    },
    {
      "cell_type": "markdown",
      "metadata": {
        "id": "lRXlYs0CEGL9"
      },
      "source": [
        "**Pregunta 1.1.** Las siguientes afirmaciones son los pasos de una prueba de hipótesis A/B presentada en *orden aleatorio*:\n",
        "\n",
        "1. Elija una estadística de prueba (normalmente la diferencia de medias entre dos categorías)\n",
        "\n",
        "2. Mezcle las etiquetas de la muestra original, encuentre su estadística de prueba simulada y repita muchas veces.\n",
        "\n",
        "3. Encuentre el valor del estadístico de prueba observado.\n",
        "\n",
        "4. Calcule el valor p basándose en las estadísticas de prueba observadas y simuladas.\n",
        "\n",
        "5. Definir un modelo nulo y alternativo.\n",
        "\n",
        "6. Utilice el valor p y el límite del valor p para sacar una conclusión sobre la hipótesis nula.\n",
        "\n",
        "Asigne `ab_test_order` a una matriz de números enteros que contiene el orden correcto de una prueba A/B, donde el primer elemento de la matriz es el primer paso de una prueba A/B y el último elemento de la matriz es el último paso de una prueba A/B."
      ],
      "id": "lRXlYs0CEGL9"
    },
    {
      "cell_type": "code",
      "execution_count": null,
      "metadata": {
        "tags": [],
        "id": "dOZus8S4EGL-"
      },
      "outputs": [],
      "source": [
        "ab_test_order = ..."
      ],
      "id": "dOZus8S4EGL-"
    },
    {
      "cell_type": "code",
      "execution_count": null,
      "metadata": {
        "deletable": false,
        "editable": false,
        "id": "oDesK-GOEGL-"
      },
      "outputs": [],
      "source": [
        "grader.check(\"q1_1\")"
      ],
      "id": "oDesK-GOEGL-"
    },
    {
      "cell_type": "markdown",
      "metadata": {
        "id": "f_Wry7OgEGL_"
      },
      "source": [
        "**Pregunta 1.2.** Si la hipótesis nula de una prueba A/B es correcta, ¿el orden de las etiquetas debería afectar las diferencias de medias entre cada grupo? ¿Por qué mezclamos etiquetas en una prueba A/B? Si se encuentra en una sección de laboratorio, confirme su respuesta con un vecino o miembro del personal antes de continuar.\n"
      ],
      "id": "f_Wry7OgEGL_"
    },
    {
      "cell_type": "markdown",
      "metadata": {
        "id": "y4iTCWI-EGL_"
      },
      "source": [
        "_Escriba su respuesta aquí, reemplazando este texto._"
      ],
      "id": "y4iTCWI-EGL_"
    },
    {
      "cell_type": "markdown",
      "metadata": {
        "id": "Bz6Hh0mAEGL_"
      },
      "source": [
        "## 2. Los grandes británicos hornean\n",
        "\n",
        ">\"The Great British Bake Off (a menudo abreviado como Bake Off o GBBO) es una competencia de repostería de la televisión británica, producida por Love Productions, en la que un grupo de panaderos aficionados compiten entre sí en una serie de rondas, intentando impresionar a un grupo. de jueces con sus habilidades para hornear\" [Wikipedia](https://en.wikipedia.org/wiki/The_Great_British_Bake_Off)\n",
        "\n",
        "Por cada semana de la competencia, los jueces asignan a un concursante el título de \"Star Baker\". Al final, cada temporada se corona a un ganador. Usando esta información, nos gustaría investigar cómo ganar premios Star Baker afecta las probabilidades de ganar una temporada del programa."
      ],
      "id": "Bz6Hh0mAEGL_"
    },
    {
      "cell_type": "markdown",
      "metadata": {
        "id": "quofFY3yEGMA"
      },
      "source": [
        "**Pregunta 2.1.** Queremos saber si ganar más premios Star Baker ___causa___ un cambio en la probabilidad de ganar la temporada. ¿Por qué no es suficiente comparar las tarifas de los panaderos estrella entre ganadores y perdedores?"
      ],
      "id": "quofFY3yEGMA"
    },
    {
      "cell_type": "markdown",
      "metadata": {
        "id": "PAbU1ZLjEGMA"
      },
      "source": [
        "_Escriba su respuesta aquí, reemplazando este texto._"
      ],
      "id": "PAbU1ZLjEGMA"
    },
    {
      "cell_type": "markdown",
      "metadata": {
        "id": "BUWgwHZBEGMA"
      },
      "source": [
        "### Ejecutando un experimento\n",
        "\n",
        "Realizaremos la siguiente prueba de hipótesis para determinar la asociación entre ganar y la cantidad de premios Star Baker. La población que estamos examinando son todos los concursantes de las temporadas 2 a 11 de GBBO. Vamos a utilizar las siguientes hipótesis nula y alternativa:\n",
        "\n",
        "**Hipótesis nula:** La distribución de los premios Star Baker entre los concursantes que ganaron su temporada y los concursantes que no ganaron su temporada es la misma.\n",
        "\n",
        "**Hipótesis alternativa:** Los concursantes que ganen su temporada del programa ganarán más premios Star Baker en promedio.\n",
        "\n",
        "Nuestra hipótesis alternativa está relacionada con nuestra sospecha de que los concursantes que ganan más premios Star Baker son más hábiles, por lo que tienen más probabilidades de ganar la temporada."
      ],
      "id": "BUWgwHZBEGMA"
    },
    {
      "cell_type": "markdown",
      "metadata": {
        "id": "-EpslrHaEGMA"
      },
      "source": [
        "**Pregunta 2.2.** ¿Deberíamos utilizar una prueba A/B para probar estas hipótesis? En caso afirmativo, ¿cuál es nuestro grupo \"A\" y cuál es nuestro grupo \"B\"?"
      ],
      "id": "-EpslrHaEGMA"
    },
    {
      "cell_type": "markdown",
      "metadata": {
        "id": "r4D3ZfxwEGMB"
      },
      "source": [
        "_Escriba su respuesta aquí, reemplazando este texto._"
      ],
      "id": "r4D3ZfxwEGMB"
    },
    {
      "cell_type": "markdown",
      "metadata": {
        "id": "DHb3uPnFEGMB"
      },
      "source": [
        "Verifique sus respuestas con sus vecinos o un miembro del personal antes de pasar a la siguiente sección."
      ],
      "id": "DHb3uPnFEGMB"
    },
    {
      "cell_type": "markdown",
      "metadata": {
        "id": "x3dZ6c5hEGMB"
      },
      "source": [
        "La siguiente tabla de \"panaderos\" describe la cantidad de premios de panadero estrella que ganó cada concurso y si ganaron o no su temporada (\"1\" si ganaron, \"0\" si no ganaron). Los datos se agregaron manualmente de Wikipedia para las temporadas 2 a 11 del programa. Aleatorizamos el orden de las filas para no estropear el resultado del espectáculo."
      ],
      "id": "x3dZ6c5hEGMB"
    },
    {
      "cell_type": "code",
      "execution_count": null,
      "metadata": {
        "id": "R8DmdXZoEGMB"
      },
      "outputs": [],
      "source": [
        "bakers = Table.read_table(\"star_bakers.csv\")\n",
        "bakers.show(3)"
      ],
      "id": "R8DmdXZoEGMB"
    },
    {
      "cell_type": "markdown",
      "metadata": {
        "id": "8GqV_7zfEGMC"
      },
      "source": [
        "**Pregunta 2.3.** Cree una nueva tabla llamada `medias` que contenga el número medio de premios de panadero estrella para los panaderos que no ganaron (`ganaron==0`) y los panaderos que ganaron (`ganaron==1`). ). La tabla debe tener los nombres de las columnas \"ganado\" y \"significan los premios Star Baker\"."
      ],
      "id": "8GqV_7zfEGMC"
    },
    {
      "cell_type": "code",
      "execution_count": null,
      "metadata": {
        "tags": [],
        "id": "b1r1x-ONEGMC"
      },
      "outputs": [],
      "source": [
        "means = ...\n",
        "means"
      ],
      "id": "b1r1x-ONEGMC"
    },
    {
      "cell_type": "code",
      "execution_count": null,
      "metadata": {
        "deletable": false,
        "editable": false,
        "id": "fmajoevpEGMC"
      },
      "outputs": [],
      "source": [
        "grader.check(\"q2_3\")"
      ],
      "id": "fmajoevpEGMC"
    },
    {
      "cell_type": "markdown",
      "metadata": {
        "id": "awzYSmHzEGMC"
      },
      "source": [
        "**Pregunta 2.4.** Visualice la distribución de los premios Star Baker para los ganadores y no ganadores como histogramas superpuestos. Debe utilizar los contenedores que le proporcionamos.\n",
        "\n",
        "Sugerencia: querrá utilizar el argumento de grupo de `tbl.hist`. Para producir varios histogramas superpuestos basados en valores únicos en una columna determinada, podemos hacer algo como `tbl.hist(..., group=<col_name>, bins=...)`. Esto graficará un histograma para cada valor único en la columna especificada, todo en un solo gráfico."
      ],
      "id": "awzYSmHzEGMC"
    },
    {
      "cell_type": "code",
      "execution_count": null,
      "metadata": {
        "tags": [],
        "id": "cGCp2qwYEGMD"
      },
      "outputs": [],
      "source": [
        "useful_bins = np.arange(0, 7)\n",
        "..."
      ],
      "id": "cGCp2qwYEGMD"
    },
    {
      "cell_type": "markdown",
      "metadata": {
        "id": "6tbbGGGUEGMD"
      },
      "source": [
        "**Pregunta 2.5.** Queremos determinar si existe una diferencia entre la distribución de los premios Star Baker entre ganadores y no ganadores.\n",
        "\n",
        "¿Cuál debería ser el estadístico de prueba? ¿Qué valores de este estadístico de prueba respaldan la nula y qué valores respaldan la alternativa? **Asigne `test_option` al número correspondiente a la estadística de prueba correcta.**\n",
        "\n",
        "1. Valor absoluto de la diferencia de medias entre ambos grupos; los valores altos apoyan el nulo\n",
        "2. Valor absoluto de la diferencia entre las medias entre ambos grupos; los valores bajos apoyan el nulo\n",
        "3. Premios Star Baker promedio para los ganadores: premios Star Baker promedio para los no ganadores; los valores altos apoyan el nulo\n",
        "4. Premios Star Baker promedio para los ganadores: premios Star Baker promedio para los no ganadores; los valores bajos apoyan el nulo\n",
        "\n",
        "Antes de continuar, confirma tu respuesta con un compañero o en los foros de discusión.\n",
        "\n",
        "_Pista:_ Deberías pensar en qué medidas utilizamos para describir una distribución.\n"
      ],
      "id": "6tbbGGGUEGMD"
    },
    {
      "cell_type": "code",
      "execution_count": null,
      "metadata": {
        "tags": [],
        "id": "CvhgFvrJEGMD"
      },
      "outputs": [],
      "source": [
        "test_option = ..."
      ],
      "id": "CvhgFvrJEGMD"
    },
    {
      "cell_type": "code",
      "execution_count": null,
      "metadata": {
        "deletable": false,
        "editable": false,
        "id": "N9NlSzoXEGME"
      },
      "outputs": [],
      "source": [
        "grader.check(\"q2_5\")"
      ],
      "id": "N9NlSzoXEGME"
    },
    {
      "cell_type": "markdown",
      "metadata": {
        "id": "3a2FG1cEEGME"
      },
      "source": [
        "**Pregunta 2.6.** Establezca la \"diferencia observada\" en el estadístico de prueba observado utilizando la tabla de \"medias\"."
      ],
      "id": "3a2FG1cEEGME"
    },
    {
      "cell_type": "code",
      "execution_count": null,
      "metadata": {
        "tags": [],
        "id": "2pUVewFxEGME"
      },
      "outputs": [],
      "source": [
        "observed_difference = ...\n",
        "observed_difference"
      ],
      "id": "2pUVewFxEGME"
    },
    {
      "cell_type": "code",
      "execution_count": null,
      "metadata": {
        "deletable": false,
        "editable": false,
        "id": "nU4ZCkPUEGME"
      },
      "outputs": [],
      "source": [
        "grader.check(\"q2_6\")"
      ],
      "id": "nU4ZCkPUEGME"
    },
    {
      "cell_type": "markdown",
      "metadata": {
        "id": "4G_ZPakYEGMF"
      },
      "source": [
        "**Pregunta 2.7.** Dada una tabla como `panaderos`, una columna de etiqueta `label_col` y una columna de valores `val_col`, escriba una función que calcule la estadística de prueba adecuada.\n",
        "\n",
        "*Pista:* Asegúrese de tener en cuenta la direccionalidad de nuestra hipótesis alternativa.\n"
      ],
      "id": "4G_ZPakYEGMF"
    },
    {
      "cell_type": "code",
      "execution_count": null,
      "metadata": {
        "scrolled": true,
        "tags": [],
        "id": "GVNhcXRhEGMF"
      },
      "outputs": [],
      "source": [
        "def find_test_stat(tbl, label_col, val_col):\n",
        "    ...\n",
        "\n",
        "find_test_stat(bakers, \"won\", \"star baker awards\")"
      ],
      "id": "GVNhcXRhEGMF"
    },
    {
      "cell_type": "code",
      "execution_count": null,
      "metadata": {
        "deletable": false,
        "editable": false,
        "id": "e0bFNGC-EGMF"
      },
      "outputs": [],
      "source": [
        "grader.check(\"q2_7\")"
      ],
      "id": "e0bFNGC-EGMF"
    },
    {
      "cell_type": "markdown",
      "metadata": {
        "id": "5k4TSb8KEGMG"
      },
      "source": [
        "Cuando ejecutamos una simulación para pruebas A/B, volvemos a muestrear **mezclando las etiquetas** de la muestra original. Si la hipótesis nula es cierta y las distribuciones de premios del panadero estrella son las mismas, esperamos que la diferencia en la media de los premios del panadero estrella no cambie cuando se cambian las etiquetas \"ganado\"."
      ],
      "id": "5k4TSb8KEGMG"
    },
    {
      "cell_type": "markdown",
      "metadata": {
        "id": "0MmTBplEEGMG"
      },
      "source": [
        "**Pregunta 2.8.** Escriba una función `simulate_and_test_statistic` para calcular una prueba de nuestra prueba A/B. Su función debería ejecutar una simulación y devolver una estadística de prueba."
      ],
      "id": "0MmTBplEEGMG"
    },
    {
      "cell_type": "code",
      "execution_count": null,
      "metadata": {
        "tags": [],
        "id": "P-FG4IFbEGMG"
      },
      "outputs": [],
      "source": [
        "def simulate_and_test_statistic(tbl, labels_col, values_col):\n",
        "    ...\n",
        "\n",
        "simulate_and_test_statistic(bakers, \"won\", \"star baker awards\")"
      ],
      "id": "P-FG4IFbEGMG"
    },
    {
      "cell_type": "code",
      "execution_count": null,
      "metadata": {
        "deletable": false,
        "editable": false,
        "id": "gu9JjYNnEGMH"
      },
      "outputs": [],
      "source": [
        "grader.check(\"q2_8\")"
      ],
      "id": "gu9JjYNnEGMH"
    },
    {
      "cell_type": "markdown",
      "metadata": {
        "id": "LszL0gf9EGMH"
      },
      "source": [
        "**Pregunta 2.9.** Simule 5000 pruebas de nuestra prueba A/B y almacene las estadísticas de la prueba en una matriz llamada \"differences\"."
      ],
      "id": "LszL0gf9EGMH"
    },
    {
      "cell_type": "code",
      "execution_count": null,
      "metadata": {
        "tags": [],
        "id": "qBbPeF4zEGMH"
      },
      "outputs": [],
      "source": [
        "# Esta celda puede tardar un par de segundos en ejecutarse\n",
        "differences = make_array()\n",
        "\n",
        "...\n",
        "\n",
        "differences"
      ],
      "id": "qBbPeF4zEGMH"
    },
    {
      "cell_type": "code",
      "execution_count": null,
      "metadata": {
        "deletable": false,
        "editable": false,
        "id": "tsXJ05miEGMI"
      },
      "outputs": [],
      "source": [
        "grader.check(\"q2_9\")"
      ],
      "id": "tsXJ05miEGMI"
    },
    {
      "cell_type": "markdown",
      "metadata": {
        "id": "nethWOy0EGMI"
      },
      "source": [
        "Ejecute la celda a continuación para ver un histograma de sus estadísticas de prueba simuladas trazadas con su estadística de prueba observada."
      ],
      "id": "nethWOy0EGMI"
    },
    {
      "cell_type": "code",
      "execution_count": null,
      "metadata": {
        "id": "5dRbRdGNEGMI"
      },
      "outputs": [],
      "source": [
        "Table().with_column('Difference Between Group Means', differences).hist(bins=20)\n",
        "plots.scatter(observed_difference, 0, color='red', s=30, zorder=2)\n",
        "plots.ylim(-0.1, 1.35);"
      ],
      "id": "5dRbRdGNEGMI"
    },
    {
      "cell_type": "markdown",
      "metadata": {
        "id": "XgMhj2M0EGMJ"
      },
      "source": [
        "**Pregunta 2.10.** Encuentre el valor p para su prueba y asígnelo a `empirical_p`."
      ],
      "id": "XgMhj2M0EGMJ"
    },
    {
      "cell_type": "code",
      "execution_count": null,
      "metadata": {
        "tags": [],
        "id": "Tsz47k04EGMJ"
      },
      "outputs": [],
      "source": [
        "empirical_p = ...\n",
        "empirical_p"
      ],
      "id": "Tsz47k04EGMJ"
    },
    {
      "cell_type": "code",
      "execution_count": null,
      "metadata": {
        "deletable": false,
        "editable": false,
        "id": "cs9QW2vXEGMJ"
      },
      "outputs": [],
      "source": [
        "grader.check(\"q2_10\")"
      ],
      "id": "cs9QW2vXEGMJ"
    },
    {
      "cell_type": "markdown",
      "metadata": {
        "id": "Xr8vM0UkEGMJ"
      },
      "source": [
        "**Pregunta 2.11.** Utilizando un límite de valor P del 5%, saque una conclusión sobre las hipótesis nula y alternativa. Describe tus hallazgos usando un lenguaje simple y no técnico. ¿Qué le dice su análisis sobre la asociación entre los premios Star Baker y ganar? ¿Qué puede afirmar sobre la causalidad a partir de su análisis estadístico? Confirme su respuesta con un compañero, instructor o en los foros de discusión.\n"
      ],
      "id": "Xr8vM0UkEGMJ"
    },
    {
      "cell_type": "markdown",
      "metadata": {
        "id": "T0_672swEGMK"
      },
      "source": [
        "_Escriba su respuesta aquí, reemplazando este texto._"
      ],
      "id": "T0_672swEGMK"
    },
    {
      "cell_type": "markdown",
      "metadata": {
        "id": "3SYLv1tsEGMK"
      },
      "source": [
        "## ¡Todo listo!\n",
        "\n",
        "**Ozzie** aparece para felicitarte por terminar el laboratorio 7.\n",
        "\n",
        "<img src=\"https://github.com/darioblandon/materials-fa23/blob/main/lab/lab07/ozzie.png?raw=1\" alt=\"pcture of a black furry dog sitting on pavement\" width=\"300\"/>\n"
      ],
      "id": "3SYLv1tsEGMK"
    },
    {
      "cell_type": "markdown",
      "metadata": {
        "id": "X_v-qt9wEGMK"
      },
      "source": [
        "---\n",
        "\n",
        "¡Terminaste con el laboratorio!\n",
        "\n",
        "**Información importante sobre el envío:**\n",
        "- **Ejecuta todas las pruebas** y verifica que todas pasan\n",
        "- **Guardar** desde el menú **Archivo**\n",
        "- **Ejecute la celda final para generar el archivo zip**\n",
        "- **Haga clic en el enlace para descargar el archivo zip**\n",
        "- Luego, ve a [Gradescope](https://www.gradescope.com/courses/576157) y envía el archivo zip a la tarea correspondiente. El nombre de esta tarea es \"Lab XX Autograder\", donde XX es el número de laboratorio: 01, 02, 03, etc.\n",
        "\n",
        "- Si terminas temprano en el laboratorio regular, **pídele a uno de los miembros del personal que te marque**.\n",
        "\n",
        "**Es su responsabilidad asegurarse de que su trabajo esté guardado antes de ejecutar la última celda.**\n"
      ],
      "id": "X_v-qt9wEGMK"
    },
    {
      "cell_type": "markdown",
      "metadata": {
        "deletable": false,
        "editable": false,
        "id": "i6cvqsJwEGMK"
      },
      "source": [
        "## Envío\n",
        "\n",
        "Asegúrese de haber ejecutado todas las celdas de su cuaderno en orden antes de ejecutar la siguiente celda, para que todas las imágenes/gráficos aparezcan en el resultado. La siguiente celda generará un archivo zip para que lo envíe. **¡Guarde antes de exportar!**"
      ],
      "id": "i6cvqsJwEGMK"
    },
    {
      "cell_type": "code",
      "execution_count": null,
      "metadata": {
        "deletable": false,
        "editable": false,
        "id": "44CEeir0EGML"
      },
      "outputs": [],
      "source": [
        "# Save your notebook first, then run this cell to export your submission.\n",
        "grader.export(pdf=False, run_tests=True)"
      ],
      "id": "44CEeir0EGML"
    },
    {
      "cell_type": "markdown",
      "metadata": {
        "id": "q2F7HuesEGML"
      },
      "source": [
        ""
      ],
      "id": "q2F7HuesEGML"
    }
  ],
  "metadata": {
    "kernelspec": {
      "display_name": "Python 3",
      "language": "python",
      "name": "python3"
    },
    "language_info": {
      "codemirror_mode": {
        "name": "ipython",
        "version": 3
      },
      "file_extension": ".py",
      "mimetype": "text/x-python",
      "name": "python",
      "nbconvert_exporter": "python",
      "pygments_lexer": "ipython3",
      "version": "3.11.2"
    },
    "otter": {
      "OK_FORMAT": true,
      "tests": {
        "q0": {
          "name": "q0",
          "points": null,
          "suites": [
            {
              "cases": [
                {
                  "code": ">>> mid_secret == \"bing chilling\"\nTrue",
                  "hidden": false,
                  "locked": false
                }
              ],
              "scored": true,
              "setup": "",
              "teardown": "",
              "type": "doctest"
            }
          ]
        },
        "q1_1": {
          "name": "q1_1",
          "points": null,
          "suites": [
            {
              "cases": [
                {
                  "code": ">>> len(ab_test_order) == 6\nTrue",
                  "hidden": false,
                  "locked": false
                },
                {
                  "code": ">>> np.allclose(np.array(ab_test_order)[:3] % 2 == 1, True) # Check the first three elements in your array.\nTrue",
                  "hidden": false,
                  "locked": false
                },
                {
                  "code": ">>> np.allclose(np.array(ab_test_order)[3:] % 2 == 0, True) # Check the last three elements in your array.\nTrue",
                  "hidden": false,
                  "locked": false
                },
                {
                  "code": ">>> \n>>> # This imports a hashing library for the autograder.\n>>> import hashlib\n>>> def get_hash(num):\n...     \"\"\"Helper function for assessing correctness.\"\"\"\n...     return hashlib.md5(str(num).encode()).hexdigest()\n>>> \n>>> get_hash(np.array(ab_test_order).astype(int))\n'a7196ed0f271c873d9750cb92422d911'",
                  "hidden": false,
                  "locked": false
                }
              ],
              "scored": true,
              "setup": "",
              "teardown": "",
              "type": "doctest"
            }
          ]
        },
        "q2_10": {
          "name": "q2_10",
          "points": null,
          "suites": [
            {
              "cases": [
                {
                  "code": ">>> 0 <= empirical_p < 0.05\nTrue",
                  "hidden": false,
                  "locked": false
                }
              ],
              "scored": true,
              "setup": "",
              "teardown": "",
              "type": "doctest"
            }
          ]
        },
        "q2_3": {
          "name": "q2_3",
          "points": null,
          "suites": [
            {
              "cases": [
                {
                  "code": ">>> means.num_rows\n2",
                  "hidden": false,
                  "locked": false
                },
                {
                  "code": ">>> np.round(min(means.column(\"star baker awards mean\")), 2) == 0.65\nTrue",
                  "hidden": false,
                  "locked": false
                },
                {
                  "code": ">>> np.round(max(means.column(\"star baker awards mean\")), 2) == 1.5\nTrue",
                  "hidden": false,
                  "locked": false
                }
              ],
              "scored": true,
              "setup": "",
              "teardown": "",
              "type": "doctest"
            }
          ]
        },
        "q2_5": {
          "name": "q2_5",
          "points": null,
          "suites": [
            {
              "cases": [
                {
                  "code": ">>> test_option == 4\nTrue",
                  "hidden": false,
                  "locked": false
                }
              ],
              "scored": true,
              "setup": "",
              "teardown": "",
              "type": "doctest"
            }
          ]
        },
        "q2_6": {
          "name": "q2_6",
          "points": null,
          "suites": [
            {
              "cases": [
                {
                  "code": ">>> isinstance(observed_difference, float)\nTrue",
                  "hidden": false,
                  "locked": false
                },
                {
                  "code": ">>> float(round(observed_difference, 3))\n0.848",
                  "hidden": false,
                  "locked": false
                }
              ],
              "scored": true,
              "setup": "",
              "teardown": "",
              "type": "doctest"
            }
          ]
        },
        "q2_7": {
          "name": "q2_7",
          "points": null,
          "suites": [
            {
              "cases": [
                {
                  "code": ">>> np.isclose(round(find_test_stat(bakers, \"won\", \"star baker awards\"), 3) - 0.848, 0)\nTrue",
                  "hidden": false,
                  "locked": false
                }
              ],
              "scored": true,
              "setup": "",
              "teardown": "",
              "type": "doctest"
            }
          ]
        },
        "q2_8": {
          "name": "q2_8",
          "points": null,
          "suites": [
            {
              "cases": [
                {
                  "code": ">>> test_stat = round(simulate_and_test_statistic(bakers, \"won\", \"star baker awards\"), 3)\n>>> -2 < test_stat < 2\nTrue",
                  "hidden": false,
                  "locked": false
                },
                {
                  "code": ">>> np.random.seed(1)\n>>> test_stat2 = simulate_and_test_statistic(bakers, \"won\", \"star baker awards\")\n>>> np.round(test_stat2, 3) == -0.023 or np.round(test_stat2, 3) == -0.132\nTrue",
                  "hidden": false,
                  "locked": false
                }
              ],
              "scored": true,
              "setup": "",
              "teardown": "",
              "type": "doctest"
            }
          ]
        },
        "q2_9": {
          "name": "q2_9",
          "points": null,
          "suites": [
            {
              "cases": [
                {
                  "code": ">>> len(differences)\n5000",
                  "hidden": false,
                  "locked": false
                },
                {
                  "code": ">>> abs(np.average(differences)) < 0.05 # On average, your test statistic should be close to 0\nTrue",
                  "hidden": false,
                  "locked": false
                },
                {
                  "code": ">>> all(differences == differences.item(0)) == False # Make sure all of the test statistics are different\nTrue",
                  "hidden": false,
                  "locked": false
                }
              ],
              "scored": true,
              "setup": "",
              "teardown": "",
              "type": "doctest"
            }
          ]
        }
      }
    },
    "colab": {
      "provenance": [],
      "include_colab_link": true
    }
  },
  "nbformat": 4,
  "nbformat_minor": 5
}