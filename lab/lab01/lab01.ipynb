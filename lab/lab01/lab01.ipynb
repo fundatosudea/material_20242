{
  "cells": [
    {
      "cell_type": "markdown",
      "metadata": {
        "id": "view-in-github",
        "colab_type": "text"
      },
      "source": [
        "<a href=\"https://colab.research.google.com/github/darioblandon/materials-fa23/blob/main/lab/lab01/lab01.ipynb\" target=\"_parent\"><img src=\"https://colab.research.google.com/assets/colab-badge.svg\" alt=\"Open In Colab\"/></a>"
      ]
    },
    {
      "cell_type": "code",
      "execution_count": null,
      "metadata": {
        "deletable": false,
        "editable": false,
        "id": "e1DQXabPHYrh"
      },
      "outputs": [],
      "source": [
        "# Initialize Otter\n",
        "import otter\n",
        "grader = otter.Notebook(\"lab01.ipynb\")"
      ],
      "id": "e1DQXabPHYrh"
    },
    {
      "cell_type": "markdown",
      "metadata": {
        "deletable": false,
        "jp-MarkdownHeadingCollapsed": true,
        "tags": [],
        "id": "Gf3dkKG1HYri"
      },
      "source": [
        "<img src=\"https://github.com/darioblandon/materials-fa23/blob/main/lab/lab01/data8logo.png?raw=1\" style=\"width: 15%; float: right; padding: 1%; margin-right: 2%;\"/>\n",
        "\n",
        "# Welcome!\n",
        "\n",
        "Welcome to Data 8: *Foundations of Data Science*!  Each week you will complete two lab assignments like this one.  You can't learn technical subjects without hands-on practice, so labs are an important part of the course.\n",
        "\n",
        "Before we get started, there are some administrative details.\n",
        "\n",
        "The weekly lab sessions are designed to develop your skills with computational and inferential concepts. These lab assignments are a required part of the course and will be released on Wednesday, and due Friday at 11 PM\n",
        "\n",
        "Lab sessions are not webcast! Here are the policies for getting full credit (Lab is worth 10% of your final grade):\n",
        "\n",
        "1. If you are within regular lab, to recieve credit for lab you must attend lab and either complete the lab assignment before the lab period is over and get checked off by course staff OR you can stay for the complete lab period, make significant progress on the lab assignment, and get checked off by the course staff, to receive full credit for the lab even if you haven’t completed the whole lab assignment.\n",
        "\n",
        "2. If you are within the self-service lab (check the [course policies](http://data8.org/fa23/policies) for deatils) you will have the option to complete the lab on their own and submit the completed lab by 11 PM on the due date. If you choose to submit early, you must finish the entire lab and pass all autograder tests (100% of tests passed) to receive credit. No partial credit will be awarded.\n",
        "\n",
        "For Lab 1, you are **required** to complete the lab.\n",
        "\n",
        "Collaborating on labs is more than okay -- it's encouraged! You should rarely remain stuck for more than a few minutes on questions in labs, so ask an instructor or classmate for help. (Explaining things is beneficial, too -- the best way to solidify your knowledge of a subject is to explain it.) Please don't just share answers, though.\n",
        "\n",
        "You can read more of the [course policies](http://data8.org/fa23/policies) on the [course website](http://data8.org/fa23/).\n",
        "\n",
        "#### Today's lab\n",
        "\n",
        "In today's lab, you'll learn how to:\n",
        "\n",
        "1. navigate Jupyter notebooks (like this one);\n",
        "2. write and evaluate some basic *expressions* in Python, the computer language of the course;\n",
        "3. call *functions* to use code other people have written; and\n",
        "4. break down Python code into smaller parts to understand it.\n",
        "\n",
        "This lab covers parts of [Chapter 3](http://www.inferentialthinking.com/chapters/03/programming-in-python.html) of the online textbook. You should read the examples in the book, but not right now. Instead, let's get started!"
      ],
      "id": "Gf3dkKG1HYri"
    },
    {
      "cell_type": "markdown",
      "metadata": {
        "id": "WGr8oFt5HYrk"
      },
      "source": [
        "# 0. Mandatory Policies Form\n",
        "Reading the text above this will save you time!\n",
        "\n",
        "Fill out [this](https://forms.gle/knEhFm28SprQi98E8) form before moving on. Please use your Berkeley email to access the form. At the end of the form, there will be a secret word that you should input into the box below. Remember to put the secret word in quotes when inputting it (i.e.\"hello\"). The quotation marks indicate that it is a String type!\n"
      ],
      "id": "WGr8oFt5HYrk"
    },
    {
      "cell_type": "code",
      "execution_count": null,
      "metadata": {
        "tags": [],
        "id": "JMqFGoQGHYrk"
      },
      "outputs": [],
      "source": [
        "secret_word = ..."
      ],
      "id": "JMqFGoQGHYrk"
    },
    {
      "cell_type": "code",
      "execution_count": null,
      "metadata": {
        "deletable": false,
        "editable": false,
        "id": "VEnt7zIrHYrl"
      },
      "outputs": [],
      "source": [
        "grader.check(\"q0\")"
      ],
      "id": "VEnt7zIrHYrl"
    },
    {
      "cell_type": "markdown",
      "metadata": {
        "id": "JTFJ6G2fHYrl"
      },
      "source": [
        "# 1. Jupyter Notebooks\n",
        "This webpage is called a Jupyter Notebook. A notebook is a place to write programs and view their results, and also to write text.\n",
        "\n",
        "## 1.1. Text cells\n",
        "In a notebook, each rectangle containing text or code is called a *cell*.\n",
        "\n",
        "Text cells (like this one) can be edited by double-clicking on them. They're written in a simple format called [Markdown](https://www.markdownguide.org/basic-syntax/) to add formatting and section headings.  You don't need to learn Markdown, but you might want to.\n",
        "\n",
        "After you edit a text cell, click the \"run cell\" button at the top that looks like ▶ or hold down `shift` + `return` to confirm any changes. (Try not to delete the instructions of the lab.)"
      ],
      "id": "JTFJ6G2fHYrl"
    },
    {
      "cell_type": "markdown",
      "metadata": {
        "deletable": false,
        "id": "5AwdcOIZHYrl"
      },
      "source": [
        "**Question 1.1.1.** This paragraph is in its own text cell.  Try editing it so that this sentence is the last sentence in the paragraph, and then click the \"run cell\" ▶ button or hold down `shift` + `return`.  This sentence, for example, should be deleted.  So should this one."
      ],
      "id": "5AwdcOIZHYrl"
    },
    {
      "cell_type": "markdown",
      "metadata": {
        "id": "DJuxzQUnHYrm"
      },
      "source": [
        "## 1.2. Code cells\n",
        "Other cells contain code in the Python 3 language. Running a code cell will execute all of the code it contains.\n",
        "\n",
        "To run the code in a code cell, first click on that cell to activate it.  It'll be highlighted with a little green or blue rectangle.  Next, either press ▶ or hold down `shift` + `return`.\n",
        "\n",
        "Try running this cell:"
      ],
      "id": "DJuxzQUnHYrm"
    },
    {
      "cell_type": "code",
      "execution_count": null,
      "metadata": {
        "id": "foo_5KewHYrm"
      },
      "outputs": [],
      "source": [
        "print(\"Hello, World!\")"
      ],
      "id": "foo_5KewHYrm"
    },
    {
      "cell_type": "markdown",
      "metadata": {
        "id": "sUTX8FxOHYrm"
      },
      "source": [
        "And this one:"
      ],
      "id": "sUTX8FxOHYrm"
    },
    {
      "cell_type": "code",
      "execution_count": null,
      "metadata": {
        "id": "TecI2Y92HYrm"
      },
      "outputs": [],
      "source": [
        "print(\"\\N{WAVING HAND SIGN}, \\N{EARTH GLOBE ASIA-AUSTRALIA}!\")"
      ],
      "id": "TecI2Y92HYrm"
    },
    {
      "cell_type": "markdown",
      "metadata": {
        "id": "ssCdj5V0HYrm"
      },
      "source": [
        "The fundamental building block of Python code is an expression. Cells can contain multiple lines with multiple expressions. When you run a cell, the lines of code are executed in the order in which they appear. Every `print` expression prints a line. Run the next cell and notice the order of the output."
      ],
      "id": "ssCdj5V0HYrm"
    },
    {
      "cell_type": "code",
      "execution_count": null,
      "metadata": {
        "deletable": false,
        "id": "MF_pZyX1HYrn"
      },
      "outputs": [],
      "source": [
        "print(\"First this line is printed,\")\n",
        "print(\"and then this one.\")"
      ],
      "id": "MF_pZyX1HYrn"
    },
    {
      "cell_type": "markdown",
      "metadata": {
        "id": "MJWDGUzXHYrn"
      },
      "source": [
        "**Question 1.2.1.** Change the cell above so that it prints out:\n",
        "\n",
        "    First this line,\n",
        "    then the whole 🌏,\n",
        "    and then this one.\n",
        "\n",
        "*Hint:* If you're stuck on the Earth symbol for more than a few minutes, try talking to a neighbor or a staff member. That's a good idea for any lab problem."
      ],
      "id": "MJWDGUzXHYrn"
    },
    {
      "cell_type": "markdown",
      "metadata": {
        "id": "DI0PZTAcHYrn"
      },
      "source": [
        "## 1.3. Writing Jupyter notebooks\n",
        "You can use Jupyter notebooks for your own projects or documents.  When you make your own notebook, you'll need to create your own cells for text and code.\n",
        "\n",
        "To add a cell, click the + button in the menu bar.  It'll start out as a text cell.  You can change it to a code cell by clicking inside it so it's highlighted, clicking the drop-down box next to the button with double triangles in the menu bar, and choosing \"Code\".\n",
        "\n",
        "**Question 1.3.1.** Add a code cell below this one.  Write code in it that prints out:\n",
        "   \n",
        "    A whole new cell! ♪🌏♪\n",
        "\n",
        "(That musical note symbol is like the Earth symbol.  Its long-form name is `\\N{EIGHTH NOTE}`.)\n",
        "\n",
        "Run your cell to verify that it works."
      ],
      "id": "DI0PZTAcHYrn"
    },
    {
      "cell_type": "markdown",
      "metadata": {
        "id": "zTY6tJPHHYrn"
      },
      "source": [
        "## 1.4. Errors\n",
        "Python is a language, and like natural human languages, it has rules.  It differs from natural language in two important ways:\n",
        "1. The rules are *simple*.  You can learn most of them in a few weeks and gain reasonable proficiency with the language in a semester.\n",
        "2. The rules are *rigid*.  If you're proficient in a natural language, you can understand a non-proficient speaker, glossing over small mistakes.  A computer running Python code is not smart enough to do that.\n",
        "\n",
        "Whenever you write code, you'll make mistakes.  When you run a code cell that has errors, Python will sometimes produce error messages to tell you what you did wrong.\n",
        "\n",
        "Errors are okay; even experienced programmers make many errors.  When you make an error, you just have to find the source of the problem, fix it, and move on."
      ],
      "id": "zTY6tJPHHYrn"
    },
    {
      "cell_type": "markdown",
      "metadata": {
        "id": "t7yLhc6rHYro"
      },
      "source": [
        "We have made an error in the next cell.  Run it and see what happens."
      ],
      "id": "t7yLhc6rHYro"
    },
    {
      "cell_type": "code",
      "execution_count": null,
      "metadata": {
        "deletable": false,
        "tags": [
          "raises-exception"
        ],
        "id": "PNXjGH6yHYro"
      },
      "outputs": [],
      "source": [
        "print(\"This line is missing something.\""
      ],
      "id": "PNXjGH6yHYro"
    },
    {
      "cell_type": "markdown",
      "metadata": {
        "id": "Nbzk-R4fHYro"
      },
      "source": [
        "**Note:** In the toolbar, there is the option to click `Cell > Run All Cells`, which will run all the code cells in this notebook in order. However, the notebook stops running code cells if it hits an error, like the one in the cell above."
      ],
      "id": "Nbzk-R4fHYro"
    },
    {
      "cell_type": "markdown",
      "metadata": {
        "id": "JrZxz7wMHYro"
      },
      "source": [
        "You should see something like this (minus our annotations and the D8 error output):\n",
        "\n",
        "<img src=\"https://github.com/darioblandon/materials-fa23/blob/main/lab/lab01/error.jpg?raw=1\"/>\n",
        "\n",
        "The last line of the error output attempts to tell you what went wrong.  The *syntax* of a language is its structure, and this `SyntaxError` tells you that you have created an illegal structure.  \"`EOF`\" means \"end of file,\" so the message is saying Python expected you to write something more (in this case, a right parenthesis) before finishing the cell.\n",
        "\n",
        "There's a lot of terminology in programming languages, but you don't need to know it all in order to program effectively. If you see a cryptic message like this, you can often get by without deciphering it.  (Of course, if you're frustrated, ask a neighbor or a staff member for help.) However, our D8 error package helps explain any python errors and exceptions and their common causes, as well as resources to reference for additional help. In the example above, we see that one source of a `SyntaxError` has to do with parentheses.\n",
        "\n",
        "\n",
        "Try to fix the code above so that you can run the cell and see the intended message instead of an error."
      ],
      "id": "JrZxz7wMHYro"
    },
    {
      "cell_type": "markdown",
      "metadata": {
        "id": "Y8LNo1uKHYro"
      },
      "source": [
        "## 1.5. The Kernel\n",
        "The kernel is a program that executes the code inside your notebook and outputs the results. In the top right of your window, you can see a circle that indicates the status of your kernel. If the circle is empty (⚪), the kernel is idle and ready to execute code. If the circle is filled in (⚫), the kernel is busy running some code.\n",
        "\n",
        "Next to every code cell, you'll see some text that says `[ ]`. Before you run the cell, you'll see `[ ]`. When the cell is running, you'll see `[*]`. If you see an asterisk (\\*) next to a cell that doesn't go away, it's likely that the code inside the cell is taking too long to run, and it might be a good time to interrupt the kernel (discussed below). When a cell is finished running, you'll see a number inside the brackets, like so: `[1]`. The number corresponds to the order in which you run the cells; so, the first cell you run will show a 1 when it's finished running, the second will show a 2, and so on.\n",
        "\n",
        "You may run into problems where your kernel is stuck for an excessive amount of time, your notebook is very slow and unresponsive, or your kernel loses its connection. If this happens, try the following steps:\n",
        "1. At the top of your screen, click **Kernel**, then **Interrupt Kernel**.\n",
        "2. If that doesn't help, click **Kernel**, then **Restart Kernel**. If you do this, you will have to run your code cells from the start of your notebook up until where you paused your work."
      ],
      "id": "Y8LNo1uKHYro"
    },
    {
      "cell_type": "markdown",
      "metadata": {
        "id": "JlZglGa6HYrp"
      },
      "source": [
        "## 1.6. Submitting Your Work\n",
        "All assignments in the course will be distributed as notebooks like this one, and you will submit your work from the notebook. We will use a system called Otter Grader and Gradescope to check your work and help you submit. If you haven’t already, make sure you have run the cell at the top of this notebook to initialize OtterGrader."
      ],
      "id": "JlZglGa6HYrp"
    },
    {
      "cell_type": "markdown",
      "metadata": {
        "id": "kfJcNM_hHYrp"
      },
      "source": [
        "Watch this [video](https://drive.google.com/file/d/1SGK6B7b1VGChPvCNKyIcdt02g7l-j8Dd/view) to see how to submit an assignment!"
      ],
      "id": "kfJcNM_hHYrp"
    },
    {
      "cell_type": "markdown",
      "metadata": {
        "id": "MpttsNDGHYrp"
      },
      "source": [
        "# 2. Numbers\n",
        "\n",
        "Quantitative information arises everywhere in data science. In addition to representing commands to print out lines, expressions can represent numbers and methods of combining numbers. The expression `3.2500` evaluates to the number 3.25. (Run the cell and see.)"
      ],
      "id": "MpttsNDGHYrp"
    },
    {
      "cell_type": "code",
      "execution_count": null,
      "metadata": {
        "id": "bZA5brVdHYrp"
      },
      "outputs": [],
      "source": [
        "3.2500"
      ],
      "id": "bZA5brVdHYrp"
    },
    {
      "cell_type": "markdown",
      "metadata": {
        "id": "G7CfYrotHYrp"
      },
      "source": [
        "Notice that we didn't have to `print`. When you run a notebook cell, if the last line has a value, then Jupyter helpfully prints out that value for you. However, it won't print out prior lines automatically."
      ],
      "id": "G7CfYrotHYrp"
    },
    {
      "cell_type": "code",
      "execution_count": null,
      "metadata": {
        "tags": [],
        "id": "sucZTTsPHYrp"
      },
      "outputs": [],
      "source": [
        "print(2)\n",
        "3\n",
        "4"
      ],
      "id": "sucZTTsPHYrp"
    },
    {
      "cell_type": "markdown",
      "metadata": {
        "id": "WUgGRybKHYrq"
      },
      "source": [
        "Above, you should see that 4 is the value of the last expression, 2 is printed, but 3 is lost forever because it was neither printed nor last.\n",
        "\n",
        "You don't want to print everything all the time anyway.  But if you feel sorry for 3, change the cell above to print it."
      ],
      "id": "WUgGRybKHYrq"
    },
    {
      "cell_type": "markdown",
      "metadata": {
        "id": "aSyRNCEJHYrq"
      },
      "source": [
        "## 2.1. Arithmetic\n",
        "The line in the next cell subtracts.  Its value is what you'd expect.  Run it."
      ],
      "id": "aSyRNCEJHYrq"
    },
    {
      "cell_type": "code",
      "execution_count": null,
      "metadata": {
        "id": "o9uvqfMoHYrq"
      },
      "outputs": [],
      "source": [
        "3.25 - 1.5"
      ],
      "id": "o9uvqfMoHYrq"
    },
    {
      "cell_type": "markdown",
      "metadata": {
        "id": "6WaMkYyYHYrq"
      },
      "source": [
        "Many basic arithmetic operations are built into Python.  The textbook section on [Expressions](http://www.inferentialthinking.com/chapters/03/1/Expressions.html) describes all the arithmetic operators used in the course.  The common operator that differs from typical math notation is `**`, which raises one number to the power of the other. So, `2**3` stands for $2^3$ and evaluates to 8.\n",
        "\n",
        "The order of operations is the same as what you learned in elementary school, and Python also has parentheses.  For example, compare the outputs of the cells below. The second cell uses parentheses for a happy new year!"
      ],
      "id": "6WaMkYyYHYrq"
    },
    {
      "cell_type": "code",
      "execution_count": null,
      "metadata": {
        "id": "aSGWGYSrHYrq"
      },
      "outputs": [],
      "source": [
        "6+6*5-6*3**2*2**3/4*7"
      ],
      "id": "aSGWGYSrHYrq"
    },
    {
      "cell_type": "code",
      "execution_count": null,
      "metadata": {
        "id": "g8lW6ZYQHYrq"
      },
      "outputs": [],
      "source": [
        "6+(6*5-(6*3))**2*((2**3)/4*7)"
      ],
      "id": "g8lW6ZYQHYrq"
    },
    {
      "cell_type": "markdown",
      "metadata": {
        "id": "WEumF5aQHYrq"
      },
      "source": [
        "In standard math notation, the first expression is\n",
        "\n",
        "$$6 + 6 \\times 5 - 6 \\times 3^2 \\times \\frac{2^3}{4} \\times 7,$$\n",
        "\n",
        "while the second expression is\n",
        "\n",
        "$$6 + (6 \\times 5 - (6 \\times 3))^2 \\times \\left(\\frac{\\left(2^3\\right)}{4} \\times 7\\right).$$\n",
        "\n",
        "**Question 2.1.1.** Write a Python expression in this next cell that's equal to $\\displaystyle 5 \\times \\left(3 \\frac{10}{11}\\right) - 50 \\frac{1}{3} + 2^{0.5 \\times 22} - \\frac{7}{33} + 6$.  That's five times three and ten elevenths, minus fifty and a third, plus two to the power of half twenty-two, minus seven thirty-thirds plus six.\n",
        "\n",
        "Replace the ellipses (`...`) with your expression.  Try to use parentheses only when necessary.\n",
        "\n",
        "**Note:** By \"$\\displaystyle 3 \\frac{10}{11}$\", we mean $\\displaystyle 3+\\frac{10}{11}$, not $\\displaystyle 3 \\times \\frac{10}{11}$.\n",
        "\n",
        "*Hint:* The correct output should start with a familiar number."
      ],
      "id": "WEumF5aQHYrq"
    },
    {
      "cell_type": "code",
      "execution_count": null,
      "metadata": {
        "deletable": false,
        "tags": [],
        "id": "bbHTNfdSHYrr"
      },
      "outputs": [],
      "source": [
        "..."
      ],
      "id": "bbHTNfdSHYrr"
    },
    {
      "cell_type": "markdown",
      "metadata": {
        "id": "yxeOn7bmHYrr"
      },
      "source": [
        "# 3. Names\n",
        "In natural language, we have terminology that lets us quickly reference very complicated concepts.  We don't say, \"That's a large mammal with brown fur and sharp teeth!\"  Instead, we just say, \"Bear!\"\n",
        "\n",
        "In Python, we do this with *assignment statements*. An assignment statement has a name on the left side of an `=` sign and an expression to be evaluated on the right."
      ],
      "id": "yxeOn7bmHYrr"
    },
    {
      "cell_type": "code",
      "execution_count": null,
      "metadata": {
        "id": "e2ja7UsXHYrr"
      },
      "outputs": [],
      "source": [
        "ten = 3 * 2 + 4"
      ],
      "id": "e2ja7UsXHYrr"
    },
    {
      "cell_type": "markdown",
      "metadata": {
        "id": "2fzaBjlgHYrr"
      },
      "source": [
        "When you run that cell, Python first computes the value of the expression on the right-hand side, `3 * 2 + 4`, which is the number 10.  Then it assigns that value to the name `ten`.  At that point, the code in the cell is done running.\n",
        "\n",
        "After you run that cell, the value 10 is bound to the name `ten`:"
      ],
      "id": "2fzaBjlgHYrr"
    },
    {
      "cell_type": "code",
      "execution_count": null,
      "metadata": {
        "id": "ZYnBzMpeHYrr"
      },
      "outputs": [],
      "source": [
        "ten"
      ],
      "id": "ZYnBzMpeHYrr"
    },
    {
      "cell_type": "markdown",
      "metadata": {
        "id": "cXUjMoYAHYrz"
      },
      "source": [
        "The statement `ten = 3 * 2 + 4` is not asserting that `ten` is already equal to `3 * 2 + 4`, as we might expect by analogy with math notation.  Rather, that line of code changes what `ten` means; it now refers to the value 10, whereas before it meant nothing at all.\n",
        "\n",
        "If the designers of Python had been ruthlessly pedantic, they might have made us write\n",
        "\n",
        "    define the name ten to hereafter have the value of 3 * 2 + 4\n",
        "\n",
        "instead.  You will probably appreciate the brevity of \"`=`\"!  But keep in mind that this is the real meaning.\n",
        "\n",
        "**Question 3.1.** Run the following cell which uses a variable name `eleven` that hasn't been assigned to anything. You'll see an error!"
      ],
      "id": "cXUjMoYAHYrz"
    },
    {
      "cell_type": "code",
      "execution_count": null,
      "metadata": {
        "tags": [
          "raises-exception"
        ],
        "id": "k3QlNTPRHYrz"
      },
      "outputs": [],
      "source": [
        "eleven + 8"
      ],
      "id": "k3QlNTPRHYrz"
    },
    {
      "cell_type": "markdown",
      "metadata": {
        "id": "hDgh-Tk9HYrz"
      },
      "source": [
        "A common pattern in Jupyter notebooks is to assign a value to a name and then immediately evaluate the name in the last line in the cell so that the value is displayed as output."
      ],
      "id": "hDgh-Tk9HYrz"
    },
    {
      "cell_type": "code",
      "execution_count": null,
      "metadata": {
        "id": "HxXaxaJBHYr0"
      },
      "outputs": [],
      "source": [
        "close_to_pi = 355/113\n",
        "close_to_pi"
      ],
      "id": "HxXaxaJBHYr0"
    },
    {
      "cell_type": "markdown",
      "metadata": {
        "id": "qii-jtpRHYr0"
      },
      "source": [
        "Another common pattern is that a series of lines in a single cell will build up a complex computation in stages, naming the intermediate results."
      ],
      "id": "qii-jtpRHYr0"
    },
    {
      "cell_type": "code",
      "execution_count": null,
      "metadata": {
        "id": "3NkP_hXeHYr0"
      },
      "outputs": [],
      "source": [
        "semimonthly_salary = 842.5\n",
        "monthly_salary = 2 * semimonthly_salary\n",
        "number_of_months_in_a_year = 12\n",
        "yearly_salary = number_of_months_in_a_year * monthly_salary\n",
        "yearly_salary"
      ],
      "id": "3NkP_hXeHYr0"
    },
    {
      "cell_type": "markdown",
      "metadata": {
        "id": "zuvKvw13HYr0"
      },
      "source": [
        "Names in Python can have letters (upper- and lower-case letters are both okay and count as different letters), underscores, and numbers.  The first character can't be a number (otherwise a name might look like a number).  And names can't contain spaces, since spaces are used to separate pieces of code from each other.\n",
        "\n",
        "Other than those rules, what you name something doesn't matter *to Python*.  For example, this cell does the same thing as the above cell, except everything has a different name:"
      ],
      "id": "zuvKvw13HYr0"
    },
    {
      "cell_type": "code",
      "execution_count": null,
      "metadata": {
        "id": "8O71uqsrHYr0"
      },
      "outputs": [],
      "source": [
        "a = 842.5\n",
        "b = 2 * a\n",
        "c = 12\n",
        "d = c * b\n",
        "d"
      ],
      "id": "8O71uqsrHYr0"
    },
    {
      "cell_type": "markdown",
      "metadata": {
        "id": "Dk-e6LQGHYr0"
      },
      "source": [
        "**However**, names are very important for making your code *readable* to yourself and others.  The cell above is shorter, but it's totally useless without an explanation of what it does."
      ],
      "id": "Dk-e6LQGHYr0"
    },
    {
      "cell_type": "markdown",
      "metadata": {
        "id": "4ohm7tnpHYr1"
      },
      "source": [
        "## 3.1. Checking Your Code\n",
        "Now that you know how to name things, you can start using the built-in *tests* to check whether your work is correct. Sometimes, there are multiple tests for a single question, and passing all of them is required to receive credit for the question. Please don't change the contents of the test cells.\n",
        "\n",
        "Go ahead and attempt Question 3.1.2. Running the cell directly after it will test whether you have assigned `seconds_in_a_decade` correctly in Question 3.1.2. If you haven't, this test will tell you the correct answer. Resist the urge to just copy it, and instead try to adjust your expression. (Sometimes the tests will give hints about what went wrong...)"
      ],
      "id": "4ohm7tnpHYr1"
    },
    {
      "cell_type": "markdown",
      "metadata": {
        "id": "1wDeR_mpHYr1"
      },
      "source": [
        "**Question 3.1.2.** Assign the name `seconds_in_a_decade` to the number of seconds between midnight January 1, 2010 and midnight January 1, 2020. Note that there are two leap years in this span of a decade. A non-leap year has 365 days and a leap year has 366 days.\n",
        "\n",
        "*Hint:* If you're stuck, the next section shows you how to get hints.\n"
      ],
      "id": "1wDeR_mpHYr1"
    },
    {
      "cell_type": "code",
      "execution_count": null,
      "metadata": {
        "deletable": false,
        "tags": [],
        "id": "0lKGr2qxHYr1"
      },
      "outputs": [],
      "source": [
        "# Change the next line\n",
        "# so that it computes the number of seconds in a decade\n",
        "# and assigns that number the name, seconds_in_a_decade.\n",
        "\n",
        "seconds_in_a_decade = ...\n",
        "\n",
        "# We've put this line in this cell\n",
        "# so that it will print the value you've given to seconds_in_a_decade when you run it.\n",
        "# You don't need to change this.\n",
        "seconds_in_a_decade"
      ],
      "id": "0lKGr2qxHYr1"
    },
    {
      "cell_type": "code",
      "execution_count": null,
      "metadata": {
        "deletable": false,
        "editable": false,
        "id": "thVD0ZRbHYr1"
      },
      "outputs": [],
      "source": [
        "grader.check(\"q3_1_2\")"
      ],
      "id": "thVD0ZRbHYr1"
    },
    {
      "cell_type": "markdown",
      "metadata": {
        "id": "1-3FF671HYr1"
      },
      "source": [
        "# 3.2. Comments\n",
        "You may have noticed these lines in the cell in which you answered Question 3.2:\n",
        "\n",
        "    # Change the next line\n",
        "    # so that it computes the number of seconds in a decade\n",
        "    # and assigns that number the name, seconds_in_a_decade.\n",
        "    \n",
        "This is called a *comment*. It doesn't make anything happen in Python; Python ignores anything on a line after a `#`.  Instead, it's there to communicate something about the code to you, the human reader. Comments are extremely useful.\n",
        "\n",
        "<img src=\"http://imgs.xkcd.com/comics/future_self.png\">\n",
        "\n",
        "Source: [XKCD](http://imgs.xkcd.com/comics/future_self.png)"
      ],
      "id": "1-3FF671HYr1"
    },
    {
      "cell_type": "markdown",
      "metadata": {
        "id": "iJ5leR3kHYr2"
      },
      "source": [
        "## 3.3. Application: A Physics Experiment\n",
        "\n",
        "On the Apollo 15 mission to the Moon, astronaut David Scott famously replicated Galileo's physics experiment in which he showed that gravity accelerates objects of different mass at the same rate. Because there is no air resistance for a falling object on the surface of the Moon, even two objects with very different masses and densities should fall at the same rate. David Scott compared a feather and a hammer.\n",
        "\n",
        "You can run the following cell to watch a video of the experiment."
      ],
      "id": "iJ5leR3kHYr2"
    },
    {
      "cell_type": "code",
      "execution_count": null,
      "metadata": {
        "id": "4Q6cRqzpHYr2"
      },
      "outputs": [],
      "source": [
        "from IPython.display import YouTubeVideo\n",
        "# The original URL is:\n",
        "# https://www.youtube.com/watch?v=U7db6ZeLR5s\n",
        "\n",
        "YouTubeVideo(\"U7db6ZeLR5s\")"
      ],
      "id": "4Q6cRqzpHYr2"
    },
    {
      "cell_type": "markdown",
      "metadata": {
        "id": "ujLKmd8tHYr2"
      },
      "source": [
        "Here's the transcript of the video:\n",
        "\n",
        "**167:22:06 Scott**: Well, in my left hand, I have a feather; in my right hand, a hammer. And I guess one of the reasons we got here today was because of a gentleman named Galileo, a long time ago, who made a rather significant discovery about falling objects in gravity fields. And we thought where would be a better place to confirm his findings than on the Moon. And so we thought we'd try it here for you. The feather happens to be, appropriately, a falcon feather for our Falcon. And I'll drop the two of them here and, hopefully, they'll hit the ground at the same time.\n",
        "\n",
        "**167:22:43 Scott**: How about that!\n",
        "\n",
        "**167:22:45 Allen**: How about that! (Applause in Houston)\n",
        "\n",
        "**167:22:46 Scott**: Which proves that Mr. Galileo was correct in his findings."
      ],
      "id": "ujLKmd8tHYr2"
    },
    {
      "cell_type": "markdown",
      "metadata": {
        "id": "Xyr_X_9bHYr2"
      },
      "source": [
        "**Newton's Law.** Using this footage, we can also attempt to confirm another famous bit of physics: Newton's law of universal gravitation. Newton's laws predict that any object dropped near the surface of the Moon should fall\n",
        "\n",
        "$$\\frac{1}{2} G \\frac{M}{R^2} t^2 \\text{ meters}$$\n",
        "\n",
        "after $t$ seconds, where $G$ is a universal constant, $M$ is the moon's mass in kilograms, and $R$ is the moon's radius in meters.  So if we know $G$, $M$, and $R$, then Newton's laws let us predict how far an object will fall over any amount of time.\n",
        "\n",
        "To verify the accuracy of this law, we will calculate the difference between the predicted distance the hammer drops and the actual distance.  (If they are different, it might be because Newton's laws are wrong, or because our measurements are imprecise, or because there are other factors affecting the hammer for which we haven't accounted.)\n",
        "\n",
        "Someone studied the video and estimated that the hammer was dropped 113 cm from the surface. Counting frames in the video, the hammer falls for 1.2 seconds (36 frames)."
      ],
      "id": "Xyr_X_9bHYr2"
    },
    {
      "cell_type": "markdown",
      "metadata": {
        "id": "Sv8ZkOz7HYr2"
      },
      "source": [
        "**Question 3.3.1.** Complete the code in the next cell to fill in the data from the experiment.\n",
        "\n",
        "*Hint:* No computation required; just fill in data from the paragraph above.\n"
      ],
      "id": "Sv8ZkOz7HYr2"
    },
    {
      "cell_type": "code",
      "execution_count": null,
      "metadata": {
        "deletable": false,
        "tags": [],
        "id": "65gFX75SHYr2"
      },
      "outputs": [],
      "source": [
        "# t, the duration of the fall in the experiment, in seconds.\n",
        "# Fill this in.\n",
        "time = ...\n",
        "\n",
        "# The estimated distance the hammer actually fell, in meters.\n",
        "# Fill this in.\n",
        "estimated_distance_m = ..."
      ],
      "id": "65gFX75SHYr2"
    },
    {
      "cell_type": "code",
      "execution_count": null,
      "metadata": {
        "deletable": false,
        "editable": false,
        "id": "UxchyPwHHYr3"
      },
      "outputs": [],
      "source": [
        "grader.check(\"q3_3_1\")"
      ],
      "id": "UxchyPwHHYr3"
    },
    {
      "cell_type": "markdown",
      "metadata": {
        "id": "Bhsu3n_9HYr3"
      },
      "source": [
        "**Question 3.3.2.** Now, complete the code in the next cell to compute the difference between the predicted and estimated distances (in meters) that the hammer fell in this experiment.\n",
        "\n",
        "This just means translating the formula above ($\\frac{1}{2}G\\frac{M}{R^2}t^2$) into Python code.  You'll have to replace each variable in the math formula with the name we gave that number in Python code.\n",
        "\n",
        "*Hint:* Try to use variables you've already defined in question 3.3.1\n"
      ],
      "id": "Bhsu3n_9HYr3"
    },
    {
      "cell_type": "code",
      "execution_count": null,
      "metadata": {
        "deletable": false,
        "tags": [],
        "id": "COjvJoC1HYr3"
      },
      "outputs": [],
      "source": [
        "# First, we've written down the values of the 3 universal constants\n",
        "# that show up in Newton's formula.\n",
        "\n",
        "# G, the universal constant measuring the strength of gravity.\n",
        "gravity_constant = 6.674 * 10**-11\n",
        "\n",
        "# M, the moon's mass, in kilograms.\n",
        "moon_mass_kg = 7.34767309 * 10**22\n",
        "\n",
        "# R, the radius of the moon, in meters.\n",
        "moon_radius_m = 1.737 * 10**6\n",
        "\n",
        "# The distance the hammer should have fallen\n",
        "# over the duration of the fall, in meters,\n",
        "# according to Newton's law of gravity.\n",
        "# The text above describes the formula\n",
        "# for this distance given by Newton's law.\n",
        "# **YOU FILL THIS PART IN.**\n",
        "predicted_distance_m = ...\n",
        "\n",
        "# Here we've computed the difference\n",
        "# between the predicted fall distance and the distance we actually measured.\n",
        "# If you've filled in the above code, this should just work.\n",
        "difference = predicted_distance_m - estimated_distance_m\n",
        "difference"
      ],
      "id": "COjvJoC1HYr3"
    },
    {
      "cell_type": "code",
      "execution_count": null,
      "metadata": {
        "deletable": false,
        "editable": false,
        "id": "tgkfJyjDHYr3"
      },
      "outputs": [],
      "source": [
        "grader.check(\"q3_3_2\")"
      ],
      "id": "tgkfJyjDHYr3"
    },
    {
      "cell_type": "markdown",
      "metadata": {
        "id": "09YHx_-uHYr3"
      },
      "source": [
        "## 4. Calling Functions\n",
        "\n",
        "The most common way to combine or manipulate values in Python is by calling functions. Python comes with many built-in functions that perform common operations.\n",
        "\n",
        "For example, the `abs` function takes a single number as its argument and returns the absolute value of that number. Run the next two cells and see if you understand the output."
      ],
      "id": "09YHx_-uHYr3"
    },
    {
      "cell_type": "code",
      "execution_count": null,
      "metadata": {
        "id": "lASA5s6yHYr3"
      },
      "outputs": [],
      "source": [
        "abs(5)"
      ],
      "id": "lASA5s6yHYr3"
    },
    {
      "cell_type": "code",
      "execution_count": null,
      "metadata": {
        "id": "A-ctAaSaHYr4"
      },
      "outputs": [],
      "source": [
        "abs(-5)"
      ],
      "id": "A-ctAaSaHYr4"
    },
    {
      "cell_type": "markdown",
      "metadata": {
        "id": "R8b5x8zYHYr4"
      },
      "source": [
        "## 4.1. Application: Computing Walking Distances\n",
        "Chunhua is on the corner of 7th Avenue and 42nd Street in Midtown Manhattan, and she wants to know far she'd have to walk to get to Gramercy School on the corner of 10th Avenue and 34th Street.\n",
        "\n",
        "She can't cut across blocks diagonally, since there are buildings in the way.  She has to walk along the sidewalks.  Using the map below, she sees she'd have to walk 3 avenues (long blocks) and 8 streets (short blocks).  In terms of the given numbers, she computed 3 as the difference between 7 and 10, *in absolute value*, and 8 similarly.  \n",
        "\n",
        "Chunhua also knows that blocks in Manhattan are all about 80m by 274m (avenues are farther apart than streets).  So in total, she'd have to walk $(80 \\times |42 - 34| + 274 \\times |7 - 10|)$ meters to get to the park.\n",
        "\n",
        "<img src=\"https://github.com/darioblandon/materials-fa23/blob/main/lab/lab01/map.jpg?raw=1\"/>\n",
        "\n",
        "**Question 4.1.1.** Fill in the line `num_avenues_away = ...` in the next cell so that the cell calculates the distance Chunhua must walk and gives it the name `manhattan_distance`.  Everything else has been filled in for you.  **Use the `abs` function.** Also, be sure to run the test cell afterward to test your code.\n"
      ],
      "id": "R8b5x8zYHYr4"
    },
    {
      "cell_type": "code",
      "execution_count": null,
      "metadata": {
        "deletable": false,
        "tags": [],
        "id": "erwaIJ8qHYr4"
      },
      "outputs": [],
      "source": [
        "# Here's the number of streets away:\n",
        "num_streets_away = abs(42-34)\n",
        "\n",
        "# Compute the number of avenues away in a similar way:\n",
        "num_avenues_away = ...\n",
        "\n",
        "street_length_m = 80\n",
        "avenue_length_m = 274\n",
        "\n",
        "# Now we compute the total distance Chunhua must walk.\n",
        "manhattan_distance = street_length_m*num_streets_away + avenue_length_m*num_avenues_away\n",
        "\n",
        "# We've included this line so that you see the distance you've computed\n",
        "# when you run this cell.\n",
        "# You don't need to change it, but you can if you want.\n",
        "manhattan_distance"
      ],
      "id": "erwaIJ8qHYr4"
    },
    {
      "cell_type": "code",
      "execution_count": null,
      "metadata": {
        "deletable": false,
        "editable": false,
        "id": "x45Dv63jHYr4"
      },
      "outputs": [],
      "source": [
        "grader.check(\"q4_1_1\")"
      ],
      "id": "x45Dv63jHYr4"
    },
    {
      "cell_type": "markdown",
      "metadata": {
        "id": "XyqUnx2oHYr4"
      },
      "source": [
        "##### Multiple arguments\n",
        "Some functions take multiple arguments, separated by commas. For example, the built-in `max` function returns the maximum argument passed to it."
      ],
      "id": "XyqUnx2oHYr4"
    },
    {
      "cell_type": "code",
      "execution_count": null,
      "metadata": {
        "id": "6R2oyxSnHYr4"
      },
      "outputs": [],
      "source": [
        "max(2, -3, 4, -5)"
      ],
      "id": "6R2oyxSnHYr4"
    },
    {
      "cell_type": "markdown",
      "metadata": {
        "id": "v8wEe5IkHYr5"
      },
      "source": [
        "# 5. Understanding Nested Expressions\n",
        "Function calls and arithmetic expressions can themselves contain expressions.  You saw an example in the last question:\n",
        "\n",
        "    abs(42-34)\n",
        "\n",
        "has 2 number expressions in a subtraction expression in a function call expression.  And you probably wrote something like `abs(7-10)` to compute `num_avenues_away`.\n",
        "\n",
        "Nested expressions can turn into complicated-looking code. However, the way in which complicated expressions break down is very regular.\n",
        "\n",
        "Suppose we are interested in lengths of cats that are very unusual.  We'll say that a length is unusual to the extent that it's far away on the number line from the average cat length. An estimate of the average cat length (averaging, we hope, over all cats on Earth today) is **18.2** inches.\n",
        "\n",
        "So if Ravioli is 21.7 inches long, then her length is $|21.7 - 18.2|$, or $3.5$, inches away from the average.  Here's a picture of that:\n",
        "\n",
        "<img src=\"https://github.com/darioblandon/materials-fa23/blob/main/lab/lab01/cat_lengths.png?raw=1\">\n",
        "\n",
        "The source for average cat length is [Wikipedia](https://en.wikipedia.org/wiki/Cat#:~:text=The%20domestic%20cat%20has%20a,(9%20and%2011%20lb).). The listed lengths for cats are not real and may not be plausible (but the names are of real cats!)\n",
        "\n",
        "And here's how we'd write that expression in one line of Python code:"
      ],
      "id": "v8wEe5IkHYr5"
    },
    {
      "cell_type": "code",
      "execution_count": null,
      "metadata": {
        "id": "5zg8fwMFHYr5"
      },
      "outputs": [],
      "source": [
        "abs(21.7 - 18.2)"
      ],
      "id": "5zg8fwMFHYr5"
    },
    {
      "cell_type": "markdown",
      "metadata": {
        "id": "btYLuFM5HYr5"
      },
      "source": [
        "What's going on here?  `abs` takes just one argument, so the stuff inside the parentheses is all part of that *single argument*.  Specifically, the argument is the value of the expression `21.7 - 18.2`.  The value of that expression is `3.5`.  That value is the argument to `abs`.  The absolute value of that is `3.5`, so `3.5` is the value of the full expression `abs(21.7 - 18.2)`.\n",
        "\n",
        "Picture simplifying the expression in several steps:\n",
        "\n",
        "1. `abs(21.7 - 18.2)`\n",
        "2. `abs(3.5)`\n",
        "3. `3.5`\n",
        "\n",
        "In fact, that's basically what Python does to compute the value of the expression."
      ],
      "id": "btYLuFM5HYr5"
    },
    {
      "cell_type": "markdown",
      "metadata": {
        "id": "8_A9o-LRHYr5"
      },
      "source": [
        "**Question 5.1.** Say that Genghis's length is 16.7 inches.  In the next cell, use `abs` to compute the absolute value of the difference between Genghis's length and the average cat length.  Give that value the name `genghis_distance_from_average_in`.\n"
      ],
      "id": "8_A9o-LRHYr5"
    },
    {
      "cell_type": "code",
      "execution_count": null,
      "metadata": {
        "deletable": false,
        "tags": [],
        "id": "tl5YBseWHYr5"
      },
      "outputs": [],
      "source": [
        "# Replace the ... with an expression\n",
        "# to compute the absolute value\n",
        "# of the difference between Genghis's length (16.7 in) and the average cat length.\n",
        "genghis_distance_from_average_in = ...\n",
        "\n",
        "# Again, we've written this here\n",
        "# so that the distance you compute will get printed\n",
        "# when you run this cell.\n",
        "genghis_distance_from_average_in"
      ],
      "id": "tl5YBseWHYr5"
    },
    {
      "cell_type": "code",
      "execution_count": null,
      "metadata": {
        "deletable": false,
        "editable": false,
        "id": "jIwkkmnIHYr6"
      },
      "outputs": [],
      "source": [
        "grader.check(\"q51\")"
      ],
      "id": "jIwkkmnIHYr6"
    },
    {
      "cell_type": "markdown",
      "metadata": {
        "id": "hnRaP3h7HYr6"
      },
      "source": [
        "## 5.1. More Nesting\n",
        "Now say that we want to compute the more unusual of the two cat lengths.  We'll use the function `max`, which (again) takes two numbers as arguments and returns the larger of the two arguments.  Combining that with the `abs` function, we can compute the larger distance from average among the two length:"
      ],
      "id": "hnRaP3h7HYr6"
    },
    {
      "cell_type": "code",
      "execution_count": null,
      "metadata": {
        "id": "9rdcFia9HYr6"
      },
      "outputs": [],
      "source": [
        "# Just read and run this cell.\n",
        "\n",
        "ravioli_length_in = 21.7\n",
        "genghis_length_in = 16.7\n",
        "average_cat_length = 18.2\n",
        "\n",
        "# The larger distance from the average cat length, among the two length:\n",
        "larger_distance_in = max(abs(ravioli_length_in - average_cat_length), abs(genghis_length_in - average_cat_length))\n",
        "\n",
        "# Print out our results in a nice readable format:\n",
        "print(\"The larger distance from the average length among these two cats is\", larger_distance_in, \"inches.\")"
      ],
      "id": "9rdcFia9HYr6"
    },
    {
      "cell_type": "markdown",
      "metadata": {
        "id": "SkQQhg4fHYr6"
      },
      "source": [
        "The line where `larger_distance_in` is computed looks complicated, but we can break it down into simpler components just like we did before.\n",
        "\n",
        "The basic recipe is to repeatedly simplify small parts of the expression:\n",
        "* **Basic expressions:** Start with expressions whose values we know, like names or numbers.\n",
        "    - Examples: `genghis_length_in` or `16.7`.\n",
        "* **Find the next simplest group of expressions:** Look for basic expressions that are directly connected to each other. This can be by arithmetic or as arguments to a function call.\n",
        "    - Example: `genghis_length_in - average_cat_length`.\n",
        "* **Evaluate that group:** Evaluate the arithmetic expression or function call. Use the value computed to replace the group of expressions.  \n",
        "    - Example: `genghis_length_in - average_cat_length` becomes `-1.3`.\n",
        "* **Repeat:** Continue this process, using the value of the previously-evaluated expression as a new basic expression. Stop when we've evaluated the entire expression.\n",
        "    - Example: `abs(-1.3)` becomes `1.3`, and `max(3.5, 1.3)` becomes `3.5`.\n",
        "\n",
        "You can run the next cell to see a slideshow of that process."
      ],
      "id": "SkQQhg4fHYr6"
    },
    {
      "cell_type": "code",
      "execution_count": null,
      "metadata": {
        "id": "f3rXmU7kHYr6"
      },
      "outputs": [],
      "source": [
        "from IPython.display import IFrame\n",
        "IFrame('https://docs.google.com/presentation/d/14EKhQjGe0bUpLwKGo6BrPCtjsORSkY8h4BzAqvXoLTM/embed?start=false&loop=false&delayms=3000', 800, 600)"
      ],
      "id": "f3rXmU7kHYr6"
    },
    {
      "cell_type": "markdown",
      "metadata": {
        "id": "DocW3AbGHYr6"
      },
      "source": [
        "Ok, your turn.\n",
        "\n",
        "**Question 5.1.1.** Given the lengths of Yanay's cats Hummus, Gatkes, and Zeepty, write an expression that computes the smallest difference between any of the three lengths. Your expression shouldn't have any numbers in it, only function calls and the names `hummus`, `gatkes`, and `zeepty`. Give the value of your expression the name `min_length_difference`.\n"
      ],
      "id": "DocW3AbGHYr6"
    },
    {
      "cell_type": "code",
      "execution_count": null,
      "metadata": {
        "deletable": false,
        "tags": [],
        "id": "_GBxDqaGHYr7"
      },
      "outputs": [],
      "source": [
        "# The three cats' lengths, in inches:\n",
        "hummus =  24.5 # Hummus is 24.5 inches long\n",
        "gatkes = 19.7 # Gatkes is 19.7 inches long\n",
        "zeepty = 15.8 # Zeepty is 15.8 inches long\n",
        "\n",
        "# We'd like to look at all 3 pairs of lengths,\n",
        "# compute the absolute difference between each pair,\n",
        "# and then find the smallest of those 3 absolute differences.\n",
        "# This is left to you!\n",
        "# If you're stuck, try computing the value for each step of the process\n",
        "# (like the difference between Hummus's length and Gatkes's length)\n",
        "# on a separate line and giving it a name (like hummus_gatkes_length_diff)\n",
        "min_length_difference = ..."
      ],
      "id": "_GBxDqaGHYr7"
    },
    {
      "cell_type": "code",
      "execution_count": null,
      "metadata": {
        "deletable": false,
        "editable": false,
        "id": "ccdPUnSfHYr7"
      },
      "outputs": [],
      "source": [
        "grader.check(\"q5_1_1\")"
      ],
      "id": "ccdPUnSfHYr7"
    },
    {
      "cell_type": "markdown",
      "metadata": {
        "id": "gk_lZRINHYr7"
      },
      "source": [
        "You're done with Lab 1!\n",
        "\n",
        "**Important submission information:** Be sure to run the tests and verify that they all pass, then choose **Save Notebook** from the **File** menu, then **run the final cell** and click the link to download the zip file. Then, go to [Gradescope](https://www.gradescope.com/courses/576157) and submit the zip file to the corresponding assignment. The name of this assignment is \"Lab 01 Autograder\".\n",
        "\n",
        "**Once you have submitted, your Gradescope assignment should look like the following image if you have passed all tests.** <span style=\"color: red\">**Make sure that you see \"All test cases passed\" to ensure your assignment was submitted correctly.**</span> If your submission does not look like this, then you likely did not upload your notebook correctly.\n",
        "\n",
        "<img src=\"https://github.com/darioblandon/materials-fa23/blob/main/lab/lab01/gradescope.png?raw=1\">\n",
        "\n",
        "Dash wanted to congratulate you and welcome you to Data 8!\n",
        "\n",
        "<img src=\"https://github.com/darioblandon/materials-fa23/blob/main/lab/lab01/dash.JPG?raw=1\" alt=\"drawing\" width=\"300\"/>"
      ],
      "id": "gk_lZRINHYr7"
    },
    {
      "cell_type": "markdown",
      "metadata": {
        "deletable": false,
        "editable": false,
        "id": "ouWXEpIGHYr7"
      },
      "source": [
        "## Submission\n",
        "\n",
        "Make sure you have run all cells in your notebook in order before running the cell below, so that all images/graphs appear in the output. The cell below will generate a zip file for you to submit. **Please save before exporting!**"
      ],
      "id": "ouWXEpIGHYr7"
    },
    {
      "cell_type": "code",
      "execution_count": null,
      "metadata": {
        "deletable": false,
        "editable": false,
        "id": "2to9wd_VHYr7"
      },
      "outputs": [],
      "source": [
        "# Save your notebook first, then run this cell to export your submission.\n",
        "grader.export(pdf=False, run_tests=True)"
      ],
      "id": "2to9wd_VHYr7"
    },
    {
      "cell_type": "markdown",
      "metadata": {
        "id": "dS_1O3kTHYr8"
      },
      "source": [
        ""
      ],
      "id": "dS_1O3kTHYr8"
    }
  ],
  "metadata": {
    "kernelspec": {
      "display_name": "Python 3",
      "language": "python",
      "name": "python3"
    },
    "language_info": {
      "codemirror_mode": {
        "name": "ipython",
        "version": 3
      },
      "file_extension": ".py",
      "mimetype": "text/x-python",
      "name": "python",
      "nbconvert_exporter": "python",
      "pygments_lexer": "ipython3",
      "version": "3.11.2"
    },
    "otter": {
      "OK_FORMAT": true,
      "tests": {
        "q0": {
          "name": "q0",
          "points": null,
          "suites": [
            {
              "cases": [
                {
                  "code": ">>> secret_word == \"welcome\"\nTrue",
                  "hidden": false,
                  "locked": false
                }
              ],
              "scored": true,
              "setup": "",
              "teardown": "",
              "type": "doctest"
            }
          ]
        },
        "q3_1_2": {
          "name": "q3_1_2",
          "points": null,
          "suites": [
            {
              "cases": [
                {
                  "code": ">>> # It looks like you didn't give anything the name\n>>> # seconds_in_a_decade.  Maybe there's a typo, or maybe you\n>>> # just need to run the cell below Question 3.2 where you defined\n>>> # seconds_in_a_decade.  (Click that cell and then click the \"run\n>>> # cell\" button in the menu bar above.)\n>>> 'seconds_in_a_decade' in vars()\nTrue",
                  "hidden": false,
                  "locked": false
                },
                {
                  "code": ">>> # It looks like you didn't change the cell to define\n>>> # seconds_in_a_decade appropriately.  It should be a number,\n>>> # computed using Python's arithmetic.  For example, this is\n>>> # almost right:\n>>> #   seconds_in_a_decade = 10*365*24*60*60\n>>> seconds_in_a_decade != ...\nTrue",
                  "hidden": false,
                  "locked": false
                },
                {
                  "code": ">>> # It looks like you didn't account for leap years.\n>>> # There were 2 leap years and 8 non-leap years in this period.\n>>> # Leap years have 366 days instead of 365.\n>>> seconds_in_a_decade != 315360000\nTrue",
                  "hidden": false,
                  "locked": false
                },
                {
                  "code": ">>> seconds_in_a_decade == 315532800\nTrue",
                  "hidden": false,
                  "locked": false
                }
              ],
              "scored": true,
              "setup": "",
              "teardown": "",
              "type": "doctest"
            }
          ]
        },
        "q3_3_1": {
          "name": "q3_3_1",
          "points": null,
          "suites": [
            {
              "cases": [
                {
                  "code": ">>> # Fill in the row\n>>> #   time = ...\n>>> # with something like:\n>>> #   time = 4.567\n>>> # (except with the right number).\n>>> time != ...\nTrue",
                  "hidden": false,
                  "locked": false
                },
                {
                  "code": ">>> # Read the text above the question to see what\n>>> # time should be. \n>>> round(time, 5)\n1.2",
                  "hidden": false,
                  "locked": false
                },
                {
                  "code": ">>> # Fill in the row\n>>> #   estimated_distance_m = ...\n>>> # with something like:\n>>> #   estimated_distance_m = 4.567\n>>> # (except with the right number). \n>>> estimated_distance_m != ...\nTrue",
                  "hidden": false,
                  "locked": false
                },
                {
                  "code": ">>> # Note that the units are meters, but the text used\n>>> # centimeters.\n>>> estimated_distance_m != 113\nTrue",
                  "hidden": false,
                  "locked": false
                },
                {
                  "code": ">>> # Read the text above the question to see what\n>>> # estimated_distance_m should be.\n>>> round(estimated_distance_m, 5)\n1.13",
                  "hidden": false,
                  "locked": false
                }
              ],
              "scored": true,
              "setup": "",
              "teardown": "",
              "type": "doctest"
            }
          ]
        },
        "q3_3_2": {
          "name": "q3_3_2",
          "points": null,
          "suites": [
            {
              "cases": [
                {
                  "code": ">>> # Fill in the line that currently says\n>>> #   predicted_distance_m = ...\n>>> # in the cell above.\n>>> predicted_distance_m != ...\nTrue",
                  "hidden": false,
                  "locked": false
                },
                {
                  "code": ">>> # Compute predicted_distance_m using the formula in the text\n>>> # above.  Hint: it should start with something like this:\n>>> #   predicted_distance_m = (1/2) * gravity_constant ...\n>>> round(predicted_distance_m, 5)\n1.17022",
                  "hidden": false,
                  "locked": false
                },
                {
                  "code": ">>> round(difference, 5)\n0.04022",
                  "hidden": false,
                  "locked": false
                }
              ],
              "scored": true,
              "setup": "",
              "teardown": "",
              "type": "doctest"
            }
          ]
        },
        "q4_1_1": {
          "name": "q4_1_1",
          "points": null,
          "suites": [
            {
              "cases": [
                {
                  "code": ">>> # Fill in the line\n>>> #   num_avenues_away = ...\n>>> # in the cell above. \n>>> num_avenues_away != ...\nTrue",
                  "hidden": false,
                  "locked": false
                },
                {
                  "code": ">>> # Remember to compute the absolute value of 7-10.  Traveling \n>>> # \"-3 blocks\" doesn't really make sense!\n>>> num_avenues_away != -3\nTrue",
                  "hidden": false,
                  "locked": false
                },
                {
                  "code": ">>> num_avenues_away\n3",
                  "hidden": false,
                  "locked": false
                },
                {
                  "code": ">>> manhattan_distance\n1462",
                  "hidden": false,
                  "locked": false
                }
              ],
              "scored": true,
              "setup": "",
              "teardown": "",
              "type": "doctest"
            }
          ]
        },
        "q51": {
          "name": "q51",
          "points": null,
          "suites": [
            {
              "cases": [
                {
                  "code": ">>> round(genghis_distance_from_average_in, 3)\n1.5",
                  "hidden": false,
                  "locked": false
                }
              ],
              "scored": true,
              "setup": "",
              "teardown": "",
              "type": "doctest"
            }
          ]
        },
        "q5_1_1": {
          "name": "q5_1_1",
          "points": null,
          "suites": [
            {
              "cases": [
                {
                  "code": ">>> round(min_length_difference, 5)\n3.9",
                  "hidden": false,
                  "locked": false
                }
              ],
              "scored": true,
              "setup": "",
              "teardown": "",
              "type": "doctest"
            }
          ]
        }
      }
    },
    "colab": {
      "provenance": [],
      "include_colab_link": true
    }
  },
  "nbformat": 4,
  "nbformat_minor": 5
}