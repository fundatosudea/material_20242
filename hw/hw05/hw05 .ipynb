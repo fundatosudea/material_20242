{
  "cells": [
    {
      "cell_type": "code",
      "execution_count": null,
      "metadata": {
        "deletable": false,
        "editable": false,
        "id": "mHXiHoILVCUm"
      },
      "outputs": [],
      "source": [
        "# Initialize Otter\n",
        "import otter\n",
        "grader = otter.Notebook(\"hw05.ipynb\")"
      ],
      "id": "mHXiHoILVCUm"
    },
    {
      "cell_type": "markdown",
      "metadata": {
        "id": "TnSz2PFyVCUt"
      },
      "source": [
        "# Tarea 5: Aplicando Funciones e Iteraciones\n",
        "\n",
        "Por favor complete este notebook llenando las celdas que se especifican. Antes de comenzar, ejecute la celda anterior para cargar las pruebas."
      ],
      "id": "TnSz2PFyVCUt"
    },
    {
      "cell_type": "markdown",
      "metadata": {
        "id": "kITIMGDPVCUv"
      },
      "source": [
        "**Recursos útiles:**\n",
        "- [Referencia de Python](http://data8.org/fa23/reference/): Hoja de trucos y métodos útiles de métodos de arreglos y tablas.\n",
        "\n",
        "**Lecturas recomendadas**:\n",
        "\n",
        "*[Guía de pensamiento tabular](https://drive.google.com/file/d/1D9PXUgDLXjFBXZoyGVSKpzk0nKQziDTP/view?usp=sharing)\n",
        "* [Aplicando Funciones](https://www.inferentialthinking.com/chapters/08/1/Applying_a_Function_to_a_Column.html)\n",
        "* [Condicionales](https://www.inferentialthinking.com/chapters/09/1/Conditional_Statements.html)\n",
        "* [Iteraciones](https://www.inferentialthinking.com/chapters/09/2/Iteration.html)"
      ],
      "id": "kITIMGDPVCUv"
    },
    {
      "cell_type": "markdown",
      "metadata": {
        "id": "xwJy4o-AVCUv"
      },
      "source": [
        "Complete este notebook llenando las celdas que se indican. **Antes de comenzar, ejecute la celda de abajo para configurar el notebook importando algunas librerías que serán útiles.** Cada vez que inicie su servidor, necesitará ejecutar esta celda de nuevo.\n",
        "\n",
        "Para todos los problemas en los que deba escribir explicaciones y oraciones, **deberá** proporcionar la respuesta en el espacio designado. Además, a lo largo de esta tarea y de todas las futuras, ¡asegúrese de no reasignar variables en todo el notebook! Por ejemplo, si usa `temperatura` en su respuesta a una pregunta, no la reasigne más adelante. De lo contrario, ¡reprobará las pruebas que creía que estaba aprobando anteriormente!\n",
        "\n",
        "\n",
        "**Fecha de entrega:**\n",
        "\n",
        "Esta tarea deberá ser entregada ** ___ a las ___**. Si quiere puntos extra, entréguela el (un día antes). Trabajo que se entregue por fuera del plazo no será recibido.\n",
        "\n",
        "\n",
        "**Nota: Esta tarea tiene pruebas ocultas. Eso significa que aunque los exámenes indiquen que se aprobó al 100%, no significa que su calificación final será del 100%. Realizaremos más pruebas ocultas de corrección una vez que todos entreguen la tarea.**\n",
        "\n",
        "\n",
        "Evite compartir respuestas o hacer copia con sus compañeros. Establezca en cambio discusiones grupales con otros estudiantes y docentes del curso.\n",
        "\n",
        "Si desea contar con el tiempo necesario para pedir ayuda o asesoría en caso de estar atascado, se recomienda iniciar temprano con la realización de las tareas. Tenga en cuenta el cronograma del curso y de entregas."
      ],
      "id": "xwJy4o-AVCUv"
    },
    {
      "cell_type": "markdown",
      "metadata": {
        "id": "vLhLMuTHVCUx"
      },
      "source": [
        "**Question 1.** The DATA C8 Fall 2023 Midterm Exam will take place on **Friday, October 13th from 7PM - 9PM PT**. Please complete this form so that we can best accommodate you for the midterm.\n",
        "_**All students are required to fill out this form**_. The deadline to submit this form is **Saturday, October 7th by 11:59PM.** The link can be found below. **(1 Point)**\n",
        "\n",
        "- [Fall 2023 Midterm Accommodations Survey](https://forms.gle/havE742QdpzJxvvq7)"
      ],
      "id": "vLhLMuTHVCUx"
    },
    {
      "cell_type": "markdown",
      "metadata": {
        "id": "-Ak9hRd8VCUx"
      },
      "source": [
        "Assign `secret_phrase` to the secret phrase given at the end of the accommodations survey. Make sure the phrase is in quotes (i.e. is a string)!\n"
      ],
      "id": "-Ak9hRd8VCUx"
    },
    {
      "cell_type": "code",
      "execution_count": null,
      "metadata": {
        "tags": [],
        "id": "8S_2pptBVCUy"
      },
      "outputs": [],
      "source": [
        "secret_phrase = ..."
      ],
      "id": "8S_2pptBVCUy"
    },
    {
      "cell_type": "code",
      "execution_count": null,
      "metadata": {
        "deletable": false,
        "editable": false,
        "id": "2jk_MWcJVCUy"
      },
      "outputs": [],
      "source": [
        "grader.check(\"q0_1\")"
      ],
      "id": "2jk_MWcJVCUy"
    },
    {
      "cell_type": "markdown",
      "metadata": {
        "id": "-3IVRwgeVCUz"
      },
      "source": [
        "## 1. Temporada de Fútbol 2021"
      ],
      "id": "-3IVRwgeVCUz"
    },
    {
      "cell_type": "code",
      "execution_count": null,
      "metadata": {
        "id": "pI4zhPvgVCUz"
      },
      "outputs": [],
      "source": [
        "# Ejecute esta celda para configurar el notebook. No la cambie o modifique.\n",
        "\n",
        "# Estas líneas importan los módulos Numpy y Datascience.\n",
        "\n",
        "\n",
        "import numpy as np\n",
        "from datascience import *\n",
        "\n",
        "# Estas líneas hacen algo de magia en las gráficas.\n",
        "import matplotlib\n",
        "%matplotlib inline\n",
        "import matplotlib.pyplot as plt\n",
        "plt.style.use('fivethirtyeight')\n",
        "import warnings\n",
        "warnings.simplefilter('ignore', FutureWarning)"
      ],
      "id": "pI4zhPvgVCUz"
    },
    {
      "cell_type": "markdown",
      "metadata": {
        "id": "E3HttykSVCUz"
      },
      "source": [
        "James está tratando de analizar cuán bien se ha deseempeñado el equipo de fútbol de California en la temporada del 2021. Un juego de fútbol está dividido en cuatro períodos, llamados cuartos. El número de puntos que el equipo anotó en cada cuarto y el número de puntos que anotó su oponente en cada cuarto están en la tabla llamada `cal_fb.csv`."
      ],
      "id": "E3HttykSVCUz"
    },
    {
      "cell_type": "code",
      "execution_count": null,
      "metadata": {
        "deletable": false,
        "editable": false,
        "id": "pim9vrf4VCU0"
      },
      "outputs": [],
      "source": [
        "# Solo ejecute esta celda\n",
        "# Lectura del archivo cal_fb csv\n",
        "games = Table().read_table(\"cal_fb.csv\")\n",
        "games.show()"
      ],
      "id": "pim9vrf4VCU0"
    },
    {
      "cell_type": "markdown",
      "metadata": {
        "id": "aeZE7kDOVCU0"
      },
      "source": [
        "Comencemos encontrando el total de puntos que cada equipo anotó en un juego.\n",
        "\n",
        "\n",
        "**Pregunta 1.** Escriba una función llamada `sum_scores`. Esta deberá tomar cuatro argumentos, donde cada argumento representa un número entero con el puntaje de cada equipo en cada cuarto. Esta deberá regresar el puntaje total de cada equipo para ese juego. **(2 Puntos)**\n",
        "\n",
        "*Hint:* No sobrepiense esta pregunta.\n",
        "\n"
      ],
      "id": "aeZE7kDOVCU0"
    },
    {
      "cell_type": "code",
      "execution_count": null,
      "metadata": {
        "tags": [],
        "id": "YmUFrc1QVCU1"
      },
      "outputs": [],
      "source": [
        "def sum_scores(..., ..., ..., ...):\n",
        "    '''Regresa el puntaje total anotado por un equipo en los cuartos'''\n",
        "    ...\n",
        "\n",
        "sum_scores(14, 7, 3, 0) #No cambie esta línea"
      ],
      "id": "YmUFrc1QVCU1"
    },
    {
      "cell_type": "code",
      "execution_count": null,
      "metadata": {
        "deletable": false,
        "editable": false,
        "id": "fHrjTS-LVCU1"
      },
      "outputs": [],
      "source": [
        "grader.check(\"q1_1\")"
      ],
      "id": "fHrjTS-LVCU1"
    },
    {
      "cell_type": "markdown",
      "metadata": {
        "id": "oi6qnauHVCU1"
      },
      "source": [
        "**Pregunta 2.** Cree una nueva tabla `final_scores` con tres columnas en este orden específico: `Opponent`, `Cal Score`, `Opponent Score`. Usted deberá crear  las columnas `Cal Score` y `Opponent Score`. Use la función `sum_scores` que definió antes para resolver este problema. **(5 Puntos)**\n",
        "\n",
        "*Hint:* Si quiere aplicar una función que toma múltiples argumentos, puede pasar múltuples nombres de columnas como argumentos en `tbl.apply()`. Los valores de las columnas serán entregados a los correspondientes argumentos de la función. Eche un vistazo a la Referencia de Python y a la demostración de la clase para conocer la sintaxis.\n",
        "\n",
        "*Nota:* Si está encontrando problemas creando `final_scores`, revise que `cal_scores` y `opp_scores` entreguen los resultados que usted desee. Si está obteniendo un error `TypeError`, revise la [Referencia de Python ](https://www.data8.org/fa23/reference/) para ver si los inputs/outputs de la función sean lo que usted está esperando.\n",
        "\n"
      ],
      "id": "oi6qnauHVCU1"
    },
    {
      "cell_type": "code",
      "execution_count": null,
      "metadata": {
        "tags": [],
        "id": "qAWitfYtVCU2"
      },
      "outputs": [],
      "source": [
        "cal_scores = ...\n",
        "opp_scores = ...\n",
        "final_scores = ...\n",
        "final_scores"
      ],
      "id": "qAWitfYtVCU2"
    },
    {
      "cell_type": "code",
      "execution_count": null,
      "metadata": {
        "deletable": false,
        "editable": false,
        "id": "xa4TL61zVCU2"
      },
      "outputs": [],
      "source": [
        "grader.check(\"q1_2\")"
      ],
      "id": "xa4TL61zVCU2"
    },
    {
      "cell_type": "markdown",
      "metadata": {
        "id": "sncCDJqbVCU2"
      },
      "source": [
        "\n",
        "Podemos obtener filas específicas de una tabla. Puede usar `tbl.row(n)` para obtener la `n`-ésima fila de una tabla. `row.item(\"column_name\")` le permitirá seleccionar el elemento que corresponda a la `column_name` en una fila particular. Acá va un ejemplo:\n",
        "\n"
      ],
      "id": "sncCDJqbVCU2"
    },
    {
      "cell_type": "code",
      "execution_count": null,
      "metadata": {
        "deletable": false,
        "editable": false,
        "id": "wofY3srhVCU2"
      },
      "outputs": [],
      "source": [
        "# Solo ejecute esta celda\n",
        "\n",
        "games.row(9) # <-- esta línea entrega un objeto con las filas."
      ],
      "id": "wofY3srhVCU2"
    },
    {
      "cell_type": "code",
      "execution_count": null,
      "metadata": {
        "deletable": false,
        "editable": false,
        "id": "XsprC6wvVCU3"
      },
      "outputs": [],
      "source": [
        "# Solo ejecute esta celda\n",
        "\n",
        "games.row(9).item(\"Cal 4Q\") # <-- esto entregará un elemento (por ejemplo un entero) de un objeto fila."
      ],
      "id": "XsprC6wvVCU3"
    },
    {
      "cell_type": "markdown",
      "metadata": {
        "id": "mScYUrBGVCU3"
      },
      "source": [
        "**Pregunta 3.** Queremos verpara un partido en particular, así California haya perdido o no. Escriba una función llamada `did_cal_lose`. Esta deberá recibir como argumento: un **objeto fila** de la tabla `final_scores`.Esta deberá regresar `True` si el punjtaje del equipo de California fue menor que le del oponente, y `False` si fue mayor. **(5 Puntos)**\n",
        "\n",
        "*Nota 1*: \"Objeto fila\" significa una fila de la tabla extraída (detrás de escenas) usando `tbl.row(index)`que contiene todos los datos de una fila en específico. **No** es el índice de una fila. No intente llamar a `final_scores.row(row)` dentro de la función.\n",
        "\n",
        "\n",
        "*Nota 2*: Si sigue confundido sobre los objetos fila,. intente imprimir `final_scores.row(1)` en una nueva celda para visualizar lo que entrega. Esta línea de código está está tomando el objeto fila ubicado en el índice 1 de la tabla `final_scores` y la entrega. Cuando usted lo muestra en una celda, verá que no está ubicado en una tabla, sino que es un objeto aparte por sí mismo.\n"
      ],
      "id": "mScYUrBGVCU3"
    },
    {
      "cell_type": "code",
      "execution_count": null,
      "metadata": {
        "tags": [],
        "id": "Ep_6hUuxVCU3"
      },
      "outputs": [],
      "source": [
        "def did_cal_lose(row):\n",
        "    ...\n",
        "\n",
        "did_cal_lose(final_scores.row(1)) #NO CAMBIE ESTA LINEA"
      ],
      "id": "Ep_6hUuxVCU3"
    },
    {
      "cell_type": "code",
      "execution_count": null,
      "metadata": {
        "deletable": false,
        "editable": false,
        "id": "1N_jvF2SVCU3"
      },
      "outputs": [],
      "source": [
        "grader.check(\"q1_3\")"
      ],
      "id": "1N_jvF2SVCU3"
    },
    {
      "cell_type": "markdown",
      "metadata": {
        "id": "0pXcub8vVCU3"
      },
      "source": [
        "**Pregunta 4.** James quiere ver cómo se desempeñó el equipo de California contra cada oponente durante la temporada 2021. Usando la tabla `final_scores`:\n",
        "\n",
        "1. Asigne `results_array` a un arreglo de valores `True` y `False` de acuerdo a si el equipo de California perdió o no.\n",
        "2. Agregue `results_array` a la tabla `final_scores` en una columna llamada `Results` y asigne esta tabla a `final_scores_with_results`.\n",
        "3. Luego, respectivamente, asigne el número de victorias o derrotas del equipo de California a `cal_wins` y `cal_losses`.\n",
        "\n",
        "\n",
        "**(10 Puntos)**\n",
        "\n",
        "*Hint*: `tbl.apply()` puede ser útil. Vaya a la [Referencia de Python](https://www.data8.org/fa23/reference/) si no está seguro de cómo funciona.\n"
      ],
      "id": "0pXcub8vVCU3"
    },
    {
      "cell_type": "code",
      "execution_count": null,
      "metadata": {
        "tags": [],
        "id": "wd2bBpeZVCU4"
      },
      "outputs": [],
      "source": [
        "results_array = ...\n",
        "final_scores_with_results = ...\n",
        "cal_losses = ...\n",
        "cal_wins = ...\n",
        "\n",
        "# No borre o cambie la siguiente línea:\n",
        "print(f\"En la temporada 2021, el equipo de California ganó {cal_wins} partidos y perdió {cal_losses} partidos. Go Bears! 🐻\")"
      ],
      "id": "wd2bBpeZVCU4"
    },
    {
      "cell_type": "code",
      "execution_count": null,
      "metadata": {
        "deletable": false,
        "editable": false,
        "id": "jeeXxTcOVCU4"
      },
      "outputs": [],
      "source": [
        "grader.check(\"q1_4\")"
      ],
      "id": "jeeXxTcOVCU4"
    },
    {
      "cell_type": "markdown",
      "metadata": {
        "id": "EIH3iCKhVCU4"
      },
      "source": [
        "## 2. Unrolling Loops (Opcional)"
      ],
      "id": "EIH3iCKhVCU4"
    },
    {
      "cell_type": "markdown",
      "metadata": {
        "id": "9opiMKQKVCU4"
      },
      "source": [
        "**Esta sección de la tarea 5 es opcional. Hágala por su propia práctica, pero no será incorporada a la nota**\n",
        "\n",
        "\n",
        "\n",
        "\"Desenrollar\" un ciclo `for` significa escribir manualmente todo el código que este ejecuta. El resultado es código que hace lo mismo que el ciclo, pero sin la ayuda de la estructura del ciclo. TPor ejemplo, para el siguiente ciclo:\n",
        "\n",
        "    for num in np.arange(3):\n",
        "        print(\"El número es\", num)\n",
        "\n",
        "La versión desenrollada se ve así:\n",
        "\n",
        "    print(\"El número es\", 0)\n",
        "    print(\"El número es\", 1)\n",
        "    print(\"El número es\", 2)\n",
        "\n",
        "\n",
        "Desenrollar un ciclo `for` es una gran forma de entender lo que hace el ciclo en cada paso. En este ejercicio practicará desenrollando un ciclo `for`.\n",
        "\n",
        "\n",
        "En la pregunta de abajo, escriba un código que haga lo mismo que el código dado, pero con los ciclos `for` desenrollados. Es una buena idea ejecutar su respuesta y el código original para verificar que hagan lo mismo."
      ],
      "id": "9opiMKQKVCU4"
    },
    {
      "cell_type": "markdown",
      "metadata": {
        "deletable": false,
        "id": "EiQ6ZP56VCU5"
      },
      "source": [
        "**Pregunta opcional 1.** Desenrolle el siguiente código\n"
      ],
      "id": "EiQ6ZP56VCU5"
    },
    {
      "cell_type": "code",
      "execution_count": null,
      "metadata": {
        "id": "oJQ4UelXVCU5"
      },
      "outputs": [],
      "source": [
        "for joke_iteration in range(3):\n",
        "    print(\"Knock. \" * (joke_iteration + 1))\n",
        "    print(\"Who's there?\")\n",
        "    print(\"Banana.\")\n",
        "    print(\"Banana who?\")\n",
        "print(\"Knock, knock.\")\n",
        "print(\"Who's there?\")\n",
        "print(\"Orange.\")\n",
        "print(\"Orange who?\")\n",
        "print(\"Orange you glad I didn't say banana?\")"
      ],
      "id": "oJQ4UelXVCU5"
    },
    {
      "cell_type": "code",
      "execution_count": null,
      "metadata": {
        "for_assignment_type": "solution",
        "tags": [],
        "id": "m26hmA44VCU5"
      },
      "outputs": [],
      "source": [
        "..."
      ],
      "id": "m26hmA44VCU5"
    },
    {
      "cell_type": "markdown",
      "metadata": {
        "id": "Lss5UFkJVCU5"
      },
      "source": [
        "¡Terminó la tarea 5!  \n",
        "\n",
        "**Pasos importantes para la entrega:**\n",
        "1. Corra las pruebas y verifique que todas se ejecuten.\n",
        "2. Seleccione **Guardar Notebook** desde el menú **Archivo**, para luego **ejecutar la última celda**.\n",
        "3. De click en el link para descargar el archivo zip.\n",
        "4. Vaya a [Gradescope](https://www.gradescope.com/courses/576157) y cargue el archivo zip correspondiente a esta tarea.\n",
        "\n",
        "**Es su responsabilidad asegurarse que su trabajo se guarde antes de correr la última celda.**"
      ],
      "id": "Lss5UFkJVCU5"
    },
    {
      "cell_type": "markdown",
      "metadata": {
        "id": "cHeriT0AVCU6"
      },
      "source": [
        "\n",
        "\n",
        "## Estudiantes de Fundamentos de Ciencia de Datos\n",
        "\n",
        "¡Felicitaciones por terminar la tarea 5!\n",
        "\n",
        "<img src=\"./mel.jpeg\" width=\"30%\" alt=\"Close up picture of dog smiling, sitting in leaves.\"/>\n",
        "\n",
        "Mascota de la semana: **Mel**"
      ],
      "id": "cHeriT0AVCU6"
    },
    {
      "cell_type": "markdown",
      "metadata": {
        "deletable": false,
        "editable": false,
        "id": "8kxLPd2MVCU6"
      },
      "source": [
        "## Entrega\n",
        "\n",
        "Asegúrese que ha ejecutado todas las celdas en su notebook en orden antes de ejecutar la celda de abajo. De esta forma todas las imágenes/gráficas apareceran en la salida. La celda de abajo va a generar un archivo con extensión .zip para que usted lo entregue. **¡Por favor guarde antes de exportar!**"
      ],
      "id": "8kxLPd2MVCU6"
    },
    {
      "cell_type": "code",
      "execution_count": null,
      "metadata": {
        "deletable": false,
        "editable": false,
        "id": "Oy-5heSnVCU6"
      },
      "outputs": [],
      "source": [
        "# Guarde primero su notebook, luego ejecute esta celda para obtener el archivo a\n",
        "# entregar.\n",
        "grader.export(pdf=False, run_tests=True)"
      ],
      "id": "Oy-5heSnVCU6"
    },
    {
      "cell_type": "markdown",
      "metadata": {
        "id": "YG7sEcorVCU6"
      },
      "source": [],
      "id": "YG7sEcorVCU6"
    }
  ],
  "metadata": {
    "kernelspec": {
      "display_name": "Python 3",
      "language": "python",
      "name": "python3"
    },
    "language_info": {
      "codemirror_mode": {
        "name": "ipython",
        "version": 3
      },
      "file_extension": ".py",
      "mimetype": "text/x-python",
      "name": "python",
      "nbconvert_exporter": "python",
      "pygments_lexer": "ipython3",
      "version": "3.11.2"
    },
    "otter": {
      "OK_FORMAT": true,
      "tests": {
        "q0_1": {
          "name": "q0_1",
          "points": [
            0
          ],
          "suites": [
            {
              "cases": [
                {
                  "code": ">>> # Make sure that your answer is a string\n>>> type(secret_phrase) == str \nTrue",
                  "hidden": false,
                  "locked": false
                }
              ],
              "scored": true,
              "setup": "",
              "teardown": "",
              "type": "doctest"
            }
          ]
        },
        "q1_1": {
          "name": "q1_1",
          "points": [
            1,
            1
          ],
          "suites": [
            {
              "cases": [
                {
                  "code": ">>> sum_scores(2, 3, 6, 1)\n12",
                  "hidden": false,
                  "locked": false
                },
                {
                  "code": ">>> sum_scores(-2,3,5,-10)\n-4",
                  "hidden": false,
                  "locked": false
                }
              ],
              "scored": true,
              "setup": "",
              "teardown": "",
              "type": "doctest"
            }
          ]
        },
        "q1_2": {
          "name": "q1_2",
          "points": [
            0,
            0
          ],
          "suites": [
            {
              "cases": [
                {
                  "code": ">>> final_scores.num_columns\n3",
                  "hidden": false,
                  "locked": false
                },
                {
                  "code": ">>> set(['Opponent', 'Cal Score', 'Opponent Score']) == set(final_scores.labels)\nTrue",
                  "hidden": false,
                  "locked": false
                }
              ],
              "scored": true,
              "setup": "",
              "teardown": "",
              "type": "doctest"
            }
          ]
        },
        "q1_3": {
          "name": "q1_3",
          "points": [
            0,
            2
          ],
          "suites": [
            {
              "cases": [
                {
                  "code": ">>> 'did_cal_lose' in globals()\nTrue",
                  "hidden": false,
                  "locked": false
                },
                {
                  "code": ">>> did_cal_lose(final_scores.row(1))\nTrue",
                  "hidden": false,
                  "locked": false
                }
              ],
              "scored": true,
              "setup": "",
              "teardown": "",
              "type": "doctest"
            }
          ]
        },
        "q1_4": {
          "name": "q1_4",
          "points": [
            0,
            0
          ],
          "suites": [
            {
              "cases": [
                {
                  "code": ">>> 0 <= cal_wins <= 10\nTrue",
                  "hidden": false,
                  "locked": false
                },
                {
                  "code": ">>> 0 <= cal_losses <= 10\nTrue",
                  "hidden": false,
                  "locked": false
                }
              ],
              "scored": true,
              "setup": "",
              "teardown": "",
              "type": "doctest"
            }
          ]
        }
      }
    },
    "colab": {
      "provenance": [],
      "collapsed_sections": [
        "-3IVRwgeVCUz"
      ]
    }
  },
  "nbformat": 4,
  "nbformat_minor": 5
}