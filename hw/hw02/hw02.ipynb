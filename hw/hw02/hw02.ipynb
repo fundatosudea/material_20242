{
  "cells": [
    {
      "cell_type": "code",
      "execution_count": null,
      "metadata": {
        "deletable": false,
        "editable": false,
        "id": "c4ooJshmHPo3"
      },
      "outputs": [],
      "source": [
        "# Initialize Otter\n",
        "import otter\n",
        "grader = otter.Notebook(\"hw02.ipynb\")"
      ],
      "id": "c4ooJshmHPo3"
    },
    {
      "cell_type": "markdown",
      "metadata": {
        "id": "iAWeUnrwHPo5"
      },
      "source": [
        "# Tarea 2: Arreglos y Tablas\n",
        "Por favor complete este notebook llenando las celdas que se piden. Antes de comenzar, ejecute la celda previa para cargar las pruebas dadas.\n",
        "\n"
      ],
      "id": "iAWeUnrwHPo5"
    },
    {
      "cell_type": "code",
      "execution_count": null,
      "metadata": {
        "id": "Mfc2hBcwHPo7"
      },
      "outputs": [],
      "source": [
        "# Ejecute esta celda e ignore lo que esta arroja.Esto es solo para verificar que ejecutó la primera celda.\n",
        "# Si obtuene un NameError, ¡por favor corra la primera celca de este notebook!\n",
        "\n",
        "grader"
      ],
      "id": "Mfc2hBcwHPo7"
    },
    {
      "cell_type": "markdown",
      "metadata": {
        "id": "F7Pmjz_2HPo8"
      },
      "source": [
        "**Recursos útiles:**\n",
        "- [Referencia de Python](http://data8.org/fa23/reference/): Hoja de referencia de métodos útiles de matrices y tablas utilizados en Data 8.\n",
        "\n",
        "**Lecturas recomendadas:**\n",
        "- [Arreglos](https://inferentialthinking.com/chapters/05/1/Arrays.html)\n",
        "- [Guía de arreglos de Data 8](https://drive.google.com/file/d/1vTduvivHyEX7cdpMCq9B2jC4iy6A3Tru/view?usp=sharing)\n",
        "- [¿Qué es la ciencia de datos?](http://www.inferentialthinking.com/chapters/01/what-is-data-science.html)\n",
        "- [Causalidad y experimentos](http://www.inferentialthinking.com/chapters/02/causality-and-experiments.html)\n",
        "- [Programando en Python](http://www.inferentialthinking.com/chapters/03/programming-in-python.html)\n",
        "\n",
        "Para todos los problemas en los que deba escribir explicaciones y oraciones, **deberá** proporcionar la respuesta en el espacio designado. Además, a lo largo de esta tarea y de todas las futuras, ¡asegúrese de no reasignar variables en todo el notebook! Por ejemplo, si usa `temperatura` en su respuesta a una pregunta, no la reasigne más adelante. De lo contrario, ¡reprobará las pruebas que creía que estaba aprobando anteriormente!\n",
        "\n",
        "**Fecha de entrega:**\n",
        "\n",
        "Esta tarea deberá ser entregada ** ___ a las ___**. Si quiere puntos extra, entréguela el (un día antes). Trabajo que se entregue por fuera del plazo no será recibido.\n",
        "\n",
        "**Nota: Esta tarea tiene pruebas ocultas. Eso significa que aunque los exámenes indiquen que se aprobó al 100%, no significa que su calificación final será del 100%. Realizaremos más pruebas ocultas de corrección una vez que todos entreguen la tarea.**\n",
        "\n",
        "\n",
        "Evite compartir respuestas o hacer copia con sus compañeros. Establezca en cambio discusiones grupales con otros estudiantes y docentes del curso.\n",
        "\n",
        "Si desea contar con el tiempo necesario para pedir ayuda o asesoría en caso de estar atascado, se recomienda iniciar temprano con la realización de las tareas. Tenga en cuenta el cronograma del curso y de entregas."
      ],
      "id": "F7Pmjz_2HPo8"
    },
    {
      "cell_type": "markdown",
      "metadata": {
        "id": "4M6oux1wHPo9"
      },
      "source": [
        "## 1. Creando Arreglos"
      ],
      "id": "4M6oux1wHPo9"
    },
    {
      "cell_type": "code",
      "execution_count": null,
      "metadata": {
        "id": "DYDbO_g1HPo9"
      },
      "outputs": [],
      "source": [
        "# Ejecute esta celda para configurar su notebook, pero por favor no la cambie.\n",
        "\n",
        "import numpy as np\n",
        "from datascience import *\n",
        "import warnings\n",
        "warnings.simplefilter('ignore', FutureWarning)"
      ],
      "id": "DYDbO_g1HPo9"
    },
    {
      "cell_type": "markdown",
      "metadata": {
        "id": "6Au05wOAHPo_"
      },
      "source": [
        "**Pregunta 1.** Cree un arreglo llamado `numeros_extraños` que contenga los siguientes números (en el orden dado) **(4 Points)**:\n",
        "\n",
        "1. -2\n",
        "2. El piso (floor) de 17.6\n",
        "3. 3\n",
        "4. 5 a la potencia del techo (ceil) de 5.3\n",
        "\n",
        "*Hint:* `floor` y `ceil` son funciones en el módulo `math`. Importar módulos se trabaja en el Lab 2.\n",
        "\n",
        "*Nota:* Las listas de Python son y se comportan diferente de los arreglos de NumPy. En este curso usaremos arreglos de NumPy, así que cuando haga un **arreglo**, no haga una lista de Python.\n"
      ],
      "id": "6Au05wOAHPo_"
    },
    {
      "cell_type": "code",
      "execution_count": null,
      "metadata": {
        "tags": [],
        "colab": {
          "base_uri": "https://localhost:8080/"
        },
        "id": "0v_Su11MHPpA",
        "outputId": "e2ec8467-ee22-4300-9003-f828f0c90032"
      },
      "outputs": [
        {
          "output_type": "execute_result",
          "data": {
            "text/plain": [
              "Ellipsis"
            ]
          },
          "metadata": {},
          "execution_count": 1
        }
      ],
      "source": [
        "# Nuestra solución requiere una línea extra de código antes de crear numeros_extraños\n",
        "\n",
        "...\n",
        "numeros_extraños = ...\n",
        "numeros_extraños"
      ],
      "id": "0v_Su11MHPpA"
    },
    {
      "cell_type": "code",
      "execution_count": null,
      "metadata": {
        "deletable": false,
        "editable": false,
        "id": "Sc139Eu2HPpB"
      },
      "outputs": [],
      "source": [
        "grader.check(\"q1_1\")"
      ],
      "id": "Sc139Eu2HPpB"
    },
    {
      "cell_type": "markdown",
      "metadata": {
        "id": "uQls4zTKHPpC"
      },
      "source": [
        "**Pregunta 2.** Cree un arreglo llamado `titulo_libros` que contenga las tres siguientes cadenas de caracteres: \"Eats\", \"Shoots\", and \"and Leaves\". **(4 Puntos)**\n"
      ],
      "id": "uQls4zTKHPpC"
    },
    {
      "cell_type": "code",
      "execution_count": null,
      "metadata": {
        "tags": [],
        "id": "IkagCrqjHPpC"
      },
      "outputs": [],
      "source": [
        "titulo_libros = ...\n",
        "titulo_libros"
      ],
      "id": "IkagCrqjHPpC"
    },
    {
      "cell_type": "code",
      "execution_count": null,
      "metadata": {
        "deletable": false,
        "editable": false,
        "id": "g76sXjorHPpD"
      },
      "outputs": [],
      "source": [
        "grader.check(\"q1_2\")"
      ],
      "id": "g76sXjorHPpD"
    },
    {
      "cell_type": "markdown",
      "metadata": {
        "id": "208Ftw-1HPpE"
      },
      "source": [
        "Las cadenas de caracteres (strings) tienen un método llamado `join`. `join` toma como argumento un arreglo de cadenas de caracteres y regresa una cadena de caracteres. Específicamente, el resultado es una sola cadena de caracteres, que es la [concatenación](https://es.wikipedia.org/wiki/Concatenaci%C3%B3n) (\"juntar\") todas las cadenas de caracteres en el arreglo.\n",
        "\n",
        "\n",
        "**Pregunta 3.** Use el arreglo `titulo_libros` y el método `join` para crear dos arreglos **(4 untos)**:\n",
        "\n",
        "1. \"Eats, Shoots, and Leaves\" (llámelo `usando_comas`)\n",
        "2. \"Eats Shoots and Leaves\" (llámelo `sin_comas`)\n",
        "\n"
      ],
      "id": "208Ftw-1HPpE"
    },
    {
      "cell_type": "code",
      "execution_count": null,
      "metadata": {
        "tags": [],
        "id": "A45bndC9HPpE"
      },
      "outputs": [],
      "source": [
        "usando_comas = ...\n",
        "sin_comas = ...\n",
        "\n",
        "# Estas líneas son solo para imprimir sus respuestas.\n",
        "print('usando_comas:', usando_comas)\n",
        "print('sin_comas:', sin_comas)"
      ],
      "id": "A45bndC9HPpE"
    },
    {
      "cell_type": "code",
      "execution_count": null,
      "metadata": {
        "deletable": false,
        "editable": false,
        "id": "CK8btKm8HPpF"
      },
      "outputs": [],
      "source": [
        "grader.check(\"q1_3\")"
      ],
      "id": "CK8btKm8HPpF"
    },
    {
      "cell_type": "markdown",
      "metadata": {
        "id": "NPtbhRazHPpF"
      },
      "source": [
        "## 2. Indexando Arreglos"
      ],
      "id": "NPtbhRazHPpF"
    },
    {
      "cell_type": "markdown",
      "metadata": {
        "id": "GdARKfjDHPpF"
      },
      "source": [
        "Estos ejercicios están pensados en dar práctica al momento de acceder a elementos individuales de los arreglos. En Python (y en muchos lenguajes de programación), cada elemento es accesible mediante su  *índice*; por ejemplo, el primer elmento es el elemento con índice 0. Los índices deben ser números **enteros**.\n",
        "\n",
        "\n",
        "***Nota:* Si usted tiene experiencia previa programando, la notación de corchetes le debe ser familiar. NO use la notación de corchetes cuando esté indexando (i.e. `arr[0]`), pues esto puede conducir a un tipo de dato diferente del que estamos esperando. Le puede además hacer fallar en la revisión.**\n",
        "\n",
        "En caso de sentirse atascado, revise la [Referencia de Python](http://data8.org/fa23/reference/)\n",
        "\n"
      ],
      "id": "GdARKfjDHPpF"
    },
    {
      "cell_type": "markdown",
      "metadata": {
        "id": "VLIS2x9BHPpF"
      },
      "source": [
        "**Pregunta 1.** La siguiente celda crea un arreglo de algunos números. Asigne `tercer_elemento`  al tercer elemento de `algunos_numeros`. **(4 Puntos)**\n"
      ],
      "id": "VLIS2x9BHPpF"
    },
    {
      "cell_type": "code",
      "execution_count": null,
      "metadata": {
        "tags": [],
        "id": "gfb6hHzHHPpG"
      },
      "outputs": [],
      "source": [
        "algunos_numeros = make_array(-1, -3, -6, -10, -15)\n",
        "\n",
        "tercer_elemento = ...\n",
        "tercer_elemento"
      ],
      "id": "gfb6hHzHHPpG"
    },
    {
      "cell_type": "code",
      "execution_count": null,
      "metadata": {
        "deletable": false,
        "editable": false,
        "id": "PrDvyJ1CHPpG"
      },
      "outputs": [],
      "source": [
        "grader.check(\"q2_1\")"
      ],
      "id": "PrDvyJ1CHPpG"
    },
    {
      "cell_type": "markdown",
      "metadata": {
        "id": "NxvA_KTZHPpG"
      },
      "source": [
        "**Pregunta 2.** La próxima celda crea una tabla que muestra información sobre los elementos de `algunos_numeros` y su orden. Corra la celda para ver la tabla parcialmente completa y llene la información faltante (las celdas que dicen \"Ellipsis\") mediante la asignación `espacio_a`, `espacio_b`, `espacio_c`, y `espacio_d` para corregir los elementos en la tabla. **(4 Puntos)**\n",
        "\n",
        "*Hint* Reemplace los `...` con cadenas de caracteres o números. Recuerde que los índices deben ser **enteros**.\n"
      ],
      "id": "NxvA_KTZHPpG"
    },
    {
      "cell_type": "code",
      "execution_count": null,
      "metadata": {
        "for_assignment_type": "student",
        "tags": [],
        "id": "k4jRGMKPHPpH"
      },
      "outputs": [],
      "source": [
        "espacio_a = ...\n",
        "espacio_b = ...\n",
        "espacio_c = ...\n",
        "espacio_d = ...\n",
        "elementos_de_algunos_numeros = Table().with_columns(\n",
        "    \"English name for position\", make_array(\"primero\", \"segundo\", espacio_a, espacio_b, \"quinto\"),\n",
        "    \"Index\",                     make_array(espacio_c, 1, 2, espacio_d, 4),\n",
        "    \"Element\",                   algunos_numeros)\n",
        "elementos_de_algunos_numeros"
      ],
      "id": "k4jRGMKPHPpH"
    },
    {
      "cell_type": "code",
      "execution_count": null,
      "metadata": {
        "deletable": false,
        "editable": false,
        "id": "Vl2KtQzYHPpH"
      },
      "outputs": [],
      "source": [
        "grader.check(\"q2_2\")"
      ],
      "id": "Vl2KtQzYHPpH"
    },
    {
      "cell_type": "markdown",
      "metadata": {
        "id": "0Ko7aOKrHPpH"
      },
      "source": [
        "**Pregunta 3.** En ocasiones usted querrá encontrar el **último** elemento de un arreglo. Suponga que el arreglo tiene 142 elementos. ¿Cuál es el índice del último elemento? **(4 Puntos)**\n",
        "\n",
        "*Nota:* Su respuesta deberá ser un número positivo.\n"
      ],
      "id": "0Ko7aOKrHPpH"
    },
    {
      "cell_type": "code",
      "execution_count": null,
      "metadata": {
        "tags": [],
        "id": "P6itDm6rHPpH"
      },
      "outputs": [],
      "source": [
        "indice_ultimo_elemento = ..."
      ],
      "id": "P6itDm6rHPpH"
    },
    {
      "cell_type": "code",
      "execution_count": null,
      "metadata": {
        "deletable": false,
        "editable": false,
        "id": "8StvfnrOHPpH"
      },
      "outputs": [],
      "source": [
        "grader.check(\"q2_3\")"
      ],
      "id": "8StvfnrOHPpH"
    },
    {
      "cell_type": "markdown",
      "metadata": {
        "id": "sazaM-Z5HPpH"
      },
      "source": [
        "Con frecuencia, usted no conocerá el número de elementos de un arreglo, su *longitud*. (Por ejemplo, puede ser un conjunto de datos que usted encuentra en Internet.) La función `len` toma un solo argumento, un arreglo, y entrega un número entero que representa la longitud o tamaño de dicho arreglo.\n",
        "\n",
        "**Pregunta 4.** La siguiente celda carga un arreglo llamado `año_nacimiento_presidentes`. Llamando `tabla.column(...)` en una tabla entrega un arreglo con la columna especificada, en este caso la columna `Año de nacimiento` de la tabla `nacimiento_presidentes`. El último elemento en ese arreglo es el más reciente entre los años de nacimiento entre todos los ex-presidentes de los Estados Unidos. Asigne ese año a `año_nacimiento_mas_reciente` **(4 Puntos)**\n",
        "\n",
        "\n",
        "**Nota:** Evite googlear la respuesta. Usted debería ser capaz de responder esta pregunta únicamente usando métodos de tablas.\n"
      ],
      "id": "sazaM-Z5HPpH"
    },
    {
      "cell_type": "code",
      "execution_count": null,
      "metadata": {
        "tags": [],
        "id": "1Z6BMoqdHPpI"
      },
      "outputs": [],
      "source": [
        "año_nacimiento_presidentes = Table.read_table(\"president_births.csv\").column('Birth Year')  #Modificar una vez se ajuste la tabla.\n",
        "\n",
        "most_recent_birth_year = ...\n",
        "most_recent_birth_year"
      ],
      "id": "1Z6BMoqdHPpI"
    },
    {
      "cell_type": "code",
      "execution_count": null,
      "metadata": {
        "deletable": false,
        "editable": false,
        "id": "Wz7cf0gQHPpI"
      },
      "outputs": [],
      "source": [
        "grader.check(\"q2_4\")"
      ],
      "id": "Wz7cf0gQHPpI"
    },
    {
      "cell_type": "markdown",
      "metadata": {
        "id": "pmG7EMI2HPpI"
      },
      "source": [
        "**Pregunta 5.** Para finalizar, asigne `min_año_nacimiento` al mínimo del primer, decimosexto y el último año listados en `año_nacimiento_presidentes`. **(4 Puntos)**\n",
        "\n",
        "**Nota:** Use la función `min` de Python y métodos de tabla para encontrar la respuesta. Evite calcular manualmente el resultado.\n",
        "\n"
      ],
      "id": "pmG7EMI2HPpI"
    },
    {
      "cell_type": "code",
      "execution_count": null,
      "metadata": {
        "tags": [],
        "id": "ZqJawYNfHPpI"
      },
      "outputs": [],
      "source": [
        "min_año_nacimiento = ...\n",
        "min_año_nacimiento"
      ],
      "id": "ZqJawYNfHPpI"
    },
    {
      "cell_type": "code",
      "execution_count": null,
      "metadata": {
        "deletable": false,
        "editable": false,
        "id": "KkWN7ljCHPpI"
      },
      "outputs": [],
      "source": [
        "grader.check(\"q2_5\")"
      ],
      "id": "KkWN7ljCHPpI"
    },
    {
      "cell_type": "markdown",
      "metadata": {
        "id": "ZyM02_d3HPpJ"
      },
      "source": [
        "## 3. Aritmética Básica de Arreglos"
      ],
      "id": "ZyM02_d3HPpJ"
    },
    {
      "cell_type": "markdown",
      "metadata": {
        "id": "XDcAniSlHPpJ"
      },
      "source": [
        "**Pregunta 1.** Multiplique los números 42, -4224, 424224242, y 250 por 157. Asigne cada variable en la siguiente celda de tal forma que  `primer_producto` se asigne al resultado de $42 * 157$, `segundo_producto` al resultado de $-4224 * 157$ y así sucesivamente. **(4 Puntos)**\n",
        "\n",
        "*Nota*: Para esta pregunta, **no** use arreglos.\n"
      ],
      "id": "XDcAniSlHPpJ"
    },
    {
      "cell_type": "code",
      "execution_count": null,
      "metadata": {
        "tags": [],
        "id": "ZD7MDd-IHPpJ"
      },
      "outputs": [],
      "source": [
        "primer_producto = ...\n",
        "segundo_producto = ...\n",
        "tercer_producto = ...\n",
        "cuarto_producto = ...\n",
        "print(\"Primer Producto:\", primer_producto)\n",
        "print(\"Segundo Producto:\", segundo_producto)\n",
        "print(\"Tercer Producto:\", tercer_producto)\n",
        "print(\"Cuarto Producto:\", cuarto_producto)"
      ],
      "id": "ZD7MDd-IHPpJ"
    },
    {
      "cell_type": "code",
      "execution_count": null,
      "metadata": {
        "deletable": false,
        "editable": false,
        "id": "798zktIPHPpJ"
      },
      "outputs": [],
      "source": [
        "grader.check(\"q3_1\")"
      ],
      "id": "798zktIPHPpJ"
    },
    {
      "cell_type": "markdown",
      "metadata": {
        "id": "835UAhjrHPpJ"
      },
      "source": [
        "**Pregunta 2.** Ahora, haga los mismos cálculos, pero esta vez usando un arreglo llamado `numeros`y un solo operador de multiplicación (`*`). Almacene los 4 resultados en un arreglo llamado `productos`. **(4 Puntos)**"
      ],
      "id": "835UAhjrHPpJ"
    },
    {
      "cell_type": "code",
      "execution_count": null,
      "metadata": {
        "tags": [],
        "id": "NwQYE4LQHPpJ"
      },
      "outputs": [],
      "source": [
        "numeros = ...\n",
        "productos = ...\n",
        "productos"
      ],
      "id": "NwQYE4LQHPpJ"
    },
    {
      "cell_type": "code",
      "execution_count": null,
      "metadata": {
        "deletable": false,
        "editable": false,
        "id": "1OzHouRZHPpK"
      },
      "outputs": [],
      "source": [
        "grader.check(\"q3_2\")"
      ],
      "id": "1OzHouRZHPpK"
    },
    {
      "cell_type": "markdown",
      "metadata": {
        "id": "oF0MyLkPHPpP"
      },
      "source": [
        "**Pregunta 3.** Ups, cometimos un error. En lugar de 157, queremos que multiplique cada número por 1577. Calcule los productos correctos en la celda de abajo usando aritmética de arreglos. Note que su trabajo es realmente sencillo si previamente definió un arreglo que contiene los 4 números. **(4 Puntos)**"
      ],
      "id": "oF0MyLkPHPpP"
    },
    {
      "cell_type": "code",
      "execution_count": null,
      "metadata": {
        "tags": [],
        "id": "c4oD7WvvHPpP"
      },
      "outputs": [],
      "source": [
        "productos_correctos = ...\n",
        "productos_correctos"
      ],
      "id": "c4oD7WvvHPpP"
    },
    {
      "cell_type": "code",
      "execution_count": null,
      "metadata": {
        "deletable": false,
        "editable": false,
        "id": "8dOqJn0AHPpP"
      },
      "outputs": [],
      "source": [
        "grader.check(\"q3_3\")"
      ],
      "id": "8dOqJn0AHPpP"
    },
    {
      "cell_type": "markdown",
      "metadata": {
        "id": "0iMmU3kmHPpQ"
      },
      "source": [
        "**Pregunta 4.** Hemos cargado un arreglo de temperaturas en la siguiente celda. Cada número es la temperatura más alta registrada en un día en una estación de medición del cloma, mayoritariamente en los Estados Unidos. Al ser datos de la agencia gubernamental de Estados Unidos [NOAA](https://www.noaa.gov/), todas las temperaturas están en Fahrenheit.\n",
        "\n",
        "Convierta todas las temperaturas a Celsius, primero sustrayendo 32 de ellas. Luego, multiplique los resultados por by $\\frac{5}{9}$, i.e. $C = (F - 32) * \\frac{5}{9}$. Luego de convertir las temperaturas a Celsius, asegúrese de **REDONDEAR** el resultado final al entero más cercano usando la función `np.round`. **(4 Puntos)**"
      ],
      "id": "0iMmU3kmHPpQ"
    },
    {
      "cell_type": "code",
      "execution_count": null,
      "metadata": {
        "tags": [],
        "id": "OrkroM96HPpQ"
      },
      "outputs": [],
      "source": [
        "max_temps = Table.read_table(\"temperatures.csv\").column(\"Daily Max Temperature\") #Modificar una vez se ajuste la tabla.\n",
        "\n",
        "\n",
        "celsius_max_temps = ...\n",
        "celsius_temps_redondeadas = ...\n",
        "celsius_temps_redondeadas"
      ],
      "id": "OrkroM96HPpQ"
    },
    {
      "cell_type": "code",
      "execution_count": null,
      "metadata": {
        "deletable": false,
        "editable": false,
        "id": "_PgpoBPhHPpQ"
      },
      "outputs": [],
      "source": [
        "grader.check(\"q3_4\")"
      ],
      "id": "_PgpoBPhHPpQ"
    },
    {
      "cell_type": "markdown",
      "metadata": {
        "id": "RXPR9VO4HPpQ"
      },
      "source": [
        "**Pregunta 5.** La celda de abajo carga todas las más *bajas* temperaturas de cada día (en Fahrenheit). Calcule el intervalo diario de temperaturas de cada día. Esto es, calcule la diferencia, por día, entre las respectivas temperaturas máxima y mínima.**¡Preste atención a las unidades y de su respuesta en Celsius!** Asegúrese de **NO** redondear su respuesta.\n",
        "\n",
        "\n",
        "*Hint:* Use `min_temps` y/o `max_temps`, y preste atención a la conversión de unidades. Escriba el cálculo matemático a mano si no logra avanzar.\n",
        "\n"
      ],
      "id": "RXPR9VO4HPpQ"
    },
    {
      "cell_type": "code",
      "execution_count": null,
      "metadata": {
        "tags": [],
        "id": "vsR1F9xMHPpQ"
      },
      "outputs": [],
      "source": [
        "min_temps = Table.read_table(\"temperatures.csv\").column(\"Daily Min Temperature\")\n",
        "\n",
        "celsius_temps_rangos = ...\n",
        "celsius_temps_rangos"
      ],
      "id": "vsR1F9xMHPpQ"
    },
    {
      "cell_type": "code",
      "execution_count": null,
      "metadata": {
        "deletable": false,
        "editable": false,
        "id": "0ZpfDeO8HPpR"
      },
      "outputs": [],
      "source": [
        "grader.check(\"q3_5\")"
      ],
      "id": "0ZpfDeO8HPpR"
    },
    {
      "cell_type": "markdown",
      "metadata": {
        "id": "9VvcuG49HPpR"
      },
      "source": [
        "## 4. Old Faithful"
      ],
      "id": "9VvcuG49HPpR"
    },
    {
      "cell_type": "markdown",
      "metadata": {
        "id": "kV5WFMsOHPpR"
      },
      "source": [
        "*Old* Faithful es un geyser en Yellowstone que erupciona cada 44-125 minutos (de acuerdo con [Wikipedia](https://es.wikipedia.org/wiki/Old_Faithful#:~:text=El%20Old%20Faithful%2C%20traducido%20al,%2C%20en%20Wyoming%2C%20Estados%20Unidos)). A las personas se les dice con frecuencia que erupciona cada una hora, pero de hecho el tiempo de espera entre erupciones es más variable. Veámoslo.\n",
        "\n"
      ],
      "id": "kV5WFMsOHPpR"
    },
    {
      "cell_type": "markdown",
      "metadata": {
        "id": "oea5HMFxHPpR"
      },
      "source": [
        "**Pregunta 1.** La primera línea de la celda de abajo asigna `tiempos_espera` a un arreglo con 272 tiempos de espera consecutivos entre erupciones, tomados de un conjunto de datos de 1938. Asigne los nombres `menor`, `mayor` y `promedio`de forma tal que la asignación `print` esté correcta. **(4 Puntos)**\n",
        "\n"
      ],
      "id": "oea5HMFxHPpR"
    },
    {
      "cell_type": "code",
      "execution_count": null,
      "metadata": {
        "tags": [],
        "id": "n5MYYO9IHPpR"
      },
      "outputs": [],
      "source": [
        "tiempos_espera = Table.read_table('old_faithful.csv').column('waiting')\n",
        "\n",
        "menor = ...\n",
        "mayor = ...\n",
        "promedio = ...\n",
        "\n",
        "print(\"Old Faithful erupciona cada\", menor, \"a\", mayor, \"minutos y cada\", promedio, \"minutos en promedio.\")"
      ],
      "id": "n5MYYO9IHPpR"
    },
    {
      "cell_type": "code",
      "execution_count": null,
      "metadata": {
        "deletable": false,
        "editable": false,
        "id": "XwpVkr54HPpS"
      },
      "outputs": [],
      "source": [
        "grader.check(\"q4_1\")"
      ],
      "id": "XwpVkr54HPpS"
    },
    {
      "cell_type": "markdown",
      "metadata": {
        "id": "PDA5L2k8HPpS"
      },
      "source": [
        "**Pregunta 2.** Asigne `mayor_diferencia` al mayor cambio en la espera entre dos erupciones consecutivas. Por ejemplo, la tercera erupción ocurrió luego de 74 minutos y la cuarta luego de 62 minutos, así que la diferencia fue 74 - 62 = 12 minutos. **(4 Puntos)**\n",
        "\n",
        "*Hint*: Queremos el valor absoluto del valor de la mayor diferencia.\n",
        "\n",
        "*Nota*: `np.diff()` calcula la diferencia entre valores subsecuentes en un arreglo. Por ejemplo, llamando `np.diff()` en el arreglo `make_array(1, 8, 3, 5)`, evalúa `array([8 - 1, 3 - 8, 5 - 3])` o `array([7, -5, 2])`.\n",
        "\n"
      ],
      "id": "PDA5L2k8HPpS"
    },
    {
      "cell_type": "code",
      "execution_count": null,
      "metadata": {
        "tags": [],
        "id": "CAw2Lol3HPpS"
      },
      "outputs": [],
      "source": [
        "# np.diff() calcula la diferencia entre valores subsecuentes\n",
        "# en un arreglo de NumPy.\n",
        "diferencias = np.diff(tiempos_espera)\n",
        "mayor_diferencia = ...\n",
        "mayor_diferencia"
      ],
      "id": "CAw2Lol3HPpS"
    },
    {
      "cell_type": "code",
      "execution_count": null,
      "metadata": {
        "deletable": false,
        "editable": false,
        "id": "GawhqNhKHPpS"
      },
      "outputs": [],
      "source": [
        "grader.check(\"q4_2\")"
      ],
      "id": "GawhqNhKHPpS"
    },
    {
      "cell_type": "markdown",
      "metadata": {
        "id": "v-vRCPpyHPpS"
      },
      "source": [
        "**Pregunta 3.** La tabla `faithful_erupcion_nums` contiene dos columnas: `numero_erupcion`, la cual representa el número de esa erupción, y `espera`, que indica el tiempo que se tuvo que esperar luego de esa erupción. Por ejemplo, tome las primeras dos filas de la tabla:\n",
        "\n",
        "| Número de erupción | Espera  |\n",
        "|--------------------|---------|\n",
        "| 1                  | 79      |\n",
        "| 2                  | 54      |\n",
        "\n",
        "Podemos leer esto como sigue: luego de la primera erupción, esperamos 79 minutos hasta que ocurrió la segunda erupción. Así, luego de la segunda erupción, esperamos 54 minutos por la tercera erupción.\n",
        "\n",
        "Suponga que Oscar y Wendy comenzaron viendo al Old Faithful al principio de la primera erupción. Suponga que ellos observan hasta el final de la décima erupción.\n",
        "\n",
        "We can read this as follows: after the first eruption, we waited 79 minutes for the second eruption. Then, after the second eruption, we waited 54 minutes for the third eruption. Durante parte de ese tiempo estarán observando erupciones, y por el resto del tiempo estarán esperando que Old Faithful haga erupción. ¿Cuántos minutos pasarán esperando que ocurran erupciones? **(4 Puntos)**\n",
        "\n",
        "*Hint #1:* Puede iniciar usando el método `take` en la tabla `faithful_erupcion_nums`.\n",
        "\n",
        "*Hint #2:* `tiempo_espera_primeras_nueve` deberá ser un arreglo.\n"
      ],
      "id": "v-vRCPpyHPpS"
    },
    {
      "cell_type": "code",
      "execution_count": null,
      "metadata": {
        "tags": [],
        "id": "gCgG4kE6HPpT"
      },
      "outputs": [],
      "source": [
        "# Las siguientes dos líneas de código cargan la tabla faithful_erupcion_nums\n",
        "faithful = Table.read_table('old_faithful.csv').drop(\"eruptions\")\n",
        "faithful_erupcion_numss = faithful.with_column(\"eruption number\", np.arange(faithful.num_rows) + 1).select(1, 0)\n",
        "\n",
        "tiempo_espera_primeras_nueve = ...\n",
        "tiempo_total_espera_decima = ...\n",
        "tiempo_total_espera_decima"
      ],
      "id": "gCgG4kE6HPpT"
    },
    {
      "cell_type": "code",
      "execution_count": null,
      "metadata": {
        "deletable": false,
        "editable": false,
        "id": "mijEVrKqHPpT"
      },
      "outputs": [],
      "source": [
        "grader.check(\"q4_3\")"
      ],
      "id": "mijEVrKqHPpT"
    },
    {
      "cell_type": "markdown",
      "metadata": {
        "id": "md53BpZuHPpT"
      },
      "source": [
        "**Pregunta 4.** Imaginemos que su estimación del siguiente tiempo de espera siempre fue la duración del tiempo de espera anterior. Si siempre adivinara el tiempo de espera anterior, ¿qué tan grande sería, en promedio, el error al adivinar los tiempos de espera?\n",
        "\n",
        "Por ejemplo, dado que los primeros cuatro tiempos de espera son 79, 54, 74 y 62, la diferencia promedio entre su \"predicción\" y el tiempo real solo para la segunda, tercera y cuarta erupciones sería: $\\frac{|79-54|+ |54-74|+ |74-62|}{3} = 19$.\n"
      ],
      "id": "md53BpZuHPpT"
    },
    {
      "cell_type": "code",
      "execution_count": null,
      "metadata": {
        "tags": [],
        "id": "37v-yLXlHPpT"
      },
      "outputs": [],
      "source": [
        "diferencias = np.diff(tiempos_espera)\n",
        "error_promedio = ...\n",
        "error_promedio"
      ],
      "id": "37v-yLXlHPpT"
    },
    {
      "cell_type": "code",
      "execution_count": null,
      "metadata": {
        "deletable": false,
        "editable": false,
        "id": "wVQwFX8qHPpU"
      },
      "outputs": [],
      "source": [
        "grader.check(\"q4_4\")"
      ],
      "id": "wVQwFX8qHPpU"
    },
    {
      "cell_type": "markdown",
      "metadata": {
        "id": "u9Dna5iTHPpU"
      },
      "source": [
        "## 5. Tablas"
      ],
      "id": "u9Dna5iTHPpU"
    },
    {
      "cell_type": "markdown",
      "metadata": {
        "id": "lITKGhdXHPpU"
      },
      "source": [
        "**Pregunta 1.** Suponga que tiene 4 manzanas y 3 piñas. (Quizás esté usando Python para resolver un problema de álgebra del bachillerato.)Cree una tabla que contenga esta información. Esta deberá contener dos columnas: `nombre de la fruta` y `cantidad`. Asigne la nueva tabla a la variable `frutas`. **(4 Puntos)**\n",
        "\n",
        "\n",
        "\n",
        "*Note:* Use letras minúsculas y una sola palabra para el nombre de cada fruta, por ejemplo `\"manzana\"`.\n"
      ],
      "id": "lITKGhdXHPpU"
    },
    {
      "cell_type": "code",
      "execution_count": null,
      "metadata": {
        "tags": [],
        "id": "0WnUY-qqHPpU"
      },
      "outputs": [],
      "source": [
        "# Nuestra solución usa una sola sentencia divida en 3 líneas.\n",
        "frutas = ...\n",
        "        ...\n",
        "        ...\n",
        "frutas"
      ],
      "id": "0WnUY-qqHPpU"
    },
    {
      "cell_type": "code",
      "execution_count": null,
      "metadata": {
        "deletable": false,
        "editable": false,
        "id": "jx2XfybCHPpU"
      },
      "outputs": [],
      "source": [
        "grader.check(\"q5_1\")"
      ],
      "id": "jx2XfybCHPpU"
    },
    {
      "cell_type": "markdown",
      "metadata": {
        "id": "r2Nyivh-HPpV"
      },
      "source": [
        "**Question 2.** El archivo `inventory.csv` contiene información sobr eel inventario de un puesto de frutas. Cada fila representa el contenido de una caja de fruta. Cargue el archivo como una tabla llamada `inventario` usando la función `Table.read_table()`. `Table.read_table(...)` toma un argumento (el nombre de un archivo en formato cadena de caracteres) y regresa una tabla. **(4 Puntos)**\n"
      ],
      "id": "r2Nyivh-HPpV"
    },
    {
      "cell_type": "code",
      "execution_count": null,
      "metadata": {
        "tags": [],
        "id": "XXloJXk-HPpV"
      },
      "outputs": [],
      "source": [
        "inventario = ...\n",
        "inventario"
      ],
      "id": "XXloJXk-HPpV"
    },
    {
      "cell_type": "code",
      "execution_count": null,
      "metadata": {
        "deletable": false,
        "editable": false,
        "id": "t-YweTl7HPpV"
      },
      "outputs": [],
      "source": [
        "grader.check(\"q5_2\")"
      ],
      "id": "t-YweTl7HPpV"
    },
    {
      "cell_type": "markdown",
      "metadata": {
        "id": "Lg5Z9lOMHPpV"
      },
      "source": [
        "**Pregunta3.** ¿Cada caja en el puesto  si cada de frutas contiene una fruta diferente? Asigne `todas_diferentes` a `True` si cada caja contiene contiene una fruta diferente y `False` si múltiples cajas contienen la misma fruta. **(4 Puntos)**\n",
        "\n",
        "*Hint:* No tiene que escribir un código que calcule el valor True/False para `todas_diferentes`. Solo mire la tabla y asigne el valor `True` o `False` de acuerdo a lo que ve en la tabla.\n"
      ],
      "id": "Lg5Z9lOMHPpV"
    },
    {
      "cell_type": "code",
      "execution_count": null,
      "metadata": {
        "tags": [],
        "id": "NopShRBmHPpV"
      },
      "outputs": [],
      "source": [
        "todas_diferentes = ...\n",
        "todas_diferentes"
      ],
      "id": "NopShRBmHPpV"
    },
    {
      "cell_type": "code",
      "execution_count": null,
      "metadata": {
        "deletable": false,
        "editable": false,
        "id": "ufv1fKsWHPpV"
      },
      "outputs": [],
      "source": [
        "grader.check(\"q5_3\")"
      ],
      "id": "ufv1fKsWHPpV"
    },
    {
      "cell_type": "markdown",
      "metadata": {
        "id": "Lu79jok_HPpW"
      },
      "source": [
        "**Pregunta 4.** El archivo `sales.csv` contiene el número de frutas vendidas de cada caja el sábado pasado. Esta tiene una columna extra llamada `price per fruit ($)`, la cual es el precio *por unidad*  por fruta en dicha caja. Las filas están en el mismo orden que en la tabla `inventario`.Cargue estos datos en una tabla llamada `ventas`. **(5 Puntos)**"
      ],
      "id": "Lu79jok_HPpW"
    },
    {
      "cell_type": "code",
      "execution_count": null,
      "metadata": {
        "tags": [],
        "id": "OUz5WCb0HPpW"
      },
      "outputs": [],
      "source": [
        "ventas = ...\n",
        "ventas"
      ],
      "id": "OUz5WCb0HPpW"
    },
    {
      "cell_type": "code",
      "execution_count": null,
      "metadata": {
        "deletable": false,
        "editable": false,
        "id": "KyH6kCyAHPpW"
      },
      "outputs": [],
      "source": [
        "grader.check(\"q5_4\")"
      ],
      "id": "KyH6kCyAHPpW"
    },
    {
      "cell_type": "markdown",
      "metadata": {
        "id": "rfCRYme1HPpW"
      },
      "source": [
        "**Pregunta 5.** ¿Cuántas frutas se vendieron en total en la tienda ese día? **(5 Puntos)**\n"
      ],
      "id": "rfCRYme1HPpW"
    },
    {
      "cell_type": "code",
      "execution_count": null,
      "metadata": {
        "tags": [],
        "id": "Zhj4LQ1SHPpX"
      },
      "outputs": [],
      "source": [
        "total_frutas_vendidas = ...\n",
        "total_frutas_vendidas"
      ],
      "id": "Zhj4LQ1SHPpX"
    },
    {
      "cell_type": "code",
      "execution_count": null,
      "metadata": {
        "deletable": false,
        "editable": false,
        "id": "5nMVjwuiHPpX"
      },
      "outputs": [],
      "source": [
        "grader.check(\"q5_5\")"
      ],
      "id": "5nMVjwuiHPpX"
    },
    {
      "cell_type": "markdown",
      "metadata": {
        "id": "SbcZ__ifHPpX"
      },
      "source": [
        "**Pregunta 6.** ¿Cuál fue la ganancia total de la tienda (el precio total de todas las frutas vendidas) **(5 Puntos)**\n",
        "\n",
        "*Hint:* Si se atasca, piense primero en cómo podría calcular la ganancia total solo de las ventas de uvas.\n",
        "\n",
        "\n"
      ],
      "id": "SbcZ__ifHPpX"
    },
    {
      "cell_type": "code",
      "execution_count": null,
      "metadata": {
        "tags": [],
        "id": "tqpbhmbGHPpX"
      },
      "outputs": [],
      "source": [
        "ganancia_total = ...\n",
        "ganancia_total"
      ],
      "id": "tqpbhmbGHPpX"
    },
    {
      "cell_type": "code",
      "execution_count": null,
      "metadata": {
        "deletable": false,
        "editable": false,
        "id": "iOH5_bdFHPpX"
      },
      "outputs": [],
      "source": [
        "grader.check(\"q5_6\")"
      ],
      "id": "iOH5_bdFHPpX"
    },
    {
      "cell_type": "markdown",
      "metadata": {
        "id": "nlKEWh8eHPpY"
      },
      "source": [
        "**Pregunta 7.** Cree una nueva tabla llamada `inventario_restante`. Esta deberá contener las mismas filas y columnas de `inventario`, exceptuando que la cantidad de frutas vendidas de cada caja deberá ser restada de la cuenta de la caja **original**, de forma que la columna `count` sea **actualizada para ser**  la cantidad de fruta que queda luego del sábado. **(5 Puntos)**\n"
      ],
      "id": "nlKEWh8eHPpY"
    },
    {
      "cell_type": "code",
      "execution_count": null,
      "metadata": {
        "tags": [],
        "id": "Q3lWP87RHPpY"
      },
      "outputs": [],
      "source": [
        "inventario_restante = ...\n",
        "    ...\n",
        "    ...\n",
        "    ...\n",
        "inventario_restante"
      ],
      "id": "Q3lWP87RHPpY"
    },
    {
      "cell_type": "code",
      "execution_count": null,
      "metadata": {
        "deletable": false,
        "editable": false,
        "id": "QbtM2PMOHPpY"
      },
      "outputs": [],
      "source": [
        "grader.check(\"q5_7\")"
      ],
      "id": "QbtM2PMOHPpY"
    },
    {
      "cell_type": "markdown",
      "metadata": {
        "id": "_p5LQeuDHPpY"
      },
      "source": [
        "¡Terminó la tarea 2!\n",
        "\n",
        "**Información sobre la entrega:** Asegúrese de correr todas las pruebas y verificar que se ejectuen correctamente. Aquí, seleccione **Guardar Notebook** En el menú de **Archivo** y **corra la  última celda** para luego darle click en descargar el archivo zip. Con el archivo, vaya a [Gradescope](https://www.gradescope.com/courses/576157) y cargue el archivo zip correspondiente a esta tarea. El nombre de esta tarea es \"HW 01 Autograder\". **Es su responsabilidad asegurarse que su trabajo se guarde antes de correr la última celda**.\n",
        "\n",
        "Una vez la haya entregado, su tarea en Gradescope deberá mostrar todas las pruebas que usted aprobó en el notebook de esta tarea."
      ],
      "id": "_p5LQeuDHPpY"
    },
    {
      "cell_type": "markdown",
      "metadata": {
        "id": "E-iJooVRHPpY"
      },
      "source": [
        "## Estudiantes de Fundamentos de Ciencia de Datos\n",
        "\n",
        "¡Felicitaciones por terminar la tarea 2!\n",
        "\n",
        "<img src=\"./kim.jpg\" width=\"30%\" alt=\"Close up picture of dog smiling.\"/>\n",
        "\n",
        "Perro de la semana: **Kim**"
      ],
      "id": "E-iJooVRHPpY"
    },
    {
      "cell_type": "markdown",
      "metadata": {
        "deletable": false,
        "editable": false,
        "id": "uJQBPGtgHPpZ"
      },
      "source": [
        "## Entrega\n",
        "\n",
        "Asegúrese que ha ejecutado todas las celdas en su notebook en orden antes de ejecutar la celda de abajo. De esta forma todas las imágenes/gráficas apareceran en la salida. La celda de abajo va a generar un archivo con extensión .zip para que usted lo entregue. **¡Por favor guarde antes de exportar!**\n"
      ],
      "id": "uJQBPGtgHPpZ"
    },
    {
      "cell_type": "code",
      "execution_count": null,
      "metadata": {
        "deletable": false,
        "editable": false,
        "id": "rBWy2v4FHPpZ"
      },
      "outputs": [],
      "source": [
        "# Save your notebook first, then run this cell to export your submission.\n",
        "grader.export(pdf=False, run_tests=True)"
      ],
      "id": "rBWy2v4FHPpZ"
    },
    {
      "cell_type": "markdown",
      "metadata": {
        "id": "fetKOq84HPpZ"
      },
      "source": [],
      "id": "fetKOq84HPpZ"
    }
  ],
  "metadata": {
    "kernelspec": {
      "display_name": "Python 3",
      "language": "python",
      "name": "python3"
    },
    "language_info": {
      "codemirror_mode": {
        "name": "ipython",
        "version": 3
      },
      "file_extension": ".py",
      "mimetype": "text/x-python",
      "name": "python",
      "nbconvert_exporter": "python",
      "pygments_lexer": "ipython3",
      "version": "3.11.2"
    },
    "otter": {
      "OK_FORMAT": true,
      "tests": {
        "q1_1": {
          "name": "q1_1",
          "points": [
            0,
            0
          ],
          "suites": [
            {
              "cases": [
                {
                  "code": ">>> import numpy as np\n>>> # It looks like you didn't make an array.\n>>> type(weird_numbers) == np.ndarray\nTrue",
                  "hidden": false,
                  "locked": false
                },
                {
                  "code": ">>> len(weird_numbers) == 4\nTrue",
                  "hidden": false,
                  "locked": false
                }
              ],
              "scored": true,
              "setup": "",
              "teardown": "",
              "type": "doctest"
            }
          ]
        },
        "q1_2": {
          "name": "q1_2",
          "points": [
            0,
            0,
            0,
            0,
            4
          ],
          "suites": [
            {
              "cases": [
                {
                  "code": ">>> import numpy as np\n>>> # It looks like you didn't make an array.\n>>> type(book_title_words) == np.ndarray\nTrue",
                  "hidden": false,
                  "locked": false
                },
                {
                  "code": ">>> # It looks like you included commas in the text.\n>>> # The three pieces of text in the array should be:\n>>> #   \"Eats\"\n>>> #   \"Shoots\"\n>>> #   \"and Leaves\"\n>>> not any([',' in text for text in book_title_words])\nTrue",
                  "hidden": false,
                  "locked": false
                },
                {
                  "code": ">>> # It looks like you didn't include both words in the\n>>> # last piece of text.  It should be the actual string:\n>>> #   \"and Leaves\"\n>>> 'and ' in book_title_words.item(2)\nTrue",
                  "hidden": false,
                  "locked": false
                },
                {
                  "code": ">>> len(book_title_words)\n3",
                  "hidden": false,
                  "locked": false
                },
                {
                  "code": ">>> book_title_words.item(0) == 'Eats' and book_title_words.item(1) == 'Shoots' and book_title_words.item(2) == 'and Leaves'\nTrue",
                  "hidden": false,
                  "locked": false
                }
              ],
              "scored": true,
              "setup": "",
              "teardown": "",
              "type": "doctest"
            }
          ]
        },
        "q1_3": {
          "name": "q1_3",
          "points": [
            2,
            2
          ],
          "suites": [
            {
              "cases": [
                {
                  "code": ">>> with_commas == 'Eats, Shoots, and Leaves'\nTrue",
                  "hidden": false,
                  "locked": false
                },
                {
                  "code": ">>> without_commas == 'Eats Shoots and Leaves'\nTrue",
                  "hidden": false,
                  "locked": false
                }
              ],
              "scored": true,
              "setup": "",
              "teardown": "",
              "type": "doctest"
            }
          ]
        },
        "q2_1": {
          "name": "q2_1",
          "points": [
            0,
            4
          ],
          "suites": [
            {
              "cases": [
                {
                  "code": ">>> # It looks like you wrote:\n>>> #   some_numbers.item(3)\n>>> # But the third element has index 2, not 3.\n>>> third_element != -10\nTrue",
                  "hidden": false,
                  "locked": false
                },
                {
                  "code": ">>> third_element == -6\nTrue",
                  "hidden": false,
                  "locked": false
                }
              ],
              "scored": true,
              "setup": "",
              "teardown": "",
              "type": "doctest"
            }
          ]
        },
        "q2_2": {
          "name": "q2_2",
          "points": [
            1,
            1,
            1,
            1
          ],
          "suites": [
            {
              "cases": [
                {
                  "code": ">>> elements_of_some_numbers.column(0).item(2) == \"third\"\nTrue",
                  "hidden": false,
                  "locked": false
                },
                {
                  "code": ">>> elements_of_some_numbers.column(0).item(3) == \"fourth\"\nTrue",
                  "hidden": false,
                  "locked": false
                },
                {
                  "code": ">>> elements_of_some_numbers.column(1).item(0) == 0\nTrue",
                  "hidden": false,
                  "locked": false
                },
                {
                  "code": ">>> elements_of_some_numbers.column(1).item(3) == 3\nTrue",
                  "hidden": false,
                  "locked": false
                }
              ],
              "scored": true,
              "setup": "",
              "teardown": "",
              "type": "doctest"
            }
          ]
        },
        "q2_3": {
          "name": "q2_3",
          "points": [
            0
          ],
          "suites": [
            {
              "cases": [
                {
                  "code": ">>> # Make sure that you assign index_of_last_element to an index (integer), \n>>> # not the value at that index\n>>> type(index_of_last_element) == int\nTrue",
                  "hidden": false,
                  "locked": false
                }
              ],
              "scored": true,
              "setup": "",
              "teardown": "",
              "type": "doctest"
            }
          ]
        },
        "q2_4": {
          "name": "q2_4",
          "points": [
            4
          ],
          "suites": [
            {
              "cases": [
                {
                  "code": ">>> most_recent_birth_year == 1917\nTrue",
                  "hidden": false,
                  "locked": false
                }
              ],
              "scored": true,
              "setup": "",
              "teardown": "",
              "type": "doctest"
            }
          ]
        },
        "q2_5": {
          "name": "q2_5",
          "points": [
            0
          ],
          "suites": [
            {
              "cases": [
                {
                  "code": ">>> min_of_birth_years > 0\nTrue",
                  "hidden": false,
                  "locked": false
                }
              ],
              "scored": true,
              "setup": "",
              "teardown": "",
              "type": "doctest"
            }
          ]
        },
        "q3_1": {
          "name": "q3_1",
          "points": [
            0
          ],
          "suites": [
            {
              "cases": [
                {
                  "code": ">>> first_product > 0, second_product < 0, third_product > 0, fourth_product > 0\n(True, True, True, True)",
                  "hidden": false,
                  "locked": false
                }
              ],
              "scored": true,
              "setup": "",
              "teardown": "",
              "type": "doctest"
            }
          ]
        },
        "q3_2": {
          "name": "q3_2",
          "points": [
            0
          ],
          "suites": [
            {
              "cases": [
                {
                  "code": ">>> # products should be an array!\n>>> len(products) == 4\nTrue",
                  "hidden": false,
                  "locked": false
                }
              ],
              "scored": true,
              "setup": "",
              "teardown": "",
              "type": "doctest"
            }
          ]
        },
        "q3_3": {
          "name": "q3_3",
          "points": [
            0
          ],
          "suites": [
            {
              "cases": [
                {
                  "code": ">>> len(correct_products) == 4\nTrue",
                  "hidden": false,
                  "locked": false
                }
              ],
              "scored": true,
              "setup": "",
              "teardown": "",
              "type": "doctest"
            }
          ]
        },
        "q3_4": {
          "name": "q3_4",
          "points": [
            1,
            1,
            1,
            1
          ],
          "suites": [
            {
              "cases": [
                {
                  "code": ">>> # It looks like you multiplied and subtracted in the wrong\n>>> # order.\n>>> sum(celsius_temps_rounded) != 356705.0\nTrue",
                  "hidden": false,
                  "locked": false
                },
                {
                  "code": ">>> # Don't forget to round your final results\n>>> celsius_temps_rounded.item(1) == 31.0\nTrue",
                  "hidden": false,
                  "locked": false
                },
                {
                  "code": ">>> sum(celsius_temps_rounded)\n1280677.0",
                  "hidden": false,
                  "locked": false
                },
                {
                  "code": ">>> len(celsius_temps_rounded)\n65000",
                  "hidden": false,
                  "locked": false
                }
              ],
              "scored": true,
              "setup": "",
              "teardown": "",
              "type": "doctest"
            }
          ]
        },
        "q3_5": {
          "name": "q3_5",
          "points": [
            0,
            0,
            4,
            0
          ],
          "suites": [
            {
              "cases": [
                {
                  "code": ">>> # celsius_temperature_ranges should be an array\n>>> type(celsius_temperature_ranges) is np.ndarray\nTrue",
                  "hidden": false,
                  "locked": false
                },
                {
                  "code": ">>> # Don't round your answers\n>>> np.isclose(celsius_temperature_ranges.item(0), 7.222)\nFalse",
                  "hidden": false,
                  "locked": false
                },
                {
                  "code": ">>> np.isclose(round(sum(celsius_temperature_ranges)), 768487)\nTrue",
                  "hidden": false,
                  "locked": false
                },
                {
                  "code": ">>> len(celsius_temperature_ranges) == len(max_temperatures)\nTrue",
                  "hidden": false,
                  "locked": false
                }
              ],
              "scored": true,
              "setup": "",
              "teardown": "",
              "type": "doctest"
            }
          ]
        },
        "q4_1": {
          "name": "q4_1",
          "points": [
            0,
            0
          ],
          "suites": [
            {
              "cases": [
                {
                  "code": ">>> # Hint: shortest is a number between 40 and 50.\n>>> 40 <= shortest <= 50\nTrue",
                  "hidden": false,
                  "locked": false
                },
                {
                  "code": ">>> # Hint: the average is between the shortest and the longest\n>>> shortest <= average <= longest\nTrue",
                  "hidden": false,
                  "locked": false
                }
              ],
              "scored": true,
              "setup": "",
              "teardown": "",
              "type": "doctest"
            }
          ]
        },
        "q4_2": {
          "name": "q4_2",
          "points": [
            0,
            0
          ],
          "suites": [
            {
              "cases": [
                {
                  "code": ">>> # Hint: If you are getting 47 as your answer, you might be computing the biggest change \n>>> # rather than the biggest decrease!\n>>> biggest_decrease == 47\nFalse",
                  "hidden": false,
                  "locked": false
                },
                {
                  "code": ">>> # Hint: biggest decrease is above 30, but not 47.\n>>> 30 <= biggest_decrease < 47\nTrue",
                  "hidden": false,
                  "locked": false
                }
              ],
              "scored": true,
              "setup": "",
              "teardown": "",
              "type": "doctest"
            }
          ]
        },
        "q4_3": {
          "name": "q4_3",
          "points": [
            0,
            4
          ],
          "suites": [
            {
              "cases": [
                {
                  "code": ">>> len(first_nine_waiting_times)\n9",
                  "hidden": false,
                  "locked": false
                },
                {
                  "code": ">>> total_waiting_time_until_tenth\n633",
                  "hidden": false,
                  "locked": false
                }
              ],
              "scored": true,
              "setup": "",
              "teardown": "",
              "type": "doctest"
            }
          ]
        },
        "q4_4": {
          "name": "q4_4",
          "points": [
            0
          ],
          "suites": [
            {
              "cases": [
                {
                  "code": ">>> 15 <= average_error <= 25\nTrue",
                  "hidden": false,
                  "locked": false
                }
              ],
              "scored": true,
              "setup": "",
              "teardown": "",
              "type": "doctest"
            }
          ]
        },
        "q5_1": {
          "name": "q5_1",
          "points": [
            4
          ],
          "suites": [
            {
              "cases": [
                {
                  "code": ">>> fruits.sort(0)\nfruit name | amount\napple      | 4\norange     | 3\npineapple  | 3",
                  "hidden": false,
                  "locked": false
                }
              ],
              "scored": true,
              "setup": "",
              "teardown": "",
              "type": "doctest"
            }
          ]
        },
        "q5_2": {
          "name": "q5_2",
          "points": [
            4
          ],
          "suites": [
            {
              "cases": [
                {
                  "code": ">>> inventory.sort(0).column(0).item(0)\n25274",
                  "hidden": false,
                  "locked": false
                }
              ],
              "scored": true,
              "setup": "",
              "teardown": "",
              "type": "doctest"
            }
          ]
        },
        "q5_3": {
          "name": "q5_3",
          "points": [
            0
          ],
          "suites": [
            {
              "cases": [
                {
                  "code": ">>> all_different in {True, False}\nTrue",
                  "hidden": false,
                  "locked": false
                }
              ],
              "scored": true,
              "setup": "",
              "teardown": "",
              "type": "doctest"
            }
          ]
        },
        "q5_4": {
          "name": "q5_4",
          "points": [
            5
          ],
          "suites": [
            {
              "cases": [
                {
                  "code": ">>> sales.sort(0)\nbox ID | fruit name | count sold | price per fruit ($)\n25274  | apple      | 0          | 0.8\n26187  | strawberry | 25         | 0.15\n43566  | peach      | 17         | 0.8\n48800  | orange     | 35         | 0.6\n52357  | strawberry | 102        | 0.25\n53686  | kiwi       | 3          | 0.5\n57181  | strawberry | 101        | 0.2\n57930  | grape      | 355        | 0.06",
                  "hidden": false,
                  "locked": false
                }
              ],
              "scored": true,
              "setup": "",
              "teardown": "",
              "type": "doctest"
            }
          ]
        },
        "q5_5": {
          "name": "q5_5",
          "points": [
            0
          ],
          "suites": [
            {
              "cases": [
                {
                  "code": ">>> # We're asking for the number of *pieces* of fruit, not the\n>>> # number of kinds of fruit or the number of boxes from which\n>>> # there were sales.\n>>> total_fruits_sold > 10\nTrue",
                  "hidden": false,
                  "locked": false
                }
              ],
              "scored": true,
              "setup": "",
              "teardown": "",
              "type": "doctest"
            }
          ]
        },
        "q5_6": {
          "name": "q5_6",
          "points": [
            0
          ],
          "suites": [
            {
              "cases": [
                {
                  "code": ">>> # If you're stuck, here's a hint: You want to multiply the count\n>>> # sold in each box by the per-item price of fruits in that box.\n>>> # You can use elementwise multiplication for that.\n>>> # Then you want the sum of those products.  Use sum().\n>>> 50 <= total_revenue <= 150\nTrue",
                  "hidden": false,
                  "locked": false
                }
              ],
              "scored": true,
              "setup": "",
              "teardown": "",
              "type": "doctest"
            }
          ]
        },
        "q5_7": {
          "name": "q5_7",
          "points": [
            0,
            2,
            3
          ],
          "suites": [
            {
              "cases": [
                {
                  "code": ">>> # It looks like your table doesn't have all 3 columns that are\n>>> # in the inventory table.\n>>> remaining_inventory.num_columns\n3",
                  "hidden": false,
                  "locked": false
                },
                {
                  "code": ">>> #It looks like you forgot to subtract off the sales.\n>>> remaining_inventory.column(\"count\").item(0) != 45\nTrue",
                  "hidden": false,
                  "locked": false
                },
                {
                  "code": ">>> remaining_inventory.where(1, 'grape')\nbox ID | fruit name | count\n57930  | grape      | 162",
                  "hidden": false,
                  "locked": false
                }
              ],
              "scored": true,
              "setup": "",
              "teardown": "",
              "type": "doctest"
            }
          ]
        }
      }
    },
    "colab": {
      "provenance": [],
      "collapsed_sections": [
        "4M6oux1wHPo9",
        "NPtbhRazHPpF",
        "ZyM02_d3HPpJ",
        "9VvcuG49HPpR"
      ]
    }
  },
  "nbformat": 4,
  "nbformat_minor": 5
}
