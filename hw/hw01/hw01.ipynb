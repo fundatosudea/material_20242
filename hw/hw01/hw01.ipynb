{
  "cells": [
    {
      "cell_type": "code",
      "execution_count": null,
      "metadata": {
        "deletable": false,
        "editable": false,
        "id": "p9O6x7zpH-mX"
      },
      "outputs": [],
      "source": [
        "# Initialize Otter\n",
        "import otter\n",
        "grader = otter.Notebook(\"hw01.ipynb\")"
      ],
      "id": "p9O6x7zpH-mX"
    },
    {
      "cell_type": "markdown",
      "metadata": {
        "id": "gK8gTmz2H-mj"
      },
      "source": [
        "# Tarea 1: Causalidad y Expresiones\n",
        "\n",
        "Por favor complete este notebook llenando las celdas que se piden. Antes de comenzar, ejecute la celda previa para cargar las pruebas dadas."
      ],
      "id": "gK8gTmz2H-mj"
    },
    {
      "cell_type": "markdown",
      "metadata": {
        "id": "Kc4r2x6QH-mq"
      },
      "source": [
        "**Lecturas recomendadas:**\n",
        "\n",
        "- [¿Qué es la ciencia de datos?](http://www.inferentialthinking.com/chapters/01/what-is-data-science.html)\n",
        "- [Causalidad y Experimentos](http://www.inferentialthinking.com/chapters/02/causality-and-experiments.html)\n",
        "- [Programando en Python](http://www.inferentialthinking.com/chapters/03/programming-in-python.html)\n",
        "\n",
        "\n",
        "\n",
        "Para todos los problemas en los que deba escribir explicaciones y oraciones, **deberá** proporcionar la respuesta en el espacio designado. Además, a lo largo de esta tarea y de todas las futuras, ¡asegúrese de no reasignar variables en todo el notebook! Por ejemplo, si usa `temperatura` en su respuesta a una pregunta, no la reasigne más adelante. De lo contrario, ¡reprobará las pruebas que creía que estaba aprobando anteriormente!\n",
        "\n",
        "\n",
        "\n",
        "**Fecha de entrega:**\n",
        "\n",
        "Esta tarea deberá ser entregada ** ___ a las ___**. Si quiere puntos extra, entréguela el (un día antes). Trabajo que se entregue por fuera del plazo no será recibido.\n",
        "\n",
        "\n",
        "**Nota: Esta tarea tiene pruebas ocultas. Eso significa que aunque los exámenes indiquen que se aprobó al 100%, no significa que su calificación final será del 100%. Realizaremos más pruebas ocultas de corrección una vez que todos entreguen la tarea.**\n",
        "\n",
        "\n",
        "Evite compartir respuestas o hacer copia con sus compañeros. Establezca en cambio discusiones grupales con otros estudiantes y docentes del curso.\n",
        "\n",
        "Si desea contar con el tiempo necesario para pedir ayuda o asesoría en caso de estar atascado, se recomienda iniciar temprano con la realización de las tareas. Tenga en cuenta el cronograma del curso y de entregas.\n"
      ],
      "id": "Kc4r2x6QH-mq"
    },
    {
      "cell_type": "markdown",
      "metadata": {
        "id": "j_-xuWu9H-ms"
      },
      "source": [
        "## 1. Aritmética aterradora"
      ],
      "id": "j_-xuWu9H-ms"
    },
    {
      "cell_type": "markdown",
      "metadata": {
        "id": "iwnYiVbvH-mu"
      },
      "source": [
        "<!-- BEGIN QUESTION -->\n",
        "\n",
        "El anuncio de una compañía de alarmas en los Estados Unidos dice,\n",
        "\n",
        "> \"Cuando tú te vas de vacaciones, los ladrones van a trabajar [...] De acuerdo a estadísticas del FBI, cerca del 25% de los robos ocurren en días festivos.\"\n",
        "\n",
        "¿Los datos en el anuncio soportan la afirmación de que los ladrones es más probable que vayan a trabajar en días festivos? Por favor explique su respuesta. **(6 Puntos)**\n",
        "\n",
        "**Nota:** Suponga que cuando se dice \"cerca del 25%\" es realmente muy cerca de ese valor."
      ],
      "id": "iwnYiVbvH-mu"
    },
    {
      "cell_type": "markdown",
      "metadata": {
        "id": "1sNj3MWDH-mw"
      },
      "source": [
        "_Escriba su respuesta aquí. Reemplace este texto._\n"
      ],
      "id": "1sNj3MWDH-mw"
    },
    {
      "cell_type": "markdown",
      "metadata": {
        "id": "D_SgDZO9H-mx"
      },
      "source": [
        "<!-- END QUESTION -->\n",
        "\n",
        "## 2. Caracteres en Little Women\n"
      ],
      "id": "D_SgDZO9H-mx"
    },
    {
      "cell_type": "markdown",
      "metadata": {
        "id": "jQGe7D3BH-mz"
      },
      "source": [
        "En clase, contamos el número de veces que caracteres aparecen en cada capítulo del libro clásico [*Little Women*](https://inferentialthinking.com/chapters/01/3/1/Literary_Characters.html?highlight=little%20women).  En ciencias computacionales, la palabra \"caracter\" también hace referencia a una letra, dígito, espacio o signo de puntuación; cada elemento de un texto. El siguiente código genera una gráfica de dispersión en la cual cada punto corresponde a un capítulo de *Little Women*. La posición horizontal de un punto mide el número de puntos en un capítulo. La posición vertical midel el número total de caracteres."
      ],
      "id": "jQGe7D3BH-mz"
    },
    {
      "cell_type": "code",
      "execution_count": null,
      "metadata": {
        "scrolled": true,
        "tags": [],
        "id": "_cL8uX_4H-m1",
        "colab": {
          "base_uri": "https://localhost:8080/",
          "height": 471
        },
        "outputId": "fd71ae26-0575-467f-ad75-11d2131247ac"
      },
      "outputs": [
        {
          "output_type": "display_data",
          "data": {
            "text/plain": [
              "<Figure size 500x500 with 1 Axes>"
            ],
            "image/png": "[encoded data removed]"
          },
          "metadata": {}
        }
      ],
      "source": [
        "# Solo ejecute esta celda.\n",
        "\n",
        "# Esta celda contiene código que no ha sido cubierto en este curso,\n",
        "# sin embargo, usted deberá ser capaz de interpretar la gráfica de dipersión\n",
        "# que él genera.\n",
        "\n",
        "\n",
        "from datascience import *\n",
        "from urllib.request import urlopen\n",
        "import numpy as np\n",
        "%matplotlib inline\n",
        "\n",
        "little_women_url = 'https://www.inferentialthinking.com/data/little_women.txt'\n",
        "chapters = urlopen(little_women_url).read().decode().split('CHAPTER ')[1:]\n",
        "text = Table().with_column('Chapters', chapters)\n",
        "Table().with_columns(\n",
        "    'Puntos',    np.char.count(chapters, '.'),\n",
        "    'Caracteres', text.apply(len, 0)\n",
        "    ).scatter(0)"
      ],
      "id": "_cL8uX_4H-m1"
    },
    {
      "cell_type": "markdown",
      "metadata": {
        "id": "-UZFkr7-H-m3"
      },
      "source": [
        "**Pregunta 1.** ¿Cerca de cuántos puntos hay en el capítulo con más caracteres?\n",
        "Responda 1,2,3,4, ó 5 al nombre `caracteres_q1` en la siguiente celda. **(4 Puntos)**\n",
        "\n",
        "1. 250\n",
        "2. 390\n",
        "3. 440\n",
        "4. 32,000\n",
        "5. 40,000\n",
        "\n",
        "\n",
        "**Nota:** Si le aparece el error `NameError: name 'grader' is not defined` el calificador de la celda de abajo (y en cualquier otra tarea), ejecute de nuevo la primera celda al inicio de este notebook."
      ],
      "id": "-UZFkr7-H-m3"
    },
    {
      "cell_type": "code",
      "execution_count": null,
      "metadata": {
        "tags": [],
        "id": "K-9PV2Y7H-m4"
      },
      "outputs": [],
      "source": [
        "caracteres_q1 = ..."
      ],
      "id": "K-9PV2Y7H-m4"
    },
    {
      "cell_type": "code",
      "execution_count": null,
      "metadata": {
        "deletable": false,
        "editable": false,
        "id": "HY3xwKodH-m6"
      },
      "outputs": [],
      "source": [
        "grader.check(\"q2_1\")"
      ],
      "id": "HY3xwKodH-m6"
    },
    {
      "cell_type": "markdown",
      "metadata": {
        "id": "gyGCbd-wH-m8"
      },
      "source": [
        "La celda de arriba verifica que sus respuestas estén en el formato correcto. **Esta prueba no verifica que se haya respondido correctamente**, solo que haya escrito correctamente un número en cada celda de respuesta de selección múltiple."
      ],
      "id": "gyGCbd-wH-m8"
    },
    {
      "cell_type": "markdown",
      "metadata": {
        "id": "fWXIwSj0H-m8"
      },
      "source": [
        "**Pregunta 2.** ¿Cuál de los siguientes capítulos tiene la mayor cantidad de caracteres por punto? Responda 1, 2, ó 3 en el nombre `caracteres_q2` abajo. **(4 Puntos)**\n",
        "\n",
        "1. El capítulo con 60 puntos\n",
        "2. El capítulo con 350 puntos\n",
        "3. El capítulo con 440 puntos\n"
      ],
      "id": "fWXIwSj0H-m8"
    },
    {
      "cell_type": "code",
      "execution_count": null,
      "metadata": {
        "tags": [],
        "id": "2Obr1wrSH-m-"
      },
      "outputs": [],
      "source": [
        "caracteres_q2 = ..."
      ],
      "id": "2Obr1wrSH-m-"
    },
    {
      "cell_type": "code",
      "execution_count": null,
      "metadata": {
        "deletable": false,
        "editable": false,
        "id": "c89zMkxXH-m_"
      },
      "outputs": [],
      "source": [
        "grader.check(\"q2_2\")"
      ],
      "id": "c89zMkxXH-m_"
    },
    {
      "cell_type": "markdown",
      "metadata": {
        "id": "BAcEQJQcH-nA"
      },
      "source": [
        "De nuevo, la prueba de la celda anterior verifica que sus respuestas estén en el formato correcto, no que haya sido respondido correctamente."
      ],
      "id": "BAcEQJQcH-nA"
    },
    {
      "cell_type": "markdown",
      "metadata": {
        "id": "n9v0Ci-mH-nA"
      },
      "source": [
        "Para descubrir más datos interesantes sobre esta gráfica, vaya a la [Section 1.3.2](https://inferentialthinking.com/chapters/01/3/2/Another_Kind_Of_Character.html) en el libro guía."
      ],
      "id": "n9v0Ci-mH-nA"
    },
    {
      "cell_type": "markdown",
      "metadata": {
        "id": "sZzEmyXAH-nB"
      },
      "source": [
        "## 3. Nombres y Declaraciones de Asignación"
      ],
      "id": "sZzEmyXAH-nB"
    },
    {
      "cell_type": "markdown",
      "metadata": {
        "id": "qzvVi_pLH-nB"
      },
      "source": [
        "**Pregunta 1.** Cuando ejecuta la siguiente celda, Python produce un mensaje de error."
      ],
      "id": "qzvVi_pLH-nB"
    },
    {
      "cell_type": "code",
      "execution_count": null,
      "metadata": {
        "tags": [
          "raises-exception"
        ],
        "id": "tNnjQ1KqH-nC"
      },
      "outputs": [],
      "source": [
        "4 = 2 + 2"
      ],
      "id": "tNnjQ1KqH-nC"
    },
    {
      "cell_type": "markdown",
      "metadata": {
        "id": "_p8v1UiQH-nD"
      },
      "source": [
        "Escoja la mejor explicación para lo que está mal en el código. Responda 1, 2, 3, ó 4 en `nombres_q1` en la celda de abajo. **(4 Points)**\n",
        "\n",
        "\n",
        "\n",
        "1. Python es inteligente y sabe que `4 = 2 + 2`.\n",
        "\n",
        "2. En Python, hay una regla en la que el signo `=` debe tener el nombre de una variable a su izquierda y `4` no es el nombre de una variable.\n",
        "\n",
        "3. Debería ser `2 + 2 = 4`.\n",
        "\n",
        "4. Yo no obtengo ningún mensaje de error. Esta pregunta es capciosa.\n",
        "\n"
      ],
      "id": "_p8v1UiQH-nD"
    },
    {
      "cell_type": "code",
      "execution_count": null,
      "metadata": {
        "tags": [],
        "id": "IByETfz0H-nE"
      },
      "outputs": [],
      "source": [
        "nombres_q1 = ..."
      ],
      "id": "IByETfz0H-nE"
    },
    {
      "cell_type": "code",
      "execution_count": null,
      "metadata": {
        "deletable": false,
        "editable": false,
        "id": "CIporj6HH-nE"
      },
      "outputs": [],
      "source": [
        "grader.check(\"q3_1\")"
      ],
      "id": "CIporj6HH-nE"
    },
    {
      "cell_type": "markdown",
      "metadata": {
        "id": "rYOUAkEOH-nF"
      },
      "source": [
        "**Pregunta 2.** Cuando ejecuta la siguiente celda, Python va a arrojar otro mensaje de error."
      ],
      "id": "rYOUAkEOH-nF"
    },
    {
      "cell_type": "code",
      "execution_count": null,
      "metadata": {
        "tags": [
          "raises-exception"
        ],
        "id": "xSWPMlQjH-nG",
        "colab": {
          "base_uri": "https://localhost:8080/",
          "height": 106
        },
        "outputId": "988f2325-731a-4bfc-bc8e-90676647b7f8"
      },
      "outputs": [
        {
          "output_type": "error",
          "ename": "SyntaxError",
          "evalue": "invalid syntax (<ipython-input-5-1a8f0e263ec4>, line 2)",
          "traceback": [
            "\u001b[0;36m  File \u001b[0;32m\"<ipython-input-5-1a8f0e263ec4>\"\u001b[0;36m, line \u001b[0;32m2\u001b[0m\n\u001b[0;31m    seis = dos plus dos\u001b[0m\n\u001b[0m               ^\u001b[0m\n\u001b[0;31mSyntaxError\u001b[0m\u001b[0;31m:\u001b[0m invalid syntax\n"
          ]
        }
      ],
      "source": [
        "dos = 3\n",
        "seis = dos mas dos"
      ],
      "id": "xSWPMlQjH-nG"
    },
    {
      "cell_type": "markdown",
      "metadata": {
        "id": "vF-qeJt5H-nG"
      },
      "source": [
        "Escoja la mejor explicación para lo que está mal con el código y asigne 1, 2, 3 ó 4 en `nombres_q2` abajo para indicar su respuesta- **(4 Puntos)**\n",
        "\n",
        "\n",
        "1. La operación `mas` solo aplica a números, no a la palabra \"dos\".\n",
        "\n",
        "2.  El nombre \"dos\" no se puede asignar al número 3.\n",
        "\n",
        "3. Dos más dos es cuatro, no seis.\n",
        "\n",
        "4. El nombre `mas` no es un operador incorporado; en cambio, la suma usa `+`.\n"
      ],
      "id": "vF-qeJt5H-nG"
    },
    {
      "cell_type": "code",
      "execution_count": null,
      "metadata": {
        "tags": [],
        "id": "fQrr5SywH-nH"
      },
      "outputs": [],
      "source": [
        "names_q2 = ..."
      ],
      "id": "fQrr5SywH-nH"
    },
    {
      "cell_type": "code",
      "execution_count": null,
      "metadata": {
        "deletable": false,
        "editable": false,
        "id": "vJQdHU4EH-nI"
      },
      "outputs": [],
      "source": [
        "grader.check(\"q3_2\")"
      ],
      "id": "vJQdHU4EH-nI"
    },
    {
      "cell_type": "markdown",
      "metadata": {
        "id": "rTzCq2T0H-nI"
      },
      "source": [
        "**Pregunta 3.** Ejecute la siguiente celda."
      ],
      "id": "rTzCq2T0H-nI"
    },
    {
      "cell_type": "code",
      "execution_count": null,
      "metadata": {
        "tags": [
          "raises-exception"
        ],
        "id": "_gGxmCWUH-nJ"
      },
      "outputs": [],
      "source": [
        "x = 2\n",
        "y = 3 * x\n",
        "x = 4"
      ],
      "id": "_gGxmCWUH-nJ"
    },
    {
      "cell_type": "markdown",
      "metadata": {
        "id": "H6yQpSHCH-nJ"
      },
      "source": [
        "¿Cuál es el valor de `y` luego de correr esta celda? ¿Por qué? Escoja la mejor explicación y asigne 1, 2, 3, ó 4 a `nombres_q3` abajo para indicar su respuesta. **(4 Points)**\n",
        "\n",
        "1. `y` es igual a 6, porque el segundo `x = 4` no tiene efecto pues `x` ya había sido definida.\n",
        "\n",
        "2. `y` es igual a 6, porque `x` era 2 cuando se asignó `y`, y 3 * 2 es 6.\n",
        "\n",
        "3. `y` es igual a 12, porque `x` es 4 y 3 * 4 es 12.\n",
        "\n",
        "4. `y` es igual a 12, porque asignando `x` a 4 va a actualizar `y` a 12 mientras `y` está definida en términos de `x`."
      ],
      "id": "H6yQpSHCH-nJ"
    },
    {
      "cell_type": "code",
      "execution_count": null,
      "metadata": {
        "tags": [],
        "id": "fB_0BJsdH-nK"
      },
      "outputs": [],
      "source": [
        "nombres_q3 = ..."
      ],
      "id": "fB_0BJsdH-nK"
    },
    {
      "cell_type": "code",
      "execution_count": null,
      "metadata": {
        "deletable": false,
        "editable": false,
        "id": "rv9Y-haJH-nK"
      },
      "outputs": [],
      "source": [
        "grader.check(\"q3_3\")"
      ],
      "id": "rv9Y-haJH-nK"
    },
    {
      "cell_type": "markdown",
      "metadata": {
        "id": "YB6YsVNKH-nM"
      },
      "source": [
        "## 4. Diferencias entre Programas"
      ],
      "id": "YB6YsVNKH-nM"
    },
    {
      "cell_type": "markdown",
      "metadata": {
        "id": "4k8tyqiEH-nM"
      },
      "source": [
        "La oficina de Planeación y Análisis de Berkeley provee datos sobre muchos aspectos del campus. Adaptado de su página web, la tabla a continuación muestra el número de egresados en 3 programas entre los años académicos 2008-2009 y 2017-2018.\n",
        "\n",
        "\n",
        "| Programa                           | 2008-2009    | 2017-2018   |\n",
        "|------------------------------------|--------------|-------------|\n",
        "|Estudios de género y de la mujer    |      17      |    28       |\n",
        "| Lingüística                        |      49      |    67       |\n",
        "| Retórica                           |      113     |    56       |\n",
        "\n"
      ],
      "id": "4k8tyqiEH-nM"
    },
    {
      "cell_type": "markdown",
      "metadata": {
        "id": "UzfM7FuPH-nO"
      },
      "source": [
        "**Pregunta 1.** Suponga que quiere encontrar la **mayor** diferencia absoluta entre el número de graduados durante esos dos años, entre los tres programas.\n",
        "\n",
        "En la celda de abajo, calcule este valor y llámelo `mayor_diferencia`. Use una sola expresión (una sola línea de código) para calcular la respuesta. Deje que Python haga toda la aritmética (como sustraer 49 de 67) más que simplificar la expresión usted mismo. La función `abs` toma una entrada numérica y entrega el valor absoluto. La función `max` puede tomar 3 argumentos y devolver el valor máximo entre esos tres números. **(5 Puntos)**\n"
      ],
      "id": "UzfM7FuPH-nO"
    },
    {
      "cell_type": "code",
      "execution_count": null,
      "metadata": {
        "deletable": false,
        "tags": [],
        "id": "v9xnFU-MH-nO"
      },
      "outputs": [],
      "source": [
        "mayor_diferencia = ...\n",
        "mayor_diferencia"
      ],
      "id": "v9xnFU-MH-nO"
    },
    {
      "cell_type": "code",
      "execution_count": null,
      "metadata": {
        "deletable": false,
        "editable": false,
        "id": "Ah1nHPrHH-nP"
      },
      "outputs": [],
      "source": [
        "grader.check(\"q4_1\")"
      ],
      "id": "Ah1nHPrHH-nP"
    },
    {
      "cell_type": "markdown",
      "metadata": {
        "id": "tBxrHQr7H-nV"
      },
      "source": [
        "**Pregunta 2.** ¿Cuál de los tres programas tiene la **menor** diferencia absoluta? Asigne `menor_cambio_programa` a 1, 2 ó 3 donce cada número corresponde al siguiente programa:\n",
        "\n",
        "1. Género y estudios de la mujer.\n",
        "2. Lingüística.\n",
        "3. Retórica.\n",
        "\n",
        "Escoja el número que corresponda al programa con el la menor diferencia absoluta. **(4 Puntos)**\n",
        "\n",
        "_Hint:_ Deberá ser capaz de responder aproximadamente con aritmética mental, sin tener que calcular el valor exacto de cada programa.\n",
        "\n"
      ],
      "id": "tBxrHQr7H-nV"
    },
    {
      "cell_type": "code",
      "execution_count": null,
      "metadata": {
        "deletable": false,
        "tags": [],
        "id": "x5R1YTbTH-nW",
        "colab": {
          "base_uri": "https://localhost:8080/"
        },
        "outputId": "71bc927a-5f2e-400e-a5c6-d197a2b0db30"
      },
      "outputs": [
        {
          "output_type": "execute_result",
          "data": {
            "text/plain": [
              "Ellipsis"
            ]
          },
          "metadata": {},
          "execution_count": 1
        }
      ],
      "source": [
        "menor_cambio_programa = ...\n",
        "menor_cambio_programa"
      ],
      "id": "x5R1YTbTH-nW"
    },
    {
      "cell_type": "code",
      "execution_count": null,
      "metadata": {
        "deletable": false,
        "editable": false,
        "id": "b3quYf_gH-nW"
      },
      "outputs": [],
      "source": [
        "grader.check(\"q4_2\")"
      ],
      "id": "b3quYf_gH-nW"
    },
    {
      "cell_type": "markdown",
      "metadata": {
        "id": "vttA-1QWH-nX"
      },
      "source": [
        "**Pregunta 3.** Para cada programa, defina el \"cambio relativo\" como sigue:\n",
        "$\\large{\\frac{\\text{diferencia absoluta}}{\\text{valor en 2008-2009}} * 100}$\n",
        "\n",
        "Llene el código de la siguiente celda de forma tal que `cambio_relativo_genero`, `cambio_relativo_linguistica` y `cambio_relativo_retorica`sean asignados a los cambios relativos de sus respectivos programas. **(5 Puntos)**"
      ],
      "id": "vttA-1QWH-nX"
    },
    {
      "cell_type": "code",
      "execution_count": null,
      "metadata": {
        "deletable": false,
        "for_assignment_type": "student",
        "tags": [],
        "id": "EaXGVdxhH-nX"
      },
      "outputs": [],
      "source": [
        "cambio_relativo_genero = (abs(...) / 17) * 100\n",
        "cambio_relativo_linguistica = ...\n",
        "cambio_relativo_retorica = ...\n",
        "cambio_relativo_genero, cambio_relativo_linguistica, cambio_relativo_retorica"
      ],
      "id": "EaXGVdxhH-nX"
    },
    {
      "cell_type": "code",
      "execution_count": null,
      "metadata": {
        "deletable": false,
        "editable": false,
        "id": "Ppn6HjZtH-nY"
      },
      "outputs": [],
      "source": [
        "grader.check(\"q4_3\")"
      ],
      "id": "Ppn6HjZtH-nY"
    },
    {
      "cell_type": "markdown",
      "metadata": {
        "id": "yx5ootxwH-nZ"
      },
      "source": [
        "**Pregunta 4.** Asigne `mayor_cambio_rel_programa` a 1, 2, ó 3 donde cada número corresponde con:\n",
        "\n",
        "1. Género y estudios de la mujer.\n",
        "2. Lingüística.\n",
        "3. Retórica.\n",
        "\n",
        "Elija el número que corresponda al programa con el mayor cambio relativo.\n",
        " **(4 Puntos)**\n"
      ],
      "id": "yx5ootxwH-nZ"
    },
    {
      "cell_type": "code",
      "execution_count": null,
      "metadata": {
        "deletable": false,
        "tags": [],
        "id": "1_mSMEC7H-nZ"
      },
      "outputs": [],
      "source": [
        "mayor_cambio_rel_programa = ...\n",
        "mayor_cambio_rel_programa"
      ],
      "id": "1_mSMEC7H-nZ"
    },
    {
      "cell_type": "code",
      "execution_count": null,
      "metadata": {
        "deletable": false,
        "editable": false,
        "id": "tC9X81-4H-na"
      },
      "outputs": [],
      "source": [
        "grader.check(\"q4_4\")"
      ],
      "id": "tC9X81-4H-na"
    },
    {
      "cell_type": "markdown",
      "metadata": {
        "id": "AK5zHFG2H-nb"
      },
      "source": [
        "## 5. Estudio sobre la miopía"
      ],
      "id": "AK5zHFG2H-nb"
    },
    {
      "cell_type": "markdown",
      "metadata": {
        "id": "5CpW5GPEH-nc"
      },
      "source": [
        "La [miopía](https://es.wikipedia.org/wiki/Miop%C3%ADa) resulta de un número de factores genéticos y ambientales. En 1999, Quinn y colaboradores estudiaron la relación entre la miopía y la iluminación ambiental en la noche (por ejemplo, por las luces nocturnas de las ciudades o la luz de las habitaciones) durante la infancia."
      ],
      "id": "5CpW5GPEH-nc"
    },
    {
      "cell_type": "markdown",
      "metadata": {
        "id": "ncXjQCS-H-nd"
      },
      "source": [
        "<!-- BEGIN QUESTION -->\n",
        "\n",
        "**Pregunta 1.** Los datos reportados en el estudio fueron obtenidos mediante el siguiente procedimiento. \"Entre enero y junio de 1998, padres de niños entre los 2 y los 16 años [...] que fueron tratados como pacientes en una clínica pediátrica de oftalmología, llenaron un cuestionario sobre la exposición de luz de los niños antes y después de que hubieran cumplido 2 años. ¿Fue este estudio observacional o fue un experimento controlado? Explique. **(5 Puntos)**\n"
      ],
      "id": "ncXjQCS-H-nd"
    },
    {
      "cell_type": "markdown",
      "metadata": {
        "id": "bo0gr74tH-nd"
      },
      "source": [
        "\n",
        "Escriba aquí su respuesta, reemplazando este texto."
      ],
      "id": "bo0gr74tH-nd"
    },
    {
      "cell_type": "markdown",
      "metadata": {
        "id": "KVgwL1GUH-ne"
      },
      "source": [
        "<!-- END QUESTION -->\n",
        "\n",
        "<!-- BEGIN QUESTION -->\n",
        "\n",
        "**Pregunta 2.** El estudio encontró que de los niños que dormían con la luz de la habitación encendida antes de cumplir los 2 años, el 55% era miope.  De los niños que dormían con una lámpara de noche encendida, el 34% eran miopes. De los niños menores de 2 años que dormían en la oscuridad, 10% eran miopes. El estudio concluyó lo siguiente: \"La prevalencia de la miopía [...] durante la infancia está fuertemente asociada con la exposición a luz ambiental durante el sueño en la noche, durante los dos primeros años de edad.\"\n",
        "\n",
        "¿Los datos soportan esta conclusión? ¿Por qué?\n",
        "Interprete \"fuertemente\" en una forma cualitativamente razonable. **(5 Puntos)**\n"
      ],
      "id": "KVgwL1GUH-ne"
    },
    {
      "cell_type": "markdown",
      "metadata": {
        "id": "G8e23wlpH-nf"
      },
      "source": [
        "\n",
        "Escriba aquí su respuesta, reemplazando este texto."
      ],
      "id": "G8e23wlpH-nf"
    },
    {
      "cell_type": "markdown",
      "metadata": {
        "id": "Cp5dv6BaH-nf"
      },
      "source": [
        "<!-- END QUESTION -->\n",
        "\n",
        "<!-- BEGIN QUESTION -->\n",
        "\n",
        "**Pregunta 3.** El 13 de mayo de 1999, CNN reportó los resultados de este estudio con el titular: \"La luz nocturna puede producir miopía\". ¿El estudio original concluye que la luz nocturna puede causar miopía? **(5 Puntos)**\n",
        "\n"
      ],
      "id": "Cp5dv6BaH-nf"
    },
    {
      "cell_type": "markdown",
      "metadata": {
        "id": "Xv1lcB0hH-ng"
      },
      "source": [
        "Escriba aquí su respuesta, reemplazando este texto."
      ],
      "id": "Xv1lcB0hH-ng"
    },
    {
      "cell_type": "markdown",
      "metadata": {
        "id": "FVnuOtttH-nh"
      },
      "source": [
        "<!-- END QUESTION -->\n",
        "\n",
        "<!-- BEGIN QUESTION -->\n",
        "\n",
        "**Pregunta 4.** EL párrafo final del reporte de CNN dice que \"muchos especialistas\" señalaron que el estudio debería considerar la herencia.\n",
        "\n",
        "La miopía se hereda de los padres a los hijos. Padres miopes tienen mayor probabilidad de tener hijos miopes, y es también más probable que dejen las luces encendidas habitualmente (dado que los padres tienen mala visión). ¿En qué sentido el conocimiento de esta posible relción genética afecta cómo interpretamos los datos del estudio? Explique **(5 Puntos)**"
      ],
      "id": "FVnuOtttH-nh"
    },
    {
      "cell_type": "markdown",
      "metadata": {
        "id": "Z-86_njAH-nh"
      },
      "source": [
        "_Escriba aquí su respuesta, reemplazando este texto._"
      ],
      "id": "Z-86_njAH-nh"
    },
    {
      "cell_type": "markdown",
      "metadata": {
        "id": "dXJtf_TLH-nh"
      },
      "source": [
        "<!-- END QUESTION -->\n",
        "\n",
        "## 6. Estudiando a los sobrevivientes"
      ],
      "id": "dXJtf_TLH-nh"
    },
    {
      "cell_type": "markdown",
      "metadata": {
        "id": "ZrSNyNTBH-ni"
      },
      "source": [
        "El reverendo Henry Whitehead fue escéptico sobre la conclusión de John Snow sobre el Brote de Broad Street.  Luego de que la pandemia de cólera de Broad Street terminó, Whitehead trató de de probar que Snow estaba equivocado. (La historia de este evento se detalla [aquí](https://www.scielo.cl/scielo.php?script=sci_arttext&pid=S0716-10182007000400014).)\n",
        "\n",
        "\n",
        "Él notó que Snow había enfocado su análisis casi enteramente en aquellos que fallecieron. Whitehead, por otro lado, investigó los hábitos de bebida de las personas en el área de Broad Street que no habían fallecido en el brote.\n",
        "\n",
        "¿Cuál es la principal razón por la cual fue importante estudiar este grupo. Asigne 1, 2, ó 3 al nombre `respuesta_supervivientes` abajo. **(4 Points)**\n",
        "\n",
        "\n",
        "1. Si Whitehead encontró que muchas personas habían bebido agua del brote de Broad Street y no se contagiaron de cólera, esto puede ser evidencia contra la hipótesis de Snow.\n",
        "\n",
        "2. Los sobrevivientes pueden proveer información adicional sobre qué más pudo haber causado el cólera, potencialmente apuntando a otra causa.\n",
        "\n",
        "3. Tras considerar los supervivientes, Whitehead pudo haber identificado una cura para el cólera.\n"
      ],
      "id": "ZrSNyNTBH-ni"
    },
    {
      "cell_type": "code",
      "execution_count": null,
      "metadata": {
        "deletable": false,
        "tags": [],
        "id": "BSQG1LqbH-ni"
      },
      "outputs": [],
      "source": [
        "respuesta_supervivientes = ..."
      ],
      "id": "BSQG1LqbH-ni"
    },
    {
      "cell_type": "code",
      "execution_count": null,
      "metadata": {
        "deletable": false,
        "editable": false,
        "id": "8xwUGON5H-nj"
      },
      "outputs": [],
      "source": [
        "grader.check(\"q6_1\")"
      ],
      "id": "8xwUGON5H-nj"
    },
    {
      "cell_type": "markdown",
      "metadata": {
        "id": "eD-CXVTyH-nj"
      },
      "source": [
        "**Nota:** Whitehead terminó encontrando pruebas de que el brote de Broad Street jugó un rol clave en la propagación de la enfermedad a personas que vivían cerca. Eventualmente, se convirtió en uno de los mayores defensores de Snow."
      ],
      "id": "eD-CXVTyH-nj"
    },
    {
      "cell_type": "markdown",
      "metadata": {
        "id": "i-OLqWo8H-nj"
      },
      "source": [
        "## 7. Políticas y Administratrivia\n",
        "\n"
      ],
      "id": "i-OLqWo8H-nj"
    },
    {
      "cell_type": "markdown",
      "metadata": {
        "id": "X3a1zzUbH-nj"
      },
      "source": [
        "Esta sección de la tarea es para asegurarnos que leyó la las políticas y sección de preguntas frecuentes del curso.\n",
        "\n",
        "**Es importante que lea esta sección de la tarea con mucha atención**. Si\n",
        "usted logra terminar esta sección y está seguro de tener todos los recursos correctos configurados, ¡podrá concentrarse en el material real este semestre!\n",
        "\n",
        "Leyendo la sección de [políticas](http://data8.org/fa23/policies/) y de [preguntas frecuentes](http://data8.org/fa23/faq/) podrá aprobar esta sección con facilidad. Se recomiendo leer antes de en efecto ejecutar esta parte de la tarea."
      ],
      "id": "X3a1zzUbH-nj"
    },
    {
      "cell_type": "markdown",
      "metadata": {
        "id": "A47Wmjz2H-nk"
      },
      "source": [
        "**Pregunta 1.** Suponga que tiene una pregunta respecto a la calificación de algunas de sus tareas que no estaba previamente respondida en la plataforma o en la sección de preguntas precuentes. ¿A quién contactaría? Asigne `contact` al número correspondiente con la mejor elección. **(4 Points)**\n",
        "\n",
        "\n",
        "1. Los instructores del curso.\n",
        "2. Publicar una pregunta en la plataforma.\n",
        "3. Contactar a su profesor del laboratorio.\n"
      ],
      "id": "A47Wmjz2H-nk"
    },
    {
      "cell_type": "code",
      "execution_count": null,
      "metadata": {
        "tags": [],
        "id": "aLnNtnfYH-nk"
      },
      "outputs": [],
      "source": [
        "contacto = ..."
      ],
      "id": "aLnNtnfYH-nk"
    },
    {
      "cell_type": "code",
      "execution_count": null,
      "metadata": {
        "deletable": false,
        "editable": false,
        "id": "e8-luHBtH-nl"
      },
      "outputs": [],
      "source": [
        "grader.check(\"q7_1\")"
      ],
      "id": "e8-luHBtH-nl"
    },
    {
      "cell_type": "markdown",
      "metadata": {
        "id": "Vr_vWXZfH-nl"
      },
      "source": [
        "**Pregunta 2.** ¿Por qué típicamente hay 2 ítems listados en Gradescope para cada tarea? Asigne `notas` al número correspondiente con la mejor elección abajo **(4 Points)**\n",
        "\n",
        "1. Hubo un error con la calificación. Debería contactar a alguien.\n",
        "2. Un ítem corresponde a las preguntas de código (que eventualmente presentaré), y la otra es automáticamente presentada por mí y contiene mi trabajo escrito.\n",
        "3. Pregunta capciosa."
      ],
      "id": "Vr_vWXZfH-nl"
    },
    {
      "cell_type": "code",
      "execution_count": null,
      "metadata": {
        "tags": [],
        "id": "U2vKoZvnH-nm"
      },
      "outputs": [],
      "source": [
        "notas = ..."
      ],
      "id": "U2vKoZvnH-nm"
    },
    {
      "cell_type": "code",
      "execution_count": null,
      "metadata": {
        "deletable": false,
        "editable": false,
        "id": "ywMtacOsH-nm"
      },
      "outputs": [],
      "source": [
        "grader.check(\"q7_2\")"
      ],
      "id": "ywMtacOsH-nm"
    },
    {
      "cell_type": "markdown",
      "metadata": {
        "id": "1gHs7s21H-nn"
      },
      "source": [
        "**Question 3.** Las fechas límites para volver a calificar siempre se publicarán en la plataforma en la que se entregan las notas de las tareas, errores comunes y soluciones. ¿Puede pedir que recalifiquen partes de su tarea luego de que se haya cumplido el plazo de recalificación? Asigne `calificacion` al número correspondiente con la mejor elección. **(4 puntos)**\n",
        "\n",
        "\n",
        "1. Sí\n",
        "2. No\n"
      ],
      "id": "1gHs7s21H-nn"
    },
    {
      "cell_type": "code",
      "execution_count": null,
      "metadata": {
        "tags": [],
        "id": "nOJasV9CH-nn"
      },
      "outputs": [],
      "source": [
        "calificacion = ..."
      ],
      "id": "nOJasV9CH-nn"
    },
    {
      "cell_type": "code",
      "execution_count": null,
      "metadata": {
        "deletable": false,
        "editable": false,
        "id": "oVjNKh9TH-nn"
      },
      "outputs": [],
      "source": [
        "grader.check(\"q7_3\")"
      ],
      "id": "oVjNKh9TH-nn"
    },
    {
      "cell_type": "markdown",
      "metadata": {
        "id": "ezhAurGVH-no"
      },
      "source": [
        "**Pregunta 4.** ¿Tiene usted una cuenta en Gradescope? Vaya a [gradescope.com](http://gradescope.com) y verifique si ve el curso de Fundamentos de Ciencia de Datos. Si no, envíe un correo a su profesor de laboratorio con su correo electrónico y número de identificación.\n",
        "\n",
        "una vez se haya unidoo, vaya al Gradescope del curso. Al final de la dirección web, verá un número de 6 dígitos. Asigne `gradescope` a ese número. **(4 Points)**"
      ],
      "id": "ezhAurGVH-no"
    },
    {
      "cell_type": "code",
      "execution_count": null,
      "metadata": {
        "tags": [],
        "id": "DIamVfaxH-np"
      },
      "outputs": [],
      "source": [
        "gradescope = ..."
      ],
      "id": "DIamVfaxH-np"
    },
    {
      "cell_type": "code",
      "execution_count": null,
      "metadata": {
        "deletable": false,
        "editable": false,
        "id": "B0RIo8o6H-np"
      },
      "outputs": [],
      "source": [
        "grader.check(\"q7_4\")"
      ],
      "id": "B0RIo8o6H-np"
    },
    {
      "cell_type": "markdown",
      "metadata": {
        "id": "B0WEYqTrH-nq"
      },
      "source": [
        "**Pregunta 5.** Dados los siguientes escenarios, asigne `aceptable`al número que corresponda con un escenario posible dadas las [políticas](http://data8.org/fa23/policies/) en la página del curso. **(4 Puntos)**\n",
        "\n",
        "\n",
        "1. Nicolás está teniendo problemas resolviendo una tarea, por lo que googlea la respuesta. Él encuentra un pdf con las soluciones de semestres o cursos previos. Luego de leerla, Nicolás escribe su propia solución y presenta la tarea.\n",
        "\n",
        "\n",
        "2. Luego de tener muchas dudas en un proyecto, Juan le pide ayuda a algunos compañeros. Su amiga Ana ayuda a Juan explicándole bajo su propia lógia, sin comptrarle su código y señalando las partes que son mpás importantes dado el contexto de la pregunta. Luego de escuchar a Ana, Juan escribe su propio código y termina el proyecto.\n",
        "\n",
        "\n",
        "3. Clara (quien está en un labortaorio habitual) tiene un día muy ocupado, por lo que realmente quiere salir antes del laboratorio terminándolo antes y haciendo que lo califiquen. Su compañero, Mateo, voltea su monitor para que Clara pueda ver las respuestas y completar algunas preguntas. Luego de mirar el código, Clara finaliza el laboratorio y lo entrega.\n",
        "\n"
      ],
      "id": "B0WEYqTrH-nq"
    },
    {
      "cell_type": "code",
      "execution_count": null,
      "metadata": {
        "tags": [],
        "id": "w6d8Q4yVH-nq"
      },
      "outputs": [],
      "source": [
        "aceptable = ..."
      ],
      "id": "w6d8Q4yVH-nq"
    },
    {
      "cell_type": "code",
      "execution_count": null,
      "metadata": {
        "deletable": false,
        "editable": false,
        "id": "HrzTY3ItH-nq"
      },
      "outputs": [],
      "source": [
        "grader.check(\"q7_5\")"
      ],
      "id": "HrzTY3ItH-nq"
    },
    {
      "cell_type": "markdown",
      "metadata": {
        "id": "0NycI4DwH-nq"
      },
      "source": [
        "**Pregunta 6.** Para asegurarnos de que usted leyó cuidadosamente las [políticas](http://data8.org/fa23/policies/) y las [preguntas frecuentes](http://data8.org/fa23/faq/), ¿cuántas entregas de tareas y laboratorios hay? Asigne  `entregas` al número que corresponda la mejor opción abajo. **(4 Puntos)**\n",
        "\n",
        "To make sure you have read through the [policies](http://data8.org/fa23/policies/) and the [FAQ](http://data8.org/fa23/faq/) carefully, how many HW and lab drops are there? Assign `drops` to the number corresponding to the best choice below. **(4 Points)**\n",
        "\n",
        "1. Dos entregas de tarea y tres de laboratorio.\n",
        "2. Dos entregas de tarea y dos de laboratorio.\n",
        "3. Solo dos entregas de tarea.\n",
        "4. Una entrega de tarea y dos laboratorios.\n"
      ],
      "id": "0NycI4DwH-nq"
    },
    {
      "cell_type": "code",
      "execution_count": null,
      "metadata": {
        "tags": [],
        "id": "_ZK3kQZkH-nr"
      },
      "outputs": [],
      "source": [
        "entregas = ..."
      ],
      "id": "_ZK3kQZkH-nr"
    },
    {
      "cell_type": "code",
      "execution_count": null,
      "metadata": {
        "deletable": false,
        "editable": false,
        "id": "23mwFA48H-nr"
      },
      "outputs": [],
      "source": [
        "grader.check(\"q7_6\")"
      ],
      "id": "23mwFA48H-nr"
    },
    {
      "cell_type": "markdown",
      "metadata": {
        "id": "WGRZuPibH-nr"
      },
      "source": [
        "**Pregunta 7.** Tiene el curso de Fundamentos de Ciencia de Datos alternativas para el examen final para aquellos que tienen inconvenientes con el horario de las clases? Asigne `examen` el número correspondiente con la mejor elección. **(3 Puntos)**\n",
        "\n",
        "1. Sí\n",
        "2. No\n"
      ],
      "id": "WGRZuPibH-nr"
    },
    {
      "cell_type": "code",
      "execution_count": null,
      "metadata": {
        "tags": [],
        "id": "qkWFLReDH-ns"
      },
      "outputs": [],
      "source": [
        "examen = ..."
      ],
      "id": "qkWFLReDH-ns"
    },
    {
      "cell_type": "code",
      "execution_count": null,
      "metadata": {
        "deletable": false,
        "editable": false,
        "id": "QKGikTWkH-ns"
      },
      "outputs": [],
      "source": [
        "grader.check(\"q7_7\")"
      ],
      "id": "QKGikTWkH-ns"
    },
    {
      "cell_type": "markdown",
      "metadata": {
        "id": "NQMH9YADH-nt"
      },
      "source": [
        "**Question 8:** ¿Está usted en efecto inscrito en la plataforma? Vaya a las publicaciones de este semestre y encuentre la frase secreta que publicó el instructor del curso. Asigne `secreto` a dicha frase en comillas (como una cadena de caracteres). **(4 Puntos)**"
      ],
      "id": "NQMH9YADH-nt"
    },
    {
      "cell_type": "code",
      "execution_count": null,
      "metadata": {
        "tags": [],
        "id": "FM0zW8g-H-nt"
      },
      "outputs": [],
      "source": [
        "secret = ..."
      ],
      "id": "FM0zW8g-H-nt"
    },
    {
      "cell_type": "code",
      "execution_count": null,
      "metadata": {
        "deletable": false,
        "editable": false,
        "id": "tm_BHWahH-nu"
      },
      "outputs": [],
      "source": [
        "grader.check(\"q7_8\")"
      ],
      "id": "tm_BHWahH-nu"
    },
    {
      "cell_type": "markdown",
      "metadata": {
        "id": "rkRel_85H-nu"
      },
      "source": [
        "## 8. Welcome Survey"
      ],
      "id": "rkRel_85H-nu"
    },
    {
      "cell_type": "markdown",
      "metadata": {
        "id": "y514KVi9H-nv"
      },
      "source": [
        "**Pregunta 1.** Por créditos extra en la tarea 1, llene el siguiente formulario diagnóstico. Preste atención al secreto una vez lo complete. **(1 Punto)**\n",
        "\n",
        "Please complete the welcome survey below in order to receive credit for homework 1. Keep an eye out for the secret once} you submit! **(1 Point)**\n",
        "\n",
        "- [Cuestionario diagnóstico](https://forms.gle/pCanzM4vpQgLoFdGA)"
      ],
      "id": "y514KVi9H-nv"
    },
    {
      "cell_type": "markdown",
      "metadata": {
        "id": "2Lj_L1v8H-nv"
      },
      "source": [
        "Asigne `cuestionario` a la frase secreta que se muestra al finalizar el cuestionario. Asegúrese de escribir la frase dentro de comillas (cadena de caracteres).\n"
      ],
      "id": "2Lj_L1v8H-nv"
    },
    {
      "cell_type": "code",
      "execution_count": null,
      "metadata": {
        "tags": [],
        "id": "KdXrjrJIH-nv"
      },
      "outputs": [],
      "source": [
        "cuestionario = ..."
      ],
      "id": "KdXrjrJIH-nv"
    },
    {
      "cell_type": "code",
      "execution_count": null,
      "metadata": {
        "deletable": false,
        "editable": false,
        "id": "zkwFHgsHH-nw",
        "colab": {
          "base_uri": "https://localhost:8080/",
          "height": 141
        },
        "outputId": "b2f62138-b38c-4dbe-8b71-445d7a75ceb3"
      },
      "outputs": [
        {
          "output_type": "error",
          "ename": "NameError",
          "evalue": "name 'grader' is not defined",
          "traceback": [
            "\u001b[0;31m---------------------------------------------------------------------------\u001b[0m",
            "\u001b[0;31mNameError\u001b[0m                                 Traceback (most recent call last)",
            "\u001b[0;32m<ipython-input-2-7fec29997a31>\u001b[0m in \u001b[0;36m<cell line: 1>\u001b[0;34m()\u001b[0m\n\u001b[0;32m----> 1\u001b[0;31m \u001b[0mgrader\u001b[0m\u001b[0;34m.\u001b[0m\u001b[0mcheck\u001b[0m\u001b[0;34m(\u001b[0m\u001b[0;34m\"q8_1\"\u001b[0m\u001b[0;34m)\u001b[0m\u001b[0;34m\u001b[0m\u001b[0;34m\u001b[0m\u001b[0m\n\u001b[0m",
            "\u001b[0;31mNameError\u001b[0m: name 'grader' is not defined"
          ]
        }
      ],
      "source": [
        "grader.check(\"q8_1\")"
      ],
      "id": "zkwFHgsHH-nw"
    },
    {
      "cell_type": "markdown",
      "metadata": {
        "id": "vKd9xgExH-nw"
      },
      "source": [
        "¡Terminó la tarea 1!\n",
        "\n",
        "**Información sobre la entrega:** Asegúrese de correr todas las pruebas y verificar que se ejectuen correctamente. Aquí, seleccione **Guardar Notebook** En el menú de **Archivo** y **corra la  última celda** para luego darle click en descargar el archivo zip. Con el archivo, vaya a [Gradescope](https://www.gradescope.com/courses/576157) y cargue el archivo zip correspondiente a esta tarea. El nombre de esta tarea es \"HW 01 Autograder\". **Es su responsabilidad asegurarse que su trabajo se guarde antes de correr la última celda**.\n",
        "\n",
        "Una vez la haya entregado, su tarea en Gradescope se deberá ver como la siguiente imagen si pasó todas las pruebas.\n",
        "\n",
        "\n",
        "**Nota:** *Esta foto es el resultado de someter un atrabajo genérico a Gradescope.*\n",
        "\n",
        "<img src=\"gradescope.png\">"
      ],
      "id": "vKd9xgExH-nw"
    },
    {
      "cell_type": "markdown",
      "metadata": {
        "id": "6xarRq-1H-nw"
      },
      "source": [
        "## Estudiantes de Fundamentos de Ciencia de Datos\n",
        "\n",
        "¡Felicitaciones por terminar la tarea 1!\n",
        "\n",
        "<img src=\"./snowball.png\" width=\"30%\" alt=\"Close up picture of dog smiling.\"/>\n",
        "\n",
        "Perro de la semana: **Snowball**"
      ],
      "id": "6xarRq-1H-nw"
    },
    {
      "cell_type": "markdown",
      "metadata": {
        "deletable": false,
        "editable": false,
        "id": "asd8hmQQH-nw"
      },
      "source": [
        "## Entrega\n",
        "\n",
        "Asegúrese que ha ejecutado todas las celdas en su notebook en orden antes de ejecutar la celda de abajo. De esta forma todas las imágenes/gráficas apareceran en la salida. La celda de abajo va a generar un archivo con extensión .zip para que usted lo entregue. **¡Por favor guarde antes de exportar!**\n"
      ],
      "id": "asd8hmQQH-nw"
    },
    {
      "cell_type": "code",
      "execution_count": null,
      "metadata": {
        "deletable": false,
        "editable": false,
        "id": "b4s49lqdH-nx"
      },
      "outputs": [],
      "source": [
        "# Guarde primero su notebook, luego ejecute esta celda para obtener el archivo a\n",
        "# entregar.\n",
        "grader.export(pdf=False, run_tests=True)"
      ],
      "id": "b4s49lqdH-nx"
    },
    {
      "cell_type": "markdown",
      "metadata": {
        "id": "Is87ulHMH-nx"
      },
      "source": [],
      "id": "Is87ulHMH-nx"
    }
  ],
  "metadata": {
    "kernelspec": {
      "display_name": "Python 3",
      "language": "python",
      "name": "python3"
    },
    "language_info": {
      "codemirror_mode": {
        "name": "ipython",
        "version": 3
      },
      "file_extension": ".py",
      "mimetype": "text/x-python",
      "name": "python",
      "nbconvert_exporter": "python",
      "pygments_lexer": "ipython3",
      "version": "3.11.2"
    },
    "otter": {
      "OK_FORMAT": true,
      "tests": {
        "q2_1": {
          "name": "q2_1",
          "points": [
            0
          ],
          "suites": [
            {
              "cases": [
                {
                  "code": ">>> 1 <= characters_q1 <= 5\nTrue",
                  "hidden": false,
                  "locked": false
                }
              ],
              "scored": true,
              "setup": "",
              "teardown": "",
              "type": "doctest"
            }
          ]
        },
        "q2_2": {
          "name": "q2_2",
          "points": [
            0
          ],
          "suites": [
            {
              "cases": [
                {
                  "code": ">>> 1 <= characters_q2 <= 3\nTrue",
                  "hidden": false,
                  "locked": false
                }
              ],
              "scored": true,
              "setup": "",
              "teardown": "",
              "type": "doctest"
            }
          ]
        },
        "q3_1": {
          "name": "q3_1",
          "points": [
            0
          ],
          "suites": [
            {
              "cases": [
                {
                  "code": ">>> 1 <= names_q1 <= 4\nTrue",
                  "hidden": false,
                  "locked": false
                }
              ],
              "scored": true,
              "setup": "",
              "teardown": "",
              "type": "doctest"
            }
          ]
        },
        "q3_2": {
          "name": "q3_2",
          "points": [
            0
          ],
          "suites": [
            {
              "cases": [
                {
                  "code": ">>> 1 <= names_q2 <= 4\nTrue",
                  "hidden": false,
                  "locked": false
                }
              ],
              "scored": true,
              "setup": "",
              "teardown": "",
              "type": "doctest"
            }
          ]
        },
        "q3_3": {
          "name": "q3_3",
          "points": [
            0
          ],
          "suites": [
            {
              "cases": [
                {
                  "code": ">>> 1 <= names_q3 <= 4\nTrue",
                  "hidden": false,
                  "locked": false
                }
              ],
              "scored": true,
              "setup": "",
              "teardown": "",
              "type": "doctest"
            }
          ]
        },
        "q4_1": {
          "name": "q4_1",
          "points": [
            0
          ],
          "suites": [
            {
              "cases": [
                {
                  "code": ">>> isinstance(biggest_change, (int, float))\nTrue",
                  "hidden": false,
                  "locked": false
                }
              ],
              "scored": true,
              "setup": "",
              "teardown": "",
              "type": "doctest"
            }
          ]
        },
        "q4_2": {
          "name": "q4_2",
          "points": [
            0,
            0
          ],
          "suites": [
            {
              "cases": [
                {
                  "code": ">>> isinstance(smallest_change_major, (int, float))\nTrue",
                  "hidden": false,
                  "locked": false
                },
                {
                  "code": ">>> 1 <= smallest_change_major <= 3\nTrue",
                  "hidden": false,
                  "locked": false
                }
              ],
              "scored": true,
              "setup": "",
              "teardown": "",
              "type": "doctest"
            }
          ]
        },
        "q4_3": {
          "name": "q4_3",
          "points": [
            0,
            0,
            0
          ],
          "suites": [
            {
              "cases": [
                {
                  "code": ">>> isinstance(gws_relative_change, (int, float))\nTrue",
                  "hidden": false,
                  "locked": false
                },
                {
                  "code": ">>> isinstance(linguistics_relative_change, (int, float))\nTrue",
                  "hidden": false,
                  "locked": false
                },
                {
                  "code": ">>> isinstance(rhetoric_relative_change, (int, float))\nTrue",
                  "hidden": false,
                  "locked": false
                }
              ],
              "scored": true,
              "setup": "",
              "teardown": "",
              "type": "doctest"
            }
          ]
        },
        "q4_4": {
          "name": "q4_4",
          "points": [
            0,
            0
          ],
          "suites": [
            {
              "cases": [
                {
                  "code": ">>> isinstance(biggest_rel_change_major, (int, float))\nTrue",
                  "hidden": false,
                  "locked": false
                },
                {
                  "code": ">>> 1 <= biggest_rel_change_major <= 3\nTrue",
                  "hidden": false,
                  "locked": false
                }
              ],
              "scored": true,
              "setup": "",
              "teardown": "",
              "type": "doctest"
            }
          ]
        },
        "q6_1": {
          "name": "q6_1",
          "points": [
            0
          ],
          "suites": [
            {
              "cases": [
                {
                  "code": ">>> 1 <= survivor_answer <= 3\nTrue",
                  "hidden": false,
                  "locked": false
                }
              ],
              "scored": true,
              "setup": "",
              "teardown": "",
              "type": "doctest"
            }
          ]
        },
        "q7_1": {
          "name": "q7_1",
          "points": [
            4
          ],
          "suites": [
            {
              "cases": [
                {
                  "code": ">>> contact == 3\nTrue",
                  "hidden": false,
                  "locked": false
                }
              ],
              "scored": true,
              "setup": "",
              "teardown": "",
              "type": "doctest"
            }
          ]
        },
        "q7_2": {
          "name": "q7_2",
          "points": [
            4
          ],
          "suites": [
            {
              "cases": [
                {
                  "code": ">>> grades == 2\nTrue",
                  "hidden": false,
                  "locked": false
                }
              ],
              "scored": true,
              "setup": "",
              "teardown": "",
              "type": "doctest"
            }
          ]
        },
        "q7_3": {
          "name": "q7_3",
          "points": [
            4
          ],
          "suites": [
            {
              "cases": [
                {
                  "code": ">>> regrade == 2\nTrue",
                  "hidden": false,
                  "locked": false
                }
              ],
              "scored": true,
              "setup": "",
              "teardown": "",
              "type": "doctest"
            }
          ]
        },
        "q7_4": {
          "name": "q7_4",
          "points": [
            4
          ],
          "suites": [
            {
              "cases": [
                {
                  "code": ">>> gradescope == 576157\nTrue",
                  "hidden": false,
                  "locked": false
                }
              ],
              "scored": true,
              "setup": "",
              "teardown": "",
              "type": "doctest"
            }
          ]
        },
        "q7_5": {
          "name": "q7_5",
          "points": [
            4
          ],
          "suites": [
            {
              "cases": [
                {
                  "code": ">>> acceptable == 2\nTrue",
                  "hidden": false,
                  "locked": false
                }
              ],
              "scored": true,
              "setup": "",
              "teardown": "",
              "type": "doctest"
            }
          ]
        },
        "q7_6": {
          "name": "q7_6",
          "points": [
            4
          ],
          "suites": [
            {
              "cases": [
                {
                  "code": ">>> drops == 2\nTrue",
                  "hidden": false,
                  "locked": false
                }
              ],
              "scored": true,
              "setup": "",
              "teardown": "",
              "type": "doctest"
            }
          ]
        },
        "q7_7": {
          "name": "q7_7",
          "points": [
            3
          ],
          "suites": [
            {
              "cases": [
                {
                  "code": ">>> exams == 2\nTrue",
                  "hidden": false,
                  "locked": false
                }
              ],
              "scored": true,
              "setup": "",
              "teardown": "",
              "type": "doctest"
            }
          ]
        },
        "q7_8": {
          "name": "q7_8",
          "points": [
            0,
            0
          ],
          "suites": [
            {
              "cases": [
                {
                  "code": ">>> # Please actually go on Ed and look at the threads.\n>>> # Looks like you didn't make a string.\n>>> type(secret) == str\nTrue",
                  "hidden": false,
                  "locked": false
                },
                {
                  "code": ">>> len(secret)\n8",
                  "hidden": false,
                  "locked": false
                }
              ],
              "scored": true,
              "setup": "",
              "teardown": "",
              "type": "doctest"
            }
          ]
        },
        "q8_1": {
          "name": "q8_1",
          "points": [
            1
          ],
          "suites": [
            {
              "cases": [
                {
                  "code": ">>> survey == \"data8 is data gr8\"\nTrue",
                  "hidden": false,
                  "locked": false
                }
              ],
              "scored": true,
              "setup": "",
              "teardown": "",
              "type": "doctest"
            }
          ]
        }
      }
    },
    "colab": {
      "provenance": [],
      "collapsed_sections": [
        "j_-xuWu9H-ms",
        "D_SgDZO9H-mx",
        "sZzEmyXAH-nB",
        "YB6YsVNKH-nM",
        "AK5zHFG2H-nb",
        "dXJtf_TLH-nh",
        "i-OLqWo8H-nj"
      ]
    }
  },
  "nbformat": 4,
  "nbformat_minor": 5
}
