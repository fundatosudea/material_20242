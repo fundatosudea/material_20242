{
  "cells": [
    {
      "cell_type": "code",
      "execution_count": null,
      "metadata": {
        "deletable": false,
        "editable": false,
        "id": "88UsJtOm9wHT"
      },
      "outputs": [],
      "source": [
        "# Initialize Otter\n",
        "import otter\n",
        "grader = otter.Notebook(\"hw04.ipynb\")"
      ],
      "id": "88UsJtOm9wHT"
    },
    {
      "cell_type": "markdown",
      "metadata": {
        "id": "KNmDgqpH9wHZ"
      },
      "source": [
        "# Tarea 4: Funciones, Tablas y Grupos\n",
        "\n",
        "Por favor complete este notebook llenando las celdas que se especifican. Antes de comenzar, ejecute la celda anterior para cargar las pruebas.\n",
        "\n"
      ],
      "id": "KNmDgqpH9wHZ"
    },
    {
      "cell_type": "markdown",
      "metadata": {
        "id": "Hxo-Lwfc9wHd"
      },
      "source": [
        "**Recursos útiles:**\n",
        "- [Referencia de Python](http://data8.org/fa23/reference/): Hoja de trucos y métodos útiles de métodos de arreglos y tablas.\n",
        "\n",
        "**Recommended Readings**:\n",
        "\n",
        "* [Visualizando Distribuciones Numéricas](https://www.inferentialthinking.com/chapters/07/2/Visualizing_Numerical_Distributions.html)\n",
        "* [Functiones y Tablas](https://www.inferentialthinking.com/chapters/08/Functions_and_Tables.html)"
      ],
      "id": "Hxo-Lwfc9wHd"
    },
    {
      "cell_type": "markdown",
      "metadata": {
        "id": "eiapGO0N9wHe"
      },
      "source": [
        "Complete este notebook llenando las celdas que se indican. **Antes de comenzar, ejecute la celda de abajo para configurar el notebook importando algunas librerías que serán útiles.** Cada vez que inicie su servidor, necesitará ejecutar esta celda de nuevo.\n",
        "\n",
        "Para todos los problemas en los que deba escribir explicaciones y oraciones, **deberá** proporcionar la respuesta en el espacio designado. Además, a lo largo de esta tarea y de todas las futuras, ¡asegúrese de no reasignar variables en todo el notebook! Por ejemplo, si usa `temperatura` en su respuesta a una pregunta, no la reasigne más adelante. De lo contrario, ¡reprobará las pruebas que creía que estaba aprobando anteriormente!\n",
        "\n",
        "\n",
        "**Fecha de entrega:**\n",
        "\n",
        "Esta tarea deberá ser entregada ** ___ a las ___**. Si quiere puntos extra, entréguela el (un día antes). Trabajo que se entregue por fuera del plazo no será recibido.\n",
        "\n",
        "\n",
        "**Nota: Esta tarea tiene pruebas ocultas. Eso significa que aunque los exámenes indiquen que se aprobó al 100%, no significa que su calificación final será del 100%. Realizaremos más pruebas ocultas de corrección una vez que todos entreguen la tarea.**\n",
        "\n",
        "\n",
        "Evite compartir respuestas o hacer copia con sus compañeros. Establezca en cambio discusiones grupales con otros estudiantes y docentes del curso.\n",
        "\n",
        "Si desea contar con el tiempo necesario para pedir ayuda o asesoría en caso de estar atascado, se recomienda iniciar temprano con la realización de las tareas. Tenga en cuenta el cronograma del curso y de entregas."
      ],
      "id": "eiapGO0N9wHe"
    },
    {
      "cell_type": "markdown",
      "metadata": {
        "id": "vwi9nwP29wHg"
      },
      "source": [
        "## 1. San Diego lleno de Burritos"
      ],
      "id": "vwi9nwP29wHg"
    },
    {
      "cell_type": "code",
      "execution_count": null,
      "metadata": {
        "id": "apQaa5p49wHg"
      },
      "outputs": [],
      "source": [
        "# Ejecute esta celda para configurar el notebook. Por favor no la modifique.\n",
        "\n",
        "\n",
        "# Estas líneas importan los mòdulos NumPy y Datascience.\n",
        "import numpy as np\n",
        "from datascience import *\n",
        "\n",
        "# Estas líneas hacen algo de magia en las gráficas.\n",
        "import matplotlib\n",
        "%matplotlib inline\n",
        "import matplotlib.pyplot as plt\n",
        "plt.style.use('fivethirtyeight')\n",
        "\n",
        "import warnings\n",
        "warnings.simplefilter('ignore', FutureWarning)\n",
        "warnings.filterwarnings(\"ignore\")"
      ],
      "id": "apQaa5p49wHg"
    },
    {
      "cell_type": "markdown",
      "metadata": {
        "id": "miN-7DZg9wHi"
      },
      "source": [
        "Eunice, Ciara and Kanchana están tratando de usar la Ciencia de Datos para encontrar los mejores burritos en San Diego. Sus amugas Jessica y Sonia les dieron dos conjuntos de datos (o datasets) que contiene iunformación sobre cuántos establecimientos hay en el área de San Diego. Tomado y depurado de: https://www.kaggle.com/srcole/burritos-in-san-diego/data\n",
        "\n"
      ],
      "id": "miN-7DZg9wHi"
    },
    {
      "cell_type": "markdown",
      "metadata": {
        "id": "k7NqwamY9wHj"
      },
      "source": [
        "La siguiente celda lee una tabla llamada `ratings`, la cual contiene los nombres de los restaurantes de burritos, su calificación en Yelp, su calificación en Google así como su calificación total. La calificacón total o `Overall` no es un promedio de los puntajes en `Yelp` y `Google`, pero es una calificación general de los clientes que fueron considerados en el estudio.\n",
        "\n",
        "Esta también lee una tabla llamada `burritos_types`, la cual contiene los nombres de los restaurantes de burritos, los elementos en sus menùs y el costo de cada ítem del menú en el restaurante."
      ],
      "id": "k7NqwamY9wHj"
    },
    {
      "cell_type": "code",
      "execution_count": null,
      "metadata": {
        "deletable": false,
        "editable": false,
        "id": "_eOpgA909wHk"
      },
      "outputs": [],
      "source": [
        "# Solo corra esta celda\n",
        "ratings = Table.read_table(\"ratings.csv\")\n",
        "ratings.show(5)\n",
        "burritos_types = Table.read_table(\"burritos_types.csv\").drop(0)\n",
        "burritos_types.show(5)"
      ],
      "id": "_eOpgA909wHk"
    },
    {
      "cell_type": "markdown",
      "metadata": {
        "id": "AuZK67iK9wHl"
      },
      "source": [
        "**Pregunta 1.** Le puede resultar conveniente combinar la información de ambas tablas. Asigne `burritos` al resultado de unir las dos tablas, de forma que obtengamos una tabla con el puntaje de cada ítem del menú de cada restaurante. Cada ítem del menú tiene la misma calificación que el restaurante que lo vende. **(8 Puntos)**\n",
        "\n",
        "\n",
        "*Nota:* No importa cuán tabla ingrese como el argumento del método de tabla. Cualquier orden funcionará en el calificador de las pruebas.\n",
        "\n",
        "\n",
        "*Hint:* ¿Cuál función nos permite combinar información de dos tablas? Use la [referencia de Python](http://data8.org/fa23/reference/) si no lo tiene claro.\n",
        "\n"
      ],
      "id": "AuZK67iK9wHl"
    },
    {
      "cell_type": "code",
      "execution_count": null,
      "metadata": {
        "scrolled": true,
        "tags": [],
        "id": "SRk0CrHK9wHm"
      },
      "outputs": [],
      "source": [
        "burritos = ...\n",
        "burritos.show(10)"
      ],
      "id": "SRk0CrHK9wHm"
    },
    {
      "cell_type": "code",
      "execution_count": null,
      "metadata": {
        "deletable": false,
        "editable": false,
        "id": "RskgUAE59wHm"
      },
      "outputs": [],
      "source": [
        "grader.check(\"q1_1\")"
      ],
      "id": "RskgUAE59wHm"
    },
    {
      "cell_type": "markdown",
      "metadata": {
        "id": "KGvcKJGY9wHn"
      },
      "source": [
        "<!-- BEGIN QUESTION -->\n",
        "\n",
        "**Pregunta 2.** Echemos un vistazo a cómo se comparan los puntajes en Yelp se comparan con los puntajes en Google en la tabla `burritos`. Primero, asigne `yelp_google_tbl` a una tabla que solo contenga las columnas `Yelp` y `Google`. Luego, haga una gráfica de dispersión con los puntajes de Yelp en el eje x y con los de Google en el eje y. **(8 Points)**\n",
        "\n"
      ],
      "id": "KGvcKJGY9wHn"
    },
    {
      "cell_type": "code",
      "execution_count": null,
      "metadata": {
        "tags": [],
        "id": "kq6Akl_p9wHo"
      },
      "outputs": [],
      "source": [
        "yelp_google_tbl = ...\n",
        "...\n",
        "\n",
        "# No cambie/edite/borre la siguiente línea.\n",
        "# Para ayudarlo a sacar conclusiones, graficamos una línea recta en la gráfica (y=x)\n",
        "plt.plot(np.arange(2.5,5,.5), np.arange(2.5,5,.5));"
      ],
      "id": "kq6Akl_p9wHo"
    },
    {
      "cell_type": "markdown",
      "metadata": {
        "id": "uRLkDdyK9wHo"
      },
      "source": [
        "<!-- END QUESTION -->\n",
        "\n",
        "<!-- BEGIN QUESTION -->\n",
        "\n",
        "**Pregunta 3.** Observando la gráfica de dispersión que acabó de generar en la pregunta 1.2, ¿nota algún/algunos patrones o relaciones entre los puntajes de Yelp y Google (i.e. es uno de los dos puntajes consistentemente mayor que el otro)? Si es así, descríbalos **brevemente** en la siguiente celda. **(8 Puntos)**\n",
        "\n"
      ],
      "id": "uRLkDdyK9wHo"
    },
    {
      "cell_type": "markdown",
      "metadata": {
        "id": "4VECjct19wHp"
      },
      "source": [
        "_Escriba aquí su respuesta, reemplazando este texto._"
      ],
      "id": "4VECjct19wHp"
    },
    {
      "cell_type": "markdown",
      "metadata": {
        "id": "FLt5oUeZ9wHp"
      },
      "source": [
        "<!-- END QUESTION -->\n",
        "\n",
        "\n",
        "Aquí va un recordatorio sobre cómo `.group` funciona. Puede leerlo en el [libro](https://www.inferentialthinking.com/chapters/08/2/Classifying_by_One_Variable.html), o puede ver el vídeo de abajo (está en inglés).\n",
        "\n",
        "\n",
        "Puede también usar el [Visualizador de Funciones de Tabla](http://data8.org/interactive_table_functions/) para obtener más experiencia con la función `.group`."
      ],
      "id": "FLt5oUeZ9wHp"
    },
    {
      "cell_type": "code",
      "execution_count": null,
      "metadata": {
        "id": "swOV-kzs9wHp"
      },
      "outputs": [],
      "source": [
        "# No se preocupe por lo que hace este código. Simplemente embebe un visualizador de Youtube en una celda de código.\n",
        "from IPython.display import YouTubeVideo\n",
        "YouTubeVideo(\"HLoYTCUP0fc\")"
      ],
      "id": "swOV-kzs9wHp"
    },
    {
      "cell_type": "markdown",
      "metadata": {
        "id": "hszGk2SF9wHq"
      },
      "source": [
        "**Pregunta 4.** En la tabla `burritos` hay muchos tipos de burritos de California. Kanchana quiere basar sus opciones de burritos en los puntajes y rankings. Para responder a esta pregunta, estamos tratando el puntaje de cada ítem en los menús como si fuera el mismo que el del restaurante, dado que no tenemos el puntaje individual de cada plato en esos restaurantes. No se preocupe por este hecho, pero vale la pena mencionarlo.\n",
        "\n",
        "Cree una tabla que contenga dos columnas: la primera columna incluye **nombre de los burritos** y la segunda deberá contener el **puntaje total promedio** de ese burrito en los diferentes restaurantes. **En sus cálculos solo deberá comparar los burritos con la palaba \"California\" en su nombre.** Por ejemplo, hay burritos \"California\", burritos \"Californa de desayuno\", etc. **(9 Puntos)**\n",
        "\n",
        "\n",
        "*Hint:* ¡“California” es un caso sensible (“California” no es lo mismo que “california”)!\n",
        "\n",
        "*Nota:* La solucón es posible obtenerla en una sola línea. Sin embargo, siéntase libre de encontrar su solución en varias líneas y pasos. Solo asegúrese que al final asigne la tabal resultante a `california_burritos`.\n"
      ],
      "id": "hszGk2SF9wHq"
    },
    {
      "cell_type": "code",
      "execution_count": null,
      "metadata": {
        "tags": [],
        "id": "p47XzY-H9wHr"
      },
      "outputs": [],
      "source": [
        "california_burritos = ...\n",
        "california_burritos"
      ],
      "id": "p47XzY-H9wHr"
    },
    {
      "cell_type": "code",
      "execution_count": null,
      "metadata": {
        "deletable": false,
        "editable": false,
        "id": "X6RMVJN89wHr"
      },
      "outputs": [],
      "source": [
        "grader.check(\"q1_4\")"
      ],
      "id": "X6RMVJN89wHr"
    },
    {
      "cell_type": "markdown",
      "metadata": {
        "id": "H2hCeH2s9wHs"
      },
      "source": [
        "**Pregunta 5.** Dada la nueva tabla `california_burritos`, Ciara puede encontrar el nombre del burrito Californa con el mejor puntaje promedio. Asigne `best_california_burrito` a una línea de código que le entregue la cadena de caracteres que represente el nombre del burrito California con el mejor puntaje promedio. Si varios burritos cumplen este criterio, solo deberá colocar cualquiera de ellos. **(8 Puntos)**\n"
      ],
      "id": "H2hCeH2s9wHs"
    },
    {
      "cell_type": "code",
      "execution_count": null,
      "metadata": {
        "tags": [],
        "id": "CG7uus_89wHs"
      },
      "outputs": [],
      "source": [
        "best_california_burrito = ...\n",
        "best_california_burrito"
      ],
      "id": "CG7uus_89wHs"
    },
    {
      "cell_type": "code",
      "execution_count": null,
      "metadata": {
        "deletable": false,
        "editable": false,
        "id": "juLPLWwH9wHt"
      },
      "outputs": [],
      "source": [
        "grader.check(\"q1_5\")"
      ],
      "id": "juLPLWwH9wHt"
    },
    {
      "cell_type": "markdown",
      "metadata": {
        "id": "JcPac-5L9wHt"
      },
      "source": [
        "<!-- BEGIN QUESTION -->\n",
        "\n",
        "**Question 6.** Eunice piensa que los burritos en San Diego son más económicos (y que saben mejor) que los burritos de Berkeley. Grafique un histograma que  permita visualizar la distribución de los costos de los burritos de San Diego en la tabla `burritos`. Use la variable `cost_bins` cuando haga el histograma, para hacerlo visualmente más informativo. **(8 Puntos)**\n"
      ],
      "id": "JcPac-5L9wHt"
    },
    {
      "cell_type": "code",
      "execution_count": null,
      "metadata": {
        "tags": [],
        "id": "WuwAQz0w9wHt"
      },
      "outputs": [],
      "source": [
        "cost_bins = np.arange(0, 15, 1) # No cambie esta línea\n",
        "# Use, por favor, los bines que se le dan\n",
        "..."
      ],
      "id": "WuwAQz0w9wHt"
    },
    {
      "cell_type": "markdown",
      "metadata": {
        "id": "aaRuRHDm9wHu"
      },
      "source": [
        "<!-- END QUESTION -->\n",
        "\n",
        "**Pregunta 7.** ¿Qué porcentaje de burritos en San Diego cuestan menos de $6 dólares? Asigne `burritos_less_than_six` a su respuesta, **la cual debe estar entre 0 y 100**. Usted deberá usar solamente le hnistograma del punto anterior para responder esta pregunta. No use líneas de cóndigo para buscar la respuesta en la tabla, solo use lo que observe en las alturas del histograma y use Python para evaluar la aritmética. **(8 Puntos)**\n",
        "\n",
        "\n",
        "*Nota*:Su respuetsa no tiene que ser exacta, pero debe estar dentro de un intervalod e porcentajes que sea razonable.\n",
        "\n",
        "*Hint:* Puede ser útil leer la [sección 7.2](https://inferentialthinking.com/chapters/07/2/Visualizing_Numerical_Distributions.html) del texto guía sobre el cálculo de porcentajes a partir de un histograma."
      ],
      "id": "aaRuRHDm9wHu"
    },
    {
      "cell_type": "code",
      "execution_count": null,
      "metadata": {
        "tags": [],
        "id": "eWnW-5Hm9wHu"
      },
      "outputs": [],
      "source": [
        "burritos_less_than_six = ..."
      ],
      "id": "eWnW-5Hm9wHu"
    },
    {
      "cell_type": "code",
      "execution_count": null,
      "metadata": {
        "deletable": false,
        "editable": false,
        "id": "YaSNyHgR9wHu"
      },
      "outputs": [],
      "source": [
        "grader.check(\"q1_7\")"
      ],
      "id": "YaSNyHgR9wHu"
    },
    {
      "cell_type": "markdown",
      "metadata": {
        "id": "3irNt1pY9wHu"
      },
      "source": [
        "## 2. Salarios de Empleados de la Ciudad de San Francisco"
      ],
      "id": "3irNt1pY9wHu"
    },
    {
      "cell_type": "markdown",
      "metadata": {
        "id": "MJuyMRuH9wHv"
      },
      "source": [
        "Este ejercicio está diseñado para que ponga en práctica los métodos de tabla `.pivot` y `.group`. Aquí va un link a la [referencia de Python](http://data8.org/fa23/reference/) en caso que requiere refrescar algunos conceptos. El [visualizador de funciones de tabla](http://data8.org/interactive_table_functions/)también puede ser una herramienta útil.\n",
        "\n",
        "Ejecute la celda de abajo para que vea una demostración sobre cómo usar pivot en una tabla."
      ],
      "id": "MJuyMRuH9wHv"
    },
    {
      "cell_type": "code",
      "execution_count": null,
      "metadata": {
        "scrolled": true,
        "id": "3l7KMt_59wHv"
      },
      "outputs": [],
      "source": [
        "# # No se preocupe por lo que hace este código. Simplemente embebe un visualizador de Youtube en una celda de código.\n",
        "from IPython.display import YouTubeVideo\n",
        "YouTubeVideo(\"4WzXo8eKLAg\")"
      ],
      "id": "3l7KMt_59wHv"
    },
    {
      "cell_type": "markdown",
      "metadata": {
        "id": "rJuYQYeX9wHv"
      },
      "source": [
        "La fuente de datos que usaremos en esta porción de la tarea es [provista públicamente](https://data.sfgov.org/City-Management-and-Ethics/Employee-Compensation/88g8-5mnd/data) por la Ciudad de San Francisco. Con ello, la hemos filtrado solo para extraer las columnas relevantes y restringido solo a datos del año calendario 2019. Ejecute la siguiente celda de código para cargar nuestros datos en una tabla llamada `full_sf`."
      ],
      "id": "rJuYQYeX9wHv"
    },
    {
      "cell_type": "code",
      "execution_count": null,
      "metadata": {
        "id": "QrQ3FEl79wHw"
      },
      "outputs": [],
      "source": [
        "full_sf = Table.read_table(\"sf2019.csv\")\n",
        "full_sf.show(5)"
      ],
      "id": "QrQ3FEl79wHw"
    },
    {
      "cell_type": "markdown",
      "metadata": {
        "id": "QVcORvVb9wHw"
      },
      "source": [
        "La tabla contiene una fila por cada uno de los 44525 empleados públicos de San Francisco en 2019.\n",
        "\n",
        "Las primeras cuatro columnas describen el trabajo del empleado. Por ejemplo, el empleado en la tercera fila tiene un trabajo llamado \"IS Business Analyst-Senior\". Llamaremos a esta la *posición* o *título del trabajo* del empleado. El trabajo está en una familia de trabajos llamada Sistemas de Información o en inglés, Information Systems (dada la sigla IS en el inicio del título). La mayoría del tiempo usted estará trabajando con la columna `Job`.\n",
        "\n",
        "Las siguientes tres columnas contienen la cantidad de dólares que fueron pagados al empleado como salario en el año calendario 2019, tiempos extras y beneficios. Note que el salario total del empleado no incluye las ganancias por horas extra.\n",
        "\n",
        "La última columna contiene la compensación total pagada al empleado. Esto es la suma de las tres columnas previas\n",
        "\n",
        "The last column contains the total compensation paid to the employee. It is the sum of the previous three columns:\n",
        "\n",
        "$$\\text{Compensación Total} = \\text{Salario} + \\text{Horas Extra} + \\text{Beneficios}$$\n",
        "\n",
        "Para esta tarea, estaremos usando las siguientes columnas:\n",
        "\n",
        "1. `Organization Group`: Un grupo de departamentos. Por ejemplo el \"Public Protection Org.\" incluye los departamentos de Policía, Bomberos, Protección al Mayor, etc.\n",
        "2. `Department`: La unidad primaria organizacional usada por la Ciudad y el Condado de San Franciso.\n",
        "3. `Job`: La posición específica que ese empleado ocupa.\n",
        "4. `Total Compensation`: La suma del salario del empleado, horas extra y beneficios recibidos en 2019.\n",
        "\n",
        "Ejecute la celda de abajo para seleccionar las cuatro columnas relevantes para nosotros, y cree una nueva tabla llamada `sf`.\n"
      ],
      "id": "QVcORvVb9wHw"
    },
    {
      "cell_type": "code",
      "execution_count": null,
      "metadata": {
        "id": "v8kcrHIN9wHw"
      },
      "outputs": [],
      "source": [
        "sf = full_sf.select(\"Job\", \"Department\", \"Organization Group\",  \"Total Compensation\")\n",
        "sf.show(5)"
      ],
      "id": "v8kcrHIN9wHw"
    },
    {
      "cell_type": "markdown",
      "metadata": {
        "id": "LdeyIv-m9wHw"
      },
      "source": [
        "Queremos usar esta tabla para generar arreglos con los títulos del trabajo de los miembros de cada **Organization Group**.\n"
      ],
      "id": "LdeyIv-m9wHw"
    },
    {
      "cell_type": "markdown",
      "metadata": {
        "id": "k0O6s_n59wHx"
      },
      "source": [
        "**Pregunta 1.** Asigne `job_titles` a una tabla con dos columnas. La primer columnda se deberá llamar `Organization Group` y contiene el nombre de cada \"Organization Group\" listado cada uno una sola vez en esta columna. La segunda columna deberá llamarla `Jobs` con cada fila en dicha segunda columna conteniendo un *array* con los nombres de los títulos dle trabajo en cada \"Organization Group\".  No se preocupe si se repite muchas veces el mismo título del trabajo. **(9 Puntos)**\n",
        "\n",
        "\n",
        "\n",
        "*Hint 1:* Piense en cómo funciona `group`: él recoge los valores dentro de un arreglo y aplica una función a ese arreglo. Hemos definido dos funciones abajo para usted, y necesitará utilizar una de ellas cuando use `group`.\n",
        "\n",
        "*Hint 2:* Probablemente deba renombrar una de las dos columnas."
      ],
      "id": "k0O6s_n59wHx"
    },
    {
      "cell_type": "code",
      "execution_count": null,
      "metadata": {
        "tags": [],
        "id": "1SfIkyt-9wHx"
      },
      "outputs": [],
      "source": [
        "# Escoja una de las dos funciones para llamar group.\n",
        "def first_item(array):\n",
        "    '''Regresa el primer ítem'''\n",
        "    return array.item(0)\n",
        "\n",
        "def full_array(array):\n",
        "    '''Regresa el arreglo que se pasa'''\n",
        "    return array\n",
        "\n",
        "# Llame group usando una de las funciones de arriba cuando defina job_titles\n",
        "job_titles = ...\n",
        "job_titles"
      ],
      "id": "1SfIkyt-9wHx"
    },
    {
      "cell_type": "code",
      "execution_count": null,
      "metadata": {
        "deletable": false,
        "editable": false,
        "id": "4t8vIPfh9wH3"
      },
      "outputs": [],
      "source": [
        "grader.check(\"q2_1\")"
      ],
      "id": "4t8vIPfh9wH3"
    },
    {
      "cell_type": "markdown",
      "metadata": {
        "id": "v-lskkf09wH3"
      },
      "source": [
        "<!-- BEGIN QUESTION -->\n",
        "\n",
        "**Pregunta 2.** Al momento, la columna `Job` en la tabla `sf` no está organizada (no tiene un orden particular). ¿Serán los arreglos que usted generó en la columna `Jobs` en la pregunta anterior la misma si la hubiésemos organizado alfabéticamente luego de generarlos? Para tener su respuesta correcta, su respuesta deberá explicar cómo el método `.group` funciona y cómo organizar la columna `Jobs` puede afectarlo. **(8 Points)**\n",
        "\n",
        "\n",
        "*Nota:* Dos arreglos son **iguales** si contienen el mismo número de elementos y dichos elementos est+an ubicados en los mismos índices. Un ejemplo que dos arreglos que NO son el mismo:  `array([1,2]) != array([2,1])`.\n",
        "\n",
        "\n"
      ],
      "id": "v-lskkf09wH3"
    },
    {
      "cell_type": "markdown",
      "metadata": {
        "id": "YyMP9sab9wH4"
      },
      "source": [
        "_Escriba aquí su respuesta, reemplazando este texto._"
      ],
      "id": "YyMP9sab9wH4"
    },
    {
      "cell_type": "markdown",
      "metadata": {
        "id": "rAPHe8e79wH4"
      },
      "source": [
        "<!-- END QUESTION -->\n",
        "\n",
        "**Pregunta 3.** Asigne `department_ranges` a una tabla que contenga los departamentos como columnas, y los grupos de organización como las columnas. Los valores en las columnas deberán corresponder al rango total de compensación (o pago), donde el rango es la **diferencia entre la mayor y la menor compensación total en el departamento para ese grupo de organización**. **(9 Puntos)**\n",
        "\n",
        "*Hint:* Primero tendrá que definir una nuneva función `compensation_range` que tome como entrada un arreglo de las compensaciones y regrese el rango de las compensaciones en dicho arreglo.\n"
      ],
      "id": "rAPHe8e79wH4"
    },
    {
      "cell_type": "code",
      "execution_count": null,
      "metadata": {
        "tags": [],
        "id": "85XjNK999wH4"
      },
      "outputs": [],
      "source": [
        "# Defina primero compensation_range\n",
        "...\n",
        "    ...\n",
        "\n",
        "department_ranges = ...\n",
        "department_ranges"
      ],
      "id": "85XjNK999wH4"
    },
    {
      "cell_type": "code",
      "execution_count": null,
      "metadata": {
        "deletable": false,
        "editable": false,
        "id": "fd02N8Nn9wH5"
      },
      "outputs": [],
      "source": [
        "grader.check(\"q2_3\")"
      ],
      "id": "fd02N8Nn9wH5"
    },
    {
      "cell_type": "markdown",
      "metadata": {
        "id": "nIe73qR39wH5"
      },
      "source": [
        "<!-- BEGIN QUESTION -->\n",
        "\n",
        "**Pregunta 4.** ¿Por qué deberían algunos valores en la tabla `department_ranges` creada en la pregunta anterior ser iguales a `0`? **(8 Puntos)**\n"
      ],
      "id": "nIe73qR39wH5"
    },
    {
      "cell_type": "markdown",
      "metadata": {
        "id": "82P2lVFD9wH5"
      },
      "source": [
        "_Escriba aquí su respuesta, reemplazando este texto._"
      ],
      "id": "82P2lVFD9wH5"
    },
    {
      "cell_type": "markdown",
      "metadata": {
        "id": "CUoPocvG9wH5"
      },
      "source": [
        "<!-- END QUESTION -->\n",
        "\n",
        "**Pregunta 5.** Encuentre el número de departamentos que aparecen en la tabla `sf` que tienen un promedio de compensación total mayor que 125000 dólares. Asigne este valor a la variable `num_sobre_125k`. **(9 Puntos)**\n",
        "\n",
        "\n",
        "*Nota:* Los nombres de las variables están pensados para guiarlo en los pasos intermedios y en el proceso en general. Siéntase libre de borrarlos si prefiere empezar desde cero, pero asegúrese que su pespuesta final sea `num_sobre_125k`.\n",
        "\n",
        "\n"
      ],
      "id": "CUoPocvG9wH5"
    },
    {
      "cell_type": "code",
      "execution_count": null,
      "metadata": {
        "tags": [],
        "id": "VuXFBwSG9wH6"
      },
      "outputs": [],
      "source": [
        "depts_and_comp = ...\n",
        "departmento_promedio = ...\n",
        "num_sobre_125k = ...\n",
        "num_sobre_125k"
      ],
      "id": "VuXFBwSG9wH6"
    },
    {
      "cell_type": "code",
      "execution_count": null,
      "metadata": {
        "deletable": false,
        "editable": false,
        "id": "vd8WK_5B9wH6"
      },
      "outputs": [],
      "source": [
        "grader.check(\"q2_5\")"
      ],
      "id": "vd8WK_5B9wH6"
    },
    {
      "cell_type": "markdown",
      "metadata": {
        "id": "gUfSJyXa9wH6"
      },
      "source": [
        "¡Terminó la tarea 4!  \n",
        "\n",
        "**Pasos importantes para la entrega:**\n",
        "1. Corra las pruebas y verifique que todas se ejecuten.\n",
        "2. Seleccione **Guardar Notebook** desde el menú **Archivo**, para luego **ejecutar la última celda**.\n",
        "3. De click en el link para descargar el archivo zip.\n",
        "4. Vaya a [Gradescope](https://www.gradescope.com/courses/576157) y cargue el archivo zip correspondiente a esta tarea.\n",
        "\n",
        "**Es su responsabilidad asegurarse que su trabajo se guarde antes de correr la última celda.**"
      ],
      "id": "gUfSJyXa9wH6"
    },
    {
      "cell_type": "markdown",
      "metadata": {
        "id": "qgS9XYgK9wH7"
      },
      "source": [
        "## Estudiantes de Fundamentos de Ciencia de Datos\n",
        "\n",
        "¡Felicitaciones por terminar la tarea 3!\n",
        "\n",
        "<img src=\"./gus.jpg\" width=\"30%\" alt=\"Close up picture of dog smiling.\"/>\n",
        "\n",
        "Mascota de la semana: **Gus**\n"
      ],
      "id": "qgS9XYgK9wH7"
    },
    {
      "cell_type": "markdown",
      "metadata": {
        "deletable": false,
        "editable": false,
        "id": "rPgwbNtT9wH7"
      },
      "source": [
        "## Entrega\n",
        "\n",
        "Asegúrese que ha ejecutado todas las celdas en su notebook en orden antes de ejecutar la celda de abajo. De esta forma todas las imágenes/gráficas apareceran en la salida. La celda de abajo va a generar un archivo con extensión .zip para que usted lo entregue. **¡Por favor guarde antes de exportar!**"
      ],
      "id": "rPgwbNtT9wH7"
    },
    {
      "cell_type": "code",
      "execution_count": null,
      "metadata": {
        "deletable": false,
        "editable": false,
        "id": "Qh-LNsNf9wH7"
      },
      "outputs": [],
      "source": [
        "# Guarde primero su notebook, luego ejecute esta celda para obtener el archivo a\n",
        "# entregar.\n",
        "grader.export(pdf=False, run_tests=True)"
      ],
      "id": "Qh-LNsNf9wH7"
    },
    {
      "cell_type": "markdown",
      "metadata": {
        "id": "IqqgafqL9wH8"
      },
      "source": [],
      "id": "IqqgafqL9wH8"
    }
  ],
  "metadata": {
    "kernelspec": {
      "display_name": "Python 3",
      "language": "python",
      "name": "python3"
    },
    "language_info": {
      "codemirror_mode": {
        "name": "ipython",
        "version": 3
      },
      "file_extension": ".py",
      "mimetype": "text/x-python",
      "name": "python",
      "nbconvert_exporter": "python",
      "pygments_lexer": "ipython3",
      "version": "3.11.2"
    },
    "otter": {
      "OK_FORMAT": true,
      "tests": {
        "q1_1": {
          "name": "q1_1",
          "points": [
            0,
            0
          ],
          "suites": [
            {
              "cases": [
                {
                  "code": ">>> # Make sure you have all the columns from both tables\n>>> set([\"Name\", \"Menu_Item\", \"Yelp\", \"Google\", \"Overall\", \"Cost\"]) == set(burritos.labels)\nTrue",
                  "hidden": false,
                  "locked": false
                },
                {
                  "code": ">>> burritos.num_rows == 212\nTrue",
                  "hidden": false,
                  "locked": false
                }
              ],
              "scored": true,
              "setup": "",
              "teardown": "",
              "type": "doctest"
            }
          ]
        },
        "q1_4": {
          "name": "q1_4",
          "points": [
            1,
            1
          ],
          "suites": [
            {
              "cases": [
                {
                  "code": ">>> # Number of columns should be 2\n>>> california_burritos.num_columns == 2\nTrue",
                  "hidden": false,
                  "locked": false
                },
                {
                  "code": ">>> # Number of rows should be 19\n>>> california_burritos.num_rows == 19\nTrue",
                  "hidden": false,
                  "locked": false
                }
              ],
              "scored": true,
              "setup": "",
              "teardown": "",
              "type": "doctest"
            }
          ]
        },
        "q1_5": {
          "name": "q1_5",
          "points": [
            0
          ],
          "suites": [
            {
              "cases": [
                {
                  "code": ">>> # Your answer should be a string\n>>> type(best_california_burrito) == str\nTrue",
                  "hidden": false,
                  "locked": false
                }
              ],
              "scored": true,
              "setup": "",
              "teardown": "",
              "type": "doctest"
            }
          ]
        },
        "q1_7": {
          "name": "q1_7",
          "points": [
            0
          ],
          "suites": [
            {
              "cases": [
                {
                  "code": ">>> # Your answer should be between 0 and 100.\n>>> 0 <= burritos_less_than_six <= 100\nTrue",
                  "hidden": false,
                  "locked": false
                }
              ],
              "scored": true,
              "setup": "",
              "teardown": "",
              "type": "doctest"
            }
          ]
        },
        "q2_1": {
          "name": "q2_1",
          "points": [
            0,
            0,
            0,
            0
          ],
          "suites": [
            {
              "cases": [
                {
                  "code": ">>> job_titles.num_columns\n2",
                  "hidden": false,
                  "locked": false
                },
                {
                  "code": ">>> job_titles.num_rows\n6",
                  "hidden": false,
                  "locked": false
                },
                {
                  "code": ">>> # Make sure that you have the correct column labels!\n>>> np.asarray(job_titles.labels).item(1) != \"Job full_array\"\nTrue",
                  "hidden": false,
                  "locked": false
                },
                {
                  "code": ">>> # Make sure that you have the correct column labels!\n>>> np.asarray(job_titles.labels).item(1) == \"Jobs\"\nTrue",
                  "hidden": false,
                  "locked": false
                }
              ],
              "scored": true,
              "setup": "",
              "teardown": "",
              "type": "doctest"
            }
          ]
        },
        "q2_3": {
          "name": "q2_3",
          "points": [
            0,
            0,
            2
          ],
          "suites": [
            {
              "cases": [
                {
                  "code": ">>> # Double check that your salary_range function is correct\n>>> compensation_range(make_array(5, 1, 20, 1000)) == 999\nTrue",
                  "hidden": false,
                  "locked": false
                },
                {
                  "code": ">>> # Make sure that the table has departments as the rows and organization groups as the columns.\n>>> set([\"Department\", \"Community Health\", \"Culture & Recreation\", \"General Administration & Finance\", \"Human Welfare & Neighborhood Development\", \"Public Protection\", \"Public Works, Transportation & Commerce\"]) == set(department_ranges.labels)\nTrue",
                  "hidden": false,
                  "locked": false
                },
                {
                  "code": ">>> sum(department_ranges.column(1))\n554179.0",
                  "hidden": false,
                  "locked": false
                }
              ],
              "scored": true,
              "setup": "",
              "teardown": "",
              "type": "doctest"
            }
          ]
        },
        "q2_5": {
          "name": "q2_5",
          "points": [
            2,
            2
          ],
          "suites": [
            {
              "cases": [
                {
                  "code": ">>> # Make sure that your final answer is a number\n>>> isinstance(num_over_125k, int)\nTrue",
                  "hidden": false,
                  "locked": false
                },
                {
                  "code": ">>> # Make sure that your answer makes sense given the sf table\n>>> 0 <= num_over_125k <= 51\nTrue",
                  "hidden": false,
                  "locked": false
                }
              ],
              "scored": true,
              "setup": "",
              "teardown": "",
              "type": "doctest"
            }
          ]
        }
      }
    },
    "colab": {
      "provenance": [],
      "collapsed_sections": [
        "vwi9nwP29wHg"
      ]
    }
  },
  "nbformat": 4,
  "nbformat_minor": 5
}