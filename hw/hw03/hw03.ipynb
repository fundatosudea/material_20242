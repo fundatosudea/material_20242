{
  "cells": [
    {
      "cell_type": "code",
      "execution_count": null,
      "metadata": {
        "deletable": false,
        "editable": false,
        "id": "LwQBuognTtC_"
      },
      "outputs": [],
      "source": [
        "# Initialize Otter\n",
        "import otter\n",
        "grader = otter.Notebook(\"hw03.ipynb\")"
      ],
      "id": "LwQBuognTtC_"
    },
    {
      "cell_type": "markdown",
      "metadata": {
        "id": "Y12_-ZtGTtDI"
      },
      "source": [
        "# Tarea 3: Manipulación de Tablas y Visualización\n",
        "\n",
        "\n",
        "Por favor complete este notebook llenando las celdas que sde indican. Antes de comenzar, ejecute la celda previa para cargar las pruebas.\n"
      ],
      "id": "Y12_-ZtGTtDI"
    },
    {
      "cell_type": "markdown",
      "metadata": {
        "id": "XV_1JlQLTtDL"
      },
      "source": [
        "**Recursos útiles:**\n",
        "- [Referencia de Python](http://data8.org/fa23/reference/): Hoja de trucos y métodos útiles de métodos de arreglos y tablas.\n",
        "\n",
        "**Lectura recomendada**:\n",
        "* [Visualización](https://inferentialthinking.com/chapters/07/Visualization.html)"
      ],
      "id": "XV_1JlQLTtDL"
    },
    {
      "cell_type": "markdown",
      "metadata": {
        "id": "CEPVwS-aTtDM"
      },
      "source": [
        "Para todos los problemas en los que deba escribir explicaciones y oraciones, **deberá** proporcionar la respuesta en el espacio designado. Además, a lo largo de esta tarea y de todas las futuras, ¡asegúrese de no reasignar variables en todo el notebook! Por ejemplo, si usa `temperatura` en su respuesta a una pregunta, no la reasigne más adelante. De lo contrario, ¡reprobará las pruebas que creía que estaba aprobando anteriormente!\n",
        "\n",
        "\n",
        "\n",
        "**Fecha de entrega:**\n",
        "\n",
        "Esta tarea deberá ser entregada ** ___ a las ___**. Si quiere puntos extra, entréguela el (un día antes). Trabajo que se entregue por fuera del plazo no será recibido.\n",
        "\n",
        "\n",
        "**Nota: Esta tarea tiene pruebas ocultas. Eso significa que aunque los exámenes indiquen que se aprobó al 100%, no significa que su calificación final será del 100%. Realizaremos más pruebas ocultas de corrección una vez que todos entreguen la tarea.**\n",
        "\n",
        "\n",
        "Evite compartir respuestas o hacer copia con sus compañeros. Establezca en cambio discusiones grupales con otros estudiantes y docentes del curso.\n",
        "\n",
        "Si desea contar con el tiempo necesario para pedir ayuda o asesoría en caso de estar atascado, se recomienda iniciar temprano con la realización de las tareas. Tenga en cuenta el cronograma del curso y de entregas.\n"
      ],
      "id": "CEPVwS-aTtDM"
    },
    {
      "cell_type": "code",
      "execution_count": null,
      "metadata": {
        "id": "ViuMUYYZTtDN"
      },
      "outputs": [],
      "source": [
        "# No cambie esta celda; solo ejecútela.\n",
        "\n",
        "import numpy as np\n",
        "from datascience import *\n",
        "import warnings\n",
        "warnings.simplefilter('ignore', FutureWarning)\n",
        "\n",
        "# These lines do some fancy plotting magic.\\n\",\n",
        "import matplotlib\n",
        "%matplotlib inline\n",
        "import matplotlib.pyplot as plt\n",
        "plt.style.use('fivethirtyeight')"
      ],
      "id": "ViuMUYYZTtDN"
    },
    {
      "cell_type": "markdown",
      "metadata": {
        "id": "SkDr_ctNTtDO"
      },
      "source": [
        "## 1. Desempleo"
      ],
      "id": "SkDr_ctNTtDO"
    },
    {
      "cell_type": "markdown",
      "metadata": {
        "id": "q7zAdzZ1TtDP"
      },
      "source": [
        "\n",
        "La gran recesión del 2008-2009 fue un período de una caída económica observada a nivel global, con escala y temporalidad variando de país a país. En los Estados Unidos, resultó en un rápido aumento del desempleo que afetó industrias y poblaciones de diferentes campos.\n",
        "\n",
        "\n",
        "La reserva federal del Banco de San Luis publicó datos sobre los empleos en Estados Unidos. Abajo, hemos cargado datos sobre el desempleo en Estados Unidos. Hay muchas formas de definir el desempleo, y en nuestro dataset incluye dos nociones de tasa de desempleo:\n",
        "\n",
        "\n",
        "\n",
        "1.   *Índice de Desempleo (o NEI por sus siglas en inglés)*: De las personas en capacidad de trabajar y que están buscando un trabajo de tiempo completo, el porcentaje que no puede encontrar un empleo.\n",
        "\n",
        "\n",
        "2. *NEI-PTER*: De las personas en capacidad de trabajar y que están buscando por un trabajo de tiempo completo, el porcentaje que no puede encontrar un empleo *o* que tienen un trabajo por horas. El último grupo es llamado \"Part-Time for Economic Reasons\" (o Tiempo Parcial por Razoners Económicas).\n",
        "\n",
        "\n",
        "\n",
        "La fuente de los datos la encuentran [aquí](https://fred.stlouisfed.org/categories/33509)."
      ],
      "id": "q7zAdzZ1TtDP"
    },
    {
      "cell_type": "markdown",
      "metadata": {
        "id": "dzZJ764vTtDU"
      },
      "source": [
        "**Pregunta 1.** Los datos están en un archivo CSV llamado `unemployment.csv`. Cargue dicho archivo en una tabla llamada `desempleo`. **(4 Puntos)**\n",
        "\n",
        "_Hint:_ Luego de cargar la tabla `desempleo`, esta debe verse así:\n",
        "\n",
        "<img src=\"unemployment.png\" width=\"20%\"/>\n"
      ],
      "id": "dzZJ764vTtDU"
    },
    {
      "cell_type": "code",
      "execution_count": null,
      "metadata": {
        "tags": [],
        "id": "LBTlozhhTtDV"
      },
      "outputs": [],
      "source": [
        "desempleo = ...\n",
        "desempleo"
      ],
      "id": "LBTlozhhTtDV"
    },
    {
      "cell_type": "code",
      "execution_count": null,
      "metadata": {
        "deletable": false,
        "editable": false,
        "id": "OBm3DFSTTtDX"
      },
      "outputs": [],
      "source": [
        "grader.check(\"q1_1\")"
      ],
      "id": "OBm3DFSTTtDX"
    },
    {
      "cell_type": "markdown",
      "metadata": {
        "id": "ByDY4-5_TtDY"
      },
      "source": [
        "**Pregunta 2.** Organice los datos en orden descendente por NEI, llamando la tabla organizada `por_nei`. Cree otra tabla llamada `por_nei_pter` que organice los datos organizados de forma descendiente pero usando en cambio el índice NEI-PTER. **(4 Puntos)**"
      ],
      "id": "ByDY4-5_TtDY"
    },
    {
      "cell_type": "code",
      "execution_count": null,
      "metadata": {
        "tags": [],
        "id": "_9G7K49bTtDY"
      },
      "outputs": [],
      "source": [
        "por_nei = ...\n",
        "por_nei_pter = ..."
      ],
      "id": "_9G7K49bTtDY"
    },
    {
      "cell_type": "code",
      "execution_count": null,
      "metadata": {
        "deletable": false,
        "editable": false,
        "id": "eWQ-N2PFTtDZ"
      },
      "outputs": [],
      "source": [
        "grader.check(\"q1_2\")"
      ],
      "id": "eWQ-N2PFTtDZ"
    },
    {
      "cell_type": "code",
      "execution_count": null,
      "metadata": {
        "id": "ykq2wQKlTtDa"
      },
      "outputs": [],
      "source": [
        "# Ejecute esta celda para verificar su tabla por_nei. No hay necesidad de cambiar el código.\n",
        "por_nei.show(5)"
      ],
      "id": "ykq2wQKlTtDa"
    },
    {
      "cell_type": "code",
      "execution_count": null,
      "metadata": {
        "id": "k4wOVZTfTtDa"
      },
      "outputs": [],
      "source": [
        "# Ejecute esta celda para verificar su tabla por_nei_pter. No hay necesidad de cambiar el código.\n",
        "por_nei_pter.show(5)"
      ],
      "id": "k4wOVZTfTtDa"
    },
    {
      "cell_type": "markdown",
      "metadata": {
        "id": "Bnh49a-cTtDa"
      },
      "source": [
        "**Pregunta 3.** Usando `take`, asigne `mayor_nei` a una tabla que contenga los datos de los 11 trimestres en los que el NEI fue mayor.\n",
        "\n",
        "`mayor_nei` debe estar organizado en orden descendente según el índice `NEI`. Note que cada columda de `desempleo` representa un trimestre. **(4 Puntos)**\n"
      ],
      "id": "Bnh49a-cTtDa"
    },
    {
      "cell_type": "code",
      "execution_count": null,
      "metadata": {
        "tags": [],
        "id": "ncg-1dnmTtDb"
      },
      "outputs": [],
      "source": [
        "mayor_nei = ...\n",
        "mayor_nei"
      ],
      "id": "ncg-1dnmTtDb"
    },
    {
      "cell_type": "code",
      "execution_count": null,
      "metadata": {
        "deletable": false,
        "editable": false,
        "id": "1Xgb6NIfTtDc"
      },
      "outputs": [],
      "source": [
        "grader.check(\"q1_3\")"
      ],
      "id": "1Xgb6NIfTtDc"
    },
    {
      "cell_type": "markdown",
      "metadata": {
        "id": "mX3xDioUTtDd"
      },
      "source": [
        "**Pregunta 4.** Se cree que muchas personas pasaron a tener empleos de tiempo parcial o \"Part-Time for Economic Reasons\" en la \"Gran Recesión\" del 2008-2009. NEI-PTER es el porcentaje de personas que son desempleados (incluyendo los NEI) más el porcentaje de personas que son PTER.\n",
        "\n",
        "Calcule un arreglo que contenga el porcentaje de personas que son PTER en cada trimestre. (El primer elemento del arreglo deberá corresponder a la primer fila de `desempleo`, y así sucesivamente.) **(4 Puntos)**\n",
        "\n",
        "\n",
        "*Nota:* Use la tabla original `desempleo` para esto.\n"
      ],
      "id": "mX3xDioUTtDd"
    },
    {
      "cell_type": "code",
      "execution_count": null,
      "metadata": {
        "tags": [],
        "id": "4AmMkZlxTtDe"
      },
      "outputs": [],
      "source": [
        "pter = ...\n",
        "pter"
      ],
      "id": "4AmMkZlxTtDe"
    },
    {
      "cell_type": "code",
      "execution_count": null,
      "metadata": {
        "deletable": false,
        "editable": false,
        "id": "lRGjMlyhTtDe"
      },
      "outputs": [],
      "source": [
        "grader.check(\"q1_4\")"
      ],
      "id": "lRGjMlyhTtDe"
    },
    {
      "cell_type": "markdown",
      "metadata": {
        "id": "iYZJd6F9TtDf"
      },
      "source": [
        "**Pregunta 5.** Agregue `pter` como una columna de `desempleo` (nombre la columna `PTER`) y organice la tabla resultante usando dicha columna en orden descendente. Nombre la tabla resultante `por_pter`\n",
        "\n",
        "Trate de hacer esto en una sola línea de código, si puede hacerlo. **(4 Puntos)**\n"
      ],
      "id": "iYZJd6F9TtDf"
    },
    {
      "cell_type": "code",
      "execution_count": null,
      "metadata": {
        "tags": [],
        "id": "AT2iySl4TtDf"
      },
      "outputs": [],
      "source": [
        "por_pter = ...\n",
        "por_pter"
      ],
      "id": "AT2iySl4TtDf"
    },
    {
      "cell_type": "code",
      "execution_count": null,
      "metadata": {
        "deletable": false,
        "editable": false,
        "id": "FgW-Q9xLTtDg"
      },
      "outputs": [],
      "source": [
        "grader.check(\"q1_5\")"
      ],
      "id": "FgW-Q9xLTtDg"
    },
    {
      "cell_type": "markdown",
      "metadata": {
        "id": "APfhPBYmTtDg"
      },
      "source": [
        "**Pregunta 6.** Genere una gráfica de línea de PTER en función del tiempo. Para hacerlo, cree una nueva tabla llamada `pter_tiempo` con las mismas columnas que la tabla `desempleo` con la adición de dos nuevas columnas: `Año` y `PTER` usando el arreglo `año` y el arreglo `pter`, respectivamente. Luego, genere una gráfica de línea usando uno de los métodos de tabla que aprendió en clase.\n",
        "\n",
        "El orden de las columnas importa para la corrección de las pruebas. Asegúrese que `Año` venga antes de `PTER`. **(4 Puntos)**\n",
        "\n",
        "\n",
        "*Nota:* Cuando cree `pter_tiempo`, que no sea solo añadir la columna `año` a la tabla`por_pter`. Por favor siga las instrucciones de la pregunta anterior.\n"
      ],
      "id": "APfhPBYmTtDg"
    },
    {
      "cell_type": "code",
      "execution_count": null,
      "metadata": {
        "tags": [],
        "id": "VOcBOA8qTtDh"
      },
      "outputs": [],
      "source": [
        "año = 1994 + np.arange(por_pter.num_rows)/4\n",
        "pter_tiempo = ...\n",
        "...\n",
        "plt.ylim(0,2); # No cambie esta línea"
      ],
      "id": "VOcBOA8qTtDh"
    },
    {
      "cell_type": "code",
      "execution_count": null,
      "metadata": {
        "deletable": false,
        "editable": false,
        "id": "L8o4jjdeTtDh"
      },
      "outputs": [],
      "source": [
        "grader.check(\"q1_6\")"
      ],
      "id": "L8o4jjdeTtDh"
    },
    {
      "cell_type": "markdown",
      "metadata": {
        "id": "R5kRzTPqTtDh"
      },
      "source": [
        "**Pregunta 7.** ¿Dónde las tasas de PTER fueron altas durante la recesión (es decir, donde las tasas de PTER son altas entre a lo largo de los años 2008 hasta 2011)? Asigne `altoPTER` a `True` si usted cree que las tasas PTER fueron altas en este período, o `False` si usted cree que no. **(4 Points)**\n"
      ],
      "id": "R5kRzTPqTtDh"
    },
    {
      "cell_type": "code",
      "execution_count": null,
      "metadata": {
        "tags": [],
        "id": "zE7FbPgITtDi"
      },
      "outputs": [],
      "source": [
        "altoPTER = ..."
      ],
      "id": "zE7FbPgITtDi"
    },
    {
      "cell_type": "code",
      "execution_count": null,
      "metadata": {
        "deletable": false,
        "editable": false,
        "id": "GIOoI-fwTtDi"
      },
      "outputs": [],
      "source": [
        "grader.check(\"q1_7\")"
      ],
      "id": "GIOoI-fwTtDi"
    },
    {
      "cell_type": "markdown",
      "metadata": {
        "id": "hxmQVJkuTtDj"
      },
      "source": [
        "## 2. Tasas de Nacimiento"
      ],
      "id": "hxmQVJkuTtDj"
    },
    {
      "cell_type": "markdown",
      "metadata": {
        "id": "1rPhIBZLTtDk"
      },
      "source": [
        "La siguiente tabla muestra la población estimada de cada estado de los Estados Unidos, según un censos del 1 de julio del 2015 y del 1 de julio del 2016. Las últimas cuatro columnas describen los componentes del cambio estimado en la población durante este intervalo de tiempo. **Para todas las siguientes preguntas, suponga que la palabra \"estados\" hace referencia a las 52 filas incluyendo Puerto Rico y el Distrito de Columbia.**\n",
        "\n",
        "Los datos fueron tomados de [aquí](http://www2.census.gov/programs-surveys/popest/datasets/2010-2016/national/totals/nst-est2016-alldata.csv). (Nota: Sie l archivo no descarga cuando le da click en el link, copie y pegue el enlace en la barra de búsqueda de su navegador). Si quiere leer más acerca de la descripción de las diferentes columnas, haga click [aquí](http://www2.census.gov/programs-surveys/popest/datasets/2010-2015/national/totals/nst-est2015-alldata.pdf).\n",
        "\n",
        "Los datos que descarga están ujn poco desordenados, por lo que la siguiente celda los organiza un poco."
      ],
      "id": "1rPhIBZLTtDk"
    },
    {
      "cell_type": "code",
      "execution_count": null,
      "metadata": {
        "id": "RE4IoR0RTtDl"
      },
      "outputs": [],
      "source": [
        "# No cambie esta celda, solo ejecútela\n",
        "pop = Table.read_table('nst-est2016-alldata.csv').where('SUMLEV', 40).select([1, 4, 12, 13, 27, 34, 62, 69])\n",
        "pop = pop.relabeled('POPESTIMATE2015', '2015').relabeled('POPESTIMATE2016', '2016')\n",
        "pop = pop.relabeled('BIRTHS2016', 'BIRTHS').relabeled('DEATHS2016', 'DEATHS')\n",
        "pop = pop.relabeled('NETMIG2016', 'MIGRATION').relabeled('RESIDUAL2016', 'OTHER')\n",
        "pop = pop.with_columns(\"REGION\", np.array([int(region) if region != \"X\" else 0 for region in pop.column(\"REGION\")]))\n",
        "pop.set_format([2, 3, 4, 5, 6, 7], NumberFormatter(decimals=0)).show(5)"
      ],
      "id": "RE4IoR0RTtDl"
    },
    {
      "cell_type": "markdown",
      "metadata": {
        "id": "0PQjunV1TtDl"
      },
      "source": [
        "**Question 1.** Asigne `us_tasa_nacimientos` a la tasa de nacimientos anual total durante este intervalo de tiempo. La tasa de nacimientos anual por un período de un año es el total de nacimientos en ese período como una proporción del tamaño total de la población al iniciar el período de tiempo. **(4 Puntos)**\n",
        "\n",
        "_Hint:_ Recuerde que cada fila en la tabla `pop` se refiere a un estado, no al total de todo Estados Unidos.\n",
        "\n"
      ],
      "id": "0PQjunV1TtDl"
    },
    {
      "cell_type": "code",
      "execution_count": null,
      "metadata": {
        "tags": [],
        "id": "G0m548MrTtDm"
      },
      "outputs": [],
      "source": [
        "us_tasa_nacimientos = ...\n",
        "us_tasa_nacimientos"
      ],
      "id": "G0m548MrTtDm"
    },
    {
      "cell_type": "code",
      "execution_count": null,
      "metadata": {
        "deletable": false,
        "editable": false,
        "id": "6jArarF6TtDm"
      },
      "outputs": [],
      "source": [
        "grader.check(\"q2_1\")"
      ],
      "id": "6jArarF6TtDm"
    },
    {
      "cell_type": "markdown",
      "metadata": {
        "id": "-KvAMPjnTtDm"
      },
      "source": [
        "**Pregunta 2.** Asigne `mudanzas`al número de estados en los cuales el **valor absolut** de la **tasa anual de migración** fue mayor del 1%. La tasa anual de migración por eun período de un año es el númeor neto de migraciones (hacia adentro y afuera) como una proporción del tamaño de la población al inicio de ese período. La columna `MIGRATION` contiene una estimación de la migración anual neta por estado. **(4 Puntos)**\n",
        "\n",
        "*Hint*: `tasa_migracion` deberá ser una tabla y `mudanzas`un número.\n"
      ],
      "id": "-KvAMPjnTtDm"
    },
    {
      "cell_type": "code",
      "execution_count": null,
      "metadata": {
        "tags": [],
        "id": "Yk9FJo-jTtDn"
      },
      "outputs": [],
      "source": [
        "tasa_migracion = ...\n",
        "mudanzas = ...\n",
        "mudanzas"
      ],
      "id": "Yk9FJo-jTtDn"
    },
    {
      "cell_type": "code",
      "execution_count": null,
      "metadata": {
        "deletable": false,
        "editable": false,
        "id": "wmYCsM-WTtDn"
      },
      "outputs": [],
      "source": [
        "grader.check(\"q2_2\")"
      ],
      "id": "wmYCsM-WTtDn"
    },
    {
      "cell_type": "markdown",
      "metadata": {
        "id": "jHxybaGwTtDx"
      },
      "source": [
        "**Pregunta 3.** Asigne `nacimientos_oeste` al número total de nacimientos que ocurrieron en la región 4 (oeste de los Estados Unidos). **(4 Puntos)**\n",
        "\n",
        "*Hint:* Asegúrese de verificar el tipo de valores en la columna `REGION` y fíltrelos apropiada,ente (todos los tipos deben coincidir)."
      ],
      "id": "jHxybaGwTtDx"
    },
    {
      "cell_type": "code",
      "execution_count": null,
      "metadata": {
        "tags": [],
        "id": "XrrxhEs_TtDz"
      },
      "outputs": [],
      "source": [
        "nacimientos_oeste = ...\n",
        "nacimientos_oeste"
      ],
      "id": "XrrxhEs_TtDz"
    },
    {
      "cell_type": "code",
      "execution_count": null,
      "metadata": {
        "deletable": false,
        "editable": false,
        "id": "TAj2s_bsTtD0"
      },
      "outputs": [],
      "source": [
        "grader.check(\"q2_3\")"
      ],
      "id": "TAj2s_bsTtD0"
    },
    {
      "cell_type": "markdown",
      "metadata": {
        "id": "X35-GhnGTtD2"
      },
      "source": [
        "**Pregunta 4.** En la siguiente pregunta, creará una visualización para entender la relación entre las tasas de nacimiento y de muertes. La tasa de muerte anual por un período de un año es el número de muertes en dicho período como una proporción del tamaño de la población en el inicio de ese período de tiempo.\n",
        "\n",
        "¿Cuál visualización es más apropiada para ver si existe una relación entre las tasas de nacimientos y muertes anuales en los diferentes estados de los Estados Unidos?\n",
        "\n",
        "1. Gráfico de líneas\n",
        "2. Gráfico de barras\n",
        "3. Gráfico de dispersión\n",
        "\n",
        "Asigne `visualizacion` en la celda siguiente al número correspondiente con la correcta visualización. **(4 Puntos)**\n"
      ],
      "id": "X35-GhnGTtD2"
    },
    {
      "cell_type": "code",
      "execution_count": null,
      "metadata": {
        "tags": [],
        "id": "BScRbroCTtD3"
      },
      "outputs": [],
      "source": [
        "visualizacion = ..."
      ],
      "id": "BScRbroCTtD3"
    },
    {
      "cell_type": "code",
      "execution_count": null,
      "metadata": {
        "deletable": false,
        "editable": false,
        "id": "5f8y1szUTtD3"
      },
      "outputs": [],
      "source": [
        "grader.check(\"q2_4\")"
      ],
      "id": "5f8y1szUTtD3"
    },
    {
      "cell_type": "markdown",
      "metadata": {
        "id": "da9J_xnyTtD4"
      },
      "source": [
        "<!-- BEGIN QUESTION -->\n",
        "\n",
        "**Pregunta 5.** En la siguiente celda de código, cree una visualización que nos permita determinar si hay una relación entre las tasas de nacimiento y muertes durante este intervalo de tiempo. Puede ser de ayuda crear una tabla intermedia que contenga las tasas de nacimiento y las de muerte para cada estado. **(4 Puntos)**\n",
        "\n",
        "Para su consideración:\n",
        "\n",
        "- ¿Cuál tipo de gráfica nos ayudará a ilustrar la asociación entre 2 variables?\n",
        "- ¿Cómo podría manipular una cierta tabla para generar su gráfica?\n",
        "- CRevise esta [lectura recomendada](https://inferentialthinking.com/chapters/07/Visualization.html) para esta tarea.\n"
      ],
      "id": "da9J_xnyTtD4"
    },
    {
      "cell_type": "code",
      "execution_count": null,
      "metadata": {
        "deletable": false,
        "manual_problem_id": "birth_death_rates_graph",
        "tags": [],
        "id": "_ThOWNcsTtD5"
      },
      "outputs": [],
      "source": [
        "# En esta celda use tasa_nacimientos y tasa_muertes para generar su visualización\n",
        "tasa_nacimiento_2015 = pop.column('BIRTHS') / pop.column('2015')\n",
        "tasa_muertes_2015 = pop.column('DEATHS') / pop.column('2015')\n",
        "..."
      ],
      "id": "_ThOWNcsTtD5"
    },
    {
      "cell_type": "markdown",
      "metadata": {
        "id": "5ifD5PXDTtD6"
      },
      "source": [
        "<!-- END QUESTION -->\n",
        "\n",
        "**Pregunta 6.** Verdadero o Falso: Existe una relación entre las tasas de nacimientos y muertes durante este período de tiempo.\n",
        "\n",
        "Asigne `relacion` a `Verdadero` o `Falso` en la siguiente celda. **(4 Puntos)**\n"
      ],
      "id": "5ifD5PXDTtD6"
    },
    {
      "cell_type": "code",
      "execution_count": null,
      "metadata": {
        "tags": [],
        "id": "OTrxOyRITtD7"
      },
      "outputs": [],
      "source": [
        "relacion = ..."
      ],
      "id": "OTrxOyRITtD7"
    },
    {
      "cell_type": "code",
      "execution_count": null,
      "metadata": {
        "deletable": false,
        "editable": false,
        "id": "_iRXvb-oTtD7"
      },
      "outputs": [],
      "source": [
        "grader.check(\"q2_6\")"
      ],
      "id": "_iRXvb-oTtD7"
    },
    {
      "cell_type": "markdown",
      "metadata": {
        "id": "Auer7uhWTtD8"
      },
      "source": [
        "## 3. Uber"
      ],
      "id": "Auer7uhWTtD8"
    },
    {
      "cell_type": "markdown",
      "metadata": {
        "id": "bYljqWZHTtD8"
      },
      "source": [
        "**Nota:** Recomendamos leer el [capítulo 7.2](https://inferentialthinking.com/chapters/07/2/Visualizing_Numerical_Distributions.html) del libro guía antes de llegar a la pregunta 3."
      ],
      "id": "bYljqWZHTtD8"
    },
    {
      "cell_type": "markdown",
      "metadata": {
        "id": "JWLk4stBTtD9"
      },
      "source": [
        "Abajo cargamos tablas que contienen 200000 viajes de Uber en semana en las áreas metropolitanas de Manila y Boston con datos del proyecto [Uber Movement](https://movement.uber.com). Las columnas `sourceid` y `dstid` contienen códigos correspondientes a los lugares de inicio y de destino de cada viaje. La columna `hod` contiene códigos que corresponden a la hora del día en la que el viaje tuvo lugar. La columna `ride time` contiene la duración del viaje en minutos."
      ],
      "id": "JWLk4stBTtD9"
    },
    {
      "cell_type": "code",
      "execution_count": null,
      "metadata": {
        "for_question_type": "solution",
        "scrolled": true,
        "id": "ZrJeL0evTtD-"
      },
      "outputs": [],
      "source": [
        "boston = Table.read_table(\"boston.csv\")\n",
        "manila = Table.read_table(\"manila.csv\")\n",
        "print(\"Tabla de Boston\")\n",
        "boston.show(4)\n",
        "print(\"Tabla de Manila\")\n",
        "manila.show(4)"
      ],
      "id": "ZrJeL0evTtD-"
    },
    {
      "cell_type": "markdown",
      "metadata": {
        "id": "NKiZZfoYTtEC"
      },
      "source": [
        "<!-- BEGIN QUESTION -->\n",
        "\n",
        "**Pregunta 1.** Genere un hiztograma que permita visualizar la distribución de los tiempos de viaje en Boston usando los bines dados en `bines_iguales`. **(4 Puntos)**\n",
        "\n",
        "*Hint:* Vea el [capítulo 7.2](https://inferentialthinking.com/chapters/07/2/Visualizing_Numerical_Distributions.html) si no sabe cómo especificar los bines."
      ],
      "id": "NKiZZfoYTtEC"
    },
    {
      "cell_type": "code",
      "execution_count": null,
      "metadata": {
        "deletable": false,
        "manual_problem_id": "uber_1",
        "scrolled": true,
        "tags": [],
        "id": "TLDOwjv7TtED"
      },
      "outputs": [],
      "source": [
        "bines_iguales = np.arange(0, 120, 5)\n",
        "..."
      ],
      "id": "TLDOwjv7TtED"
    },
    {
      "cell_type": "markdown",
      "metadata": {
        "id": "SJU7ax2rTtEF"
      },
      "source": [
        "<!-- END QUESTION -->\n",
        "\n",
        "<!-- BEGIN QUESTION -->\n",
        "\n",
        "**Pregunta 2.** Ahora, genere un histograma en el que se visualixe la distribución de todos los tiempos de viaje en Manila usando los bines dados. **(4 Puntos)**\n"
      ],
      "id": "SJU7ax2rTtEF"
    },
    {
      "cell_type": "code",
      "execution_count": null,
      "metadata": {
        "scrolled": true,
        "tags": [],
        "id": "t9RD2U3PTtEH"
      },
      "outputs": [],
      "source": [
        "bines_iguales = np.arange(0, 120, 5)\n",
        "...\n",
        "\n",
        "# ¡No borre la siguiente línea!\n",
        "plt.ylim(0, 0.05);"
      ],
      "id": "t9RD2U3PTtEH"
    },
    {
      "cell_type": "markdown",
      "metadata": {
        "id": "hnGUfEY9TtEJ"
      },
      "source": [
        "<!-- END QUESTION -->\n",
        "\n",
        "**Pregunta 3.** Vamos a echar un vistazo más detallado a la etiqueta del eje y. Asigne `significado_unidad` a un entero (1, 2, 3) que corrasponda a la \"unidad\" en \"Percent per unit\".  **(4 Puntos)**\n",
        "\n",
        "1. minuto  \n",
        "2. tiempo de viaje\n",
        "3. segundo\n"
      ],
      "id": "hnGUfEY9TtEJ"
    },
    {
      "cell_type": "code",
      "execution_count": null,
      "metadata": {
        "tags": [],
        "id": "WSoGhCV-TtEK"
      },
      "outputs": [],
      "source": [
        "significado_unidad = ...\n",
        "significado_unidad"
      ],
      "id": "WSoGhCV-TtEK"
    },
    {
      "cell_type": "code",
      "execution_count": null,
      "metadata": {
        "deletable": false,
        "editable": false,
        "id": "Y7QEEuxoTtEL"
      },
      "outputs": [],
      "source": [
        "grader.check(\"q3_3\")"
      ],
      "id": "Y7QEEuxoTtEL"
    },
    {
      "cell_type": "markdown",
      "metadata": {
        "id": "I1OZeuZtTtEM"
      },
      "source": [
        "**Pregunta 4.** Asigne `boston_menor_15` y `manila_menor_15` al porcentaje de viajes que tuvieron una diración menor a 15 minutos en sus respectivas áreas metropolitanas. Use las variables de altura que se le dan a continuación para calcular los porcentajes. Su solución solo deberá usar las variables de altura, números y operaciones matemáticas. **No** deberá ingresar a las tablas `boston` y `manila` de ninguna manera. **(4 Points)**\n",
        "\n",
        "\n",
        "\n",
        "> ***Nota:***  las variables de altura representan la altura del bin que describen.\n"
      ],
      "id": "I1OZeuZtTtEM"
    },
    {
      "cell_type": "code",
      "execution_count": null,
      "metadata": {
        "deletable": false,
        "manual_problem_id": "uber_2",
        "tags": [],
        "id": "Rhek2hO_TtEN"
      },
      "outputs": [],
      "source": [
        "boston_menor_5_bin_altura = 1.2\n",
        "manila_menor_5_bin_altura = 0.6\n",
        "boston_5_a_menor_10_bin_altura = 3.2\n",
        "manila_5_a_menor_10_bin_altura = 1.4\n",
        "boston_10_a_menor_15_bin_altura = 4.9\n",
        "manila_10_a_menor_15_bin_altura = 2.2\n",
        "\n",
        "boston_menor_15 = ...\n",
        "manila_menor_15 = ...\n",
        "\n",
        "boston_menor_15, manila_menor_15"
      ],
      "id": "Rhek2hO_TtEN"
    },
    {
      "cell_type": "code",
      "execution_count": null,
      "metadata": {
        "deletable": false,
        "editable": false,
        "id": "_nY8ZN6QTtEN"
      },
      "outputs": [],
      "source": [
        "grader.check(\"q3_4\")"
      ],
      "id": "_nY8ZN6QTtEN"
    },
    {
      "cell_type": "markdown",
      "metadata": {
        "id": "91lFLXniTtEO"
      },
      "source": [
        "**Pregunta 5.** Miremos con mayor detenimiento a la distribución de tiempos de los viajes en Boston. Asigne `boston_mediana_bin` a un entero (1, 2, 3 ó 4) que corresponda al bin que contenga la mediana del tiempo. **(4 Puntos)**\n",
        "\n",
        "Let's take a closer look at the distribution of ride times in Boston. Assign `boston_median_bin` to an integer (1, 2, 3, or 4) that corresponds to the bin that contains the median time. **(4 Points)**\n",
        "\n",
        "1. 0-8 minutos  \n",
        "2. 8-14 minutos  \n",
        "3. 14-20 minutos  \n",
        "4. 20-40 minutos  \n",
        "\n",
        "*Hint:* La mediana de una lista ordenada tiene la mitad de los elementos a la derecha y la mitad a la izquierda.\n"
      ],
      "id": "91lFLXniTtEO"
    },
    {
      "cell_type": "code",
      "execution_count": null,
      "metadata": {
        "tags": [],
        "id": "Waw6ZNe5TtEO"
      },
      "outputs": [],
      "source": [
        "boston_mediana_bin = ...\n",
        "boston_mediana_bin"
      ],
      "id": "Waw6ZNe5TtEO"
    },
    {
      "cell_type": "code",
      "execution_count": null,
      "metadata": {
        "deletable": false,
        "editable": false,
        "id": "wZneoW3iTtEP"
      },
      "outputs": [],
      "source": [
        "grader.check(\"q3_5\")"
      ],
      "id": "wZneoW3iTtEP"
    },
    {
      "cell_type": "markdown",
      "metadata": {
        "id": "uMn9RE_bTtEP"
      },
      "source": [
        "<!-- BEGIN QUESTION -->\n",
        "\n",
        "**Pregunta 6.** Identifique una diferencia entre los histogramas, en términos de sus propiedades estadísticas. ¿Qué puede decir sobre el promedio y/o la desviación de cada histograma? **(4 Puntos)**\n",
        "\n",
        "*Hint*: La mejor forma de hacerlo es comparar los dos histogramas (de los puntos 3.1 and 3.2) visualmente.\n"
      ],
      "id": "uMn9RE_bTtEP"
    },
    {
      "cell_type": "markdown",
      "metadata": {
        "id": "VQjq0w8-TtEP"
      },
      "source": [
        "_Escriba aquí su respuesta, reemplazando este texto._"
      ],
      "id": "VQjq0w8-TtEP"
    },
    {
      "cell_type": "markdown",
      "metadata": {
        "id": "elEFu_KrTtEQ"
      },
      "source": [
        "<!-- END QUESTION -->\n",
        "\n",
        "<!-- BEGIN QUESTION -->\n",
        "\n",
        "**Pregunta 7.** ¿Por qué su respuesta en la pregunta 6 es correcta? Basado en las siguientes lecturas, ¿por qué las distribuciones de Boston y Manila son diferentes? **(4 Puntos)**\n",
        "\n",
        "- [Lectura caso Boston](https://www.climatestotravel.com/climate/united-states/boston)\n",
        "- [Lectura caso Manila](https://manilafyi.com/why-is-manila-traffic-so-bad/)\n",
        "\n",
        "*Hint:* Trate de pensar en factores externos de ambas ciudades que pueden estar causando dichas diferencias. Las lecturas le dan algunos facvtores potenciales -- Trate de conectarlos con los datos de tiempos de viaje.\n",
        "\n"
      ],
      "id": "elEFu_KrTtEQ"
    },
    {
      "cell_type": "markdown",
      "metadata": {
        "id": "uE9fVI3kTtEQ"
      },
      "source": [
        "_Escriba aquí su respuesta, reemplazando este texto._"
      ],
      "id": "uE9fVI3kTtEQ"
    },
    {
      "cell_type": "markdown",
      "metadata": {
        "tags": [],
        "id": "Y-EjfUCYTtEQ"
      },
      "source": [
        "<!-- END QUESTION -->\n",
        "\n",
        "## 4. Histograms"
      ],
      "id": "Y-EjfUCYTtEQ"
    },
    {
      "cell_type": "markdown",
      "metadata": {
        "id": "_9Q1ziY1TtER"
      },
      "source": [
        "Considere la siguiente gráfica de dispersión:\n",
        "\n",
        "![Alt text](scatter.png \"Scatter plot showing data points for the variables 'x' and 'y'. The data are symmetric about the x-axis centered at 0 and symmetric about the y-axis centered at 0, but with no data in the [-0.5, 0.5] range on the y-axis.\")\n",
        "\n",
        "Los ejes de la gráfica representan valores de dos variables: $x$ y $y$.\n"
      ],
      "id": "_9Q1ziY1TtER"
    },
    {
      "cell_type": "markdown",
      "metadata": {
        "id": "WPX6GZRhTtER"
      },
      "source": [
        "Suponga que tiene una tabla llamada `t` que contiene dos columnas en ella\n",
        "\n",
        "- `x`: una columna que contuene los valores de x de los puntos en la gráfica de dispersión.\n",
        "- `y`: una columna que contuene los valores de y de los puntos en la gráfica de dispersión."
      ],
      "id": "WPX6GZRhTtER"
    },
    {
      "cell_type": "markdown",
      "metadata": {
        "id": "TeBZQ3ppTtER"
      },
      "source": [
        "Abajo se le dan tres histogramas. Uno corresponde a la columna `x`, uno corresponde a la columna `y`, y otro a ninguna de las dos columnas."
      ],
      "id": "TeBZQ3ppTtER"
    },
    {
      "cell_type": "markdown",
      "metadata": {
        "id": "OBvvq3zpTtES"
      },
      "source": [
        "**Histogram A:**\n",
        "\n",
        "![Alt text](var3.png \"Symmetrical, bell-shaped histogram centered around 0\")\n",
        "\n",
        "**Histogram B:**\n",
        "\n",
        "![Alt text](var1.png \"Symmetrical histogram with two peaks at -1 and 1 but no data around 0\")\n",
        "\n",
        "**Histogram C:**\n",
        "\n",
        "![Alt text](var2.png \"Asymmetrical histogram with a peak around -0.5 and a right skew\")"
      ],
      "id": "OBvvq3zpTtES"
    },
    {
      "cell_type": "markdown",
      "metadata": {
        "id": "3oV-TllmTtES"
      },
      "source": [
        "**Pregunta 1.** Suponga que usted corre `t.hist('x')`. ¿Cuál histograma debería producir este código? Asigne `histograma_columna_x` a 1, 2, ó 3. **(5 Puntos)**\n",
        "\n",
        "1. Histograma A\n",
        "2. Histograma B\n",
        "3. Histograma C\n"
      ],
      "id": "3oV-TllmTtES"
    },
    {
      "cell_type": "code",
      "execution_count": null,
      "metadata": {
        "tags": [],
        "id": "F8t42r7hTtES"
      },
      "outputs": [],
      "source": [
        "histograma_columna_x = ..."
      ],
      "id": "F8t42r7hTtES"
    },
    {
      "cell_type": "code",
      "execution_count": null,
      "metadata": {
        "deletable": false,
        "editable": false,
        "id": "fK8qILBPTtET"
      },
      "outputs": [],
      "source": [
        "grader.check(\"q4_1\")"
      ],
      "id": "fK8qILBPTtET"
    },
    {
      "cell_type": "markdown",
      "metadata": {
        "id": "r3uqp0hdTtET"
      },
      "source": [
        "<!-- BEGIN QUESTION -->\n",
        "\n",
        "**Pregunta 2.** Dé al menos una razón por la cual eligió el histograma de la Pregunta 1. **Asegúrese de indicar claramente cuál histograma eligió** (ejemplo: \"Yo elegí el histograma A porque...\"). **(5 Puntos)**\n"
      ],
      "id": "r3uqp0hdTtET"
    },
    {
      "cell_type": "markdown",
      "metadata": {
        "id": "lt6PpFguTtEU"
      },
      "source": [
        "_Escriba aquí su respuesta, reemplazando este texto._"
      ],
      "id": "lt6PpFguTtEU"
    },
    {
      "cell_type": "markdown",
      "metadata": {
        "id": "nsBlo5_MTtEV"
      },
      "source": [
        "<!-- END QUESTION -->\n",
        "\n",
        "**Pregunta 3.** Suponga que usted corre `t.hist('y')`. ¿Cuál histograma debería producir este código? Asigne `histograma_columna_y` a 1, 2, ó 3. **(5 Puntos)**\n",
        "\n",
        "1. Histograma A\n",
        "2. Histograma B\n",
        "3. Histograma C\n",
        "\n"
      ],
      "id": "nsBlo5_MTtEV"
    },
    {
      "cell_type": "code",
      "execution_count": null,
      "metadata": {
        "tags": [],
        "id": "jrcjC-gDTtEY"
      },
      "outputs": [],
      "source": [
        "histograma_columna_y = ..."
      ],
      "id": "jrcjC-gDTtEY"
    },
    {
      "cell_type": "code",
      "execution_count": null,
      "metadata": {
        "deletable": false,
        "editable": false,
        "id": "-0-Iyt-ZTtEZ"
      },
      "outputs": [],
      "source": [
        "grader.check(\"q4_3\")"
      ],
      "id": "-0-Iyt-ZTtEZ"
    },
    {
      "cell_type": "markdown",
      "metadata": {
        "id": "c6ncLsA3TtEa"
      },
      "source": [
        "<!-- BEGIN QUESTION -->\n",
        "\n",
        "**Pregunta 4.** Dé al menos una razón por la cual eligió el histograma de la Pregunta 3. **Asegúrese de indicar claramente cuál histograma eligió** (ejemplo: \"Yo elegí el histograma A porque...\"). **(5 Puntos)**\n"
      ],
      "id": "c6ncLsA3TtEa"
    },
    {
      "cell_type": "markdown",
      "metadata": {
        "id": "uTGp2HjvTtEb"
      },
      "source": [
        "_Escriba aquí su respuesta, reemplazando este texto._"
      ],
      "id": "uTGp2HjvTtEb"
    },
    {
      "cell_type": "markdown",
      "metadata": {
        "id": "yFa9-jUvTtEd"
      },
      "source": [
        "<!-- END QUESTION -->\n",
        "\n",
        "¡Terminó la tarea 1!\n",
        "\n",
        "**Información sobre la entrega:** Asegúrese de correr todas las pruebas y verificar que se ejectuen correctamente. Aquí, seleccione **Guardar Notebook** En el menú de **Archivo** y **corra la  última celda** para luego darle click en descargar el archivo zip. Con el archivo, vaya a [Gradescope](https://www.gradescope.com/courses/576157) y cargue el archivo zip correspondiente a esta tarea. El nombre de esta tarea es \"HW 01 Autograder\". **Es su responsabilidad asegurarse que su trabajo se guarde antes de correr la última celda**."
      ],
      "id": "yFa9-jUvTtEd"
    },
    {
      "cell_type": "markdown",
      "metadata": {
        "id": "xWL-ms_iTtEe"
      },
      "source": [
        "## Estudiantes de Fundamentos de Ciencia de Datos\n",
        "\n",
        "¡Felicitaciones por terminar la tarea 3!\n",
        "\n",
        "<img src=\"./lego.png\" width=\"30%\" alt=\"Close up picture of dog smiling.\"/>\n",
        "\n",
        "Perro de la semana: **Lego**\n",
        "\n"
      ],
      "id": "xWL-ms_iTtEe"
    },
    {
      "cell_type": "markdown",
      "metadata": {
        "deletable": false,
        "editable": false,
        "id": "ZrSf5B48TtEf"
      },
      "source": [
        "## Entrega\n",
        "\n",
        "Asegúrese que ha ejecutado todas las celdas en su notebook en orden antes de ejecutar la celda de abajo. De esta forma todas las imágenes/gráficas apareceran en la salida. La celda de abajo va a generar un archivo con extensión .zip para que usted lo entregue. **¡Por favor guarde antes de exportar!**"
      ],
      "id": "ZrSf5B48TtEf"
    },
    {
      "cell_type": "code",
      "execution_count": null,
      "metadata": {
        "deletable": false,
        "editable": false,
        "id": "6_7pkmo7TtEg"
      },
      "outputs": [],
      "source": [
        "# Guarde primero su notebook, luego ejecute esta celda para obtener el archivo a\n",
        "# entregar.\n",
        "grader.export(pdf=False, run_tests=True)"
      ],
      "id": "6_7pkmo7TtEg"
    },
    {
      "cell_type": "markdown",
      "metadata": {
        "id": "QFCfvOTDTtEh"
      },
      "source": [],
      "id": "QFCfvOTDTtEh"
    }
  ],
  "metadata": {
    "kernelspec": {
      "display_name": "Python 3",
      "language": "python",
      "name": "python3"
    },
    "language_info": {
      "codemirror_mode": {
        "name": "ipython",
        "version": 3
      },
      "file_extension": ".py",
      "mimetype": "text/x-python",
      "name": "python",
      "nbconvert_exporter": "python",
      "pygments_lexer": "ipython3",
      "version": "3.11.2"
    },
    "otter": {
      "OK_FORMAT": true,
      "tests": {
        "q1_1": {
          "name": "q1_1",
          "points": [
            4
          ],
          "suites": [
            {
              "cases": [
                {
                  "code": ">>> unemployment.select('Date', 'NEI', 'NEI-PTER').take(0)\nDate       | NEI     | NEI-PTER\n1994-01-01 | 10.0974 | 11.172",
                  "hidden": false,
                  "locked": false
                }
              ],
              "scored": true,
              "setup": "",
              "teardown": "",
              "type": "doctest"
            }
          ]
        },
        "q1_2": {
          "name": "q1_2",
          "points": [
            2,
            2
          ],
          "suites": [
            {
              "cases": [
                {
                  "code": ">>> by_nei.take(0)\nDate       | NEI     | NEI-PTER\n2009-10-01 | 10.9698 | 12.8557",
                  "hidden": false,
                  "locked": false
                },
                {
                  "code": ">>> by_nei_pter.take(0)\nDate       | NEI     | NEI-PTER\n2009-10-01 | 10.9698 | 12.8557",
                  "hidden": false,
                  "locked": false
                }
              ],
              "scored": true,
              "setup": "",
              "teardown": "",
              "type": "doctest"
            }
          ]
        },
        "q1_3": {
          "name": "q1_3",
          "points": [
            2
          ],
          "suites": [
            {
              "cases": [
                {
                  "code": ">>> greatest_nei.take(0)\nDate       | NEI     | NEI-PTER\n2009-10-01 | 10.9698 | 12.8557",
                  "hidden": false,
                  "locked": false
                }
              ],
              "scored": true,
              "setup": "",
              "teardown": "",
              "type": "doctest"
            }
          ]
        },
        "q1_4": {
          "name": "q1_4",
          "points": [
            1,
            3
          ],
          "suites": [
            {
              "cases": [
                {
                  "code": ">>> # It looks like you subtracted in the wrong order.\n>>> round(pter.item(6), 4) != -1.1282\nTrue",
                  "hidden": false,
                  "locked": false
                },
                {
                  "code": ">>> round(pter.item(6), 4)\n1.1282",
                  "hidden": false,
                  "locked": false
                }
              ],
              "scored": true,
              "setup": "",
              "teardown": "",
              "type": "doctest"
            }
          ]
        },
        "q1_5": {
          "name": "q1_5",
          "points": [
            4
          ],
          "suites": [
            {
              "cases": [
                {
                  "code": ">>> by_pter.take(0)\nDate       | NEI     | NEI-PTER | PTER\n2009-07-01 | 10.8089 | 12.7404  | 1.9315",
                  "hidden": false,
                  "locked": false
                }
              ],
              "scored": true,
              "setup": "",
              "teardown": "",
              "type": "doctest"
            }
          ]
        },
        "q1_6": {
          "name": "q1_6",
          "points": [
            0
          ],
          "suites": [
            {
              "cases": [
                {
                  "code": ">>> pter_over_time.take(0)\nDate       | NEI     | NEI-PTER | Year | PTER\n1994-01-01 | 10.0974 | 11.172   | 1994 | 1.0746",
                  "hidden": false,
                  "locked": false
                }
              ],
              "scored": true,
              "setup": "",
              "teardown": "",
              "type": "doctest"
            }
          ]
        },
        "q1_7": {
          "name": "q1_7",
          "points": [
            0
          ],
          "suites": [
            {
              "cases": [
                {
                  "code": ">>> highPTER == True or highPTER == False\nTrue",
                  "hidden": false,
                  "locked": false
                }
              ],
              "scored": true,
              "setup": "",
              "teardown": "",
              "type": "doctest"
            }
          ]
        },
        "q2_1": {
          "name": "q2_1",
          "points": [
            0
          ],
          "suites": [
            {
              "cases": [
                {
                  "code": ">>> 0 < us_birth_rate < 1\nTrue",
                  "hidden": false,
                  "locked": false
                }
              ],
              "scored": true,
              "setup": "",
              "teardown": "",
              "type": "doctest"
            }
          ]
        },
        "q2_2": {
          "name": "q2_2",
          "points": [
            0
          ],
          "suites": [
            {
              "cases": [
                {
                  "code": ">>> 0 < movers <= 52\nTrue",
                  "hidden": false,
                  "locked": false
                }
              ],
              "scored": true,
              "setup": "",
              "teardown": "",
              "type": "doctest"
            }
          ]
        },
        "q2_3": {
          "name": "q2_3",
          "points": [
            0
          ],
          "suites": [
            {
              "cases": [
                {
                  "code": ">>> 5e5 < west_births < 1e6\nTrue",
                  "hidden": false,
                  "locked": false
                }
              ],
              "scored": true,
              "setup": "",
              "teardown": "",
              "type": "doctest"
            }
          ]
        },
        "q2_4": {
          "name": "q2_4",
          "points": [
            0,
            0
          ],
          "suites": [
            {
              "cases": [
                {
                  "code": ">>> # visualization should be assigned to an integer.\n>>> type(visualization) == int\nTrue",
                  "hidden": false,
                  "locked": false
                },
                {
                  "code": ">>> # Make sure visualization is assigned to 1, 2 or 3.\n>>> 1 <= visualization <= 3\nTrue",
                  "hidden": false,
                  "locked": false
                }
              ],
              "scored": true,
              "setup": "",
              "teardown": "",
              "type": "doctest"
            }
          ]
        },
        "q2_6": {
          "name": "q2_6",
          "points": [
            0
          ],
          "suites": [
            {
              "cases": [
                {
                  "code": ">>> type(assoc) is bool\nTrue",
                  "hidden": false,
                  "locked": false
                }
              ],
              "scored": true,
              "setup": "",
              "teardown": "",
              "type": "doctest"
            }
          ]
        },
        "q3_3": {
          "name": "q3_3",
          "points": [
            0
          ],
          "suites": [
            {
              "cases": [
                {
                  "code": ">>> 1 <= unit_meaning <= 3\nTrue",
                  "hidden": false,
                  "locked": false
                }
              ],
              "scored": true,
              "setup": "",
              "teardown": "",
              "type": "doctest"
            }
          ]
        },
        "q3_4": {
          "name": "q3_4",
          "points": [
            0,
            0
          ],
          "suites": [
            {
              "cases": [
                {
                  "code": ">>> boston_under_15 >= 0 and boston_under_15 <= 100\nTrue",
                  "hidden": false,
                  "locked": false
                },
                {
                  "code": ">>> manila_under_15 >= 0 and manila_under_15 <= 100\nTrue",
                  "hidden": false,
                  "locked": false
                }
              ],
              "scored": true,
              "setup": "",
              "teardown": "",
              "type": "doctest"
            }
          ]
        },
        "q3_5": {
          "name": "q3_5",
          "points": [
            0
          ],
          "suites": [
            {
              "cases": [
                {
                  "code": ">>> # Make sure boston_median_bin is assigned to 1, 2, 3, or 4.\n>>> 1 <= boston_median_bin <= 4\nTrue",
                  "hidden": false,
                  "locked": false
                }
              ],
              "scored": true,
              "setup": "",
              "teardown": "",
              "type": "doctest"
            }
          ]
        },
        "q4_1": {
          "name": "q4_1",
          "points": [
            0,
            1
          ],
          "suites": [
            {
              "cases": [
                {
                  "code": ">>> # Make sure you assign histogram_column_x to either 1 or 2!\n>>> type(histogram_column_x) == int\nTrue",
                  "hidden": false,
                  "locked": false
                },
                {
                  "code": ">>> histogram_column_x == 1 or histogram_column_x == 2 or histogram_column_x == 3\nTrue",
                  "hidden": false,
                  "locked": false
                }
              ],
              "scored": true,
              "setup": "",
              "teardown": "",
              "type": "doctest"
            }
          ]
        },
        "q4_3": {
          "name": "q4_3",
          "points": [
            0,
            1
          ],
          "suites": [
            {
              "cases": [
                {
                  "code": ">>> # Make sure you assign histogram_column_y to either 1 or 2!\n>>> type(histogram_column_y) == int\nTrue",
                  "hidden": false,
                  "locked": false
                },
                {
                  "code": ">>> # Make sure histogram_column_y is assigned to 1, 2 or 3.\n>>> histogram_column_y == 1 or histogram_column_y == 2 or histogram_column_y == 3\nTrue",
                  "hidden": false,
                  "locked": false
                }
              ],
              "scored": true,
              "setup": "",
              "teardown": "",
              "type": "doctest"
            }
          ]
        }
      }
    },
    "colab": {
      "provenance": [],
      "collapsed_sections": [
        "SkDr_ctNTtDO",
        "hxmQVJkuTtDj"
      ]
    }
  },
  "nbformat": 4,
  "nbformat_minor": 5
}